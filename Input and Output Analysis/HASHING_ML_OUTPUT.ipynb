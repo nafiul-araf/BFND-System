{
  "nbformat": 4,
  "nbformat_minor": 0,
  "metadata": {
    "colab": {
      "name": "HASHING ML OUTPUT.ipynb",
      "provenance": []
    },
    "kernelspec": {
      "name": "python3",
      "display_name": "Python 3"
    },
    "language_info": {
      "name": "python"
    }
  },
  "cells": [
    {
      "cell_type": "code",
      "execution_count": null,
      "metadata": {
        "colab": {
          "base_uri": "https://localhost:8080/"
        },
        "id": "ofdu6cgB7y97",
        "outputId": "79dab0d7-1ff5-42f0-d9aa-5b14028bfb56"
      },
      "outputs": [
        {
          "output_type": "stream",
          "name": "stdout",
          "text": [
            "Mounted at /content/drive\n"
          ]
        }
      ],
      "source": [
        "from google.colab import drive\n",
        "drive.mount('/content/drive')"
      ]
    },
    {
      "cell_type": "code",
      "source": [
        "import joblib\n",
        "import warnings\n",
        "warnings.filterwarnings(\"ignore\")\n",
        "\n",
        "\n",
        "def load_model(path=''):\n",
        "  return joblib.load(path)"
      ],
      "metadata": {
        "id": "50IdOxIO8Gb0"
      },
      "execution_count": null,
      "outputs": []
    },
    {
      "cell_type": "code",
      "source": [
        "lgbm_model=load_model(r\"/content/drive/MyDrive/CSE-400(Project Thesis)/lgbm_file_hash.pkl\")"
      ],
      "metadata": {
        "id": "82l6BkVg8PRX"
      },
      "execution_count": null,
      "outputs": []
    },
    {
      "cell_type": "code",
      "source": [
        "!pip install bnlp-toolkit"
      ],
      "metadata": {
        "colab": {
          "base_uri": "https://localhost:8080/"
        },
        "id": "DuXG9l7m8UP4",
        "outputId": "a6c0416c-dc88-47d9-8e25-9b1c093612a1"
      },
      "execution_count": null,
      "outputs": [
        {
          "output_type": "stream",
          "name": "stdout",
          "text": [
            "Looking in indexes: https://pypi.org/simple, https://us-python.pkg.dev/colab-wheels/public/simple/\n",
            "Collecting bnlp-toolkit\n",
            "  Downloading bnlp_toolkit-3.1.2-py3-none-any.whl (17 kB)\n",
            "Collecting sklearn-crfsuite\n",
            "  Downloading sklearn_crfsuite-0.3.6-py2.py3-none-any.whl (12 kB)\n",
            "Collecting sentencepiece\n",
            "  Downloading sentencepiece-0.1.96-cp37-cp37m-manylinux_2_17_x86_64.manylinux2014_x86_64.whl (1.2 MB)\n",
            "\u001b[K     |████████████████████████████████| 1.2 MB 7.0 MB/s \n",
            "\u001b[?25hRequirement already satisfied: numpy in /usr/local/lib/python3.7/dist-packages (from bnlp-toolkit) (1.21.6)\n",
            "Requirement already satisfied: nltk in /usr/local/lib/python3.7/dist-packages (from bnlp-toolkit) (3.7)\n",
            "Requirement already satisfied: wasabi in /usr/local/lib/python3.7/dist-packages (from bnlp-toolkit) (0.9.1)\n",
            "Requirement already satisfied: scipy in /usr/local/lib/python3.7/dist-packages (from bnlp-toolkit) (1.4.1)\n",
            "Collecting gensim==4.0.1\n",
            "  Downloading gensim-4.0.1-cp37-cp37m-manylinux1_x86_64.whl (23.9 MB)\n",
            "\u001b[K     |████████████████████████████████| 23.9 MB 53.3 MB/s \n",
            "\u001b[?25hRequirement already satisfied: smart-open>=1.8.1 in /usr/local/lib/python3.7/dist-packages (from gensim==4.0.1->bnlp-toolkit) (5.2.1)\n",
            "Requirement already satisfied: joblib in /usr/local/lib/python3.7/dist-packages (from nltk->bnlp-toolkit) (1.1.0)\n",
            "Requirement already satisfied: regex>=2021.8.3 in /usr/local/lib/python3.7/dist-packages (from nltk->bnlp-toolkit) (2022.6.2)\n",
            "Requirement already satisfied: click in /usr/local/lib/python3.7/dist-packages (from nltk->bnlp-toolkit) (7.1.2)\n",
            "Requirement already satisfied: tqdm in /usr/local/lib/python3.7/dist-packages (from nltk->bnlp-toolkit) (4.64.0)\n",
            "Requirement already satisfied: six in /usr/local/lib/python3.7/dist-packages (from sklearn-crfsuite->bnlp-toolkit) (1.15.0)\n",
            "Requirement already satisfied: tabulate in /usr/local/lib/python3.7/dist-packages (from sklearn-crfsuite->bnlp-toolkit) (0.8.9)\n",
            "Collecting python-crfsuite>=0.8.3\n",
            "  Downloading python_crfsuite-0.9.8-cp37-cp37m-manylinux_2_17_x86_64.manylinux2014_x86_64.whl (965 kB)\n",
            "\u001b[K     |████████████████████████████████| 965 kB 58.0 MB/s \n",
            "\u001b[?25hInstalling collected packages: python-crfsuite, sklearn-crfsuite, sentencepiece, gensim, bnlp-toolkit\n",
            "  Attempting uninstall: gensim\n",
            "    Found existing installation: gensim 3.6.0\n",
            "    Uninstalling gensim-3.6.0:\n",
            "      Successfully uninstalled gensim-3.6.0\n",
            "Successfully installed bnlp-toolkit-3.1.2 gensim-4.0.1 python-crfsuite-0.9.8 sentencepiece-0.1.96 sklearn-crfsuite-0.3.6\n"
          ]
        }
      ]
    },
    {
      "cell_type": "code",
      "source": [
        "import pandas as pd\n",
        "import numpy as np\n",
        "import re\n",
        "from bnlp.corpus import stopwords\n",
        "from sklearn.feature_extraction.text import HashingVectorizer\n",
        "import matplotlib.pyplot as plt\n",
        "import seaborn as sns\n",
        "from sklearn.metrics import *\n",
        "\n",
        "%matplotlib inline\n",
        "sns.set()"
      ],
      "metadata": {
        "colab": {
          "base_uri": "https://localhost:8080/"
        },
        "id": "6oQOWDyF8W5Y",
        "outputId": "a493199b-7af7-46a1-e698-b60d1533b0ba"
      },
      "execution_count": null,
      "outputs": [
        {
          "output_type": "stream",
          "name": "stdout",
          "text": [
            "punkt not found. downloading...\n"
          ]
        },
        {
          "output_type": "stream",
          "name": "stderr",
          "text": [
            "[nltk_data] Downloading package punkt to /root/nltk_data...\n",
            "[nltk_data]   Unzipping tokenizers/punkt.zip.\n"
          ]
        }
      ]
    },
    {
      "cell_type": "code",
      "source": [
        "label_auth=pd.read_csv(r'/content/drive/MyDrive/AutoEncoders/LabeledAuthentic-7K.csv') #, nrows=3067)\n",
        "label_fake=pd.read_csv(r'/content/drive/MyDrive/AutoEncoders/LabeledFake-1K.csv') #, nrows=995)\n",
        "label_auth.drop(['source','relation'], axis=1, inplace=True)\n",
        "label_fake.drop(['source','relation','F-type'], axis=1, inplace=True)\n",
        "df=pd.concat([label_auth, label_fake], axis=0)\n",
        "df.reset_index(inplace=True)\n",
        "df.drop('index', axis=1, inplace=True)\n",
        "df['label']=np.where(df['label']==0.0, 0, 1)\n",
        "df.tail()\n",
        "df=df.sample(frac=1).reset_index(drop=True)\n",
        "print(df.shape)\n",
        "df.head()"
      ],
      "metadata": {
        "colab": {
          "base_uri": "https://localhost:8080/",
          "height": 268
        },
        "id": "Kp6c_BgR8fhW",
        "outputId": "0c0f34d9-aaf2-479f-feec-a923de8d361f"
      },
      "execution_count": null,
      "outputs": [
        {
          "output_type": "stream",
          "name": "stdout",
          "text": [
            "(8501, 7)\n"
          ]
        },
        {
          "output_type": "execute_result",
          "data": {
            "text/plain": [
              "   articleID              domain                 date  category  \\\n",
              "0       2806   banglatribune.com  2018-09-22 19:50:14  Politics   \n",
              "1       6888      jagonews24.com  2018-09-21 21:24:28  National   \n",
              "2       5148  channelionline.com  2018-09-22 21:05:41    Sports   \n",
              "3       5352         samakal.com  2018-09-20 16:47:40  Politics   \n",
              "4       7681      jagonews24.com  2018-09-25 16:36:26     Crime   \n",
              "\n",
              "                                            headline  \\\n",
              "0                     বৃহত্তর ঐক্যের পরীক্ষায় বিএনপি   \n",
              "1  বেনাপোলে ৪৭ হাজার ভারতীয় যৌন উত্তেজক ট্যাবলেট ...   \n",
              "2    পাকিস্তান-আফগানিস্তানের তিন ক্রিকেটারের জরিমানা   \n",
              "3  অন্তর্জ্বালা থেকে মনগড়া কথা বলেছেন সিনহা: ওবায়...   \n",
              "4      বিশেষায়িত হাসপাতালে চিকিৎসার শুনানি ১ অক্টোবর   \n",
              "\n",
              "                                             content  label  \n",
              "0  আগামী নির্বাচনকে সামনে রেখে বৃহত্তর রাজনৈতিক ঐ...      1  \n",
              "1  বেনাপোলের পুটখালী সীমান্ত থেকে ১১০ পিস ভারতীয় ...      1  \n",
              "2  আইসিসির আচরণবিধি লঙ্ঘনের দায়ে পাকিস্তান ও আফগা...      1  \n",
              "3  ﻿সাবেক হওয়ার অন্তর্জ্বালা থেকেই বিদেশে বসে সাব...      1  \n",
              "4  দেশের বিশেষায়িত কোনো হাসপাতালে কারাবন্দি বিএনপ...      1  "
            ],
            "text/html": [
              "\n",
              "  <div id=\"df-6699eb71-9d6d-4d10-967a-666293129c33\">\n",
              "    <div class=\"colab-df-container\">\n",
              "      <div>\n",
              "<style scoped>\n",
              "    .dataframe tbody tr th:only-of-type {\n",
              "        vertical-align: middle;\n",
              "    }\n",
              "\n",
              "    .dataframe tbody tr th {\n",
              "        vertical-align: top;\n",
              "    }\n",
              "\n",
              "    .dataframe thead th {\n",
              "        text-align: right;\n",
              "    }\n",
              "</style>\n",
              "<table border=\"1\" class=\"dataframe\">\n",
              "  <thead>\n",
              "    <tr style=\"text-align: right;\">\n",
              "      <th></th>\n",
              "      <th>articleID</th>\n",
              "      <th>domain</th>\n",
              "      <th>date</th>\n",
              "      <th>category</th>\n",
              "      <th>headline</th>\n",
              "      <th>content</th>\n",
              "      <th>label</th>\n",
              "    </tr>\n",
              "  </thead>\n",
              "  <tbody>\n",
              "    <tr>\n",
              "      <th>0</th>\n",
              "      <td>2806</td>\n",
              "      <td>banglatribune.com</td>\n",
              "      <td>2018-09-22 19:50:14</td>\n",
              "      <td>Politics</td>\n",
              "      <td>বৃহত্তর ঐক্যের পরীক্ষায় বিএনপি</td>\n",
              "      <td>আগামী নির্বাচনকে সামনে রেখে বৃহত্তর রাজনৈতিক ঐ...</td>\n",
              "      <td>1</td>\n",
              "    </tr>\n",
              "    <tr>\n",
              "      <th>1</th>\n",
              "      <td>6888</td>\n",
              "      <td>jagonews24.com</td>\n",
              "      <td>2018-09-21 21:24:28</td>\n",
              "      <td>National</td>\n",
              "      <td>বেনাপোলে ৪৭ হাজার ভারতীয় যৌন উত্তেজক ট্যাবলেট ...</td>\n",
              "      <td>বেনাপোলের পুটখালী সীমান্ত থেকে ১১০ পিস ভারতীয় ...</td>\n",
              "      <td>1</td>\n",
              "    </tr>\n",
              "    <tr>\n",
              "      <th>2</th>\n",
              "      <td>5148</td>\n",
              "      <td>channelionline.com</td>\n",
              "      <td>2018-09-22 21:05:41</td>\n",
              "      <td>Sports</td>\n",
              "      <td>পাকিস্তান-আফগানিস্তানের তিন ক্রিকেটারের জরিমানা</td>\n",
              "      <td>আইসিসির আচরণবিধি লঙ্ঘনের দায়ে পাকিস্তান ও আফগা...</td>\n",
              "      <td>1</td>\n",
              "    </tr>\n",
              "    <tr>\n",
              "      <th>3</th>\n",
              "      <td>5352</td>\n",
              "      <td>samakal.com</td>\n",
              "      <td>2018-09-20 16:47:40</td>\n",
              "      <td>Politics</td>\n",
              "      <td>অন্তর্জ্বালা থেকে মনগড়া কথা বলেছেন সিনহা: ওবায়...</td>\n",
              "      <td>﻿সাবেক হওয়ার অন্তর্জ্বালা থেকেই বিদেশে বসে সাব...</td>\n",
              "      <td>1</td>\n",
              "    </tr>\n",
              "    <tr>\n",
              "      <th>4</th>\n",
              "      <td>7681</td>\n",
              "      <td>jagonews24.com</td>\n",
              "      <td>2018-09-25 16:36:26</td>\n",
              "      <td>Crime</td>\n",
              "      <td>বিশেষায়িত হাসপাতালে চিকিৎসার শুনানি ১ অক্টোবর</td>\n",
              "      <td>দেশের বিশেষায়িত কোনো হাসপাতালে কারাবন্দি বিএনপ...</td>\n",
              "      <td>1</td>\n",
              "    </tr>\n",
              "  </tbody>\n",
              "</table>\n",
              "</div>\n",
              "      <button class=\"colab-df-convert\" onclick=\"convertToInteractive('df-6699eb71-9d6d-4d10-967a-666293129c33')\"\n",
              "              title=\"Convert this dataframe to an interactive table.\"\n",
              "              style=\"display:none;\">\n",
              "        \n",
              "  <svg xmlns=\"http://www.w3.org/2000/svg\" height=\"24px\"viewBox=\"0 0 24 24\"\n",
              "       width=\"24px\">\n",
              "    <path d=\"M0 0h24v24H0V0z\" fill=\"none\"/>\n",
              "    <path d=\"M18.56 5.44l.94 2.06.94-2.06 2.06-.94-2.06-.94-.94-2.06-.94 2.06-2.06.94zm-11 1L8.5 8.5l.94-2.06 2.06-.94-2.06-.94L8.5 2.5l-.94 2.06-2.06.94zm10 10l.94 2.06.94-2.06 2.06-.94-2.06-.94-.94-2.06-.94 2.06-2.06.94z\"/><path d=\"M17.41 7.96l-1.37-1.37c-.4-.4-.92-.59-1.43-.59-.52 0-1.04.2-1.43.59L10.3 9.45l-7.72 7.72c-.78.78-.78 2.05 0 2.83L4 21.41c.39.39.9.59 1.41.59.51 0 1.02-.2 1.41-.59l7.78-7.78 2.81-2.81c.8-.78.8-2.07 0-2.86zM5.41 20L4 18.59l7.72-7.72 1.47 1.35L5.41 20z\"/>\n",
              "  </svg>\n",
              "      </button>\n",
              "      \n",
              "  <style>\n",
              "    .colab-df-container {\n",
              "      display:flex;\n",
              "      flex-wrap:wrap;\n",
              "      gap: 12px;\n",
              "    }\n",
              "\n",
              "    .colab-df-convert {\n",
              "      background-color: #E8F0FE;\n",
              "      border: none;\n",
              "      border-radius: 50%;\n",
              "      cursor: pointer;\n",
              "      display: none;\n",
              "      fill: #1967D2;\n",
              "      height: 32px;\n",
              "      padding: 0 0 0 0;\n",
              "      width: 32px;\n",
              "    }\n",
              "\n",
              "    .colab-df-convert:hover {\n",
              "      background-color: #E2EBFA;\n",
              "      box-shadow: 0px 1px 2px rgba(60, 64, 67, 0.3), 0px 1px 3px 1px rgba(60, 64, 67, 0.15);\n",
              "      fill: #174EA6;\n",
              "    }\n",
              "\n",
              "    [theme=dark] .colab-df-convert {\n",
              "      background-color: #3B4455;\n",
              "      fill: #D2E3FC;\n",
              "    }\n",
              "\n",
              "    [theme=dark] .colab-df-convert:hover {\n",
              "      background-color: #434B5C;\n",
              "      box-shadow: 0px 1px 3px 1px rgba(0, 0, 0, 0.15);\n",
              "      filter: drop-shadow(0px 1px 2px rgba(0, 0, 0, 0.3));\n",
              "      fill: #FFFFFF;\n",
              "    }\n",
              "  </style>\n",
              "\n",
              "      <script>\n",
              "        const buttonEl =\n",
              "          document.querySelector('#df-6699eb71-9d6d-4d10-967a-666293129c33 button.colab-df-convert');\n",
              "        buttonEl.style.display =\n",
              "          google.colab.kernel.accessAllowed ? 'block' : 'none';\n",
              "\n",
              "        async function convertToInteractive(key) {\n",
              "          const element = document.querySelector('#df-6699eb71-9d6d-4d10-967a-666293129c33');\n",
              "          const dataTable =\n",
              "            await google.colab.kernel.invokeFunction('convertToInteractive',\n",
              "                                                     [key], {});\n",
              "          if (!dataTable) return;\n",
              "\n",
              "          const docLinkHtml = 'Like what you see? Visit the ' +\n",
              "            '<a target=\"_blank\" href=https://colab.research.google.com/notebooks/data_table.ipynb>data table notebook</a>'\n",
              "            + ' to learn more about interactive tables.';\n",
              "          element.innerHTML = '';\n",
              "          dataTable['output_type'] = 'display_data';\n",
              "          await google.colab.output.renderOutput(dataTable, element);\n",
              "          const docLink = document.createElement('div');\n",
              "          docLink.innerHTML = docLinkHtml;\n",
              "          element.appendChild(docLink);\n",
              "        }\n",
              "      </script>\n",
              "    </div>\n",
              "  </div>\n",
              "  "
            ]
          },
          "metadata": {},
          "execution_count": 6
        }
      ]
    },
    {
      "cell_type": "code",
      "source": [
        "print('The input text is:\\n')\n",
        "df['content'][2]"
      ],
      "metadata": {
        "colab": {
          "base_uri": "https://localhost:8080/",
          "height": 209
        },
        "id": "sBKsCE4y8jlt",
        "outputId": "b6237169-9c0b-4956-ff98-e3ec275db163"
      },
      "execution_count": null,
      "outputs": [
        {
          "output_type": "stream",
          "name": "stdout",
          "text": [
            "The input text is:\n",
            "\n"
          ]
        },
        {
          "output_type": "execute_result",
          "data": {
            "text/plain": [
              "'আইসিসির আচরণবিধি লঙ্ঘনের দায়ে পাকিস্তান ও আফগানিস্তানের তিনজন ক্রিকেটারকে জরিমানা করা হয়েছে। শুক্রবার আবুধাবিতে এশিয়া কাপের সুপার ফোরের ম্যাচে ভিন্ন ভিন্ন ঘটনায় অভিযুক্ত হন তারা। পাকিস্তানের হাসান আলী, আফগানিস্তানের অধিনায়ক আসগর আফগান ও স্পিনার রশিদ খানকে ম্যাচ ফি’র ১৫% জরিমানা করে আইসিসি। শুধু আর্থিক জরিমানাই নয়, তাদের প্রত্যেকের নামের পাশে একটি করে ডিমেরিট পয়েন্টও যোগ হয়েছে। আফগান খেলোয়াড়দের জন্য ডিমেরিট পাওয়ার এটি দ্বিতীয় ঘটনা। গত ফেব্রুয়ারিতে প্রথম কোনো আফগান ক্রিকেটার ডিমেরিট পয়েন্ট পেয়েছিলেন। হাসান এবং আসগর আইসিসির আচরণবিধির ২.১.১ ধারা লঙ্ঘন করেছেন। এই ধারায় ক্রিকেটের স্পিরিটের কথা বলা আছে। আর রশিদ খান লঙ্ঘন করেছেন, ২.১.৭ ধারা। যেখানে ভাষা, কাজ বা অঙ্গভঙ্গি ব্যবহার, আন্তর্জাতিক ম্যাচের সময় ব্যাটসম্যানের উপর কোনো বোলারের বা কোনো বোলারের উপর ব্যাটসম্যানের আক্রমণাত্মক প্রতিক্রিয়া সৃষ্টির কথা বলা আছে। ম্যাচের ৩৩তম ওভারের সময় আফগান ব্যাটসম্যান হাসমতউল্লাহ ক্রিজে ফিরে যাওয়ার পরও তার দিকে বল থ্রো করতে যান হাসান আলী। শুধু তাই নয়, পরে ওই ব্যাটসম্যানের দিকে আক্রমণাত্মকভাবে এগিয়ে যান তিনি। পরে এই হাসান আলীর সঙ্গেই তর্কে জড়িয়ে যান আফগান অধিনায়ক আসগর আফগান। আর ম্যাচের ৪৭তম ওভারে পাকিস্তানি ব্যাটসম্যান আসিফ আলীকে আউট করার পর আক্রমণাত্মক অঙ্গভঙ্গি করেন রশিদ খান। ব্যাটসম্যানের দিকে আঙুল তুলে তাকে সাজঘরের পথও দেখান। ম্যাচের পর এই তিন ক্রিকেটারকেই শুনানিতে ডেকেছিলেন ম্যাচ রেফারি অ্যান্ডি পাইক্রফট। তিনজনই নিজেদের অপরাধ মেনে নিয়েছেন।'"
            ],
            "application/vnd.google.colaboratory.intrinsic+json": {
              "type": "string"
            }
          },
          "metadata": {},
          "execution_count": 13
        }
      ]
    },
    {
      "cell_type": "code",
      "source": [
        "def preprocess(data):\n",
        "    \"\"\"This function is for preprocessing of the news contents. It removes punctuations, English characters and both of Bangla\n",
        "    and English numerals. It tokenizes all the words and also removes stopwords.\n",
        "    \n",
        "    Args: \n",
        "        The Entire Dataframe\n",
        "    Returns:\n",
        "        Preprocessed news corpuses in a list of lists\n",
        "    \"\"\"\n",
        "    corpus=[]\n",
        "    for i in range(0, len(data)):\n",
        "        x=re.sub('[^\\u0980-\\u09FF]',' ',data['content'][i])\n",
        "        x=re.sub('[a-zA-Z0-9]+', ' ', x)\n",
        "        x=re.sub('[০১২৩৪৫৬৭৮৯]+', ' ', x)\n",
        "        x=x.split()\n",
        "        x=[w for w in x if w not in set(stopwords)]\n",
        "        x=' '.join(x)\n",
        "        corpus.append(x)\n",
        "    \n",
        "    return corpus\n",
        "\n",
        "\n",
        "corpus=preprocess(df)\n",
        "corpus[16:20]"
      ],
      "metadata": {
        "colab": {
          "base_uri": "https://localhost:8080/"
        },
        "id": "Ta8qAnts8oAg",
        "outputId": "3d0afa12-b79c-44b3-f3d0-97663c29138d"
      },
      "execution_count": null,
      "outputs": [
        {
          "output_type": "execute_result",
          "data": {
            "text/plain": [
              "['মার্কিন সংবাদমাধ্যম এবিসি গুড মর্নিং আমেরিকা অনুষ্ঠানে কুক বানানো সবচেয়ে উন্নত আইফোন ভোক্তাদের প্রয়োজনীয় গ্যাজেটের প্রয়োজনীয়তা মেটানো সম্ভব বলেও ভাষ্য কুক আইফোন ডিজিটাল ক্যামেরার জায়গা নিয়েছে আলাদা ক্যামেরা দরকার ভিডিও ক্যামেরার জায়গা নিয়েছে মিউজিক প্লেয়ারের জায়গা নিয়েছে ভিন্ন ডিভাইসের জায়গা নিয়েছে তর্কসাপেক্ষে পণ্য সত্যিই গুরুত্বপূর্ণ দেখেছি মানুষ সবচেয়ে উদ্ভাবনী পণ্যটি পেতে চায় সস্তায় যায় আইফোন ম্যাক্স দাম যথাক্রমে ডলার সর্বোচ্চ মূল্য ডলার ম্যাক কম্পিউটারের চেয়েও কুক এগুলোর অধিকাংশ মানুষের উপায় ক্যারিয়ারের টেলিযোগাযোগ নেটওয়ার্ক চুক্তি মাসিক কিস্তিতে অর্থ পরিশোধ ডলারের দামের আইফোনের দিকেও দেখেন অধিকাংশ মানুষ মাসে ডলার পরিশোধ হিসেবে প্রতিদিন এক ডলার ডেওয়া লাগবে',\n",
              " 'শাহজালাল বিজ্ঞান প্রযুক্তি বিশ্ববিদ্যালয়ের শাবি ছাত্রী চুরির ঘটনায় তিন সদস্যের তদন্ত কমিটি গঠন হয়েছে বৃহস্পতিবার সেপ্টেম্বর দুপুরে কমিটি গঠন ছাত্রী হলের প্রাধ্যক্ষ অধ্যাপক আমিনা পারভীন খবর নিশ্চিত প্রাধ্যক্ষ অধ্যাপক আমিনা পারভীন বিশ্ববিদ্যালয়ের ছাত্রী চুরির ঘটনা তদন্তে স্কুল অব এগ্রিকালচার অ্যান্ড মিনারেল সায়েন্সের ডিন অধ্যাপক ড জেড এম মঞ্জুর রশিদকে আহ্বায়ক কমিটি হয়েছে কমিটির সদস্যের একজন অন্যজন প্রক্টর জহির উদ্দীন আহমেদ তদন্ত কমিটিকে শিগগিরই প্রতিবেদন জমা দেওয়ার নির্দেশ হয়েছে উল্লেখ্য বুধবার দিনগত রাতে গ্রিল কেটে ছাত্রীদের ঢুকে একজনের তিনটি মোবাইল ফোন যায় চোর',\n",
              " 'খেলা ডেস্ক আরটিএনএন আবুধাবি টস জিতে বাংলাদেশকে ব্যাটিংয়ে পাঠাল ভারত বাংলাদেশ সময় বিকাল সাড়ে টায় দুবাইয়ের আন্তর্জাতিক স্টেডিয়ামে খেলাটি সুপার ফোরের ম্যাচ ভারতীয় অধিনায়ক রোহিত শর্মা বোলিং নিচ্ছি কয়েকটি ম্যাচ খেলেছি অভিজ্ঞতা বলছে ব্যাটিং ভালো অন্যদিকে বাংলাদেশ অধিনায়ক মাশরাফি বিন মর্তুজা গুরুত্বপূর্ণ ম্যাচ সেরাটা খেলার করবো বাংলাদেশ একাদশ লিটন কুমার দাস নাজমুল হোসেন শান্ত সাকিব আল হাসান মুশফিকুর রহিম উইকেটরক্ষক মোহাম্মদ মিঠুন মাহমুদউল্লাহ রিয়াদ মোসাদ্দেক হোসেন সৈকত মেহেদি হাসান মিরাজ মাশরাফি বিন মর্তুজা অধিনায়ক রুবেল হোসেন মোস্তাফিজুর রহমান ভারত একাদশ রোহিত শর্মা অধিনায়ক শিখর ধাওয়ান আম্বাতি রাইডু দিনেশ কার্তিক মহেন্দ্র সিং ধোনি উইকেটরক্ষক কেদার যাদব রবীন্দ্র জাদেজা কুলদ্বীপ যাদব যুজবেন্দ্র চাহাল ভুবনেশ্বর কুমার জসপ্রীত বুমরাহ',\n",
              " 'একুশে আগস্টে গ্রেনেড হামলা মামলার রায়কে কেন্দ্র রাজধানীর পাশাপাশি দেশজুড়ে নিরাপত্তা জোরদার হয়েছে সকাল জেলায় বিএনপি কার্যালয়ের বাড়তি পুলিশ সদস্য মোতায়েন হয়েছে এছাড়া আওয়ামী লীগ অঙ্গ সংগঠনের নেতা কর্মীরা নিজ নিজ দলীয় কার্যালয়ের অবস্থান নিয়েছেন বগুড়ায় সকাল বিএনপি কার্যালয়ের পুলিশ মোতায়েন শহরের সাতমাথাসহ গুরুত্বপূর্ণ স্থানগুলোতে টহল দিচ্ছে আইনশৃঙ্খলা বাহিনী রায় ঘোষণার নাশকতার আশঙ্কায় রংপুরে পুলিশি নিরাপত্তা জোরদার হয়েছে নগরীর এলাকায় মোতায়েন রয়েছে সাদা পোশাকের পুলিশ সুনামগঞ্জ শহরেও মোড়ে মোড়ে পুলিশের নিরাপত্তা বাড়ানো হয়েছে পুলিশের পাশাপাশি টহল দিচ্ছে ্যাব সদস্যরাও']"
            ]
          },
          "metadata": {},
          "execution_count": 14
        }
      ]
    },
    {
      "cell_type": "code",
      "source": [
        "print('The cleaned text is:\\n')\n",
        "corpus[2]"
      ],
      "metadata": {
        "colab": {
          "base_uri": "https://localhost:8080/",
          "height": 174
        },
        "id": "mgboObu7-BDr",
        "outputId": "e911b19a-d370-4533-df23-a42415ff48f6"
      },
      "execution_count": null,
      "outputs": [
        {
          "output_type": "stream",
          "name": "stdout",
          "text": [
            "The cleaned text is:\n",
            "\n"
          ]
        },
        {
          "output_type": "execute_result",
          "data": {
            "text/plain": [
              "'আইসিসির আচরণবিধি লঙ্ঘনের দায়ে পাকিস্তান আফগানিস্তানের তিনজন ক্রিকেটারকে জরিমানা হয়েছে শুক্রবার আবুধাবিতে এশিয়া কাপের সুপার ফোরের ম্যাচে ভিন্ন ভিন্ন ঘটনায় অভিযুক্ত পাকিস্তানের হাসান আলী আফগানিস্তানের অধিনায়ক আসগর আফগান স্পিনার রশিদ খানকে ম্যাচ ফি জরিমানা আইসিসি আর্থিক জরিমানাই প্রত্যেকের নামের পাশে ডিমেরিট পয়েন্টও যোগ হয়েছে আফগান খেলোয়াড়দের ডিমেরিট পাওয়ার দ্বিতীয় ঘটনা গত ফেব্রুয়ারিতে আফগান ক্রিকেটার ডিমেরিট পয়েন্ট পেয়েছিলেন হাসান আসগর আইসিসির আচরণবিধির ধারা লঙ্ঘন ধারায় ক্রিকেটের স্পিরিটের কথা রশিদ খান লঙ্ঘন ধারা ভাষা অঙ্গভঙ্গি আন্তর্জাতিক ম্যাচের সময় ব্যাটসম্যানের বোলারের বোলারের ব্যাটসম্যানের আক্রমণাত্মক প্রতিক্রিয়া সৃষ্টির কথা ম্যাচের তম ওভারের সময় আফগান ব্যাটসম্যান হাসমতউল্লাহ ক্রিজে যাওয়ার পরও বল থ্রো হাসান আলী ব্যাটসম্যানের আক্রমণাত্মকভাবে এগিয়ে হাসান আলীর সঙ্গেই তর্কে জড়িয়ে আফগান অধিনায়ক আসগর আফগান ম্যাচের তম ওভারে পাকিস্তানি ব্যাটসম্যান আসিফ আলীকে আউট আক্রমণাত্মক অঙ্গভঙ্গি রশিদ খান ব্যাটসম্যানের আঙুল সাজঘরের পথও দেখান ম্যাচের তিন ক্রিকেটারকেই শুনানিতে ডেকেছিলেন ম্যাচ রেফারি অ্যান্ডি পাইক্রফট তিনজনই অপরাধ মেনে নিয়েছেন'"
            ],
            "application/vnd.google.colaboratory.intrinsic+json": {
              "type": "string"
            }
          },
          "metadata": {},
          "execution_count": 17
        }
      ]
    },
    {
      "cell_type": "code",
      "source": [
        "hashing=HashingVectorizer(n_features=5000, ngram_range=(1, 3))\n",
        "X=hashing.fit_transform(corpus).toarray()\n",
        "y=df['label'].values\n",
        "X.shape, y.shape"
      ],
      "metadata": {
        "colab": {
          "base_uri": "https://localhost:8080/"
        },
        "id": "B2ovP9tr-TTu",
        "outputId": "7cdb5fa8-0050-423f-c281-7ef95e0b71e6"
      },
      "execution_count": null,
      "outputs": [
        {
          "output_type": "execute_result",
          "data": {
            "text/plain": [
              "((8501, 5000), (8501,))"
            ]
          },
          "metadata": {},
          "execution_count": 18
        }
      ]
    },
    {
      "cell_type": "code",
      "source": [
        "print('The input vector after hashing is:\\n')\n",
        "print(X[2][0:30])"
      ],
      "metadata": {
        "colab": {
          "base_uri": "https://localhost:8080/"
        },
        "id": "OdvjBxnp-aEa",
        "outputId": "762f72a8-2229-45e6-f37c-701d588702bc"
      },
      "execution_count": null,
      "outputs": [
        {
          "output_type": "stream",
          "name": "stdout",
          "text": [
            "The input vector after hashing is:\n",
            "\n",
            "[ 0.          0.          0.          0.          0.          0.\n",
            "  0.         -0.13130643  0.         -0.04376881  0.          0.\n",
            "  0.          0.          0.          0.         -0.08753762  0.\n",
            "  0.          0.          0.          0.          0.          0.\n",
            "  0.          0.          0.          0.          0.          0.        ]\n"
          ]
        }
      ]
    },
    {
      "cell_type": "code",
      "source": [
        "lgbm_pred=lgbm_model.predict(X)\n",
        "\n",
        "y=['Fake' if x==0 else 'Real' for x in y]\n",
        "lgbm_pred=['Fake' if x==0 else 'Real' for x in lgbm_pred]\n",
        "\n",
        "print(f'Actual Outcome ---> {y[2]} \\n')\n",
        "print(f'Prediction Outcome ---> {lgbm_pred[2]}')"
      ],
      "metadata": {
        "colab": {
          "base_uri": "https://localhost:8080/"
        },
        "id": "HHGLczGg-zFK",
        "outputId": "25564eac-8467-4c17-b246-c33720757fa7"
      },
      "execution_count": null,
      "outputs": [
        {
          "output_type": "stream",
          "name": "stdout",
          "text": [
            "Actual Outcome ---> Real \n",
            "\n",
            "Prediction Outcome ---> Real\n"
          ]
        }
      ]
    },
    {
      "cell_type": "code",
      "source": [
        "df[df['label'] == 0].head()"
      ],
      "metadata": {
        "colab": {
          "base_uri": "https://localhost:8080/",
          "height": 337
        },
        "id": "kRJVSa5rA_ct",
        "outputId": "79c33602-631c-44ec-a75f-98be3154c988"
      },
      "execution_count": null,
      "outputs": [
        {
          "output_type": "execute_result",
          "data": {
            "text/plain": [
              "    articleID             domain                        date       category  \\\n",
              "5        1202          earki.com  ২১:২৯, জানুয়ারি ১৮, ২০১৯        Politics   \n",
              "7         329          earki.com  ২০:৪৩, জানুয়ারি ২৬, ২০১৯   Miscellaneous   \n",
              "10        659    bengalbeats.com   2019-06-21T17:22:54+00:00  Miscellaneous   \n",
              "26        216  channeldhaka.news   2017-09-13T11:08:46+00:00  Miscellaneous   \n",
              "29       1242  channeldhaka.news   2018-09-14T19:08:41+00:00       National   \n",
              "\n",
              "                                             headline  \\\n",
              "5                       কোনো কিছু বলছ না? ও ওমর সানী!   \n",
              "7   স্বামী বিয়ের রাতে স্ত্রীর যে অজানা নিয়মটি জানত...   \n",
              "10  তীব্র গরমে টয়লেটের পর ট্যাপের পানিতে পশ্চাৎদেশ...   \n",
              "26  রোহিঙ্গাদের বিষয়ে আল্লাহর সাথে সরাসরি আলাপ হচ্...   \n",
              "29          নোয়াখালী ছাড়া দেশের কোথাও ফকির মিসকিন নেই   \n",
              "\n",
              "                                              content  label  \n",
              "5   ওমর সানীকে ডেকে বলে মৌসুমীআমার বিপদে কিছু বলছো...      0  \n",
              "7   এক নব দম্পতির বিয়ের রাতে জামাই বৌকে বলছে-‘আমি...      0  \n",
              "10  তীব্র গরমে টয়লেটের পর ট্যাপের পানি দিয়ে শুচু ক...      0  \n",
              "26  নাম মাহবুব এ খোদা, সর্বস্তরে দেওয়ানবাগী হুজুর...      0  \n",
              "29  সম্প্রতি ফেসবুকে ভাইরাল হওয়া বিটিভির এক বিজ্ঞা...      0  "
            ],
            "text/html": [
              "\n",
              "  <div id=\"df-629da721-1e8b-40ff-9bdb-74e9f6a19612\">\n",
              "    <div class=\"colab-df-container\">\n",
              "      <div>\n",
              "<style scoped>\n",
              "    .dataframe tbody tr th:only-of-type {\n",
              "        vertical-align: middle;\n",
              "    }\n",
              "\n",
              "    .dataframe tbody tr th {\n",
              "        vertical-align: top;\n",
              "    }\n",
              "\n",
              "    .dataframe thead th {\n",
              "        text-align: right;\n",
              "    }\n",
              "</style>\n",
              "<table border=\"1\" class=\"dataframe\">\n",
              "  <thead>\n",
              "    <tr style=\"text-align: right;\">\n",
              "      <th></th>\n",
              "      <th>articleID</th>\n",
              "      <th>domain</th>\n",
              "      <th>date</th>\n",
              "      <th>category</th>\n",
              "      <th>headline</th>\n",
              "      <th>content</th>\n",
              "      <th>label</th>\n",
              "    </tr>\n",
              "  </thead>\n",
              "  <tbody>\n",
              "    <tr>\n",
              "      <th>5</th>\n",
              "      <td>1202</td>\n",
              "      <td>earki.com</td>\n",
              "      <td>২১:২৯, জানুয়ারি ১৮, ২০১৯</td>\n",
              "      <td>Politics</td>\n",
              "      <td>কোনো কিছু বলছ না? ও ওমর সানী!</td>\n",
              "      <td>ওমর সানীকে ডেকে বলে মৌসুমীআমার বিপদে কিছু বলছো...</td>\n",
              "      <td>0</td>\n",
              "    </tr>\n",
              "    <tr>\n",
              "      <th>7</th>\n",
              "      <td>329</td>\n",
              "      <td>earki.com</td>\n",
              "      <td>২০:৪৩, জানুয়ারি ২৬, ২০১৯</td>\n",
              "      <td>Miscellaneous</td>\n",
              "      <td>স্বামী বিয়ের রাতে স্ত্রীর যে অজানা নিয়মটি জানত...</td>\n",
              "      <td>এক নব দম্পতির বিয়ের রাতে জামাই বৌকে বলছে-‘আমি...</td>\n",
              "      <td>0</td>\n",
              "    </tr>\n",
              "    <tr>\n",
              "      <th>10</th>\n",
              "      <td>659</td>\n",
              "      <td>bengalbeats.com</td>\n",
              "      <td>2019-06-21T17:22:54+00:00</td>\n",
              "      <td>Miscellaneous</td>\n",
              "      <td>তীব্র গরমে টয়লেটের পর ট্যাপের পানিতে পশ্চাৎদেশ...</td>\n",
              "      <td>তীব্র গরমে টয়লেটের পর ট্যাপের পানি দিয়ে শুচু ক...</td>\n",
              "      <td>0</td>\n",
              "    </tr>\n",
              "    <tr>\n",
              "      <th>26</th>\n",
              "      <td>216</td>\n",
              "      <td>channeldhaka.news</td>\n",
              "      <td>2017-09-13T11:08:46+00:00</td>\n",
              "      <td>Miscellaneous</td>\n",
              "      <td>রোহিঙ্গাদের বিষয়ে আল্লাহর সাথে সরাসরি আলাপ হচ্...</td>\n",
              "      <td>নাম মাহবুব এ খোদা, সর্বস্তরে দেওয়ানবাগী হুজুর...</td>\n",
              "      <td>0</td>\n",
              "    </tr>\n",
              "    <tr>\n",
              "      <th>29</th>\n",
              "      <td>1242</td>\n",
              "      <td>channeldhaka.news</td>\n",
              "      <td>2018-09-14T19:08:41+00:00</td>\n",
              "      <td>National</td>\n",
              "      <td>নোয়াখালী ছাড়া দেশের কোথাও ফকির মিসকিন নেই</td>\n",
              "      <td>সম্প্রতি ফেসবুকে ভাইরাল হওয়া বিটিভির এক বিজ্ঞা...</td>\n",
              "      <td>0</td>\n",
              "    </tr>\n",
              "  </tbody>\n",
              "</table>\n",
              "</div>\n",
              "      <button class=\"colab-df-convert\" onclick=\"convertToInteractive('df-629da721-1e8b-40ff-9bdb-74e9f6a19612')\"\n",
              "              title=\"Convert this dataframe to an interactive table.\"\n",
              "              style=\"display:none;\">\n",
              "        \n",
              "  <svg xmlns=\"http://www.w3.org/2000/svg\" height=\"24px\"viewBox=\"0 0 24 24\"\n",
              "       width=\"24px\">\n",
              "    <path d=\"M0 0h24v24H0V0z\" fill=\"none\"/>\n",
              "    <path d=\"M18.56 5.44l.94 2.06.94-2.06 2.06-.94-2.06-.94-.94-2.06-.94 2.06-2.06.94zm-11 1L8.5 8.5l.94-2.06 2.06-.94-2.06-.94L8.5 2.5l-.94 2.06-2.06.94zm10 10l.94 2.06.94-2.06 2.06-.94-2.06-.94-.94-2.06-.94 2.06-2.06.94z\"/><path d=\"M17.41 7.96l-1.37-1.37c-.4-.4-.92-.59-1.43-.59-.52 0-1.04.2-1.43.59L10.3 9.45l-7.72 7.72c-.78.78-.78 2.05 0 2.83L4 21.41c.39.39.9.59 1.41.59.51 0 1.02-.2 1.41-.59l7.78-7.78 2.81-2.81c.8-.78.8-2.07 0-2.86zM5.41 20L4 18.59l7.72-7.72 1.47 1.35L5.41 20z\"/>\n",
              "  </svg>\n",
              "      </button>\n",
              "      \n",
              "  <style>\n",
              "    .colab-df-container {\n",
              "      display:flex;\n",
              "      flex-wrap:wrap;\n",
              "      gap: 12px;\n",
              "    }\n",
              "\n",
              "    .colab-df-convert {\n",
              "      background-color: #E8F0FE;\n",
              "      border: none;\n",
              "      border-radius: 50%;\n",
              "      cursor: pointer;\n",
              "      display: none;\n",
              "      fill: #1967D2;\n",
              "      height: 32px;\n",
              "      padding: 0 0 0 0;\n",
              "      width: 32px;\n",
              "    }\n",
              "\n",
              "    .colab-df-convert:hover {\n",
              "      background-color: #E2EBFA;\n",
              "      box-shadow: 0px 1px 2px rgba(60, 64, 67, 0.3), 0px 1px 3px 1px rgba(60, 64, 67, 0.15);\n",
              "      fill: #174EA6;\n",
              "    }\n",
              "\n",
              "    [theme=dark] .colab-df-convert {\n",
              "      background-color: #3B4455;\n",
              "      fill: #D2E3FC;\n",
              "    }\n",
              "\n",
              "    [theme=dark] .colab-df-convert:hover {\n",
              "      background-color: #434B5C;\n",
              "      box-shadow: 0px 1px 3px 1px rgba(0, 0, 0, 0.15);\n",
              "      filter: drop-shadow(0px 1px 2px rgba(0, 0, 0, 0.3));\n",
              "      fill: #FFFFFF;\n",
              "    }\n",
              "  </style>\n",
              "\n",
              "      <script>\n",
              "        const buttonEl =\n",
              "          document.querySelector('#df-629da721-1e8b-40ff-9bdb-74e9f6a19612 button.colab-df-convert');\n",
              "        buttonEl.style.display =\n",
              "          google.colab.kernel.accessAllowed ? 'block' : 'none';\n",
              "\n",
              "        async function convertToInteractive(key) {\n",
              "          const element = document.querySelector('#df-629da721-1e8b-40ff-9bdb-74e9f6a19612');\n",
              "          const dataTable =\n",
              "            await google.colab.kernel.invokeFunction('convertToInteractive',\n",
              "                                                     [key], {});\n",
              "          if (!dataTable) return;\n",
              "\n",
              "          const docLinkHtml = 'Like what you see? Visit the ' +\n",
              "            '<a target=\"_blank\" href=https://colab.research.google.com/notebooks/data_table.ipynb>data table notebook</a>'\n",
              "            + ' to learn more about interactive tables.';\n",
              "          element.innerHTML = '';\n",
              "          dataTable['output_type'] = 'display_data';\n",
              "          await google.colab.output.renderOutput(dataTable, element);\n",
              "          const docLink = document.createElement('div');\n",
              "          docLink.innerHTML = docLinkHtml;\n",
              "          element.appendChild(docLink);\n",
              "        }\n",
              "      </script>\n",
              "    </div>\n",
              "  </div>\n",
              "  "
            ]
          },
          "metadata": {},
          "execution_count": 31
        }
      ]
    },
    {
      "cell_type": "code",
      "source": [
        "print('The input text is:\\n')\n",
        "df['content'][29]"
      ],
      "metadata": {
        "colab": {
          "base_uri": "https://localhost:8080/",
          "height": 122
        },
        "id": "zc5wDGrtB_GA",
        "outputId": "f84df84f-1091-4658-af81-507994ffc626"
      },
      "execution_count": null,
      "outputs": [
        {
          "output_type": "stream",
          "name": "stdout",
          "text": [
            "The input text is:\n",
            "\n"
          ]
        },
        {
          "output_type": "execute_result",
          "data": {
            "text/plain": [
              "'সম্প্রতি ফেসবুকে ভাইরাল হওয়া বিটিভির এক বিজ্ঞাপনের ভিত্তিতে ছোট্ট একটি জরীপ চালায় চ্যানেল ঢাকার প্রতিনিধি দল। জরীপে বেড়িয়ে আসে কিছু ভয়ংকর সত্য। উল্লেখ্য যে, বিটিভির ওই শর্টফিল্মটি নোয়াখালী তে শ্যুট করা হয়েছিলো।এ থেকে বুঝে নেয়া যায়, বর্তমান সরকারের উন্নয়নমূলক বিভিন্ন কর্মকান্ডের ফলে সমগ্র দেশ হতে ফকির-মিসকিন দূর হলেও স্বভাবগত কারণে নোয়াখালী থেকে ফকির মিসকিন দূরীকরণ সম্ভব হয়নি।জানা যায়, দারিদ্রতা নয় বরং পারিবারিক ঐতিহ্য ও সংস্কৃতি বজায় রাখার জন্য ভিক্ষাবৃত্তি থেকে নিজেদের দূরে রাখতে পারছেন না নোয়াখালী বাসী এবং বিষয়টিকে তারা গর্বের সাথেই দেখেন। এটাকে তারা পারিবারিক ব্যবসা হিসেবেই দেখছেন। বিশ্বের মোট ফকির মিসকিন ও ভিখারীর প্রায় পোছাত্তর শতাংশই নোয়াখালী’র।'"
            ],
            "application/vnd.google.colaboratory.intrinsic+json": {
              "type": "string"
            }
          },
          "metadata": {},
          "execution_count": 32
        }
      ]
    },
    {
      "cell_type": "code",
      "source": [
        "print('The cleaned text is:\\n')\n",
        "corpus[29]"
      ],
      "metadata": {
        "colab": {
          "base_uri": "https://localhost:8080/",
          "height": 122
        },
        "id": "5b1CT4MYCH1C",
        "outputId": "2287c6d2-a8ad-4c7c-bb08-d1325a197fe7"
      },
      "execution_count": null,
      "outputs": [
        {
          "output_type": "stream",
          "name": "stdout",
          "text": [
            "The cleaned text is:\n",
            "\n"
          ]
        },
        {
          "output_type": "execute_result",
          "data": {
            "text/plain": [
              "'ফেসবুকে ভাইরাল হওয়া বিটিভির এক বিজ্ঞাপনের ভিত্তিতে ছোট্ট জরীপ চালায় চ্যানেল ঢাকার প্রতিনিধি দল জরীপে বেড়িয়ে আসে ভয়ংকর সত্য উল্লেখ্য বিটিভির শর্টফিল্মটি নোয়াখালী তে শ্যুট হয়েছিলো বুঝে নেয়া যায় বর্তমান সরকারের উন্নয়নমূলক কর্মকান্ডের সমগ্র দেশ ফকির মিসকিন দূর স্বভাবগত কারণে নোয়াখালী ফকির মিসকিন দূরীকরণ সম্ভব হয়নি যায় দারিদ্রতা পারিবারিক ঐতিহ্য সংস্কৃতি বজায় রাখার ভিক্ষাবৃত্তি দূরে রাখতে পারছেন নোয়াখালী বাসী বিষয়টিকে গর্বের সাথেই দেখেন এটাকে পারিবারিক ব্যবসা হিসেবেই দেখছেন বিশ্বের ফকির মিসকিন ভিখারীর পোছাত্তর শতাংশই নোয়াখালী'"
            ],
            "application/vnd.google.colaboratory.intrinsic+json": {
              "type": "string"
            }
          },
          "metadata": {},
          "execution_count": 33
        }
      ]
    },
    {
      "cell_type": "code",
      "source": [
        "print('The input vector after hashing is:\\n')\n",
        "print(X[29][0:30])"
      ],
      "metadata": {
        "colab": {
          "base_uri": "https://localhost:8080/"
        },
        "id": "ya2xZ77YCNNJ",
        "outputId": "a919cd85-aa6e-4bea-b2d1-84da00fe3c29"
      },
      "execution_count": null,
      "outputs": [
        {
          "output_type": "stream",
          "name": "stdout",
          "text": [
            "The input vector after hashing is:\n",
            "\n",
            "[ 0.          0.          0.          0.          0.          0.\n",
            "  0.         -0.15249857  0.          0.          0.          0.\n",
            "  0.          0.          0.          0.          0.          0.\n",
            "  0.          0.          0.          0.          0.          0.\n",
            "  0.          0.          0.          0.          0.07624929  0.        ]\n"
          ]
        }
      ]
    },
    {
      "cell_type": "code",
      "source": [
        "print(f'Actual Outcome ---> {y[29]} \\n')\n",
        "print(f'Prediction Outcome ---> {lgbm_pred[29]}')"
      ],
      "metadata": {
        "colab": {
          "base_uri": "https://localhost:8080/"
        },
        "id": "ZqoWHfu3CS3t",
        "outputId": "d46ac6b9-2d70-42fd-f314-ed1cbdc5e6f1"
      },
      "execution_count": null,
      "outputs": [
        {
          "output_type": "stream",
          "name": "stdout",
          "text": [
            "Actual Outcome ---> Fake \n",
            "\n",
            "Prediction Outcome ---> Fake\n"
          ]
        }
      ]
    }
  ]
}