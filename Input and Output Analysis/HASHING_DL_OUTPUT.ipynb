{
  "nbformat": 4,
  "nbformat_minor": 0,
  "metadata": {
    "colab": {
      "name": "HASHING DL OUTPUT.ipynb",
      "provenance": []
    },
    "kernelspec": {
      "name": "python3",
      "display_name": "Python 3"
    },
    "language_info": {
      "name": "python"
    },
    "accelerator": "GPU",
    "gpuClass": "standard"
  },
  "cells": [
    {
      "cell_type": "code",
      "execution_count": null,
      "metadata": {
        "colab": {
          "base_uri": "https://localhost:8080/"
        },
        "id": "TRDATUguae8Z",
        "outputId": "93add1b5-d1c4-4026-b1ca-b666ce3fae27"
      },
      "outputs": [
        {
          "output_type": "stream",
          "name": "stdout",
          "text": [
            "Mounted at /content/drive\n"
          ]
        }
      ],
      "source": [
        "from google.colab import drive\n",
        "drive.mount('/content/drive')"
      ]
    },
    {
      "cell_type": "code",
      "source": [
        "from keras.models import load_model\n",
        "\n",
        "def model_load(model=''):\n",
        "  return load_model(model)"
      ],
      "metadata": {
        "id": "laShACt-anLf"
      },
      "execution_count": null,
      "outputs": []
    },
    {
      "cell_type": "code",
      "source": [
        "cnn_lstm=model_load('/content/drive/MyDrive/CSE-400(Project Thesis)/hash_cnn_lstm.h5')"
      ],
      "metadata": {
        "id": "nrluVbXIau_S"
      },
      "execution_count": null,
      "outputs": []
    },
    {
      "cell_type": "code",
      "source": [
        "!pip install bnlp-toolkit"
      ],
      "metadata": {
        "colab": {
          "base_uri": "https://localhost:8080/"
        },
        "id": "fumunKItaxRm",
        "outputId": "3e8d7316-ed7c-4e1f-89f9-7b18be26b2e9"
      },
      "execution_count": null,
      "outputs": [
        {
          "output_type": "stream",
          "name": "stdout",
          "text": [
            "Looking in indexes: https://pypi.org/simple, https://us-python.pkg.dev/colab-wheels/public/simple/\n",
            "Collecting bnlp-toolkit\n",
            "  Downloading bnlp_toolkit-3.1.2-py3-none-any.whl (17 kB)\n",
            "Collecting sentencepiece\n",
            "  Downloading sentencepiece-0.1.96-cp37-cp37m-manylinux_2_17_x86_64.manylinux2014_x86_64.whl (1.2 MB)\n",
            "\u001b[K     |████████████████████████████████| 1.2 MB 9.3 MB/s \n",
            "\u001b[?25hCollecting sklearn-crfsuite\n",
            "  Downloading sklearn_crfsuite-0.3.6-py2.py3-none-any.whl (12 kB)\n",
            "Requirement already satisfied: numpy in /usr/local/lib/python3.7/dist-packages (from bnlp-toolkit) (1.21.6)\n",
            "Requirement already satisfied: scipy in /usr/local/lib/python3.7/dist-packages (from bnlp-toolkit) (1.4.1)\n",
            "Requirement already satisfied: wasabi in /usr/local/lib/python3.7/dist-packages (from bnlp-toolkit) (0.9.1)\n",
            "Collecting gensim==4.0.1\n",
            "  Downloading gensim-4.0.1-cp37-cp37m-manylinux1_x86_64.whl (23.9 MB)\n",
            "\u001b[K     |████████████████████████████████| 23.9 MB 1.1 MB/s \n",
            "\u001b[?25hRequirement already satisfied: nltk in /usr/local/lib/python3.7/dist-packages (from bnlp-toolkit) (3.7)\n",
            "Requirement already satisfied: smart-open>=1.8.1 in /usr/local/lib/python3.7/dist-packages (from gensim==4.0.1->bnlp-toolkit) (5.2.1)\n",
            "Requirement already satisfied: click in /usr/local/lib/python3.7/dist-packages (from nltk->bnlp-toolkit) (7.1.2)\n",
            "Requirement already satisfied: tqdm in /usr/local/lib/python3.7/dist-packages (from nltk->bnlp-toolkit) (4.64.0)\n",
            "Requirement already satisfied: joblib in /usr/local/lib/python3.7/dist-packages (from nltk->bnlp-toolkit) (1.1.0)\n",
            "Requirement already satisfied: regex>=2021.8.3 in /usr/local/lib/python3.7/dist-packages (from nltk->bnlp-toolkit) (2022.6.2)\n",
            "Requirement already satisfied: tabulate in /usr/local/lib/python3.7/dist-packages (from sklearn-crfsuite->bnlp-toolkit) (0.8.9)\n",
            "Requirement already satisfied: six in /usr/local/lib/python3.7/dist-packages (from sklearn-crfsuite->bnlp-toolkit) (1.15.0)\n",
            "Collecting python-crfsuite>=0.8.3\n",
            "  Downloading python_crfsuite-0.9.8-cp37-cp37m-manylinux_2_17_x86_64.manylinux2014_x86_64.whl (965 kB)\n",
            "\u001b[K     |████████████████████████████████| 965 kB 62.9 MB/s \n",
            "\u001b[?25hInstalling collected packages: python-crfsuite, sklearn-crfsuite, sentencepiece, gensim, bnlp-toolkit\n",
            "  Attempting uninstall: gensim\n",
            "    Found existing installation: gensim 3.6.0\n",
            "    Uninstalling gensim-3.6.0:\n",
            "      Successfully uninstalled gensim-3.6.0\n",
            "Successfully installed bnlp-toolkit-3.1.2 gensim-4.0.1 python-crfsuite-0.9.8 sentencepiece-0.1.96 sklearn-crfsuite-0.3.6\n"
          ]
        }
      ]
    },
    {
      "cell_type": "code",
      "source": [
        "import re\n",
        "from bnlp.corpus import stopwords"
      ],
      "metadata": {
        "colab": {
          "base_uri": "https://localhost:8080/"
        },
        "id": "VhkPfSGvay9i",
        "outputId": "e2e99c56-6a95-49f3-a6f8-2c5bbade0fa4"
      },
      "execution_count": null,
      "outputs": [
        {
          "output_type": "stream",
          "name": "stdout",
          "text": [
            "punkt not found. downloading...\n"
          ]
        },
        {
          "output_type": "stream",
          "name": "stderr",
          "text": [
            "[nltk_data] Downloading package punkt to /root/nltk_data...\n",
            "[nltk_data]   Unzipping tokenizers/punkt.zip.\n",
            "/usr/local/lib/python3.7/dist-packages/gensim/similarities/__init__.py:15: UserWarning: The gensim.similarities.levenshtein submodule is disabled, because the optional Levenshtein package <https://pypi.org/project/python-Levenshtein/> is unavailable. Install Levenhstein (e.g. `pip install python-Levenshtein`) to suppress this warning.\n",
            "  warnings.warn(msg)\n"
          ]
        }
      ]
    },
    {
      "cell_type": "code",
      "source": [
        "def preprocess(data):\n",
        "    \"\"\"This function is for preprocessing of the news contents. It removes punctuations, English characters and both of Bangla\n",
        "    and English numerals. It tokenizes all the words and also removes stopwords.\n",
        "    \n",
        "    Args: \n",
        "        The Entire Dataframe\n",
        "    Returns:\n",
        "        Preprocessed news corpuses in a list of lists\n",
        "    \"\"\"\n",
        "    corpus=[]\n",
        "    for i in range(0, len(data)):\n",
        "        x=re.sub('[^\\u0980-\\u09FF]',' ',data['content'][i])\n",
        "        x=re.sub('[a-zA-Z0-9]+', ' ', x)\n",
        "        x=re.sub('[০১২৩৪৫৬৭৮৯]+', ' ', x)\n",
        "        x=x.split()\n",
        "        x=[w for w in x if w not in set(stopwords)]\n",
        "        x=' '.join(x)\n",
        "        corpus.append(x)\n",
        "    \n",
        "    return corpus"
      ],
      "metadata": {
        "id": "VDTrBJPEa68I"
      },
      "execution_count": null,
      "outputs": []
    },
    {
      "cell_type": "code",
      "source": [
        "import pandas as pd\n",
        "import numpy as np\n",
        "import matplotlib.pyplot as plt\n",
        "import seaborn as sns\n",
        "from sklearn.metrics import *\n",
        "import warnings\n",
        "warnings.filterwarnings(\"ignore\")\n",
        "\n",
        "%matplotlib inline\n",
        "sns.set()"
      ],
      "metadata": {
        "id": "64cfvFRfa-ia"
      },
      "execution_count": null,
      "outputs": []
    },
    {
      "cell_type": "code",
      "source": [
        "label_auth=pd.read_csv(r'/content/drive/MyDrive/AutoEncoders/LabeledAuthentic-7K.csv') #, nrows=3067)\n",
        "label_fake=pd.read_csv(r'/content/drive/MyDrive/AutoEncoders/LabeledFake-1K.csv') #, nrows=995)\n",
        "label_auth.drop(['source','relation'], axis=1, inplace=True)\n",
        "label_fake.drop(['source','relation','F-type'], axis=1, inplace=True)\n",
        "df=pd.concat([label_auth, label_fake], axis=0)\n",
        "df.reset_index(inplace=True)\n",
        "df.drop('index', axis=1, inplace=True)\n",
        "df['label']=np.where(df['label']==0.0, 0, 1)\n",
        "df.tail()\n",
        "df=df.sample(frac=1).reset_index(drop=True)\n",
        "print(df.shape)\n",
        "df.head()"
      ],
      "metadata": {
        "colab": {
          "base_uri": "https://localhost:8080/",
          "height": 337
        },
        "id": "EwM3yCJwbBBz",
        "outputId": "3d5f8547-3a41-4066-be75-bba019152ff5"
      },
      "execution_count": null,
      "outputs": [
        {
          "output_type": "stream",
          "name": "stdout",
          "text": [
            "(8501, 7)\n"
          ]
        },
        {
          "output_type": "execute_result",
          "data": {
            "text/plain": [
              "   articleID             domain                       date       category  \\\n",
              "0       5442    bd-pratidin.com        2018-09-20 08:53:16  Miscellaneous   \n",
              "1       3361       bd24live.com        2018-09-20 20:15:59       National   \n",
              "2       3600     jagonews24.com        2018-09-19 14:19:00       Politics   \n",
              "3        898  channeldhaka.news  2019-05-03T16:00:13+00:00       National   \n",
              "4        137  independent24.com        2018-09-24 16:27:54       National   \n",
              "\n",
              "                                            headline  \\\n",
              "0   অদ্ভুত মাছের সন্ধান, হাতে নিলেই গলে যায়! (ভিডিও)   \n",
              "1  ট্রাম্পের সঙ্গে ‘যৌনসম্পর্ক’ কেমন ছিল জানালেন ...   \n",
              "2    জামায়াতের সঙ্গ ত্যাগের দাবি ‘উপভোগ’ করছে বিএনপি   \n",
              "3            ঘূর্ণিঝড় ফণীর আঘাতে ঢাকা শহর টিকবে তো?   \n",
              "4                  ফাইনালের আশা টিকিয়ে রাখল টাইগাররা   \n",
              "\n",
              "                                             content  label  \n",
              "0  আটাকামা স্নেইল ফিশ। এদের শরীর অদ্ভুত স্বচ্ছ। শ...      1  \n",
              "1  মার্কিন প্রেসিডেন্ট নির্বাচিত হওয়ার পর ডোনাল্ড...      1  \n",
              "2  সরকারবিরোধী বৃহত্তর ঐক্য গঠনে জামায়াতের সঙ্গ ত...      1  \n",
              "3  মানুষের স্পর্ধা দেখে বেশ অবাকই লাগে। সুপার সাই...      0  \n",
              "4  স্বস্তির জয়ে এশিয়া কাপে ফাইনালের আশা জিইয়ে রাখ...      1  "
            ],
            "text/html": [
              "\n",
              "  <div id=\"df-37b97259-2e38-41a1-a8f3-e4f6bb8b797c\">\n",
              "    <div class=\"colab-df-container\">\n",
              "      <div>\n",
              "<style scoped>\n",
              "    .dataframe tbody tr th:only-of-type {\n",
              "        vertical-align: middle;\n",
              "    }\n",
              "\n",
              "    .dataframe tbody tr th {\n",
              "        vertical-align: top;\n",
              "    }\n",
              "\n",
              "    .dataframe thead th {\n",
              "        text-align: right;\n",
              "    }\n",
              "</style>\n",
              "<table border=\"1\" class=\"dataframe\">\n",
              "  <thead>\n",
              "    <tr style=\"text-align: right;\">\n",
              "      <th></th>\n",
              "      <th>articleID</th>\n",
              "      <th>domain</th>\n",
              "      <th>date</th>\n",
              "      <th>category</th>\n",
              "      <th>headline</th>\n",
              "      <th>content</th>\n",
              "      <th>label</th>\n",
              "    </tr>\n",
              "  </thead>\n",
              "  <tbody>\n",
              "    <tr>\n",
              "      <th>0</th>\n",
              "      <td>5442</td>\n",
              "      <td>bd-pratidin.com</td>\n",
              "      <td>2018-09-20 08:53:16</td>\n",
              "      <td>Miscellaneous</td>\n",
              "      <td>অদ্ভুত মাছের সন্ধান, হাতে নিলেই গলে যায়! (ভিডিও)</td>\n",
              "      <td>আটাকামা স্নেইল ফিশ। এদের শরীর অদ্ভুত স্বচ্ছ। শ...</td>\n",
              "      <td>1</td>\n",
              "    </tr>\n",
              "    <tr>\n",
              "      <th>1</th>\n",
              "      <td>3361</td>\n",
              "      <td>bd24live.com</td>\n",
              "      <td>2018-09-20 20:15:59</td>\n",
              "      <td>National</td>\n",
              "      <td>ট্রাম্পের সঙ্গে ‘যৌনসম্পর্ক’ কেমন ছিল জানালেন ...</td>\n",
              "      <td>মার্কিন প্রেসিডেন্ট নির্বাচিত হওয়ার পর ডোনাল্ড...</td>\n",
              "      <td>1</td>\n",
              "    </tr>\n",
              "    <tr>\n",
              "      <th>2</th>\n",
              "      <td>3600</td>\n",
              "      <td>jagonews24.com</td>\n",
              "      <td>2018-09-19 14:19:00</td>\n",
              "      <td>Politics</td>\n",
              "      <td>জামায়াতের সঙ্গ ত্যাগের দাবি ‘উপভোগ’ করছে বিএনপি</td>\n",
              "      <td>সরকারবিরোধী বৃহত্তর ঐক্য গঠনে জামায়াতের সঙ্গ ত...</td>\n",
              "      <td>1</td>\n",
              "    </tr>\n",
              "    <tr>\n",
              "      <th>3</th>\n",
              "      <td>898</td>\n",
              "      <td>channeldhaka.news</td>\n",
              "      <td>2019-05-03T16:00:13+00:00</td>\n",
              "      <td>National</td>\n",
              "      <td>ঘূর্ণিঝড় ফণীর আঘাতে ঢাকা শহর টিকবে তো?</td>\n",
              "      <td>মানুষের স্পর্ধা দেখে বেশ অবাকই লাগে। সুপার সাই...</td>\n",
              "      <td>0</td>\n",
              "    </tr>\n",
              "    <tr>\n",
              "      <th>4</th>\n",
              "      <td>137</td>\n",
              "      <td>independent24.com</td>\n",
              "      <td>2018-09-24 16:27:54</td>\n",
              "      <td>National</td>\n",
              "      <td>ফাইনালের আশা টিকিয়ে রাখল টাইগাররা</td>\n",
              "      <td>স্বস্তির জয়ে এশিয়া কাপে ফাইনালের আশা জিইয়ে রাখ...</td>\n",
              "      <td>1</td>\n",
              "    </tr>\n",
              "  </tbody>\n",
              "</table>\n",
              "</div>\n",
              "      <button class=\"colab-df-convert\" onclick=\"convertToInteractive('df-37b97259-2e38-41a1-a8f3-e4f6bb8b797c')\"\n",
              "              title=\"Convert this dataframe to an interactive table.\"\n",
              "              style=\"display:none;\">\n",
              "        \n",
              "  <svg xmlns=\"http://www.w3.org/2000/svg\" height=\"24px\"viewBox=\"0 0 24 24\"\n",
              "       width=\"24px\">\n",
              "    <path d=\"M0 0h24v24H0V0z\" fill=\"none\"/>\n",
              "    <path d=\"M18.56 5.44l.94 2.06.94-2.06 2.06-.94-2.06-.94-.94-2.06-.94 2.06-2.06.94zm-11 1L8.5 8.5l.94-2.06 2.06-.94-2.06-.94L8.5 2.5l-.94 2.06-2.06.94zm10 10l.94 2.06.94-2.06 2.06-.94-2.06-.94-.94-2.06-.94 2.06-2.06.94z\"/><path d=\"M17.41 7.96l-1.37-1.37c-.4-.4-.92-.59-1.43-.59-.52 0-1.04.2-1.43.59L10.3 9.45l-7.72 7.72c-.78.78-.78 2.05 0 2.83L4 21.41c.39.39.9.59 1.41.59.51 0 1.02-.2 1.41-.59l7.78-7.78 2.81-2.81c.8-.78.8-2.07 0-2.86zM5.41 20L4 18.59l7.72-7.72 1.47 1.35L5.41 20z\"/>\n",
              "  </svg>\n",
              "      </button>\n",
              "      \n",
              "  <style>\n",
              "    .colab-df-container {\n",
              "      display:flex;\n",
              "      flex-wrap:wrap;\n",
              "      gap: 12px;\n",
              "    }\n",
              "\n",
              "    .colab-df-convert {\n",
              "      background-color: #E8F0FE;\n",
              "      border: none;\n",
              "      border-radius: 50%;\n",
              "      cursor: pointer;\n",
              "      display: none;\n",
              "      fill: #1967D2;\n",
              "      height: 32px;\n",
              "      padding: 0 0 0 0;\n",
              "      width: 32px;\n",
              "    }\n",
              "\n",
              "    .colab-df-convert:hover {\n",
              "      background-color: #E2EBFA;\n",
              "      box-shadow: 0px 1px 2px rgba(60, 64, 67, 0.3), 0px 1px 3px 1px rgba(60, 64, 67, 0.15);\n",
              "      fill: #174EA6;\n",
              "    }\n",
              "\n",
              "    [theme=dark] .colab-df-convert {\n",
              "      background-color: #3B4455;\n",
              "      fill: #D2E3FC;\n",
              "    }\n",
              "\n",
              "    [theme=dark] .colab-df-convert:hover {\n",
              "      background-color: #434B5C;\n",
              "      box-shadow: 0px 1px 3px 1px rgba(0, 0, 0, 0.15);\n",
              "      filter: drop-shadow(0px 1px 2px rgba(0, 0, 0, 0.3));\n",
              "      fill: #FFFFFF;\n",
              "    }\n",
              "  </style>\n",
              "\n",
              "      <script>\n",
              "        const buttonEl =\n",
              "          document.querySelector('#df-37b97259-2e38-41a1-a8f3-e4f6bb8b797c button.colab-df-convert');\n",
              "        buttonEl.style.display =\n",
              "          google.colab.kernel.accessAllowed ? 'block' : 'none';\n",
              "\n",
              "        async function convertToInteractive(key) {\n",
              "          const element = document.querySelector('#df-37b97259-2e38-41a1-a8f3-e4f6bb8b797c');\n",
              "          const dataTable =\n",
              "            await google.colab.kernel.invokeFunction('convertToInteractive',\n",
              "                                                     [key], {});\n",
              "          if (!dataTable) return;\n",
              "\n",
              "          const docLinkHtml = 'Like what you see? Visit the ' +\n",
              "            '<a target=\"_blank\" href=https://colab.research.google.com/notebooks/data_table.ipynb>data table notebook</a>'\n",
              "            + ' to learn more about interactive tables.';\n",
              "          element.innerHTML = '';\n",
              "          dataTable['output_type'] = 'display_data';\n",
              "          await google.colab.output.renderOutput(dataTable, element);\n",
              "          const docLink = document.createElement('div');\n",
              "          docLink.innerHTML = docLinkHtml;\n",
              "          element.appendChild(docLink);\n",
              "        }\n",
              "      </script>\n",
              "    </div>\n",
              "  </div>\n",
              "  "
            ]
          },
          "metadata": {},
          "execution_count": 8
        }
      ]
    },
    {
      "cell_type": "code",
      "source": [
        "print('The input text is:\\n')\n",
        "df['content'][4]"
      ],
      "metadata": {
        "colab": {
          "base_uri": "https://localhost:8080/",
          "height": 174
        },
        "id": "Wg5CvK2IbCnF",
        "outputId": "e6cd545f-e577-4e4e-a818-e194a1a5e85a"
      },
      "execution_count": null,
      "outputs": [
        {
          "output_type": "stream",
          "name": "stdout",
          "text": [
            "The input text is:\n",
            "\n"
          ]
        },
        {
          "output_type": "execute_result",
          "data": {
            "text/plain": [
              "'স্বস্তির জয়ে এশিয়া কাপে ফাইনালের আশা জিইয়ে রাখল টাইগাররা। শ্বাসরুদ্ধকর ম্যাচে আফগানিস্তানকে ৩ রানে হারালো বাংলাদেশ। আফগানদের আড়াইশো রানের টার্গেট দেয় টাইগাররা। শেষ ওভারে দরকার ছিলো ৮ রান। শেষ পর্যন্ত, মুস্তাফিজের কাটারেই বাজিমাত। ২৪৬ রানে থামে আফগানদের ইনিংস। শেষ ওভারের দরকার ৮ রান। টি-টোয়েন্টি ধামাকার যুগে এই রান ডিফেন্ড করা অসম্ভবের মতো। তবে মুস্তাফিজের হাত বল বলেই কিছুটা আশা ছিল। প্রথম বলে দুই রান নিয়ে জয় অনেকটা সময়ের অপেক্ষা বানায় আফগানরা। তবে ফিজের জাদু তখনই শুরু। রাশিদ খানকে ফিরিয়ে, দুই ডট দিয়ে অবিশ্বাস জয় এনে দেন মুস্তাফিজ। আফগানদের বিপক্ষে প্রতিশোধের সাথে এশিয়া কাপের ফাইনালে আশা জেগে রাখল বাংলাদেশ। উইকেট, কন্ডিশন আর টানা খেলার ধকলের মধ্যে ২৫০ রান চেজ করার সব সময় কষ্ট সাধ্য। সেই কাজ আফগানদরে আরও কঠিন হয়ে যায় দ্রুত দুই উইকেট হারালে। বাংলাদেশকে আপারহ্যান্ডে রাখেন মুস্তাফিজ ও সাকিবের করা রান আউট। তবে এশিয়া কাপে দারুন ফর্মে থাকা শাহিদি, ফর্ম ধরে রাখলেন। চাপ কমিয়ে আসতে আসতে আফগানদের লক্ষ্যে দিকে নিতে থাকেন এই ব্যাটসম্যান।শেহজাদের সাথে গড়েন ৬৩ রানের জুটি। শেহজাদকে ফিরিয়ে ব্রেকেথ্রু এনে দেন মাহমুদুল্লাহ। এরপর আবারও দেখেশুনে খেলে ৭৮ রানের পার্টনারশীপ গড়েন আসগর ও শাহিদি। ৭১ রানে শাহিদি ও আসগর ৩৯ রানে ফিরলে ম্যাচে ফেরে বাংলাদেশ। শেষ দিকে ভয় জাগান নাবী ও শেনওয়ারী। টস জিতে ব্যাট করতে নেমে আবারও ছন্নছড়া বাংলাদেশ। ওপেনিংয়ে সুযোগ পেয়েও, টানা তিন ম্যাচে ব্যর্থ শান্ত। ফিরেছেন ৬ রানে। আপস ব্যাটিং অর্ডারে প্রোমশন পেয়ে কাজে লাগাতে পারেননি মিঠুন। তবে মুশফিককে নিয়ে দলের চাপ সামাল দেন লিটন। ৬৩ রানে পার্টনারশীপ ভাঙে লিটনের বিদায়ে। এরপর ছন্দপত, সাকিবের পর মুশফিকের রান আউট। ১০০এর নিচে ৫ উইকেটে হারিয়ে দিশেহারা দলের হাল ধরেন মাহমুদুল্লাহ ও ইমরুল কায়েস। আপস ১২৮ রানের পার্টনারশীপ করে বড় সংগ্রহের পথে নিয়ে যায় এই দুই অভিজ্ঞ। মাহমুদুল্লাহ ৭৪ রানের ফিরার পর, চাকা সচল রাখেন ইমরুল। ক্যারিয়ারের প্রথমবার ৬ নম্বরে নেমে বাজিমাত করেন। ইনিংস শেষ করে ফেরার সময় তার সংগ্রহ ৭২। আর দলের সংগ্রহ ২৪৯ রান। /আরএইচ/'"
            ],
            "application/vnd.google.colaboratory.intrinsic+json": {
              "type": "string"
            }
          },
          "metadata": {},
          "execution_count": 12
        }
      ]
    },
    {
      "cell_type": "code",
      "source": [
        "corpus=preprocess(df)"
      ],
      "metadata": {
        "id": "mxAykmBrbJ7r"
      },
      "execution_count": null,
      "outputs": []
    },
    {
      "cell_type": "code",
      "source": [
        "print('The cleaned text is:\\n')\n",
        "corpus[4]"
      ],
      "metadata": {
        "colab": {
          "base_uri": "https://localhost:8080/",
          "height": 174
        },
        "id": "z1Ez0cyObOiQ",
        "outputId": "e0c896b0-0e79-4a1b-e472-260e1d93baac"
      },
      "execution_count": null,
      "outputs": [
        {
          "output_type": "stream",
          "name": "stdout",
          "text": [
            "The cleaned text is:\n",
            "\n"
          ]
        },
        {
          "output_type": "execute_result",
          "data": {
            "text/plain": [
              "'স্বস্তির জয়ে এশিয়া কাপে ফাইনালের আশা জিইয়ে রাখল টাইগাররা শ্বাসরুদ্ধকর ম্যাচে আফগানিস্তানকে রানে হারালো বাংলাদেশ আফগানদের আড়াইশো রানের টার্গেট দেয় টাইগাররা শেষ ওভারে দরকার ছিলো রান শেষ মুস্তাফিজের কাটারেই বাজিমাত রানে থামে আফগানদের ইনিংস শেষ ওভারের দরকার রান টোয়েন্টি ধামাকার যুগে রান ডিফেন্ড অসম্ভবের মুস্তাফিজের হাত বল বলেই কিছুটা আশা রান জয় অনেকটা সময়ের অপেক্ষা বানায় আফগানরা ফিজের জাদু তখনই রাশিদ খানকে ফিরিয়ে ডট দিয়ে অবিশ্বাস জয় এনে মুস্তাফিজ আফগানদের বিপক্ষে প্রতিশোধের সাথে এশিয়া কাপের ফাইনালে আশা জেগে রাখল বাংলাদেশ উইকেট কন্ডিশন টানা খেলার ধকলের রান চেজ সময় কষ্ট সাধ্য আফগানদরে কঠিন হয়ে যায় দ্রুত উইকেট হারালে বাংলাদেশকে আপারহ্যান্ডে রাখেন মুস্তাফিজ সাকিবের রান আউট এশিয়া কাপে দারুন ফর্মে শাহিদি ফর্ম রাখলেন চাপ কমিয়ে আসতে আসতে আফগানদের লক্ষ্যে ব্যাটসম্যান শেহজাদের সাথে গড়েন রানের জুটি শেহজাদকে ফিরিয়ে ব্রেকেথ্রু এনে মাহমুদুল্লাহ এরপর আবারও দেখেশুনে খেলে রানের পার্টনারশীপ গড়েন আসগর শাহিদি রানে শাহিদি আসগর রানে ফিরলে ম্যাচে ফেরে বাংলাদেশ শেষ ভয় জাগান নাবী শেনওয়ারী টস জিতে ব্যাট নেমে আবারও ছন্নছড়া বাংলাদেশ ওপেনিংয়ে সুযোগ পেয়েও টানা তিন ম্যাচে ব্যর্থ শান্ত ফিরেছেন রানে আপস ব্যাটিং অর্ডারে প্রোমশন পেয়ে লাগাতে পারেননি মিঠুন মুশফিককে দলের চাপ সামাল লিটন রানে পার্টনারশীপ ভাঙে লিটনের বিদায়ে এরপর ছন্দপত সাকিবের মুশফিকের রান আউট নিচে উইকেটে হারিয়ে দিশেহারা দলের হাল ধরেন মাহমুদুল্লাহ ইমরুল কায়েস আপস রানের পার্টনারশীপ বড় সংগ্রহের পথে যায় অভিজ্ঞ মাহমুদুল্লাহ রানের ফিরার চাকা সচল রাখেন ইমরুল ক্যারিয়ারের প্রথমবার নম্বরে নেমে বাজিমাত ইনিংস শেষ ফেরার সময় সংগ্রহ দলের সংগ্রহ রান আরএইচ'"
            ],
            "application/vnd.google.colaboratory.intrinsic+json": {
              "type": "string"
            }
          },
          "metadata": {},
          "execution_count": 13
        }
      ]
    },
    {
      "cell_type": "code",
      "source": [
        "y=df['label']"
      ],
      "metadata": {
        "id": "J5CUzXBpbWjj"
      },
      "execution_count": null,
      "outputs": []
    },
    {
      "cell_type": "code",
      "source": [
        "import tensorflow as tf\n",
        "import keras\n",
        "from keras.preprocessing.text import hashing_trick\n",
        "from keras.preprocessing.sequence import pad_sequences"
      ],
      "metadata": {
        "id": "smI93pq-bkE-"
      },
      "execution_count": null,
      "outputs": []
    },
    {
      "cell_type": "code",
      "source": [
        "voc_size=150000\n",
        "hashing_corpus=[hashing_trick(words, n=voc_size, hash_function='md5', lower=False) for words in corpus]"
      ],
      "metadata": {
        "id": "5_8F9mLsbl4u"
      },
      "execution_count": null,
      "outputs": []
    },
    {
      "cell_type": "code",
      "source": [
        "print('The input vector after hashing is:\\n')\n",
        "print(hashing_corpus[4][0:15])"
      ],
      "metadata": {
        "colab": {
          "base_uri": "https://localhost:8080/"
        },
        "id": "vnSS6mPbbqAy",
        "outputId": "995b5af1-2f7e-46bc-ff56-2164e4db4827"
      },
      "execution_count": null,
      "outputs": [
        {
          "output_type": "stream",
          "name": "stdout",
          "text": [
            "The input vector after hashing is:\n",
            "\n",
            "[139676, 7878, 108521, 84537, 95430, 115511, 144496, 122648, 50915, 103723, 115856, 139921, 94272, 33540, 101977]\n"
          ]
        }
      ]
    },
    {
      "cell_type": "code",
      "source": [
        "sent_length=300\n",
        "embedded_docs=pad_sequences(hashing_corpus, maxlen=sent_length, truncating='post')"
      ],
      "metadata": {
        "id": "g8F9y0IubvWN"
      },
      "execution_count": null,
      "outputs": []
    },
    {
      "cell_type": "code",
      "source": [
        "print('The input embedded document is:\\n')\n",
        "print(embedded_docs[4][60:85])"
      ],
      "metadata": {
        "colab": {
          "base_uri": "https://localhost:8080/"
        },
        "id": "N5_KW1-8dMkX",
        "outputId": "65da5584-7049-445e-87c9-86fa786c3b6c"
      },
      "execution_count": null,
      "outputs": [
        {
          "output_type": "stream",
          "name": "stdout",
          "text": [
            "The input embedded document is:\n",
            "\n",
            "[     0      0      0      0      0      0      0      0      0      0\n",
            " 139676   7878 108521  84537  95430 115511 144496 122648  50915 103723\n",
            " 115856 139921  94272  33540 101977]\n"
          ]
        }
      ]
    },
    {
      "cell_type": "code",
      "source": [
        "X_final=np.array(embedded_docs)\n",
        "y_final=np.array(y)\n",
        "X_final.shape, y_final.shape"
      ],
      "metadata": {
        "colab": {
          "base_uri": "https://localhost:8080/"
        },
        "id": "_L4DZ8jWcJ7n",
        "outputId": "07a6c22a-1a93-4a45-e2a1-4e25c4b21008"
      },
      "execution_count": null,
      "outputs": [
        {
          "output_type": "execute_result",
          "data": {
            "text/plain": [
              "((8501, 300), (8501,))"
            ]
          },
          "metadata": {},
          "execution_count": 25
        }
      ]
    },
    {
      "cell_type": "code",
      "source": [
        "cnn_lstm_pred=cnn_lstm.predict(X_final)\n",
        "cnn_lstm_pred=cnn_lstm_pred.round()\n",
        "\n",
        "y=['Fake' if x==0 else 'Real' for x in y]\n",
        "cnn_lstm_pred=['Fake' if x==0 else 'Real' for x in cnn_lstm_pred]\n",
        "\n",
        "print(f'Actual Outcome ---> {y[4]} \\n')\n",
        "print(f'Prediction Outcome ---> {cnn_lstm_pred[4]}')"
      ],
      "metadata": {
        "colab": {
          "base_uri": "https://localhost:8080/"
        },
        "id": "7cfuytN4cXSo",
        "outputId": "d567997b-a1a7-4ad5-c1e7-36ed0502c30e"
      },
      "execution_count": null,
      "outputs": [
        {
          "output_type": "stream",
          "name": "stdout",
          "text": [
            "Actual Outcome ---> Real \n",
            "\n",
            "Prediction Outcome ---> Real\n"
          ]
        }
      ]
    },
    {
      "cell_type": "code",
      "source": [
        "print('The input text is:\\n')\n",
        "df['content'][3]"
      ],
      "metadata": {
        "colab": {
          "base_uri": "https://localhost:8080/",
          "height": 157
        },
        "id": "oHbHLT44cpej",
        "outputId": "0c7c0511-1b33-43eb-9557-49fe481eaced"
      },
      "execution_count": null,
      "outputs": [
        {
          "output_type": "stream",
          "name": "stdout",
          "text": [
            "The input text is:\n",
            "\n"
          ]
        },
        {
          "output_type": "execute_result",
          "data": {
            "text/plain": [
              "'মানুষের স্পর্ধা দেখে বেশ অবাকই লাগে। সুপার সাইক্লোন “ফণী” এর ভেলোসিটি এরাউন্ড ২০০ কিমি/ঘন্টা। ঢাকা শহরে যে লোকাল বাসগুলো চলে তার গতিবেগ মাত্র ২০ কিমি/ ঘন্টা এর আশেপাশে। হাইওয়েতে গাড়িগুলো সর্বোচ্চ ১২০ কিমি/ঘন্টা বা এর একটু উপরে হয়তো যায়। তাতেই মনে কাঁপন ধরে যায়, এই বুঝি আরেকটা এক্সিডেন্ট হলো।ভাবুন তো, ২০০ বা তারও বেশি বেগের বাতাস অনেকক্ষণ ধরে প্রবাহিত হচ্ছে আর সাথে তুমুল বৃষ্টি। পুরো বাংলাদেশে মিনিট কয়েক এর মতোও যদি বয়ে যায়, বিশ্বমানচিত্রে এর অস্তিত্ব থাকবে কিনা সন্দেহ আছে। সেখানে বাংলাদেশীরা রোহিঙ্গাদের নিয়ে মজা করছে। এই ঝড়ে যেনো তারা ভেসে যায়, উড়ে গিয়ে যেনো আবার মিয়ানমারে পরে। ঝড় আসলে কি তা জাত-পাত দেখে আসবে? আবার খবরের কাগজে লিখেছে “ফণী” এর মোকাবেলায় প্রস্তুত বাংলাদেশ। যেনো ঢাল তলোয়ার নিয়ে যুদ্ধে নামছে। কিছু মানুষকে নিরাপদ আশ্রয়ে সরিয়ে নেওয়া ছাড়া আর কী করতে পারে মানুষ? সেই তথাকথিত উন্নতি প্রযুক্তি দিয়েও আমেরিকা অগ্ন্যুৎপাত থেকে বাঁচতে পারে না।নেপালের ভূমিকম্পও তো বেশিদিন আগের কথা নয়। মানুষ কী নিয়ে এত অহংকার করে? তারা কি আদ-সামুদ জাতিকে দেখে না? তাদের অস্তিত্ব ছিলো কি-না সেটাই এখন বোঝার উপায় নেই, আল্লাহর আযাব তাদের সেভাবেই গ্রাস করেছে।নূহ আলাইহিস সালামের সেই কওমেরা কোথায়? তাদের তুলনায় আমাদের বাঙ্গালীদের প্রভাব প্রতিপত্তি কোনোদিকেই বেশি নয়। তুলনা করার মতো এক পাল্লায় রাখার মতোও নয়। এরপরেও পাপাচারের ফলে এদের ঔদ্ধত্য সীমা ছাড়িয়ে গিয়েছে। আল্লাহ আমাদের আযাব থেকে হিফাজত করুন।লেখা : মিসবাহ মাহীন'"
            ],
            "application/vnd.google.colaboratory.intrinsic+json": {
              "type": "string"
            }
          },
          "metadata": {},
          "execution_count": 27
        }
      ]
    },
    {
      "cell_type": "code",
      "source": [
        "print('The cleaned text is:\\n')\n",
        "corpus[3]"
      ],
      "metadata": {
        "colab": {
          "base_uri": "https://localhost:8080/",
          "height": 157
        },
        "id": "BxpZ0tZTc6bR",
        "outputId": "ffcedb1e-93c4-4bab-f151-2485fc3a3462"
      },
      "execution_count": null,
      "outputs": [
        {
          "output_type": "stream",
          "name": "stdout",
          "text": [
            "The cleaned text is:\n",
            "\n"
          ]
        },
        {
          "output_type": "execute_result",
          "data": {
            "text/plain": [
              "'মানুষের স্পর্ধা অবাকই লাগে সুপার সাইক্লোন ফণী ভেলোসিটি এরাউন্ড কিমি ঘন্টা ঢাকা শহরে লোকাল বাসগুলো গতিবেগ কিমি ঘন্টা আশেপাশে হাইওয়েতে গাড়িগুলো সর্বোচ্চ কিমি ঘন্টা একটু তাতেই কাঁপন বুঝি আরেকটা এক্সিডেন্ট ভাবুন তারও বেগের বাতাস অনেকক্ষণ প্রবাহিত সাথে তুমুল বৃষ্টি পুরো বাংলাদেশে মিনিট মতোও বয়ে বিশ্বমানচিত্রে অস্তিত্ব কিনা সন্দেহ বাংলাদেশীরা রোহিঙ্গাদের মজা ঝড়ে যেনো ভেসে উড়ে যেনো মিয়ানমারে ঝড় আসলে জাত পাত আসবে খবরের কাগজে লিখেছে ফণী মোকাবেলায় প্রস্তুত বাংলাদেশ যেনো ঢাল তলোয়ার যুদ্ধে নামছে মানুষকে নিরাপদ আশ্রয়ে সরিয়ে মানুষ তথাকথিত উন্নতি প্রযুক্তি দিয়েও আমেরিকা অগ্ন্যুৎপাত বাঁচতে নেপালের ভূমিকম্পও বেশিদিন আগের কথা মানুষ অহংকার আদ সামুদ জাতিকে অস্তিত্ব ছিলো বোঝার উপায় আল্লাহর আযাব সেভাবেই গ্রাস নূহ আলাইহিস সালামের কওমেরা কোথায় তুলনায় বাঙ্গালীদের প্রভাব প্রতিপত্তি কোনোদিকেই তুলনা এক পাল্লায় রাখার মতোও এরপরেও পাপাচারের ঔদ্ধত্য সীমা ছাড়িয়ে আল্লাহ আযাব হিফাজত করুন লেখা মিসবাহ মাহীন'"
            ],
            "application/vnd.google.colaboratory.intrinsic+json": {
              "type": "string"
            }
          },
          "metadata": {},
          "execution_count": 29
        }
      ]
    },
    {
      "cell_type": "code",
      "source": [
        "print('The input vector after hashing is:\\n')\n",
        "print(hashing_corpus[3][0:15])"
      ],
      "metadata": {
        "colab": {
          "base_uri": "https://localhost:8080/"
        },
        "id": "_Rm9rhaGc_Qa",
        "outputId": "4ec6933c-59de-4c0b-ce6d-cf32ee4ecc3e"
      },
      "execution_count": null,
      "outputs": [
        {
          "output_type": "stream",
          "name": "stdout",
          "text": [
            "The input vector after hashing is:\n",
            "\n",
            "[120984, 139819, 56452, 86003, 4568, 81530, 110717, 10283, 142836, 108628, 119565, 93397, 147327, 119048, 90979]\n"
          ]
        }
      ]
    },
    {
      "cell_type": "code",
      "source": [
        "print('The input embedded document is:\\n')\n",
        "print(embedded_docs[3][165:200])"
      ],
      "metadata": {
        "colab": {
          "base_uri": "https://localhost:8080/"
        },
        "id": "oEPPMlgOdGE4",
        "outputId": "f2f75719-1bb6-42c6-d737-7ea9c1c25854"
      },
      "execution_count": null,
      "outputs": [
        {
          "output_type": "stream",
          "name": "stdout",
          "text": [
            "The input embedded document is:\n",
            "\n",
            "[     0      0      0      0 120984 139819  56452  86003   4568  81530\n",
            " 110717  10283 142836 108628 119565  93397 147327 119048  90979 134292\n",
            " 108628 119565  12597  10216  97473  33773 108628 119565 147653 114324\n",
            "  61721  51771 101436  20273  23139]\n"
          ]
        }
      ]
    },
    {
      "cell_type": "code",
      "source": [
        "print(f'Actual Outcome ---> {y[3]} \\n')\n",
        "print(f'Prediction Outcome ---> {cnn_lstm_pred[3]}')"
      ],
      "metadata": {
        "colab": {
          "base_uri": "https://localhost:8080/"
        },
        "id": "HV2sgZr7deYX",
        "outputId": "bedd8df7-3c92-4d7a-bd71-93d4a523762f"
      },
      "execution_count": null,
      "outputs": [
        {
          "output_type": "stream",
          "name": "stdout",
          "text": [
            "Actual Outcome ---> Fake \n",
            "\n",
            "Prediction Outcome ---> Fake\n"
          ]
        }
      ]
    }
  ]
}