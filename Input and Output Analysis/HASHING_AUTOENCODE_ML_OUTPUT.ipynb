{
  "nbformat": 4,
  "nbformat_minor": 0,
  "metadata": {
    "colab": {
      "name": "HASHING_AUTOENCODE ML OUTPUT.ipynb",
      "provenance": []
    },
    "kernelspec": {
      "name": "python3",
      "display_name": "Python 3"
    },
    "language_info": {
      "name": "python"
    },
    "accelerator": "GPU",
    "gpuClass": "standard"
  },
  "cells": [
    {
      "cell_type": "code",
      "execution_count": null,
      "metadata": {
        "colab": {
          "base_uri": "https://localhost:8080/"
        },
        "id": "34_t6VvDCqAk",
        "outputId": "ba55985e-1439-4173-a069-a1491bba8de9"
      },
      "outputs": [
        {
          "output_type": "stream",
          "name": "stdout",
          "text": [
            "Mounted at /content/drive\n"
          ]
        }
      ],
      "source": [
        "from google.colab import drive\n",
        "drive.mount('/content/drive')"
      ]
    },
    {
      "cell_type": "code",
      "source": [
        "import joblib\n",
        "import warnings\n",
        "warnings.filterwarnings(\"ignore\")\n",
        "\n",
        "\n",
        "def load_model(path=''):\n",
        "  return joblib.load(path)"
      ],
      "metadata": {
        "id": "jaWg-7tsC9sZ"
      },
      "execution_count": null,
      "outputs": []
    },
    {
      "cell_type": "code",
      "source": [
        "lr_model=load_model(r\"/content/drive/MyDrive/AutoEncoders/lr_file_encoder.pkl\")"
      ],
      "metadata": {
        "id": "9gvYnVLpDHJm"
      },
      "execution_count": null,
      "outputs": []
    },
    {
      "cell_type": "code",
      "source": [
        "!pip install bnlp-toolkit"
      ],
      "metadata": {
        "colab": {
          "base_uri": "https://localhost:8080/"
        },
        "id": "XiUcZaIADUvw",
        "outputId": "57b00cc2-cb4f-4c94-f429-3c6b72fa1e46"
      },
      "execution_count": null,
      "outputs": [
        {
          "output_type": "stream",
          "name": "stdout",
          "text": [
            "Looking in indexes: https://pypi.org/simple, https://us-python.pkg.dev/colab-wheels/public/simple/\n",
            "Collecting bnlp-toolkit\n",
            "  Downloading bnlp_toolkit-3.1.2-py3-none-any.whl (17 kB)\n",
            "Requirement already satisfied: scipy in /usr/local/lib/python3.7/dist-packages (from bnlp-toolkit) (1.4.1)\n",
            "Requirement already satisfied: numpy in /usr/local/lib/python3.7/dist-packages (from bnlp-toolkit) (1.21.6)\n",
            "Collecting sentencepiece\n",
            "  Downloading sentencepiece-0.1.96-cp37-cp37m-manylinux_2_17_x86_64.manylinux2014_x86_64.whl (1.2 MB)\n",
            "\u001b[K     |████████████████████████████████| 1.2 MB 43.2 MB/s \n",
            "\u001b[?25hCollecting sklearn-crfsuite\n",
            "  Downloading sklearn_crfsuite-0.3.6-py2.py3-none-any.whl (12 kB)\n",
            "Collecting gensim==4.0.1\n",
            "  Downloading gensim-4.0.1-cp37-cp37m-manylinux1_x86_64.whl (23.9 MB)\n",
            "\u001b[K     |████████████████████████████████| 23.9 MB 1.2 MB/s \n",
            "\u001b[?25hRequirement already satisfied: nltk in /usr/local/lib/python3.7/dist-packages (from bnlp-toolkit) (3.7)\n",
            "Requirement already satisfied: wasabi in /usr/local/lib/python3.7/dist-packages (from bnlp-toolkit) (0.9.1)\n",
            "Requirement already satisfied: smart-open>=1.8.1 in /usr/local/lib/python3.7/dist-packages (from gensim==4.0.1->bnlp-toolkit) (5.2.1)\n",
            "Requirement already satisfied: tqdm in /usr/local/lib/python3.7/dist-packages (from nltk->bnlp-toolkit) (4.64.0)\n",
            "Requirement already satisfied: regex>=2021.8.3 in /usr/local/lib/python3.7/dist-packages (from nltk->bnlp-toolkit) (2022.6.2)\n",
            "Requirement already satisfied: joblib in /usr/local/lib/python3.7/dist-packages (from nltk->bnlp-toolkit) (1.1.0)\n",
            "Requirement already satisfied: click in /usr/local/lib/python3.7/dist-packages (from nltk->bnlp-toolkit) (7.1.2)\n",
            "Requirement already satisfied: six in /usr/local/lib/python3.7/dist-packages (from sklearn-crfsuite->bnlp-toolkit) (1.15.0)\n",
            "Requirement already satisfied: tabulate in /usr/local/lib/python3.7/dist-packages (from sklearn-crfsuite->bnlp-toolkit) (0.8.9)\n",
            "Collecting python-crfsuite>=0.8.3\n",
            "  Downloading python_crfsuite-0.9.8-cp37-cp37m-manylinux_2_17_x86_64.manylinux2014_x86_64.whl (965 kB)\n",
            "\u001b[K     |████████████████████████████████| 965 kB 58.3 MB/s \n",
            "\u001b[?25hInstalling collected packages: python-crfsuite, sklearn-crfsuite, sentencepiece, gensim, bnlp-toolkit\n",
            "  Attempting uninstall: gensim\n",
            "    Found existing installation: gensim 3.6.0\n",
            "    Uninstalling gensim-3.6.0:\n",
            "      Successfully uninstalled gensim-3.6.0\n",
            "Successfully installed bnlp-toolkit-3.1.2 gensim-4.0.1 python-crfsuite-0.9.8 sentencepiece-0.1.96 sklearn-crfsuite-0.3.6\n"
          ]
        }
      ]
    },
    {
      "cell_type": "code",
      "source": [
        "import pandas as pd\n",
        "import numpy as np\n",
        "import re\n",
        "from bnlp.corpus import stopwords\n",
        "from sklearn.feature_extraction.text import HashingVectorizer\n",
        "import matplotlib.pyplot as plt\n",
        "import seaborn as sns\n",
        "from sklearn.metrics import *\n",
        "\n",
        "%matplotlib inline\n",
        "sns.set()"
      ],
      "metadata": {
        "colab": {
          "base_uri": "https://localhost:8080/"
        },
        "id": "eRmOZcl3DXI1",
        "outputId": "e9060951-f6e0-4aa4-bf02-0001a6094aba"
      },
      "execution_count": null,
      "outputs": [
        {
          "output_type": "stream",
          "name": "stdout",
          "text": [
            "punkt not found. downloading...\n"
          ]
        },
        {
          "output_type": "stream",
          "name": "stderr",
          "text": [
            "[nltk_data] Downloading package punkt to /root/nltk_data...\n",
            "[nltk_data]   Unzipping tokenizers/punkt.zip.\n"
          ]
        }
      ]
    },
    {
      "cell_type": "code",
      "source": [
        "label_auth=pd.read_csv(r'/content/drive/MyDrive/AutoEncoders/LabeledAuthentic-7K.csv') #, nrows=3067)\n",
        "label_fake=pd.read_csv(r'/content/drive/MyDrive/AutoEncoders/LabeledFake-1K.csv') #, nrows=995)\n",
        "label_auth.drop(['source','relation'], axis=1, inplace=True)\n",
        "label_fake.drop(['source','relation','F-type'], axis=1, inplace=True)\n",
        "df=pd.concat([label_auth, label_fake], axis=0)\n",
        "df.reset_index(inplace=True)\n",
        "df.drop('index', axis=1, inplace=True)\n",
        "df['label']=np.where(df['label']==0.0, 0, 1)\n",
        "df.tail()\n",
        "df=df.sample(frac=1).reset_index(drop=True)\n",
        "print(df.shape)\n",
        "df.head()"
      ],
      "metadata": {
        "colab": {
          "base_uri": "https://localhost:8080/",
          "height": 320
        },
        "id": "CH4pa8fJDa2I",
        "outputId": "defbb0ea-e1e2-4df9-9c41-26424d4ba9e8"
      },
      "execution_count": null,
      "outputs": [
        {
          "output_type": "stream",
          "name": "stdout",
          "text": [
            "(8501, 7)\n"
          ]
        },
        {
          "output_type": "execute_result",
          "data": {
            "text/plain": [
              "   articleID              domain                        date       category  \\\n",
              "0       5214  channelionline.com         2018-09-19 21:02:35  Entertainment   \n",
              "1       6205    dhakatimes24.com         2018-09-20 07:45:58  Miscellaneous   \n",
              "2        633   channeldhaka.news   2019-05-04T19:59:48+00:00          Crime   \n",
              "3        310           earki.com  ১৮:১৭, জানুয়ারি ৩১, ২০১৯   Miscellaneous   \n",
              "4        597        somoynews.tv         2018-09-21 15:37:53       National   \n",
              "\n",
              "                                            headline  \\\n",
              "0                 বিতর্কের মুখে পরাজয় মানলেন সালমান!   \n",
              "1  নড়িয়া নিয়ে প্রধানমন্ত্রীর তিরস্কার, বিএনপির লজ...   \n",
              "2  সীমান্তে কাঁটাতারের বেড়া চুরি করে বিক্রি করছে ...   \n",
              "3  'টেন ইয়ারস চ্যালেঞ্জ' অনলাইন ট্রেন্ডকে একটু বে...   \n",
              "4                  'সিনহার বই পরাজিত লোকের হা-হুতাশ'   \n",
              "\n",
              "                                             content  label  \n",
              "0  নিজের প্রযোজিত সিনেমা ‘লাভরাত্রি’র নাম নিয়ে মা...      1  \n",
              "1  হাজারো খবরের মাঝে এখন শরিয়তপুরের নড়িয়ায় চলছে ক...      1  \n",
              "2  নাফ নদীর তীর ঘেসে অবৈধ অস্ত্র এবং চোরাকারবারিদ...      0  \n",
              "3  গত মঙ্গলবার ৩০ জানুয়ারি ফেসবুকে দেয়া এক পোস্টে...      0  \n",
              "4  ক্ষমতা হারানোর হতাশা থেকে, সাবেক প্রধান বিচারপ...      1  "
            ],
            "text/html": [
              "\n",
              "  <div id=\"df-56b8edac-122b-42af-a4d7-77d148c4ca87\">\n",
              "    <div class=\"colab-df-container\">\n",
              "      <div>\n",
              "<style scoped>\n",
              "    .dataframe tbody tr th:only-of-type {\n",
              "        vertical-align: middle;\n",
              "    }\n",
              "\n",
              "    .dataframe tbody tr th {\n",
              "        vertical-align: top;\n",
              "    }\n",
              "\n",
              "    .dataframe thead th {\n",
              "        text-align: right;\n",
              "    }\n",
              "</style>\n",
              "<table border=\"1\" class=\"dataframe\">\n",
              "  <thead>\n",
              "    <tr style=\"text-align: right;\">\n",
              "      <th></th>\n",
              "      <th>articleID</th>\n",
              "      <th>domain</th>\n",
              "      <th>date</th>\n",
              "      <th>category</th>\n",
              "      <th>headline</th>\n",
              "      <th>content</th>\n",
              "      <th>label</th>\n",
              "    </tr>\n",
              "  </thead>\n",
              "  <tbody>\n",
              "    <tr>\n",
              "      <th>0</th>\n",
              "      <td>5214</td>\n",
              "      <td>channelionline.com</td>\n",
              "      <td>2018-09-19 21:02:35</td>\n",
              "      <td>Entertainment</td>\n",
              "      <td>বিতর্কের মুখে পরাজয় মানলেন সালমান!</td>\n",
              "      <td>নিজের প্রযোজিত সিনেমা ‘লাভরাত্রি’র নাম নিয়ে মা...</td>\n",
              "      <td>1</td>\n",
              "    </tr>\n",
              "    <tr>\n",
              "      <th>1</th>\n",
              "      <td>6205</td>\n",
              "      <td>dhakatimes24.com</td>\n",
              "      <td>2018-09-20 07:45:58</td>\n",
              "      <td>Miscellaneous</td>\n",
              "      <td>নড়িয়া নিয়ে প্রধানমন্ত্রীর তিরস্কার, বিএনপির লজ...</td>\n",
              "      <td>হাজারো খবরের মাঝে এখন শরিয়তপুরের নড়িয়ায় চলছে ক...</td>\n",
              "      <td>1</td>\n",
              "    </tr>\n",
              "    <tr>\n",
              "      <th>2</th>\n",
              "      <td>633</td>\n",
              "      <td>channeldhaka.news</td>\n",
              "      <td>2019-05-04T19:59:48+00:00</td>\n",
              "      <td>Crime</td>\n",
              "      <td>সীমান্তে কাঁটাতারের বেড়া চুরি করে বিক্রি করছে ...</td>\n",
              "      <td>নাফ নদীর তীর ঘেসে অবৈধ অস্ত্র এবং চোরাকারবারিদ...</td>\n",
              "      <td>0</td>\n",
              "    </tr>\n",
              "    <tr>\n",
              "      <th>3</th>\n",
              "      <td>310</td>\n",
              "      <td>earki.com</td>\n",
              "      <td>১৮:১৭, জানুয়ারি ৩১, ২০১৯</td>\n",
              "      <td>Miscellaneous</td>\n",
              "      <td>'টেন ইয়ারস চ্যালেঞ্জ' অনলাইন ট্রেন্ডকে একটু বে...</td>\n",
              "      <td>গত মঙ্গলবার ৩০ জানুয়ারি ফেসবুকে দেয়া এক পোস্টে...</td>\n",
              "      <td>0</td>\n",
              "    </tr>\n",
              "    <tr>\n",
              "      <th>4</th>\n",
              "      <td>597</td>\n",
              "      <td>somoynews.tv</td>\n",
              "      <td>2018-09-21 15:37:53</td>\n",
              "      <td>National</td>\n",
              "      <td>'সিনহার বই পরাজিত লোকের হা-হুতাশ'</td>\n",
              "      <td>ক্ষমতা হারানোর হতাশা থেকে, সাবেক প্রধান বিচারপ...</td>\n",
              "      <td>1</td>\n",
              "    </tr>\n",
              "  </tbody>\n",
              "</table>\n",
              "</div>\n",
              "      <button class=\"colab-df-convert\" onclick=\"convertToInteractive('df-56b8edac-122b-42af-a4d7-77d148c4ca87')\"\n",
              "              title=\"Convert this dataframe to an interactive table.\"\n",
              "              style=\"display:none;\">\n",
              "        \n",
              "  <svg xmlns=\"http://www.w3.org/2000/svg\" height=\"24px\"viewBox=\"0 0 24 24\"\n",
              "       width=\"24px\">\n",
              "    <path d=\"M0 0h24v24H0V0z\" fill=\"none\"/>\n",
              "    <path d=\"M18.56 5.44l.94 2.06.94-2.06 2.06-.94-2.06-.94-.94-2.06-.94 2.06-2.06.94zm-11 1L8.5 8.5l.94-2.06 2.06-.94-2.06-.94L8.5 2.5l-.94 2.06-2.06.94zm10 10l.94 2.06.94-2.06 2.06-.94-2.06-.94-.94-2.06-.94 2.06-2.06.94z\"/><path d=\"M17.41 7.96l-1.37-1.37c-.4-.4-.92-.59-1.43-.59-.52 0-1.04.2-1.43.59L10.3 9.45l-7.72 7.72c-.78.78-.78 2.05 0 2.83L4 21.41c.39.39.9.59 1.41.59.51 0 1.02-.2 1.41-.59l7.78-7.78 2.81-2.81c.8-.78.8-2.07 0-2.86zM5.41 20L4 18.59l7.72-7.72 1.47 1.35L5.41 20z\"/>\n",
              "  </svg>\n",
              "      </button>\n",
              "      \n",
              "  <style>\n",
              "    .colab-df-container {\n",
              "      display:flex;\n",
              "      flex-wrap:wrap;\n",
              "      gap: 12px;\n",
              "    }\n",
              "\n",
              "    .colab-df-convert {\n",
              "      background-color: #E8F0FE;\n",
              "      border: none;\n",
              "      border-radius: 50%;\n",
              "      cursor: pointer;\n",
              "      display: none;\n",
              "      fill: #1967D2;\n",
              "      height: 32px;\n",
              "      padding: 0 0 0 0;\n",
              "      width: 32px;\n",
              "    }\n",
              "\n",
              "    .colab-df-convert:hover {\n",
              "      background-color: #E2EBFA;\n",
              "      box-shadow: 0px 1px 2px rgba(60, 64, 67, 0.3), 0px 1px 3px 1px rgba(60, 64, 67, 0.15);\n",
              "      fill: #174EA6;\n",
              "    }\n",
              "\n",
              "    [theme=dark] .colab-df-convert {\n",
              "      background-color: #3B4455;\n",
              "      fill: #D2E3FC;\n",
              "    }\n",
              "\n",
              "    [theme=dark] .colab-df-convert:hover {\n",
              "      background-color: #434B5C;\n",
              "      box-shadow: 0px 1px 3px 1px rgba(0, 0, 0, 0.15);\n",
              "      filter: drop-shadow(0px 1px 2px rgba(0, 0, 0, 0.3));\n",
              "      fill: #FFFFFF;\n",
              "    }\n",
              "  </style>\n",
              "\n",
              "      <script>\n",
              "        const buttonEl =\n",
              "          document.querySelector('#df-56b8edac-122b-42af-a4d7-77d148c4ca87 button.colab-df-convert');\n",
              "        buttonEl.style.display =\n",
              "          google.colab.kernel.accessAllowed ? 'block' : 'none';\n",
              "\n",
              "        async function convertToInteractive(key) {\n",
              "          const element = document.querySelector('#df-56b8edac-122b-42af-a4d7-77d148c4ca87');\n",
              "          const dataTable =\n",
              "            await google.colab.kernel.invokeFunction('convertToInteractive',\n",
              "                                                     [key], {});\n",
              "          if (!dataTable) return;\n",
              "\n",
              "          const docLinkHtml = 'Like what you see? Visit the ' +\n",
              "            '<a target=\"_blank\" href=https://colab.research.google.com/notebooks/data_table.ipynb>data table notebook</a>'\n",
              "            + ' to learn more about interactive tables.';\n",
              "          element.innerHTML = '';\n",
              "          dataTable['output_type'] = 'display_data';\n",
              "          await google.colab.output.renderOutput(dataTable, element);\n",
              "          const docLink = document.createElement('div');\n",
              "          docLink.innerHTML = docLinkHtml;\n",
              "          element.appendChild(docLink);\n",
              "        }\n",
              "      </script>\n",
              "    </div>\n",
              "  </div>\n",
              "  "
            ]
          },
          "metadata": {},
          "execution_count": 6
        }
      ]
    },
    {
      "cell_type": "code",
      "source": [
        "print('The input text is:\\n')\n",
        "df['content'][0]"
      ],
      "metadata": {
        "colab": {
          "base_uri": "https://localhost:8080/",
          "height": 209
        },
        "id": "0TY0Vn5gDfAa",
        "outputId": "af5b1059-994c-4f67-944c-7c7669f82b21"
      },
      "execution_count": null,
      "outputs": [
        {
          "output_type": "stream",
          "name": "stdout",
          "text": [
            "The input text is:\n",
            "\n"
          ]
        },
        {
          "output_type": "execute_result",
          "data": {
            "text/plain": [
              "'নিজের প্রযোজিত সিনেমা ‘লাভরাত্রি’র নাম নিয়ে মামলা মুকদ্দমার ঝামেলায় পড়ে গিয়েছিলেন বলিউডের ভাইজান খ্যাত অভিনেতা ও প্রযোজক সালমান খান। শেষ পর্যন্ত বিতর্কের কাছে পরাজয় মেনে ঝামেলা এড়ালেন এই অভিনেতা। হিন্দু ধর্মানুভূতিতে আঘাত দেয়ার অভিযোগে সালমানের বিরুদ্ধে মামলা দায়ের হয়েছিলো গেল সপ্তাহেই। ‘লাভরাত্রি’ নামের সিনেমার প্রযোজক সালমান খান। আর এই ছবির নামকে হিন্দু ধর্মের অনুভূতিতে আঘাত হিসেবে দেখছেন বিশ্ব হিন্দু পরিষদ। আর সে কারণেই ভারতে ছবির মুক্তি ঠেকাতে এবং ছবির সঙ্গে জড়িতদের বিচারের দাবিতে মামলা দায়েরও করা হয়েছিলো সালমানকে। সরকারি পক্ষের উকিল বলছেন, দুর্গা পূজার মতো ধর্মীয় মহোৎসবকে ছোটো করার অভিপ্রায় নিয়েই ছবির নাম ‘লাভরাত্রি’ দেয়া হয়েছে। দূর্গা পূজার নবম রাত্রি অর্থ্যাৎ নবমীকে ভারতে ‘নবরাত্রি’ বলা হয়। এই বিষয়টিকে ধরে বছরের শুরুতে বিশ্ব হিন্দু পরিষদের নেতা অলোক কুমার বলেছিলেন পবিত্র ‘নবরাত্রি’কে বিকৃত করে এই নামের ব্যবহার উদ্দেশ্যপ্রণোদিত। আর এসব কারণে সালমানের বিরুদ্ধে মামলা হওয়ায় শেষ পর্যন্ত ‘লাভরাত্রি’ থেকে ছবির নাম পরিবর্তন করে রাখা হয়েছে ‘লাভযাত্রি’। ঝামেলা এড়াতে সালমান নিজেই টুইটারে ছবির নতুন একটি পোস্টার শেয়ার করে বিষয়টি নিশ্চিত করেছেন। ক্যাপশনে তিনি লিখেছেন-এটা বানান ভুল নয়। ‘লাভযাত্রি’। আসছে আগামী ৫ অক্টোবর ভারতে মুক্তি পেতে যাচ্ছে ‘লাভযাত্রি’। সংশ্লিষ্টরা আশা করছেন, আর কোনো প্রতিবাদ উঠবে না ছবিটি নিয়ে এবং কোনো বিতর্ক ছাড়াই মুক্তি পাবে ছবিটি। ‘লাভযাত্রি’ ছবির মধ্য দিয়ে বলিউডে অভিষেক হতে যাচ্ছে আয়ুশ শর্মা ও ওয়ারিনা হুসেনের। ছবিটি পরিচালনা\\xa0 করছেন\\xa0অভিরাজ মিনাওয়াল।'"
            ],
            "application/vnd.google.colaboratory.intrinsic+json": {
              "type": "string"
            }
          },
          "metadata": {},
          "execution_count": 19
        }
      ]
    },
    {
      "cell_type": "code",
      "source": [
        "def preprocess(data):\n",
        "    \"\"\"This function is for preprocessing of the news contents. It removes punctuations, English characters and both of Bangla\n",
        "    and English numerals. It tokenizes all the words and also removes stopwords.\n",
        "    \n",
        "    Args: \n",
        "        The Entire Dataframe\n",
        "    Returns:\n",
        "        Preprocessed news corpuses in a list of lists\n",
        "    \"\"\"\n",
        "    corpus=[]\n",
        "    for i in range(0, len(data)):\n",
        "        x=re.sub('[^\\u0980-\\u09FF]',' ',data['content'][i])\n",
        "        x=re.sub('[a-zA-Z0-9]+', ' ', x)\n",
        "        x=re.sub('[০১২৩৪৫৬৭৮৯]+', ' ', x)\n",
        "        x=x.split()\n",
        "        x=[w for w in x if w not in set(stopwords)]\n",
        "        x=' '.join(x)\n",
        "        corpus.append(x)\n",
        "    \n",
        "    return corpus\n",
        "\n",
        "\n",
        "corpus=preprocess(df)"
      ],
      "metadata": {
        "id": "WFvMssOKDlaU"
      },
      "execution_count": null,
      "outputs": []
    },
    {
      "cell_type": "code",
      "source": [
        "print('The cleaned text is:\\n')\n",
        "corpus[0]"
      ],
      "metadata": {
        "colab": {
          "base_uri": "https://localhost:8080/",
          "height": 174
        },
        "id": "qmZi5UawDrOp",
        "outputId": "03f54e38-bb54-4670-a3da-55b3d3890e99"
      },
      "execution_count": null,
      "outputs": [
        {
          "output_type": "stream",
          "name": "stdout",
          "text": [
            "The cleaned text is:\n",
            "\n"
          ]
        },
        {
          "output_type": "execute_result",
          "data": {
            "text/plain": [
              "'প্রযোজিত সিনেমা লাভরাত্রি নাম মামলা মুকদ্দমার ঝামেলায় পড়ে গিয়েছিলেন বলিউডের ভাইজান খ্যাত অভিনেতা প্রযোজক সালমান খান শেষ বিতর্কের পরাজয় মেনে ঝামেলা এড়ালেন অভিনেতা হিন্দু ধর্মানুভূতিতে আঘাত দেয়ার অভিযোগে সালমানের বিরুদ্ধে মামলা দায়ের হয়েছিলো সপ্তাহেই লাভরাত্রি নামের সিনেমার প্রযোজক সালমান খান ছবির নামকে হিন্দু ধর্মের অনুভূতিতে আঘাত হিসেবে দেখছেন বিশ্ব হিন্দু পরিষদ কারণেই ভারতে ছবির মুক্তি ঠেকাতে ছবির জড়িতদের বিচারের দাবিতে মামলা দায়েরও হয়েছিলো সালমানকে সরকারি পক্ষের উকিল বলছেন দুর্গা পূজার ধর্মীয় মহোৎসবকে ছোটো অভিপ্রায় নিয়েই ছবির নাম লাভরাত্রি দেয়া হয়েছে দূর্গা পূজার নবম রাত্রি অর্থ্যাৎ নবমীকে ভারতে নবরাত্রি বিষয়টিকে বছরের শুরুতে বিশ্ব হিন্দু পরিষদের নেতা অলোক কুমার বলেছিলেন পবিত্র নবরাত্রি বিকৃত নামের উদ্দেশ্যপ্রণোদিত এসব কারণে সালমানের বিরুদ্ধে মামলা হওয়ায় শেষ লাভরাত্রি ছবির নাম পরিবর্তন হয়েছে লাভযাত্রি ঝামেলা এড়াতে সালমান টুইটারে ছবির পোস্টার শেয়ার বিষয়টি নিশ্চিত ক্যাপশনে লিখেছেন বানান ভুল লাভযাত্রি আসছে অক্টোবর ভারতে মুক্তি পেতে লাভযাত্রি সংশ্লিষ্টরা আশা প্রতিবাদ উঠবে ছবিটি বিতর্ক ছাড়াই মুক্তি পাবে ছবিটি লাভযাত্রি ছবির মধ্য দিয়ে বলিউডে অভিষেক আয়ুশ শর্মা ওয়ারিনা হুসেনের ছবিটি পরিচালনা অভিরাজ মিনাওয়াল'"
            ],
            "application/vnd.google.colaboratory.intrinsic+json": {
              "type": "string"
            }
          },
          "metadata": {},
          "execution_count": 20
        }
      ]
    },
    {
      "cell_type": "code",
      "source": [
        "hashing=HashingVectorizer(n_features=5000, ngram_range=(1, 3))\n",
        "X=hashing.fit_transform(corpus).toarray()\n",
        "y=df['label'].values\n",
        "X.shape, y.shape"
      ],
      "metadata": {
        "colab": {
          "base_uri": "https://localhost:8080/"
        },
        "id": "XVaoX3CzDvZ8",
        "outputId": "a7ee338a-5dd8-4249-b624-c6044c474a44"
      },
      "execution_count": null,
      "outputs": [
        {
          "output_type": "execute_result",
          "data": {
            "text/plain": [
              "((8501, 5000), (8501,))"
            ]
          },
          "metadata": {},
          "execution_count": 10
        }
      ]
    },
    {
      "cell_type": "code",
      "source": [
        "print('The input vector after hashing is:\\n')\n",
        "print(X[0][0:30])"
      ],
      "metadata": {
        "colab": {
          "base_uri": "https://localhost:8080/"
        },
        "id": "EsDSCCg7D276",
        "outputId": "4e2c6443-70c1-4f87-e8f9-a6b0afa2831e"
      },
      "execution_count": null,
      "outputs": [
        {
          "output_type": "stream",
          "name": "stdout",
          "text": [
            "The input vector after hashing is:\n",
            "\n",
            "[ 0.          0.          0.          0.          0.          0.\n",
            "  0.          0.          0.         -0.01627361  0.01627361 -0.01627361\n",
            " -0.01627361  0.          0.          0.          0.          0.\n",
            "  0.          0.          0.          0.          0.          0.\n",
            "  0.          0.          0.          0.          0.          0.        ]\n"
          ]
        }
      ]
    },
    {
      "cell_type": "code",
      "source": [
        "from tensorflow.keras.models import load_model\n",
        "encoder=load_model('/content/drive/MyDrive/AutoEncoders/encoder_eff.h5')"
      ],
      "metadata": {
        "id": "8--kFHzCD5tT"
      },
      "execution_count": null,
      "outputs": []
    },
    {
      "cell_type": "code",
      "source": [
        "X_encode=encoder.predict(X)"
      ],
      "metadata": {
        "id": "ppk7K8AhEG3t"
      },
      "execution_count": null,
      "outputs": []
    },
    {
      "cell_type": "code",
      "source": [
        "print('The input vector after autoencoder is:\\n')\n",
        "print(X_encode[0][0:30])"
      ],
      "metadata": {
        "colab": {
          "base_uri": "https://localhost:8080/"
        },
        "id": "yOv4OCezETMy",
        "outputId": "1a377bad-3af6-45d7-9ca8-ed714b82bb9c"
      },
      "execution_count": null,
      "outputs": [
        {
          "output_type": "stream",
          "name": "stdout",
          "text": [
            "The input vector after autoencoder is:\n",
            "\n",
            "[-0.00963157  0.00158157 -0.011741    0.00443562  0.00197384  0.00435493\n",
            " -0.00151328  0.00204745 -0.00148718 -0.00306128 -0.00117763 -0.00167098\n",
            " -0.00135604  0.00085981 -0.00505425 -0.01284218 -0.00900247  0.00240877\n",
            "  0.00582511  0.00793516  0.00863674  0.0034942  -0.00464037  0.00045199\n",
            "  0.00503031  0.0007014  -0.00260851 -0.00022047 -0.00416324 -0.00901561]\n"
          ]
        }
      ]
    },
    {
      "cell_type": "code",
      "source": [
        "lr_pred=lr_model.predict(X)\n",
        "\n",
        "y=['Fake' if x==0 else 'Real' for x in y]\n",
        "lr_pred=['Fake' if x==0 else 'Real' for x in lr_pred]\n",
        "\n",
        "print(f'Actual Outcome ---> {y[0]} \\n')\n",
        "print(f'Prediction Outcome ---> {lr_pred[0]}')"
      ],
      "metadata": {
        "colab": {
          "base_uri": "https://localhost:8080/"
        },
        "id": "JpTZhAsaE7k9",
        "outputId": "958f3422-0dca-44de-b385-1b1ab977443d"
      },
      "execution_count": null,
      "outputs": [
        {
          "output_type": "stream",
          "name": "stdout",
          "text": [
            "Actual Outcome ---> Real \n",
            "\n",
            "Prediction Outcome ---> Real\n"
          ]
        }
      ]
    },
    {
      "cell_type": "code",
      "source": [
        "df[df['label'] == 0].head(20)"
      ],
      "metadata": {
        "colab": {
          "base_uri": "https://localhost:8080/",
          "height": 1000
        },
        "id": "LRIHuvLnIjzG",
        "outputId": "271b7881-ff19-4428-b48a-fd8f17a19fa5"
      },
      "execution_count": null,
      "outputs": [
        {
          "output_type": "execute_result",
          "data": {
            "text/plain": [
              "    articleID                 domain                          date  \\\n",
              "2         633      channeldhaka.news     2019-05-04T19:59:48+00:00   \n",
              "3         310              earki.com    ১৮:১৭, জানুয়ারি ৩১, ২০১৯    \n",
              "6        1097              earki.com     2019-03-14T02:33:32+00:00   \n",
              "8         164       dailyinqilab.com           2018-03-20 12:00:00   \n",
              "10        327              earki.com  ১৯:৪৫, ফেব্রুয়ারি ০৪, ২০১৯    \n",
              "17        393        bengalbeats.com     2019-02-10T18:45:26+00:00   \n",
              "18        274        bengalbeats.com     2018-05-30T07:35:47+00:00   \n",
              "19       1007      channeldhaka.news     2018-10-10T11:55:37+00:00   \n",
              "24        698              earki.com    ১৯:০৩, জানুয়ারি ০২, ২০১৯    \n",
              "26        765      mujibsenanews.com           2017-11-22 12:27:00   \n",
              "27       1065        bengalbeats.com     2019-04-24T17:44:07+00:00   \n",
              "29        994              earki.com               েম্বর ২৫, ২০১৮    \n",
              "40        179      channeldhaka.news     2019-02-14T16:33:32+00:00   \n",
              "52       1092           gonews24.com     2019-03-31T21:34:43+00:00   \n",
              "67         28              earki.com              সেম্বর ২৪, ২০১৮    \n",
              "68        697    news.zoombangla.com     2018-10-02T14:57:09+00:00   \n",
              "74       1020        sarcasmnews.fun     2018-10-05T09:30:32+00:00   \n",
              "77        716              earki.com    ২০:১১, জানুয়ারি ২১, ২০১৯    \n",
              "81        454  alokitobangladesh.com           2019-03-25 09:28:31   \n",
              "82        656              earki.com              সেম্বর ০৯, ২০১৮    \n",
              "\n",
              "         category                                           headline  \\\n",
              "2           Crime  সীমান্তে কাঁটাতারের বেড়া চুরি করে বিক্রি করছে ...   \n",
              "3   Miscellaneous  'টেন ইয়ারস চ্যালেঞ্জ' অনলাইন ট্রেন্ডকে একটু বে...   \n",
              "6       Lifestyle  মেধাবীরা দেরিতে ঘুমায়, গালি দেয় বেশি : বলছে ...   \n",
              "8        Politics  শেখ হাসিনা বিশ্বের দ্বিতীয় সেরা প্রধানমন্ত্রী ...   \n",
              "10  Miscellaneous  ঈশ্বরের দোহাই, আমার কোনো ভাস্কর্য বানাবেন না :...   \n",
              "17  Miscellaneous  শুধুমাত্র লস এঞ্জেলেস ও প্যারিস নয়, ঢাকাকে বিশ...   \n",
              "18  Miscellaneous  ছেলেদের মস্তিষ্ক কিভাবে কাজ করে জানেন কি? এই ১...   \n",
              "19  Entertainment  হারমোনিয়াম মার্কায় নির্বাচন করতে চান মাহফুজু...   \n",
              "24  Miscellaneous  যেখানে সেখানে বিসিএসের বিদ্যা দেখাতে গেলে যেমন...   \n",
              "26       National           বিশ্বের তৃতীয় সৎ সরকার প্রধান শেখ হাসিনা   \n",
              "27  Miscellaneous  Endgame প্রথম শোয়ের টিকেট না এনে দিলে বয়ফ্রেন্...   \n",
              "29  Miscellaneous  মনোনয়ন নেবো না, মনোনয়ন দেবো : যারা মনোনয়ন পানন...   \n",
              "40  Miscellaneous    ভূমিকম্প !! কেঁপে উঠছে ঢাকার আবাসিক হোটেলগুলো !   \n",
              "52  International        অবসরে যাচ্ছেন আলিবাবার প্রতিষ্ঠাতা জ্যাক মা   \n",
              "67     Technology  অবিবাহিতদের জন্য আলাদা ফেসবুক চালু করার জন্য জ...   \n",
              "68       National  প্রধানমন্ত্রীর ফ্লাইটে মাদক সেবন : যা বললেন সে...   \n",
              "74      Lifestyle  বিমানের পরিবেশ দুষণ করছে বরিশাল, সিলেটি, নোয়াখ...   \n",
              "77       National  ঢাকার সিসা, ক্রোমিয়াম, কপারসহ নানান ধাতুযুক্ত ...   \n",
              "81  International  ইসলামকে বিশ্বের সবচেয়ে শান্তির ধর্ম ঘোষণা ইউনে...   \n",
              "82  Miscellaneous  ছাত্রটি যেভাবে যুক্তি দিয়ে প্রমাণ করলো যে টেবি...   \n",
              "\n",
              "                                              content  label  \n",
              "2   নাফ নদীর তীর ঘেসে অবৈধ অস্ত্র এবং চোরাকারবারিদ...      0  \n",
              "3   গত মঙ্গলবার ৩০ জানুয়ারি ফেসবুকে দেয়া এক পোস্টে...      0  \n",
              "6   আপনি কি অন্যদের তুলনায় একটু বেশিই গালি দেন? এ...      0  \n",
              "8   সিঙ্গাপুরভিত্তিক গবেষণা প্রতিষ্ঠান ‘দ্য স্টাটি...      0  \n",
              "10  মিয়ানমার থেকে বাংলাদেশে আশ্রয় নেয়া রোহিঙ্গা শর...      0  \n",
              "17  সময় পাল্টাচ্ছে, দেশ এগিয়ে যাচ্ছে তড়তড়িয়ে।  বদল...      0  \n",
              "18  সাধারণত ছেলেদের জীবনে প্রত্যাশার পরিধি খুবই ছো...      0  \n",
              "19  আগামী জাতীয় নির্বাচনে হারমোনিয়াম মার্কায় প্...      0  \n",
              "24  ইদানিং দেশ-বিদেশ, সমাজ-রাজনীতি, সাহিত্য-সংস্কৃ...      0  \n",
              "26  প্যারাডাইস পেপার্স আর পানামা পেপার্সের পর এবার...      0  \n",
              "27  Avengers: Endgame প্রথম শোয়ের টিকেট না এনে দিল...      0  \n",
              "29  প্রকাশিত হয়েছে মনোনয়নের রেজাল্ট। অনেকেই আসন্ন ...      0  \n",
              "40  শহরজুড়ে মৃদু কাঁপুনি অনুভব করা যাচ্ছে। খানিক ...      0  \n",
              "52  অবসরে যাচ্ছেন আলিবাবার ই-কমার্স সাম্রাজ্যের প্...      0  \n",
              "67  বিবাহ মৌসুম ২০১৮-১৯মার্ক জাকারবার্গসিইও, ফেসবু...      0  \n",
              "68  জুমবাংলা ডেস্ক : সৈয়দা মাসুমা মুফতি। তিনি বিমা...      0  \n",
              "74  লুঙ্গি পরে ঠেলাঠেলি করে বিমানে উঠার মাধ্যমে বহ...      0  \n",
              "77  ঢাকার বাতাসে অক্সিজেন নাইট্রোজেন কার্বন ছাড়াও ...      0  \n",
              "81  জাতিসংঘের শিক্ষা, বিজ্ঞান ও সংস্কৃতি বিষয়ক অঙ্...      0  \n",
              "82  লজিকের উপর পরীক্ষা হচ্ছে। স্যার বললেন-—এখানে ট...      0  "
            ],
            "text/html": [
              "\n",
              "  <div id=\"df-89e43721-1ec3-4135-b557-6b6515baaa8b\">\n",
              "    <div class=\"colab-df-container\">\n",
              "      <div>\n",
              "<style scoped>\n",
              "    .dataframe tbody tr th:only-of-type {\n",
              "        vertical-align: middle;\n",
              "    }\n",
              "\n",
              "    .dataframe tbody tr th {\n",
              "        vertical-align: top;\n",
              "    }\n",
              "\n",
              "    .dataframe thead th {\n",
              "        text-align: right;\n",
              "    }\n",
              "</style>\n",
              "<table border=\"1\" class=\"dataframe\">\n",
              "  <thead>\n",
              "    <tr style=\"text-align: right;\">\n",
              "      <th></th>\n",
              "      <th>articleID</th>\n",
              "      <th>domain</th>\n",
              "      <th>date</th>\n",
              "      <th>category</th>\n",
              "      <th>headline</th>\n",
              "      <th>content</th>\n",
              "      <th>label</th>\n",
              "    </tr>\n",
              "  </thead>\n",
              "  <tbody>\n",
              "    <tr>\n",
              "      <th>2</th>\n",
              "      <td>633</td>\n",
              "      <td>channeldhaka.news</td>\n",
              "      <td>2019-05-04T19:59:48+00:00</td>\n",
              "      <td>Crime</td>\n",
              "      <td>সীমান্তে কাঁটাতারের বেড়া চুরি করে বিক্রি করছে ...</td>\n",
              "      <td>নাফ নদীর তীর ঘেসে অবৈধ অস্ত্র এবং চোরাকারবারিদ...</td>\n",
              "      <td>0</td>\n",
              "    </tr>\n",
              "    <tr>\n",
              "      <th>3</th>\n",
              "      <td>310</td>\n",
              "      <td>earki.com</td>\n",
              "      <td>১৮:১৭, জানুয়ারি ৩১, ২০১৯</td>\n",
              "      <td>Miscellaneous</td>\n",
              "      <td>'টেন ইয়ারস চ্যালেঞ্জ' অনলাইন ট্রেন্ডকে একটু বে...</td>\n",
              "      <td>গত মঙ্গলবার ৩০ জানুয়ারি ফেসবুকে দেয়া এক পোস্টে...</td>\n",
              "      <td>0</td>\n",
              "    </tr>\n",
              "    <tr>\n",
              "      <th>6</th>\n",
              "      <td>1097</td>\n",
              "      <td>earki.com</td>\n",
              "      <td>2019-03-14T02:33:32+00:00</td>\n",
              "      <td>Lifestyle</td>\n",
              "      <td>মেধাবীরা দেরিতে ঘুমায়, গালি দেয় বেশি : বলছে ...</td>\n",
              "      <td>আপনি কি অন্যদের তুলনায় একটু বেশিই গালি দেন? এ...</td>\n",
              "      <td>0</td>\n",
              "    </tr>\n",
              "    <tr>\n",
              "      <th>8</th>\n",
              "      <td>164</td>\n",
              "      <td>dailyinqilab.com</td>\n",
              "      <td>2018-03-20 12:00:00</td>\n",
              "      <td>Politics</td>\n",
              "      <td>শেখ হাসিনা বিশ্বের দ্বিতীয় সেরা প্রধানমন্ত্রী ...</td>\n",
              "      <td>সিঙ্গাপুরভিত্তিক গবেষণা প্রতিষ্ঠান ‘দ্য স্টাটি...</td>\n",
              "      <td>0</td>\n",
              "    </tr>\n",
              "    <tr>\n",
              "      <th>10</th>\n",
              "      <td>327</td>\n",
              "      <td>earki.com</td>\n",
              "      <td>১৯:৪৫, ফেব্রুয়ারি ০৪, ২০১৯</td>\n",
              "      <td>Miscellaneous</td>\n",
              "      <td>ঈশ্বরের দোহাই, আমার কোনো ভাস্কর্য বানাবেন না :...</td>\n",
              "      <td>মিয়ানমার থেকে বাংলাদেশে আশ্রয় নেয়া রোহিঙ্গা শর...</td>\n",
              "      <td>0</td>\n",
              "    </tr>\n",
              "    <tr>\n",
              "      <th>17</th>\n",
              "      <td>393</td>\n",
              "      <td>bengalbeats.com</td>\n",
              "      <td>2019-02-10T18:45:26+00:00</td>\n",
              "      <td>Miscellaneous</td>\n",
              "      <td>শুধুমাত্র লস এঞ্জেলেস ও প্যারিস নয়, ঢাকাকে বিশ...</td>\n",
              "      <td>সময় পাল্টাচ্ছে, দেশ এগিয়ে যাচ্ছে তড়তড়িয়ে।  বদল...</td>\n",
              "      <td>0</td>\n",
              "    </tr>\n",
              "    <tr>\n",
              "      <th>18</th>\n",
              "      <td>274</td>\n",
              "      <td>bengalbeats.com</td>\n",
              "      <td>2018-05-30T07:35:47+00:00</td>\n",
              "      <td>Miscellaneous</td>\n",
              "      <td>ছেলেদের মস্তিষ্ক কিভাবে কাজ করে জানেন কি? এই ১...</td>\n",
              "      <td>সাধারণত ছেলেদের জীবনে প্রত্যাশার পরিধি খুবই ছো...</td>\n",
              "      <td>0</td>\n",
              "    </tr>\n",
              "    <tr>\n",
              "      <th>19</th>\n",
              "      <td>1007</td>\n",
              "      <td>channeldhaka.news</td>\n",
              "      <td>2018-10-10T11:55:37+00:00</td>\n",
              "      <td>Entertainment</td>\n",
              "      <td>হারমোনিয়াম মার্কায় নির্বাচন করতে চান মাহফুজু...</td>\n",
              "      <td>আগামী জাতীয় নির্বাচনে হারমোনিয়াম মার্কায় প্...</td>\n",
              "      <td>0</td>\n",
              "    </tr>\n",
              "    <tr>\n",
              "      <th>24</th>\n",
              "      <td>698</td>\n",
              "      <td>earki.com</td>\n",
              "      <td>১৯:০৩, জানুয়ারি ০২, ২০১৯</td>\n",
              "      <td>Miscellaneous</td>\n",
              "      <td>যেখানে সেখানে বিসিএসের বিদ্যা দেখাতে গেলে যেমন...</td>\n",
              "      <td>ইদানিং দেশ-বিদেশ, সমাজ-রাজনীতি, সাহিত্য-সংস্কৃ...</td>\n",
              "      <td>0</td>\n",
              "    </tr>\n",
              "    <tr>\n",
              "      <th>26</th>\n",
              "      <td>765</td>\n",
              "      <td>mujibsenanews.com</td>\n",
              "      <td>2017-11-22 12:27:00</td>\n",
              "      <td>National</td>\n",
              "      <td>বিশ্বের তৃতীয় সৎ সরকার প্রধান শেখ হাসিনা</td>\n",
              "      <td>প্যারাডাইস পেপার্স আর পানামা পেপার্সের পর এবার...</td>\n",
              "      <td>0</td>\n",
              "    </tr>\n",
              "    <tr>\n",
              "      <th>27</th>\n",
              "      <td>1065</td>\n",
              "      <td>bengalbeats.com</td>\n",
              "      <td>2019-04-24T17:44:07+00:00</td>\n",
              "      <td>Miscellaneous</td>\n",
              "      <td>Endgame প্রথম শোয়ের টিকেট না এনে দিলে বয়ফ্রেন্...</td>\n",
              "      <td>Avengers: Endgame প্রথম শোয়ের টিকেট না এনে দিল...</td>\n",
              "      <td>0</td>\n",
              "    </tr>\n",
              "    <tr>\n",
              "      <th>29</th>\n",
              "      <td>994</td>\n",
              "      <td>earki.com</td>\n",
              "      <td>েম্বর ২৫, ২০১৮</td>\n",
              "      <td>Miscellaneous</td>\n",
              "      <td>মনোনয়ন নেবো না, মনোনয়ন দেবো : যারা মনোনয়ন পানন...</td>\n",
              "      <td>প্রকাশিত হয়েছে মনোনয়নের রেজাল্ট। অনেকেই আসন্ন ...</td>\n",
              "      <td>0</td>\n",
              "    </tr>\n",
              "    <tr>\n",
              "      <th>40</th>\n",
              "      <td>179</td>\n",
              "      <td>channeldhaka.news</td>\n",
              "      <td>2019-02-14T16:33:32+00:00</td>\n",
              "      <td>Miscellaneous</td>\n",
              "      <td>ভূমিকম্প !! কেঁপে উঠছে ঢাকার আবাসিক হোটেলগুলো !</td>\n",
              "      <td>শহরজুড়ে মৃদু কাঁপুনি অনুভব করা যাচ্ছে। খানিক ...</td>\n",
              "      <td>0</td>\n",
              "    </tr>\n",
              "    <tr>\n",
              "      <th>52</th>\n",
              "      <td>1092</td>\n",
              "      <td>gonews24.com</td>\n",
              "      <td>2019-03-31T21:34:43+00:00</td>\n",
              "      <td>International</td>\n",
              "      <td>অবসরে যাচ্ছেন আলিবাবার প্রতিষ্ঠাতা জ্যাক মা</td>\n",
              "      <td>অবসরে যাচ্ছেন আলিবাবার ই-কমার্স সাম্রাজ্যের প্...</td>\n",
              "      <td>0</td>\n",
              "    </tr>\n",
              "    <tr>\n",
              "      <th>67</th>\n",
              "      <td>28</td>\n",
              "      <td>earki.com</td>\n",
              "      <td>সেম্বর ২৪, ২০১৮</td>\n",
              "      <td>Technology</td>\n",
              "      <td>অবিবাহিতদের জন্য আলাদা ফেসবুক চালু করার জন্য জ...</td>\n",
              "      <td>বিবাহ মৌসুম ২০১৮-১৯মার্ক জাকারবার্গসিইও, ফেসবু...</td>\n",
              "      <td>0</td>\n",
              "    </tr>\n",
              "    <tr>\n",
              "      <th>68</th>\n",
              "      <td>697</td>\n",
              "      <td>news.zoombangla.com</td>\n",
              "      <td>2018-10-02T14:57:09+00:00</td>\n",
              "      <td>National</td>\n",
              "      <td>প্রধানমন্ত্রীর ফ্লাইটে মাদক সেবন : যা বললেন সে...</td>\n",
              "      <td>জুমবাংলা ডেস্ক : সৈয়দা মাসুমা মুফতি। তিনি বিমা...</td>\n",
              "      <td>0</td>\n",
              "    </tr>\n",
              "    <tr>\n",
              "      <th>74</th>\n",
              "      <td>1020</td>\n",
              "      <td>sarcasmnews.fun</td>\n",
              "      <td>2018-10-05T09:30:32+00:00</td>\n",
              "      <td>Lifestyle</td>\n",
              "      <td>বিমানের পরিবেশ দুষণ করছে বরিশাল, সিলেটি, নোয়াখ...</td>\n",
              "      <td>লুঙ্গি পরে ঠেলাঠেলি করে বিমানে উঠার মাধ্যমে বহ...</td>\n",
              "      <td>0</td>\n",
              "    </tr>\n",
              "    <tr>\n",
              "      <th>77</th>\n",
              "      <td>716</td>\n",
              "      <td>earki.com</td>\n",
              "      <td>২০:১১, জানুয়ারি ২১, ২০১৯</td>\n",
              "      <td>National</td>\n",
              "      <td>ঢাকার সিসা, ক্রোমিয়াম, কপারসহ নানান ধাতুযুক্ত ...</td>\n",
              "      <td>ঢাকার বাতাসে অক্সিজেন নাইট্রোজেন কার্বন ছাড়াও ...</td>\n",
              "      <td>0</td>\n",
              "    </tr>\n",
              "    <tr>\n",
              "      <th>81</th>\n",
              "      <td>454</td>\n",
              "      <td>alokitobangladesh.com</td>\n",
              "      <td>2019-03-25 09:28:31</td>\n",
              "      <td>International</td>\n",
              "      <td>ইসলামকে বিশ্বের সবচেয়ে শান্তির ধর্ম ঘোষণা ইউনে...</td>\n",
              "      <td>জাতিসংঘের শিক্ষা, বিজ্ঞান ও সংস্কৃতি বিষয়ক অঙ্...</td>\n",
              "      <td>0</td>\n",
              "    </tr>\n",
              "    <tr>\n",
              "      <th>82</th>\n",
              "      <td>656</td>\n",
              "      <td>earki.com</td>\n",
              "      <td>সেম্বর ০৯, ২০১৮</td>\n",
              "      <td>Miscellaneous</td>\n",
              "      <td>ছাত্রটি যেভাবে যুক্তি দিয়ে প্রমাণ করলো যে টেবি...</td>\n",
              "      <td>লজিকের উপর পরীক্ষা হচ্ছে। স্যার বললেন-—এখানে ট...</td>\n",
              "      <td>0</td>\n",
              "    </tr>\n",
              "  </tbody>\n",
              "</table>\n",
              "</div>\n",
              "      <button class=\"colab-df-convert\" onclick=\"convertToInteractive('df-89e43721-1ec3-4135-b557-6b6515baaa8b')\"\n",
              "              title=\"Convert this dataframe to an interactive table.\"\n",
              "              style=\"display:none;\">\n",
              "        \n",
              "  <svg xmlns=\"http://www.w3.org/2000/svg\" height=\"24px\"viewBox=\"0 0 24 24\"\n",
              "       width=\"24px\">\n",
              "    <path d=\"M0 0h24v24H0V0z\" fill=\"none\"/>\n",
              "    <path d=\"M18.56 5.44l.94 2.06.94-2.06 2.06-.94-2.06-.94-.94-2.06-.94 2.06-2.06.94zm-11 1L8.5 8.5l.94-2.06 2.06-.94-2.06-.94L8.5 2.5l-.94 2.06-2.06.94zm10 10l.94 2.06.94-2.06 2.06-.94-2.06-.94-.94-2.06-.94 2.06-2.06.94z\"/><path d=\"M17.41 7.96l-1.37-1.37c-.4-.4-.92-.59-1.43-.59-.52 0-1.04.2-1.43.59L10.3 9.45l-7.72 7.72c-.78.78-.78 2.05 0 2.83L4 21.41c.39.39.9.59 1.41.59.51 0 1.02-.2 1.41-.59l7.78-7.78 2.81-2.81c.8-.78.8-2.07 0-2.86zM5.41 20L4 18.59l7.72-7.72 1.47 1.35L5.41 20z\"/>\n",
              "  </svg>\n",
              "      </button>\n",
              "      \n",
              "  <style>\n",
              "    .colab-df-container {\n",
              "      display:flex;\n",
              "      flex-wrap:wrap;\n",
              "      gap: 12px;\n",
              "    }\n",
              "\n",
              "    .colab-df-convert {\n",
              "      background-color: #E8F0FE;\n",
              "      border: none;\n",
              "      border-radius: 50%;\n",
              "      cursor: pointer;\n",
              "      display: none;\n",
              "      fill: #1967D2;\n",
              "      height: 32px;\n",
              "      padding: 0 0 0 0;\n",
              "      width: 32px;\n",
              "    }\n",
              "\n",
              "    .colab-df-convert:hover {\n",
              "      background-color: #E2EBFA;\n",
              "      box-shadow: 0px 1px 2px rgba(60, 64, 67, 0.3), 0px 1px 3px 1px rgba(60, 64, 67, 0.15);\n",
              "      fill: #174EA6;\n",
              "    }\n",
              "\n",
              "    [theme=dark] .colab-df-convert {\n",
              "      background-color: #3B4455;\n",
              "      fill: #D2E3FC;\n",
              "    }\n",
              "\n",
              "    [theme=dark] .colab-df-convert:hover {\n",
              "      background-color: #434B5C;\n",
              "      box-shadow: 0px 1px 3px 1px rgba(0, 0, 0, 0.15);\n",
              "      filter: drop-shadow(0px 1px 2px rgba(0, 0, 0, 0.3));\n",
              "      fill: #FFFFFF;\n",
              "    }\n",
              "  </style>\n",
              "\n",
              "      <script>\n",
              "        const buttonEl =\n",
              "          document.querySelector('#df-89e43721-1ec3-4135-b557-6b6515baaa8b button.colab-df-convert');\n",
              "        buttonEl.style.display =\n",
              "          google.colab.kernel.accessAllowed ? 'block' : 'none';\n",
              "\n",
              "        async function convertToInteractive(key) {\n",
              "          const element = document.querySelector('#df-89e43721-1ec3-4135-b557-6b6515baaa8b');\n",
              "          const dataTable =\n",
              "            await google.colab.kernel.invokeFunction('convertToInteractive',\n",
              "                                                     [key], {});\n",
              "          if (!dataTable) return;\n",
              "\n",
              "          const docLinkHtml = 'Like what you see? Visit the ' +\n",
              "            '<a target=\"_blank\" href=https://colab.research.google.com/notebooks/data_table.ipynb>data table notebook</a>'\n",
              "            + ' to learn more about interactive tables.';\n",
              "          element.innerHTML = '';\n",
              "          dataTable['output_type'] = 'display_data';\n",
              "          await google.colab.output.renderOutput(dataTable, element);\n",
              "          const docLink = document.createElement('div');\n",
              "          docLink.innerHTML = docLinkHtml;\n",
              "          element.appendChild(docLink);\n",
              "        }\n",
              "      </script>\n",
              "    </div>\n",
              "  </div>\n",
              "  "
            ]
          },
          "metadata": {},
          "execution_count": 64
        }
      ]
    },
    {
      "cell_type": "code",
      "source": [
        "print('The input text is:\\n')\n",
        "df['content'][10]"
      ],
      "metadata": {
        "colab": {
          "base_uri": "https://localhost:8080/",
          "height": 174
        },
        "id": "jIv4xAwKFCTq",
        "outputId": "1c95043d-2e9a-44de-d980-1e8fbf7027f1"
      },
      "execution_count": null,
      "outputs": [
        {
          "output_type": "stream",
          "name": "stdout",
          "text": [
            "The input text is:\n",
            "\n"
          ]
        },
        {
          "output_type": "execute_result",
          "data": {
            "text/plain": [
              "'মিয়ানমার থেকে বাংলাদেশে আশ্রয় নেয়া রোহিঙ্গা শরণার্থীদের পরিদর্শন করতে কক্সবাজারে এসেছেন বিখ্যাত হলিউড অভিনেত্রী অ্যাঞ্জেলিনা জোলি। জাতিসংঘের শরণার্থী বিষয়ক সংস্থার (ইউএনএইচসিআর) বিশেষ দূত হিসেবে ৪ ফেব্রুয়ারি তিনি এই চার দিনের সফরে এসেছেন। জোলির মতো জনপ্রিয় তারকা বাংলাদেশে এসেছেন, তা নিয়ে হইচই পড়ে যাওয়াটাই স্বাভাবিক। কিন্তু হইচই এড়িয়ে তিনি নাকি থাকতে চান লোকচক্ষুর আড়ালে। eআরকিকে দেয়া বিশেষ এক সাক্ষাৎকারে এমনটাই জানালেন বিশ্বখ্যাত এই হলিউড তারকা।জোলি দেশে আসার খবর পাওয়া মাত্র আমরা তার মেসেঞ্জারে নক দেই। কিন্তু প্রথমে আমাদের (বুঝেন? যেন তেন কারো না, আমাদের!) মেসেজও সিন করেননি তিনি। অবশেষে ভিডিও কল দেয়া হলে তিনি ভিডিও অপশন অফ রেখে শুধু অডিও মাধ্যমে আলাপ চালান।এই ফোনালাপে ভীত সন্ত্রস্ত কন্ঠে তিনি বলেন, ‘বাংলাদেশে আসার আগে দেশে কী চলছে না চলছে, ফেসবুকে খোঁজ নিয়েছি। আসার প্ল্যান যখন চূড়ান্ত, তখনই দেখলাম ঢাকার গুলশানে সেলিব্রেটি গ্যালারি নামক এক বস্তু খুলেছে। সেখানে অবশ্য কোনো সেলিব্রেটিকেই আমি চিনতে পারিনি। ফেসবুকে আলোচনা থেকে বুঝলাম, এগুলো নাকি মেসি, শাহরুখ খান, মাইকেল জ্যাকসন এইসব বিখ্যাত মানুষের ভাস্কর্য! এরপরই সিদ্ধান্ত নিই, বাংলাদেশে আসলেও কাউকে মুখ না দেখিয়ে লোকচক্ষুর আড়ালে থাকার চেষ্টা করবো।’একজন সেলিব্রেটি হিসেবে এমন ভাস্কর্যপূর্ণ পরিস্থিতিতে বাংলাদেশে আসাকেই ক্যারিয়ারের সবচেয়ে বড় ঝুঁকি বলে আখ্যায়িত করে তিনি জানান, ‘আমি অ্যাকশান সিনেমা করার সময় অনেক ঝুঁকি নিয়ে কাজ করেছি। কিন্তু আমার ভাস্কর্য বানানোর ঝুঁকি মাথায় নিয়ে বাংলাদেশে আসাটাই এখন পর্যন্ত করা সবচেয়ে সাহসী কাজ বলে মনে হচ্ছে। মাত্র চারটা দিন থাকব, দোয়া করবেন যেন এরই মধ্যে মৃণাল স্যার আমার ভাস্কর্য না বানিয়ে ফেলেন!’বেশিক্ষণ আলাপ করলে আমরাই জোলির ভাস্কর্য বানিয়ে ফেলি কিনা, সেই ভয়ে তিনি কথা বাড়াননি। তবে ফোন রাখার আগমুহূর্তে মৃণাল হকের উদ্দেশে তিনি রেখেছেন একটি বিনীত অনুরোধ, ‘মৃণাল স্যার, ঈশ্বরের দোহাই, আমার কোনো ভাস্কর্য বানাবেন না। যদি আমার অভিনয় ভালো না লাগে, আমার কুশপুত্তলিকা পোড়ালেও আমার আপত্তি নেই। তবু প্লিজ, ভাস্কর্য না! যদি চেহারা বদলাতে হয়, আমি কসমেটিক সার্জারি করিয়ে নেবো!’'"
            ],
            "application/vnd.google.colaboratory.intrinsic+json": {
              "type": "string"
            }
          },
          "metadata": {},
          "execution_count": 58
        }
      ]
    },
    {
      "cell_type": "code",
      "source": [
        "print('The cleaned text is:\\n')\n",
        "corpus[10]"
      ],
      "metadata": {
        "colab": {
          "base_uri": "https://localhost:8080/",
          "height": 157
        },
        "id": "jZtL96XBHf_2",
        "outputId": "15f94dd6-2f04-47aa-e888-31c2e4a4023b"
      },
      "execution_count": null,
      "outputs": [
        {
          "output_type": "stream",
          "name": "stdout",
          "text": [
            "The cleaned text is:\n",
            "\n"
          ]
        },
        {
          "output_type": "execute_result",
          "data": {
            "text/plain": [
              "'মিয়ানমার বাংলাদেশে আশ্রয় নেয়া রোহিঙ্গা শরণার্থীদের পরিদর্শন কক্সবাজারে এসেছেন বিখ্যাত হলিউড অভিনেত্রী অ্যাঞ্জেলিনা জোলি জাতিসংঘের শরণার্থী বিষয়ক সংস্থার ইউএনএইচসিআর দূত হিসেবে ফেব্রুয়ারি দিনের সফরে এসেছেন জোলির জনপ্রিয় তারকা বাংলাদেশে এসেছেন হইচই পড়ে যাওয়াটাই স্বাভাবিক হইচই এড়িয়ে থাকতে লোকচক্ষুর আড়ালে আরকিকে দেয়া এক সাক্ষাৎকারে এমনটাই জানালেন বিশ্বখ্যাত হলিউড তারকা জোলি দেশে আসার খবর পাওয়া মেসেঞ্জারে নক দেই প্রথমে বুঝেন তেন কারো মেসেজও সিন করেননি অবশেষে ভিডিও কল দেয়া ভিডিও অপশন অফ অডিও আলাপ চালান ফোনালাপে ভীত সন্ত্রস্ত কন্ঠে বাংলাদেশে আসার দেশে চলছে চলছে ফেসবুকে খোঁজ নিয়েছি আসার প্ল্যান চূড়ান্ত তখনই দেখলাম ঢাকার গুলশানে সেলিব্রেটি গ্যালারি নামক এক বস্তু খুলেছে সেলিব্রেটিকেই চিনতে পারিনি ফেসবুকে আলোচনা বুঝলাম এগুলো মেসি শাহরুখ খান মাইকেল জ্যাকসন এইসব বিখ্যাত মানুষের ভাস্কর্য এরপরই সিদ্ধান্ত নিই বাংলাদেশে আসলেও মুখ দেখিয়ে লোকচক্ষুর আড়ালে থাকার করবো একজন সেলিব্রেটি হিসেবে ভাস্কর্যপূর্ণ পরিস্থিতিতে বাংলাদেশে আসাকেই ক্যারিয়ারের সবচেয়ে বড় ঝুঁকি আখ্যায়িত জানান অ্যাকশান সিনেমা সময় ঝুঁকি করেছি ভাস্কর্য বানানোর ঝুঁকি মাথায় বাংলাদেশে আসাটাই সবচেয়ে সাহসী চারটা থাকব দোয়া এরই মৃণাল স্যার ভাস্কর্য বানিয়ে ফেলেন বেশিক্ষণ আলাপ আমরাই জোলির ভাস্কর্য বানিয়ে ফেলি কিনা ভয়ে কথা বাড়াননি ফোন রাখার আগমুহূর্তে মৃণাল হকের উদ্দেশে রেখেছেন বিনীত অনুরোধ মৃণাল স্যার ঈশ্বরের দোহাই ভাস্কর্য বানাবেন অভিনয় ভালো লাগে কুশপুত্তলিকা পোড়ালেও আপত্তি প্লিজ ভাস্কর্য চেহারা বদলাতে কসমেটিক সার্জারি করিয়ে নেবো'"
            ],
            "application/vnd.google.colaboratory.intrinsic+json": {
              "type": "string"
            }
          },
          "metadata": {},
          "execution_count": 59
        }
      ]
    },
    {
      "cell_type": "code",
      "source": [
        "print('The input vector after hashing is:\\n')\n",
        "print(X[10][0:30])"
      ],
      "metadata": {
        "colab": {
          "base_uri": "https://localhost:8080/"
        },
        "id": "8irEYSKDHmRL",
        "outputId": "a1c7c8a9-ba4d-43ca-dc67-80e6ed24d43e"
      },
      "execution_count": null,
      "outputs": [
        {
          "output_type": "stream",
          "name": "stdout",
          "text": [
            "The input vector after hashing is:\n",
            "\n",
            "[ 0.          0.          0.          0.          0.          0.\n",
            "  0.          0.          0.          0.          0.          0.\n",
            "  0.          0.          0.          0.         -0.04522156  0.\n",
            "  0.          0.          0.          0.          0.          0.\n",
            " -0.04522156  0.          0.          0.          0.          0.        ]\n"
          ]
        }
      ]
    },
    {
      "cell_type": "code",
      "source": [
        "print('The input vector after autoencoder is:\\n')\n",
        "print(X_encode[10][0:30])"
      ],
      "metadata": {
        "colab": {
          "base_uri": "https://localhost:8080/"
        },
        "id": "pSeIbkikHv-n",
        "outputId": "c60a566b-a1e3-46df-b64d-d0bcfd81f6e8"
      },
      "execution_count": null,
      "outputs": [
        {
          "output_type": "stream",
          "name": "stdout",
          "text": [
            "The input vector after autoencoder is:\n",
            "\n",
            "[ 0.00011098  0.00107366  0.00344558 -0.00017459  0.00166797 -0.00109933\n",
            " -0.00434442  0.00319853 -0.0007295  -0.00159404  0.0036609  -0.00299533\n",
            "  0.00203265 -0.0024969   0.00152115 -0.00449073 -0.00252833  0.00685784\n",
            "  0.01012982  0.00182164 -0.00264267  0.00609713  0.00014904  0.00302272\n",
            " -0.0058117  -0.00069131 -0.002502    0.00085154 -0.00371364 -0.00036071]\n"
          ]
        }
      ]
    },
    {
      "cell_type": "code",
      "source": [
        "print(f'Actual Outcome ---> {y[10]} \\n')\n",
        "print(f'Prediction Outcome ---> {lr_pred[10]}')"
      ],
      "metadata": {
        "colab": {
          "base_uri": "https://localhost:8080/"
        },
        "id": "nsDQ3mA3IIsG",
        "outputId": "5bb9a8dc-71f4-482f-ad1a-1d7b907201a2"
      },
      "execution_count": null,
      "outputs": [
        {
          "output_type": "stream",
          "name": "stdout",
          "text": [
            "Actual Outcome ---> Fake \n",
            "\n",
            "Prediction Outcome ---> Fake\n"
          ]
        }
      ]
    }
  ]
}