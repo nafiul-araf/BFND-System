{
  "nbformat": 4,
  "nbformat_minor": 0,
  "metadata": {
    "colab": {
      "name": "(DL_Evaluations_Hashing)_Bangla_Fake_News_Detection_System.ipynb",
      "provenance": []
    },
    "kernelspec": {
      "name": "python3",
      "display_name": "Python 3"
    },
    "language_info": {
      "name": "python"
    },
    "accelerator": "GPU"
  },
  "cells": [
    {
      "cell_type": "code",
      "execution_count": null,
      "metadata": {
        "colab": {
          "base_uri": "https://localhost:8080/"
        },
        "id": "xc9bRyAoK-B6",
        "outputId": "a7e4e532-b41e-4ab4-fc39-73db79ce2093"
      },
      "outputs": [
        {
          "output_type": "stream",
          "name": "stdout",
          "text": [
            "Mounted at /content/drive\n"
          ]
        }
      ],
      "source": [
        "from google.colab import drive\n",
        "drive.mount('/content/drive')"
      ]
    },
    {
      "cell_type": "code",
      "source": [
        "from keras.models import load_model\n",
        "\n",
        "def model_load(model=''):\n",
        "  return load_model(model)"
      ],
      "metadata": {
        "id": "jHXgqsbNLWMY"
      },
      "execution_count": null,
      "outputs": []
    },
    {
      "cell_type": "code",
      "source": [
        "lstm=model_load('/content/drive/MyDrive/CSE-400(Project Thesis)/hash_lstm.h5')\n",
        "gru=model_load('/content/drive/MyDrive/CSE-400(Project Thesis)/hash_gru.h5')\n",
        "cnn_lstm=model_load('/content/drive/MyDrive/CSE-400(Project Thesis)/hash_cnn_lstm.h5')\n",
        "cnn_gru=model_load('/content/drive/MyDrive/CSE-400(Project Thesis)/hash_cnn_gru.h5')"
      ],
      "metadata": {
        "id": "VWts-JHJMFyX"
      },
      "execution_count": null,
      "outputs": []
    },
    {
      "cell_type": "code",
      "source": [
        "!pip install bnlp-toolkit"
      ],
      "metadata": {
        "colab": {
          "base_uri": "https://localhost:8080/"
        },
        "id": "W0iok3WFMkhA",
        "outputId": "daeb69f5-409a-482f-e28a-4a27d1636213"
      },
      "execution_count": null,
      "outputs": [
        {
          "output_type": "stream",
          "name": "stdout",
          "text": [
            "Looking in indexes: https://pypi.org/simple, https://us-python.pkg.dev/colab-wheels/public/simple/\n",
            "Collecting bnlp-toolkit\n",
            "  Downloading bnlp_toolkit-3.1.2-py3-none-any.whl (17 kB)\n",
            "Collecting sklearn-crfsuite\n",
            "  Downloading sklearn_crfsuite-0.3.6-py2.py3-none-any.whl (12 kB)\n",
            "Requirement already satisfied: wasabi in /usr/local/lib/python3.7/dist-packages (from bnlp-toolkit) (0.9.1)\n",
            "Collecting sentencepiece\n",
            "  Downloading sentencepiece-0.1.96-cp37-cp37m-manylinux_2_17_x86_64.manylinux2014_x86_64.whl (1.2 MB)\n",
            "\u001b[K     |████████████████████████████████| 1.2 MB 7.4 MB/s \n",
            "\u001b[?25hRequirement already satisfied: numpy in /usr/local/lib/python3.7/dist-packages (from bnlp-toolkit) (1.21.6)\n",
            "Requirement already satisfied: nltk in /usr/local/lib/python3.7/dist-packages (from bnlp-toolkit) (3.7)\n",
            "Collecting gensim==4.0.1\n",
            "  Downloading gensim-4.0.1-cp37-cp37m-manylinux1_x86_64.whl (23.9 MB)\n",
            "\u001b[K     |████████████████████████████████| 23.9 MB 1.4 MB/s \n",
            "\u001b[?25hRequirement already satisfied: scipy in /usr/local/lib/python3.7/dist-packages (from bnlp-toolkit) (1.4.1)\n",
            "Requirement already satisfied: smart-open>=1.8.1 in /usr/local/lib/python3.7/dist-packages (from gensim==4.0.1->bnlp-toolkit) (5.2.1)\n",
            "Requirement already satisfied: tqdm in /usr/local/lib/python3.7/dist-packages (from nltk->bnlp-toolkit) (4.64.0)\n",
            "Requirement already satisfied: joblib in /usr/local/lib/python3.7/dist-packages (from nltk->bnlp-toolkit) (1.1.0)\n",
            "Requirement already satisfied: click in /usr/local/lib/python3.7/dist-packages (from nltk->bnlp-toolkit) (7.1.2)\n",
            "Requirement already satisfied: regex>=2021.8.3 in /usr/local/lib/python3.7/dist-packages (from nltk->bnlp-toolkit) (2022.6.2)\n",
            "Requirement already satisfied: six in /usr/local/lib/python3.7/dist-packages (from sklearn-crfsuite->bnlp-toolkit) (1.15.0)\n",
            "Requirement already satisfied: tabulate in /usr/local/lib/python3.7/dist-packages (from sklearn-crfsuite->bnlp-toolkit) (0.8.9)\n",
            "Collecting python-crfsuite>=0.8.3\n",
            "  Downloading python_crfsuite-0.9.8-cp37-cp37m-manylinux_2_17_x86_64.manylinux2014_x86_64.whl (965 kB)\n",
            "\u001b[K     |████████████████████████████████| 965 kB 66.2 MB/s \n",
            "\u001b[?25hInstalling collected packages: python-crfsuite, sklearn-crfsuite, sentencepiece, gensim, bnlp-toolkit\n",
            "  Attempting uninstall: gensim\n",
            "    Found existing installation: gensim 3.6.0\n",
            "    Uninstalling gensim-3.6.0:\n",
            "      Successfully uninstalled gensim-3.6.0\n",
            "Successfully installed bnlp-toolkit-3.1.2 gensim-4.0.1 python-crfsuite-0.9.8 sentencepiece-0.1.96 sklearn-crfsuite-0.3.6\n"
          ]
        }
      ]
    },
    {
      "cell_type": "code",
      "source": [
        "import re\n",
        "from bnlp.corpus import stopwords"
      ],
      "metadata": {
        "colab": {
          "base_uri": "https://localhost:8080/"
        },
        "id": "lGuM2bIOM2zd",
        "outputId": "8cdd34b1-7bdd-4488-cd8d-e39f2349a952"
      },
      "execution_count": null,
      "outputs": [
        {
          "output_type": "stream",
          "name": "stdout",
          "text": [
            "punkt not found. downloading...\n"
          ]
        },
        {
          "output_type": "stream",
          "name": "stderr",
          "text": [
            "[nltk_data] Downloading package punkt to /root/nltk_data...\n",
            "[nltk_data]   Unzipping tokenizers/punkt.zip.\n",
            "/usr/local/lib/python3.7/dist-packages/gensim/similarities/__init__.py:15: UserWarning: The gensim.similarities.levenshtein submodule is disabled, because the optional Levenshtein package <https://pypi.org/project/python-Levenshtein/> is unavailable. Install Levenhstein (e.g. `pip install python-Levenshtein`) to suppress this warning.\n",
            "  warnings.warn(msg)\n"
          ]
        }
      ]
    },
    {
      "cell_type": "code",
      "source": [
        "def preprocess(data):\n",
        "    \"\"\"This function is for preprocessing of the news contents. It removes punctuations, English characters and both of Bangla\n",
        "    and English numerals. It tokenizes all the words and also removes stopwords.\n",
        "    \n",
        "    Args: \n",
        "        The Entire Dataframe\n",
        "    Returns:\n",
        "        Preprocessed news corpuses in a list of lists\n",
        "    \"\"\"\n",
        "    corpus=[]\n",
        "    for i in range(0, len(data)):\n",
        "        x=re.sub('[^\\u0980-\\u09FF]',' ',data['content'][i])\n",
        "        x=re.sub('[a-zA-Z0-9]+', ' ', x)\n",
        "        x=re.sub('[০১২৩৪৫৬৭৮৯]+', ' ', x)\n",
        "        x=x.split()\n",
        "        x=[w for w in x if w not in set(stopwords)]\n",
        "        x=' '.join(x)\n",
        "        corpus.append(x)\n",
        "    \n",
        "    return corpus"
      ],
      "metadata": {
        "id": "gDJE_UsTNCjd"
      },
      "execution_count": null,
      "outputs": []
    },
    {
      "cell_type": "code",
      "source": [
        "import pandas as pd\n",
        "import numpy as np\n",
        "import matplotlib.pyplot as plt\n",
        "import seaborn as sns\n",
        "from sklearn.metrics import *\n",
        "import warnings\n",
        "warnings.filterwarnings(\"ignore\")\n",
        "\n",
        "%matplotlib inline\n",
        "sns.set()"
      ],
      "metadata": {
        "id": "s0hhOvmeND5w"
      },
      "execution_count": null,
      "outputs": []
    },
    {
      "cell_type": "code",
      "source": [
        "label_auth=pd.read_csv(r'/content/drive/MyDrive/AutoEncoders/LabeledAuthentic-7K.csv') #, nrows=3067)\n",
        "label_fake=pd.read_csv(r'/content/drive/MyDrive/AutoEncoders/LabeledFake-1K.csv') #, nrows=995)\n",
        "label_auth.drop(['source','relation'], axis=1, inplace=True)\n",
        "label_fake.drop(['source','relation','F-type'], axis=1, inplace=True)\n",
        "df=pd.concat([label_auth, label_fake], axis=0)\n",
        "df.reset_index(inplace=True)\n",
        "df.drop('index', axis=1, inplace=True)\n",
        "df['label']=np.where(df['label']==0.0, 0, 1)\n",
        "df.tail()\n",
        "df=df.sample(frac=1).reset_index(drop=True)\n",
        "print(df.shape)\n",
        "df.head()"
      ],
      "metadata": {
        "colab": {
          "base_uri": "https://localhost:8080/",
          "height": 337
        },
        "id": "vnDJcD_kNRgj",
        "outputId": "7d9951b7-cd32-4451-f785-5cc43f6e1a5a"
      },
      "execution_count": null,
      "outputs": [
        {
          "output_type": "stream",
          "name": "stdout",
          "text": [
            "(8501, 7)\n"
          ]
        },
        {
          "output_type": "execute_result",
          "data": {
            "text/plain": [
              "   articleID                  domain                      date       category  \\\n",
              "0        546               earki.com  ১৪:৩২, নভেম্বর ১৫, ২০১৮   Miscellaneous   \n",
              "1       5931              mzamin.com       2018-09-23 23:20:59  Miscellaneous   \n",
              "2       7924  bangla.thereport24.com       2018-10-11 13:27:45          Crime   \n",
              "3       5431            bd24live.com       2018-09-22 12:27:46  Miscellaneous   \n",
              "4       2031          ittefaq.com.bd       2018-09-19 21:39:40         Sports   \n",
              "\n",
              "                                            headline  \\\n",
              "0  নয়াপল্টনের সংঘর্ষে আলোচিত হেলমেটদলের সদস্য বাং...   \n",
              "1                          ‘ধানের শীষ এখন পেটের বিষ’   \n",
              "2                 এক বিন্দুও ছাড় নয় : ডিএমপি কমিশনার   \n",
              "3  যেসব দেশে পতিতাবৃত্তি বৈধ ২২ সেপ্টেম্বর, ২০১৮ ...   \n",
              "4               ভারত—পাকিস্তানের উত্তেজনাময় ম্যাচ আজ   \n",
              "\n",
              "                                             content  label  \n",
              "0  গতকাল (১৪ নভেম্বর) নয়াপল্টনে বিএনপির কার্যালয়ে...      0  \n",
              "1  বিএনপি এখন দেউলিয়া দল। দেশের মানুষ তাদের বর্জন...      1  \n",
              "2  ২১ আগস্ট গ্রেনেড হামলা মামলার রায় ঘিরে জনগণের ...      1  \n",
              "3  নেদারল্যান্ডস: নেদারল্যান্ডসে পতিতাবৃত্তি শুধু...      1  \n",
              "4  ক্রিকেট দুনিয়ার সবচেয়ে আর্কষণীয় লড়াইয়ের তালিকা...      1  "
            ],
            "text/html": [
              "\n",
              "  <div id=\"df-efcd9602-5b85-4676-96ed-d4bccc817667\">\n",
              "    <div class=\"colab-df-container\">\n",
              "      <div>\n",
              "<style scoped>\n",
              "    .dataframe tbody tr th:only-of-type {\n",
              "        vertical-align: middle;\n",
              "    }\n",
              "\n",
              "    .dataframe tbody tr th {\n",
              "        vertical-align: top;\n",
              "    }\n",
              "\n",
              "    .dataframe thead th {\n",
              "        text-align: right;\n",
              "    }\n",
              "</style>\n",
              "<table border=\"1\" class=\"dataframe\">\n",
              "  <thead>\n",
              "    <tr style=\"text-align: right;\">\n",
              "      <th></th>\n",
              "      <th>articleID</th>\n",
              "      <th>domain</th>\n",
              "      <th>date</th>\n",
              "      <th>category</th>\n",
              "      <th>headline</th>\n",
              "      <th>content</th>\n",
              "      <th>label</th>\n",
              "    </tr>\n",
              "  </thead>\n",
              "  <tbody>\n",
              "    <tr>\n",
              "      <th>0</th>\n",
              "      <td>546</td>\n",
              "      <td>earki.com</td>\n",
              "      <td>১৪:৩২, নভেম্বর ১৫, ২০১৮</td>\n",
              "      <td>Miscellaneous</td>\n",
              "      <td>নয়াপল্টনের সংঘর্ষে আলোচিত হেলমেটদলের সদস্য বাং...</td>\n",
              "      <td>গতকাল (১৪ নভেম্বর) নয়াপল্টনে বিএনপির কার্যালয়ে...</td>\n",
              "      <td>0</td>\n",
              "    </tr>\n",
              "    <tr>\n",
              "      <th>1</th>\n",
              "      <td>5931</td>\n",
              "      <td>mzamin.com</td>\n",
              "      <td>2018-09-23 23:20:59</td>\n",
              "      <td>Miscellaneous</td>\n",
              "      <td>‘ধানের শীষ এখন পেটের বিষ’</td>\n",
              "      <td>বিএনপি এখন দেউলিয়া দল। দেশের মানুষ তাদের বর্জন...</td>\n",
              "      <td>1</td>\n",
              "    </tr>\n",
              "    <tr>\n",
              "      <th>2</th>\n",
              "      <td>7924</td>\n",
              "      <td>bangla.thereport24.com</td>\n",
              "      <td>2018-10-11 13:27:45</td>\n",
              "      <td>Crime</td>\n",
              "      <td>এক বিন্দুও ছাড় নয় : ডিএমপি কমিশনার</td>\n",
              "      <td>২১ আগস্ট গ্রেনেড হামলা মামলার রায় ঘিরে জনগণের ...</td>\n",
              "      <td>1</td>\n",
              "    </tr>\n",
              "    <tr>\n",
              "      <th>3</th>\n",
              "      <td>5431</td>\n",
              "      <td>bd24live.com</td>\n",
              "      <td>2018-09-22 12:27:46</td>\n",
              "      <td>Miscellaneous</td>\n",
              "      <td>যেসব দেশে পতিতাবৃত্তি বৈধ ২২ সেপ্টেম্বর, ২০১৮ ...</td>\n",
              "      <td>নেদারল্যান্ডস: নেদারল্যান্ডসে পতিতাবৃত্তি শুধু...</td>\n",
              "      <td>1</td>\n",
              "    </tr>\n",
              "    <tr>\n",
              "      <th>4</th>\n",
              "      <td>2031</td>\n",
              "      <td>ittefaq.com.bd</td>\n",
              "      <td>2018-09-19 21:39:40</td>\n",
              "      <td>Sports</td>\n",
              "      <td>ভারত—পাকিস্তানের উত্তেজনাময় ম্যাচ আজ</td>\n",
              "      <td>ক্রিকেট দুনিয়ার সবচেয়ে আর্কষণীয় লড়াইয়ের তালিকা...</td>\n",
              "      <td>1</td>\n",
              "    </tr>\n",
              "  </tbody>\n",
              "</table>\n",
              "</div>\n",
              "      <button class=\"colab-df-convert\" onclick=\"convertToInteractive('df-efcd9602-5b85-4676-96ed-d4bccc817667')\"\n",
              "              title=\"Convert this dataframe to an interactive table.\"\n",
              "              style=\"display:none;\">\n",
              "        \n",
              "  <svg xmlns=\"http://www.w3.org/2000/svg\" height=\"24px\"viewBox=\"0 0 24 24\"\n",
              "       width=\"24px\">\n",
              "    <path d=\"M0 0h24v24H0V0z\" fill=\"none\"/>\n",
              "    <path d=\"M18.56 5.44l.94 2.06.94-2.06 2.06-.94-2.06-.94-.94-2.06-.94 2.06-2.06.94zm-11 1L8.5 8.5l.94-2.06 2.06-.94-2.06-.94L8.5 2.5l-.94 2.06-2.06.94zm10 10l.94 2.06.94-2.06 2.06-.94-2.06-.94-.94-2.06-.94 2.06-2.06.94z\"/><path d=\"M17.41 7.96l-1.37-1.37c-.4-.4-.92-.59-1.43-.59-.52 0-1.04.2-1.43.59L10.3 9.45l-7.72 7.72c-.78.78-.78 2.05 0 2.83L4 21.41c.39.39.9.59 1.41.59.51 0 1.02-.2 1.41-.59l7.78-7.78 2.81-2.81c.8-.78.8-2.07 0-2.86zM5.41 20L4 18.59l7.72-7.72 1.47 1.35L5.41 20z\"/>\n",
              "  </svg>\n",
              "      </button>\n",
              "      \n",
              "  <style>\n",
              "    .colab-df-container {\n",
              "      display:flex;\n",
              "      flex-wrap:wrap;\n",
              "      gap: 12px;\n",
              "    }\n",
              "\n",
              "    .colab-df-convert {\n",
              "      background-color: #E8F0FE;\n",
              "      border: none;\n",
              "      border-radius: 50%;\n",
              "      cursor: pointer;\n",
              "      display: none;\n",
              "      fill: #1967D2;\n",
              "      height: 32px;\n",
              "      padding: 0 0 0 0;\n",
              "      width: 32px;\n",
              "    }\n",
              "\n",
              "    .colab-df-convert:hover {\n",
              "      background-color: #E2EBFA;\n",
              "      box-shadow: 0px 1px 2px rgba(60, 64, 67, 0.3), 0px 1px 3px 1px rgba(60, 64, 67, 0.15);\n",
              "      fill: #174EA6;\n",
              "    }\n",
              "\n",
              "    [theme=dark] .colab-df-convert {\n",
              "      background-color: #3B4455;\n",
              "      fill: #D2E3FC;\n",
              "    }\n",
              "\n",
              "    [theme=dark] .colab-df-convert:hover {\n",
              "      background-color: #434B5C;\n",
              "      box-shadow: 0px 1px 3px 1px rgba(0, 0, 0, 0.15);\n",
              "      filter: drop-shadow(0px 1px 2px rgba(0, 0, 0, 0.3));\n",
              "      fill: #FFFFFF;\n",
              "    }\n",
              "  </style>\n",
              "\n",
              "      <script>\n",
              "        const buttonEl =\n",
              "          document.querySelector('#df-efcd9602-5b85-4676-96ed-d4bccc817667 button.colab-df-convert');\n",
              "        buttonEl.style.display =\n",
              "          google.colab.kernel.accessAllowed ? 'block' : 'none';\n",
              "\n",
              "        async function convertToInteractive(key) {\n",
              "          const element = document.querySelector('#df-efcd9602-5b85-4676-96ed-d4bccc817667');\n",
              "          const dataTable =\n",
              "            await google.colab.kernel.invokeFunction('convertToInteractive',\n",
              "                                                     [key], {});\n",
              "          if (!dataTable) return;\n",
              "\n",
              "          const docLinkHtml = 'Like what you see? Visit the ' +\n",
              "            '<a target=\"_blank\" href=https://colab.research.google.com/notebooks/data_table.ipynb>data table notebook</a>'\n",
              "            + ' to learn more about interactive tables.';\n",
              "          element.innerHTML = '';\n",
              "          dataTable['output_type'] = 'display_data';\n",
              "          await google.colab.output.renderOutput(dataTable, element);\n",
              "          const docLink = document.createElement('div');\n",
              "          docLink.innerHTML = docLinkHtml;\n",
              "          element.appendChild(docLink);\n",
              "        }\n",
              "      </script>\n",
              "    </div>\n",
              "  </div>\n",
              "  "
            ]
          },
          "metadata": {},
          "execution_count": 8
        }
      ]
    },
    {
      "cell_type": "code",
      "source": [
        "corpus=preprocess(df)\n",
        "corpus[16:20]"
      ],
      "metadata": {
        "colab": {
          "base_uri": "https://localhost:8080/"
        },
        "id": "iNmZDiNTNVi0",
        "outputId": "ae96644c-e803-40a4-8904-fb6281d14ef9"
      },
      "execution_count": null,
      "outputs": [
        {
          "output_type": "execute_result",
          "data": {
            "text/plain": [
              "['বিশিষ্ট অভিনেত্রী চলচ্চিত্র নির্মাতা কোহিনূর আক্তার সুচন্দার জন্মদিন উপলক্ষে বরাবরের নাতি নাতনিদের আনন্দে কাটছে নাতি নাতনিরাই ছোট বোন চম্পা ববিতা শুভেচ্ছা জানিয়েছেন ববিতা কানাডায় ছেলের বেড়াতে গেছেন টেলিফোনেই বোনকে জন্মদিনের শুভেচ্ছা জানান মিলিয়ে সারপ্রাইজের কাটছে সুচন্দার জন্মদিন সুভাষ দত্তের নির্দেশনায় কাগজের নৌকা চলচ্চিত্রে অভিনয়ের মধ্য দিয়ে সালে রূপালি পর্দায় পা রাখেন সূচন্দা পর্দা নামটি সুভাষ দত্তেরই এরপর শতাধিক চলচ্চিত্রে অভিনয় সুচন্দা নির্দেশিত একমাত্র চলচ্চিত্র বছর চলচ্চিত্রটি সালের জাতীয় চলচ্চিত্র পুরস্কার লাভ অভিনয় রিয়াজ শশী এটিএম শামসুজ্জামান প্রমুখ ব্যক্তি জীবনে সুচন্দা প্রয়াত নির্মাতা জহির রায়হানের স্ত্রী অভিনেত্রী ববিতা চম্পার বড় বোন সুচন্দা ছাড়াও সেপ্টেম্বর অমর নায়ক সালমান শাহ জন্মদিন টিভি চ্যানেলগুলোতেও প্রচার সালমান শাহকে অনুষ্ঠান অন্যদিকে বিশিষ্ট ডেন্টাল সার্জন স্বাধীন বাংলা বেতার কেন্দ্রের শব্দসৈনিক রবীন্দ্রসংগীত শিল্পী ড অরূপ রতন চৌধুরীর তম জন্মদিন এমএবি এলএ এমএস',\n",
              " 'চালুর ব্যবহারকারীকে নির্দিষ্ট শব্দ উচ্চারণ ওভেনটি কতক্ষণ রান্না উল্লেখ রান্নার উপাদানের ফ্রোজেন ভেজিটেবলস হিমায়িত শাকসবজি নাম মাইক্রোওয়েভে বিল্ট ইন অ্যালেক্সা বাটনও হয়েছে ব্যবহারকারীরা অ্যালেক্সা মাইক্রোওয়েভ নির্দিষ্ট শব্দ সরাসরি কীভাবে রান্না পারবেন ছাড়াও ব্যবহারকারী চাইলে তথ্যগুলো নির্ধারণ করেও রাখতে পারবেন ডিভাইসে হয়েছে অ্যালেক্সা কানেক্ট কিট কম দামের কম শক্তি খরুচে ব্লুটুথ ওয়াই ফাই মডিউল কিট হোম অ্যাপ্লায়েন্স পণ্যগুলো বর্তমানে ইকো ডিভাইসগুলোর যোগাযোগ মাইক্রোওয়েভটিতে অ্যালেক্সার ফিচার হয়নি আবহাওয়ার তথ্য জিজ্ঞাসা অ্যালেক্সার জবাব পারবে এমনটাই হয়েছে প্রযুক্তি সাইট ভার্জ প্রতিবেদনে আশপাশে ইকো স্পিকারের মাধ্যমেও মাইক্রোওয়েকে আদেশ ইকো স্পিকারটি আদেশ ব্লুটুথ ওয়াই ফাইয়ের মাইক্রোওয়েভটির পৌঁছে দেবে ডিভাইসের পপকর্ন বানানোর আদেশ দেওয়ার ড্যাশ বাটনও হয়েছে উল্লেখ প্রযুক্তি সাইটটির প্রতিবেদনে চলতি বছর নভেম্বর পণ্য বিক্রি ক্রেতাদেরকে গুণতে ডলার',\n",
              " 'দুর্নীতি মামলায় কারাবন্দি বিএনপি চেয়ারপারসন বেগম খালেদা জিয়ার কারাগারে গেছেন আইনজীবী বুধবার সেপ্টেম্বর বিকেল টা মিনিটে নাজিম উদ্দিন রোডের পুরনো কারাগারে প্রবেশ আইনজীবী মাসুদ আহমেদ তালুকদার সানাউল্লাহ মিয়া বুধবার সকালে আইনজীবীর আবেদনের পরিপ্রেক্ষিতে ভেতরে যাওয়ার অনুমতি দেয় জেল কর্তৃপক্ষ সেপ্টেম্বর জিয়া চ্যারিটেবল ট্রাস্ট দুর্নীতি মামলার বিচারের তারিখ রয়েছে আগের তারিখে খালেদা আসতে অসম্মতি জানান খালেদা জিয়ার শারীরিক অবস্থা কাস্টডির ধারণা আবেদন আইনজীবী জিয়া অরফানেজ ট্রাস্ট দুর্নীতি মামলায় পাঁচ বছরের সাজাপ্রাপ্ত হয়ে খালেদা জিয়া চলতি বছরের ফেব্রুয়ারি পুরান ঢাকার নাজিমউদ্দিন রোডের পুরনো কারাগারে বন্দী রয়েছেন',\n",
              " 'রাখাইনে সংখ্যালঘু রোহিঙ্গা মুসলমানদের বিরুদ্ধে মিয়ানমার সেনাবাহিনীর জাতিগত নির্মূল অভিযানে গণহত্যা সংঘটিত হয়েছে ঘোষণা কানাডার আইনপ্রণেতারা সর্বসম্মতভাবে ভোট দিয়েছেন মধ্য দিয়ে মিয়ানমারে জাতিসংঘের ফ্যাক্ট ফাইন্ডিং মিশনের তথ্য উপাত্তে অনুমোদন দিয়েছেন দেশটির হাউস অব কমনস সদস্যরা জাতিসংঘের গবেষকরা রোহিঙ্গাদের ওপর মানবতাবিরোধী অপরাধ সংঘটিত হয়েছে মিয়ানমার সেনাবাহিনীর শীর্ষ কর্মকর্তারা অপরাধকে সমর্থন কানাডার আইনপ্রণেতারা পেয়েছেন রোহিঙ্গাদের বিরুদ্ধে অপরাধ সংঘটিত হয়েছে গণহত্যা কাজেই ঘটনায় আন্তর্জাতিক অপরাধ আদালতে বিচার জাতিসংঘের নিরাপত্তা পরিষদের আহ্বান জানিয়েছেন মিয়ানমারের জেনারেলদের বিরুদ্ধে তদন্ত গণহত্যার অপরাধে বিচারেরও আহ্বান হয়েছে কানাডার পররাষ্ট্রমন্ত্রী ক্রিস্টিয়া ফ্রিল্যান্ড রোহিঙ্গাদের বিরুদ্ধে অপরাধ কতটা মর্মান্তিক নিষ্ঠুর সেদিকেই জোর চাই রোহিঙ্গারা ন্যায়বিচার পান অপরাধীরা জবাবদিহিতার আওতায় আসে সেজন্য আন্তর্জাতিক চেষ্টার নেতৃত্ব দিচ্ছি আজকের সর্বসম্মত ভোট চেষ্টারই একটা গুরুত্বপূর্ণ পদক্ষেপ মন্তব্য মিয়ানমারে রোহিঙ্গাদের ওপর মানবতাবিরোধী অপরাধের অভিযোগের বিষয়ে তদন্ত আন্তর্জাতিক অপরাধ আদালত আইসিসি হেগের আদালতের কৌঁসুলি ফাতোও বেনসুদা মঙ্গলবার এক বিবৃতিতে জানিয়েছেন লাখ লাখ রোহিঙ্গাকে যেভাবে মিয়ানমার বাংলাদেশে বিতাড়িত হয়েছে যুদ্ধাপরাধ মানবতাবিরোধী অপরাধ সংঘটিত হয়েছে বিষয়ে তদন্তে হাত দিয়েছে দপ্তর রোহিঙ্গাদের বিতাড়নে মানবতাবিরোধী অপরাধ সংঘটনের মিয়ানমারের বিচারের এখতিয়ার হেগের আন্তর্জাতিক অপরাধ আদালতের রয়েছে সিদ্ধান্ত আসার ধারাবাহিকতায় তদন্ত বিবিসি লিখেছে আইসিসির তদন্তের পথ মিয়ানমারের রাখাইন রাজ্যে সেনাবাহিনীর দমন অভিযানের পূর্ণাঙ্গ তদন্তের পথ খুলতে সালের অগাস্ট রাখাইনে নিরাপত্তা বাহিনীর স্থাপনায় বিদ্রোহীদের হামলার রোহিঙ্গাদের গ্রামে গ্রামে সেনাবাহিনীর অভিযান বাংলাদেশ সীমান্তের রোহিঙ্গাদের ঢল গত এক বছরে সাত লাখের রোহিঙ্গা প্রাণ বাঁচাতে বাংলাদেশে আশ্রয় নিয়েছে কথায় উঠে এসেছে নির্বিচারে হত্যা ধর্ষণ জ্বালাও পোড়াওয়ের ভয়াবহ বিবরণ']"
            ]
          },
          "metadata": {},
          "execution_count": 9
        }
      ]
    },
    {
      "cell_type": "code",
      "source": [
        "y=df['label']"
      ],
      "metadata": {
        "id": "oUVex_OPNdg9"
      },
      "execution_count": null,
      "outputs": []
    },
    {
      "cell_type": "code",
      "source": [
        "import tensorflow as tf\n",
        "import keras\n",
        "from keras.preprocessing.text import hashing_trick\n",
        "from keras.preprocessing.sequence import pad_sequences"
      ],
      "metadata": {
        "id": "m8xVSxPwNh8V"
      },
      "execution_count": null,
      "outputs": []
    },
    {
      "cell_type": "code",
      "source": [
        "voc_size=150000\n",
        "hashing_corpus=[hashing_trick(words, n=voc_size, hash_function='md5', lower=False) for words in corpus]"
      ],
      "metadata": {
        "id": "c81Bw86uNkTB"
      },
      "execution_count": null,
      "outputs": []
    },
    {
      "cell_type": "code",
      "source": [
        "sent_length=300\n",
        "embedded_docs=pad_sequences(hashing_corpus, maxlen=sent_length, truncating='post')\n",
        "print(embedded_docs)"
      ],
      "metadata": {
        "colab": {
          "base_uri": "https://localhost:8080/"
        },
        "id": "p2AyidC2Nnq1",
        "outputId": "ee585867-6c5c-408a-b222-27722d44131b"
      },
      "execution_count": null,
      "outputs": [
        {
          "output_type": "stream",
          "name": "stdout",
          "text": [
            "[[     0      0      0 ...  37540  27684 146556]\n",
            " [     0      0      0 ...  98419 128765  61779]\n",
            " [     0      0      0 ... 140883  80976  62841]\n",
            " ...\n",
            " [     0      0      0 ...  50471  87607 134000]\n",
            " [ 66150 130523 149829 ...  16284  98419 139054]\n",
            " [     0      0      0 ... 137564 142486 112133]]\n"
          ]
        }
      ]
    },
    {
      "cell_type": "code",
      "source": [
        "len(embedded_docs)"
      ],
      "metadata": {
        "colab": {
          "base_uri": "https://localhost:8080/"
        },
        "id": "UTkFsyTtNszd",
        "outputId": "16dd24b4-82b5-40ca-e1bc-296a6c08349d"
      },
      "execution_count": null,
      "outputs": [
        {
          "output_type": "execute_result",
          "data": {
            "text/plain": [
              "8501"
            ]
          },
          "metadata": {},
          "execution_count": 14
        }
      ]
    },
    {
      "cell_type": "code",
      "source": [
        "X_final=np.array(embedded_docs)\n",
        "y_final=np.array(y)\n",
        "X_final.shape, y_final.shape"
      ],
      "metadata": {
        "colab": {
          "base_uri": "https://localhost:8080/"
        },
        "id": "NOWtJ5yrNxKw",
        "outputId": "c2f374b8-8471-49ae-fd3f-25678a220b3e"
      },
      "execution_count": null,
      "outputs": [
        {
          "output_type": "execute_result",
          "data": {
            "text/plain": [
              "((8501, 300), (8501,))"
            ]
          },
          "metadata": {},
          "execution_count": 15
        }
      ]
    },
    {
      "cell_type": "code",
      "source": [
        "lstm_pred=lstm.predict(X_final)\n",
        "gru_pred=gru.predict(X_final)\n",
        "cnn_lstm_pred=cnn_lstm.predict(X_final)\n",
        "cnn_gru_pred=cnn_gru.predict(X_final)"
      ],
      "metadata": {
        "id": "sXP2egqgNzki"
      },
      "execution_count": null,
      "outputs": []
    },
    {
      "cell_type": "code",
      "source": [
        "lstm_pred=lstm_pred.round()\n",
        "gru_pred=gru_pred.round()\n",
        "cnn_lstm_pred=cnn_lstm_pred.round()\n",
        "cnn_gru_pred=cnn_gru_pred.round()"
      ],
      "metadata": {
        "id": "dD74l4p3OxL7"
      },
      "execution_count": null,
      "outputs": []
    },
    {
      "cell_type": "code",
      "source": [
        "print(f'Actual Outcomes ---> {y_final[:10]}')\n",
        "print(f'Prediction Outcomes in LSTM Model ---> {lstm_pred[:10]}')\n",
        "print(f'Prediction Outcomes in GRU Model ---> {gru_pred[:10]}')\n",
        "print(f'Prediction Outcomes in CNN_LSTM Model ---> {cnn_lstm_pred[:10]}')\n",
        "print(f'Prediction Outcomes in CNN_GRU Model ---> {cnn_gru_pred[:10]}')"
      ],
      "metadata": {
        "colab": {
          "base_uri": "https://localhost:8080/"
        },
        "id": "_cTIzS_QOOjo",
        "outputId": "891d770f-3827-4ef2-f2e6-418c26164ac9"
      },
      "execution_count": null,
      "outputs": [
        {
          "output_type": "stream",
          "name": "stdout",
          "text": [
            "Actual Outcomes ---> [0 1 1 1 1 1 1 1 1 0]\n",
            "Prediction Outcomes in LSTM Model ---> [[1.]\n",
            " [1.]\n",
            " [1.]\n",
            " [1.]\n",
            " [1.]\n",
            " [1.]\n",
            " [1.]\n",
            " [1.]\n",
            " [1.]\n",
            " [0.]]\n",
            "Prediction Outcomes in GRU Model ---> [[0.]\n",
            " [1.]\n",
            " [1.]\n",
            " [1.]\n",
            " [1.]\n",
            " [1.]\n",
            " [1.]\n",
            " [1.]\n",
            " [1.]\n",
            " [0.]]\n",
            "Prediction Outcomes in CNN_LSTM Model ---> [[0.]\n",
            " [1.]\n",
            " [1.]\n",
            " [1.]\n",
            " [1.]\n",
            " [1.]\n",
            " [1.]\n",
            " [1.]\n",
            " [1.]\n",
            " [0.]]\n",
            "Prediction Outcomes in CNN_GRU Model ---> [[0.]\n",
            " [1.]\n",
            " [1.]\n",
            " [1.]\n",
            " [1.]\n",
            " [1.]\n",
            " [1.]\n",
            " [1.]\n",
            " [1.]\n",
            " [0.]]\n"
          ]
        }
      ]
    },
    {
      "cell_type": "code",
      "source": [
        "def model_accuracy(pred):\n",
        "  return accuracy_score(y, pred)\n",
        "\n",
        "\n",
        "lstm_accuracy=model_accuracy(lstm_pred).round(2)\n",
        "gru_accuracy=model_accuracy(gru_pred).round(2)\n",
        "cnn_lstm_accuracy=model_accuracy(cnn_lstm_pred).round(2)\n",
        "cnn_gru_accuracy=model_accuracy(cnn_gru_pred).round(2)"
      ],
      "metadata": {
        "id": "fQ6BvA76OnIN"
      },
      "execution_count": null,
      "outputs": []
    },
    {
      "cell_type": "code",
      "source": [
        "accuracy_scores={'Models Used':['LSTM', 'GRU', 'CNN-LSTM', 'CNN-GRU'],\n",
        "                 'Accuracy':[lstm_accuracy, gru_accuracy, cnn_lstm_accuracy, cnn_gru_accuracy]\n",
        "}\n",
        "\n",
        "\n",
        "df_acc=pd.DataFrame(accuracy_scores)\n",
        "df_acc=df_acc.sort_values('Accuracy')\n",
        "df_acc.to_csv('/content/drive/MyDrive/CSE-400(Project Thesis)/Accuarcy_DL_hashing.csv', index=False)"
      ],
      "metadata": {
        "id": "pjbCricdQ_7r"
      },
      "execution_count": null,
      "outputs": []
    },
    {
      "cell_type": "code",
      "source": [
        "acc_df=df_acc.set_index('Models Used')\n",
        "acc_df"
      ],
      "metadata": {
        "colab": {
          "base_uri": "https://localhost:8080/",
          "height": 206
        },
        "id": "oV9kZ7f4R8nv",
        "outputId": "1b7a0da2-b2e3-4e38-ae64-99946dee3f0e"
      },
      "execution_count": null,
      "outputs": [
        {
          "output_type": "execute_result",
          "data": {
            "text/plain": [
              "             Accuracy\n",
              "Models Used          \n",
              "LSTM             0.97\n",
              "GRU              0.97\n",
              "CNN-GRU          0.97\n",
              "CNN-LSTM         0.98"
            ],
            "text/html": [
              "\n",
              "  <div id=\"df-92bb6bd0-f432-4e89-bd3b-1706abfb96a0\">\n",
              "    <div class=\"colab-df-container\">\n",
              "      <div>\n",
              "<style scoped>\n",
              "    .dataframe tbody tr th:only-of-type {\n",
              "        vertical-align: middle;\n",
              "    }\n",
              "\n",
              "    .dataframe tbody tr th {\n",
              "        vertical-align: top;\n",
              "    }\n",
              "\n",
              "    .dataframe thead th {\n",
              "        text-align: right;\n",
              "    }\n",
              "</style>\n",
              "<table border=\"1\" class=\"dataframe\">\n",
              "  <thead>\n",
              "    <tr style=\"text-align: right;\">\n",
              "      <th></th>\n",
              "      <th>Accuracy</th>\n",
              "    </tr>\n",
              "    <tr>\n",
              "      <th>Models Used</th>\n",
              "      <th></th>\n",
              "    </tr>\n",
              "  </thead>\n",
              "  <tbody>\n",
              "    <tr>\n",
              "      <th>LSTM</th>\n",
              "      <td>0.97</td>\n",
              "    </tr>\n",
              "    <tr>\n",
              "      <th>GRU</th>\n",
              "      <td>0.97</td>\n",
              "    </tr>\n",
              "    <tr>\n",
              "      <th>CNN-GRU</th>\n",
              "      <td>0.97</td>\n",
              "    </tr>\n",
              "    <tr>\n",
              "      <th>CNN-LSTM</th>\n",
              "      <td>0.98</td>\n",
              "    </tr>\n",
              "  </tbody>\n",
              "</table>\n",
              "</div>\n",
              "      <button class=\"colab-df-convert\" onclick=\"convertToInteractive('df-92bb6bd0-f432-4e89-bd3b-1706abfb96a0')\"\n",
              "              title=\"Convert this dataframe to an interactive table.\"\n",
              "              style=\"display:none;\">\n",
              "        \n",
              "  <svg xmlns=\"http://www.w3.org/2000/svg\" height=\"24px\"viewBox=\"0 0 24 24\"\n",
              "       width=\"24px\">\n",
              "    <path d=\"M0 0h24v24H0V0z\" fill=\"none\"/>\n",
              "    <path d=\"M18.56 5.44l.94 2.06.94-2.06 2.06-.94-2.06-.94-.94-2.06-.94 2.06-2.06.94zm-11 1L8.5 8.5l.94-2.06 2.06-.94-2.06-.94L8.5 2.5l-.94 2.06-2.06.94zm10 10l.94 2.06.94-2.06 2.06-.94-2.06-.94-.94-2.06-.94 2.06-2.06.94z\"/><path d=\"M17.41 7.96l-1.37-1.37c-.4-.4-.92-.59-1.43-.59-.52 0-1.04.2-1.43.59L10.3 9.45l-7.72 7.72c-.78.78-.78 2.05 0 2.83L4 21.41c.39.39.9.59 1.41.59.51 0 1.02-.2 1.41-.59l7.78-7.78 2.81-2.81c.8-.78.8-2.07 0-2.86zM5.41 20L4 18.59l7.72-7.72 1.47 1.35L5.41 20z\"/>\n",
              "  </svg>\n",
              "      </button>\n",
              "      \n",
              "  <style>\n",
              "    .colab-df-container {\n",
              "      display:flex;\n",
              "      flex-wrap:wrap;\n",
              "      gap: 12px;\n",
              "    }\n",
              "\n",
              "    .colab-df-convert {\n",
              "      background-color: #E8F0FE;\n",
              "      border: none;\n",
              "      border-radius: 50%;\n",
              "      cursor: pointer;\n",
              "      display: none;\n",
              "      fill: #1967D2;\n",
              "      height: 32px;\n",
              "      padding: 0 0 0 0;\n",
              "      width: 32px;\n",
              "    }\n",
              "\n",
              "    .colab-df-convert:hover {\n",
              "      background-color: #E2EBFA;\n",
              "      box-shadow: 0px 1px 2px rgba(60, 64, 67, 0.3), 0px 1px 3px 1px rgba(60, 64, 67, 0.15);\n",
              "      fill: #174EA6;\n",
              "    }\n",
              "\n",
              "    [theme=dark] .colab-df-convert {\n",
              "      background-color: #3B4455;\n",
              "      fill: #D2E3FC;\n",
              "    }\n",
              "\n",
              "    [theme=dark] .colab-df-convert:hover {\n",
              "      background-color: #434B5C;\n",
              "      box-shadow: 0px 1px 3px 1px rgba(0, 0, 0, 0.15);\n",
              "      filter: drop-shadow(0px 1px 2px rgba(0, 0, 0, 0.3));\n",
              "      fill: #FFFFFF;\n",
              "    }\n",
              "  </style>\n",
              "\n",
              "      <script>\n",
              "        const buttonEl =\n",
              "          document.querySelector('#df-92bb6bd0-f432-4e89-bd3b-1706abfb96a0 button.colab-df-convert');\n",
              "        buttonEl.style.display =\n",
              "          google.colab.kernel.accessAllowed ? 'block' : 'none';\n",
              "\n",
              "        async function convertToInteractive(key) {\n",
              "          const element = document.querySelector('#df-92bb6bd0-f432-4e89-bd3b-1706abfb96a0');\n",
              "          const dataTable =\n",
              "            await google.colab.kernel.invokeFunction('convertToInteractive',\n",
              "                                                     [key], {});\n",
              "          if (!dataTable) return;\n",
              "\n",
              "          const docLinkHtml = 'Like what you see? Visit the ' +\n",
              "            '<a target=\"_blank\" href=https://colab.research.google.com/notebooks/data_table.ipynb>data table notebook</a>'\n",
              "            + ' to learn more about interactive tables.';\n",
              "          element.innerHTML = '';\n",
              "          dataTable['output_type'] = 'display_data';\n",
              "          await google.colab.output.renderOutput(dataTable, element);\n",
              "          const docLink = document.createElement('div');\n",
              "          docLink.innerHTML = docLinkHtml;\n",
              "          element.appendChild(docLink);\n",
              "        }\n",
              "      </script>\n",
              "    </div>\n",
              "  </div>\n",
              "  "
            ]
          },
          "metadata": {},
          "execution_count": 21
        }
      ]
    },
    {
      "cell_type": "code",
      "source": [
        "acc_df.plot.barh(figsize=(15, 6));\n",
        "plt.ylabel('')\n",
        "plt.xlabel('Accuracy', fontsize=15)\n",
        "plt.title('Accuracy of the DL Models (Hashing)\\n', fontsize=20, color='red')\n",
        "plt.legend(bbox_to_anchor=(1.1, 1.1), fontsize=10)\n",
        "plt.xticks([0, .1, .2, .3, .4, .5, .6, .7, .8, .9, 1.0], fontsize=10)\n",
        "plt.yticks(fontsize=10)\n",
        "plt.tight_layout()\n",
        "plt.show()"
      ],
      "metadata": {
        "colab": {
          "base_uri": "https://localhost:8080/",
          "height": 437
        },
        "id": "tWZXxQkVSHvJ",
        "outputId": "e5d75b6e-4b30-4c12-a746-de84bc459208"
      },
      "execution_count": null,
      "outputs": [
        {
          "output_type": "display_data",
          "data": {
            "text/plain": [
              "<Figure size 1080x432 with 1 Axes>"
            ],
            "image/png": "[encoded data removed]"
          },
          "metadata": {}
        }
      ]
    },
    {
      "cell_type": "code",
      "source": [
        "def fake_news_performance(pred, model_name=''):\n",
        "  cm=confusion_matrix(y, pred)\n",
        "  recall=np.diag(cm) / np.sum(cm, axis=1)\n",
        "  precision=np.diag(cm) / np.sum(cm, axis=0)\n",
        "  fake_recall=recall[0].round(2)\n",
        "  fake_precision=precision[0].round(2)\n",
        "  fake_f1_score=(2*fake_recall*fake_precision)/(fake_recall+fake_precision)\n",
        "  fake_f1_score=fake_f1_score.round(2)\n",
        "  label_names=['fake', 'real']\n",
        "  df_cm=pd.DataFrame(cm, index=label_names, columns=label_names)\n",
        "  plt.figure(figsize=(15, 6))\n",
        "  sns.heatmap(df_cm, annot=True, annot_kws={\"size\": 15}, fmt='g')\n",
        "  plt.xticks(fontsize=15)\n",
        "  plt.yticks(rotation=0, fontsize=15)\n",
        "  plt.title('\\nConfusion Matrix for '+model_name+' (Hashing)\\n', fontsize=20, color='red')\n",
        "  plt.show()\n",
        "    \n",
        "  print('-----------------------------------------------------------------------------------------------------------------')\n",
        "  print(f'\\nClassification Report for:--> {model_name} (Hashing) \\n{classification_report(y, pred, target_names=label_names)}')\n",
        "\n",
        "  return fake_precision, fake_recall, fake_f1_score"
      ],
      "metadata": {
        "id": "WcESmb1wSP3y"
      },
      "execution_count": null,
      "outputs": []
    },
    {
      "cell_type": "code",
      "source": [
        "fake_precision_lstm, fake_recall_lstm, fake_f1_score_lstm=fake_news_performance(lstm_pred, 'LSTM Model')"
      ],
      "metadata": {
        "colab": {
          "base_uri": "https://localhost:8080/",
          "height": 655
        },
        "id": "CXn6AM6sStas",
        "outputId": "2f185389-94b0-4c7f-9ac2-efcf48a6bf9f"
      },
      "execution_count": null,
      "outputs": [
        {
          "output_type": "display_data",
          "data": {
            "text/plain": [
              "<Figure size 1080x432 with 2 Axes>"
            ],
            "image/png": "[encoded data removed]"
          },
          "metadata": {}
        },
        {
          "output_type": "stream",
          "name": "stdout",
          "text": [
            "-----------------------------------------------------------------------------------------------------------------\n",
            "\n",
            "Classification Report for:--> LSTM Model (Hashing) \n",
            "              precision    recall  f1-score   support\n",
            "\n",
            "        fake       1.00      0.80      0.89      1299\n",
            "        real       0.97      1.00      0.98      7202\n",
            "\n",
            "    accuracy                           0.97      8501\n",
            "   macro avg       0.98      0.90      0.94      8501\n",
            "weighted avg       0.97      0.97      0.97      8501\n",
            "\n"
          ]
        }
      ]
    },
    {
      "cell_type": "code",
      "source": [
        "print(f'Precision, Recall and F1 Score for Fake News Classification using LSTM Model --> {fake_precision_lstm, fake_recall_lstm, fake_f1_score_lstm}, respectively')"
      ],
      "metadata": {
        "colab": {
          "base_uri": "https://localhost:8080/"
        },
        "id": "tjwV67cgUV6p",
        "outputId": "eab7e769-fe1c-4341-acce-3b1ddf0d7869"
      },
      "execution_count": null,
      "outputs": [
        {
          "output_type": "stream",
          "name": "stdout",
          "text": [
            "Precision, Recall and F1 Score for Fake News Classification using LSTM Model --> (1.0, 0.8, 0.89), respectively\n"
          ]
        }
      ]
    },
    {
      "cell_type": "code",
      "source": [
        "fake_precision_gru, fake_recall_gru, fake_f1_score_gru=fake_news_performance(gru_pred, 'GRU Model')"
      ],
      "metadata": {
        "colab": {
          "base_uri": "https://localhost:8080/",
          "height": 655
        },
        "id": "fjbqbGuJTFIX",
        "outputId": "a4f6f4cc-7e90-41cb-80dc-0a9fbd739aa9"
      },
      "execution_count": null,
      "outputs": [
        {
          "output_type": "display_data",
          "data": {
            "text/plain": [
              "<Figure size 1080x432 with 2 Axes>"
            ],
            "image/png": "[encoded data removed]"
          },
          "metadata": {}
        },
        {
          "output_type": "stream",
          "name": "stdout",
          "text": [
            "-----------------------------------------------------------------------------------------------------------------\n",
            "\n",
            "Classification Report for:--> GRU Model (Hashing) \n",
            "              precision    recall  f1-score   support\n",
            "\n",
            "        fake       0.98      0.85      0.91      1299\n",
            "        real       0.97      1.00      0.99      7202\n",
            "\n",
            "    accuracy                           0.97      8501\n",
            "   macro avg       0.98      0.92      0.95      8501\n",
            "weighted avg       0.97      0.97      0.97      8501\n",
            "\n"
          ]
        }
      ]
    },
    {
      "cell_type": "code",
      "source": [
        "print(f'Precision, Recall and F1 Score for Fake News Classification using GRU Model --> {fake_precision_gru, fake_recall_gru, fake_f1_score_gru}, respectively')"
      ],
      "metadata": {
        "colab": {
          "base_uri": "https://localhost:8080/"
        },
        "id": "lfX5l9cvUjXb",
        "outputId": "253276de-2bb2-45bd-a0a7-19ebfe3c9536"
      },
      "execution_count": null,
      "outputs": [
        {
          "output_type": "stream",
          "name": "stdout",
          "text": [
            "Precision, Recall and F1 Score for Fake News Classification using GRU Model --> (0.98, 0.85, 0.91), respectively\n"
          ]
        }
      ]
    },
    {
      "cell_type": "code",
      "source": [
        "fake_precision_cnn_lstm, fake_recall_cnn_lstm, fake_f1_score_cnn_lstm=fake_news_performance(cnn_lstm_pred, 'CNN-LSTM Model')"
      ],
      "metadata": {
        "colab": {
          "base_uri": "https://localhost:8080/",
          "height": 655
        },
        "id": "A-ZaOLxdTgN2",
        "outputId": "b699d916-318a-4e23-c592-9cfa3ac35277"
      },
      "execution_count": null,
      "outputs": [
        {
          "output_type": "display_data",
          "data": {
            "text/plain": [
              "<Figure size 1080x432 with 2 Axes>"
            ],
            "image/png": "[encoded data removed]"
          },
          "metadata": {}
        },
        {
          "output_type": "stream",
          "name": "stdout",
          "text": [
            "-----------------------------------------------------------------------------------------------------------------\n",
            "\n",
            "Classification Report for:--> CNN-LSTM Model (Hashing) \n",
            "              precision    recall  f1-score   support\n",
            "\n",
            "        fake       0.95      0.94      0.94      1299\n",
            "        real       0.99      0.99      0.99      7202\n",
            "\n",
            "    accuracy                           0.98      8501\n",
            "   macro avg       0.97      0.96      0.97      8501\n",
            "weighted avg       0.98      0.98      0.98      8501\n",
            "\n"
          ]
        }
      ]
    },
    {
      "cell_type": "code",
      "source": [
        "print(f'Precision, Recall and F1 Score for Fake News Classification using CNN-LSTM Model --> {fake_precision_cnn_lstm, fake_recall_cnn_lstm, fake_f1_score_cnn_lstm}, respectively')"
      ],
      "metadata": {
        "colab": {
          "base_uri": "https://localhost:8080/"
        },
        "id": "JWj0iYZdUrQY",
        "outputId": "0d3ec7e8-ad17-4a05-ebd9-6e45ebaeaaa0"
      },
      "execution_count": null,
      "outputs": [
        {
          "output_type": "stream",
          "name": "stdout",
          "text": [
            "Precision, Recall and F1 Score for Fake News Classification using CNN-LSTM Model --> (0.95, 0.94, 0.94), respectively\n"
          ]
        }
      ]
    },
    {
      "cell_type": "code",
      "source": [
        "fake_precision_cnn_gru, fake_recall_cnn_gru, fake_f1_score_cnn_gru=fake_news_performance(cnn_gru_pred, 'CNN-GRU Model')"
      ],
      "metadata": {
        "colab": {
          "base_uri": "https://localhost:8080/",
          "height": 655
        },
        "id": "NCfZspgqTzYE",
        "outputId": "e3224d9b-5a6d-438d-cfc9-20b7f05c3525"
      },
      "execution_count": null,
      "outputs": [
        {
          "output_type": "display_data",
          "data": {
            "text/plain": [
              "<Figure size 1080x432 with 2 Axes>"
            ],
            "image/png": "[encoded data removed]"
          },
          "metadata": {}
        },
        {
          "output_type": "stream",
          "name": "stdout",
          "text": [
            "-----------------------------------------------------------------------------------------------------------------\n",
            "\n",
            "Classification Report for:--> CNN-GRU Model (Hashing) \n",
            "              precision    recall  f1-score   support\n",
            "\n",
            "        fake       1.00      0.83      0.90      1299\n",
            "        real       0.97      1.00      0.98      7202\n",
            "\n",
            "    accuracy                           0.97      8501\n",
            "   macro avg       0.98      0.91      0.94      8501\n",
            "weighted avg       0.97      0.97      0.97      8501\n",
            "\n"
          ]
        }
      ]
    },
    {
      "cell_type": "code",
      "source": [
        "print(f'Precision, Recall and F1 Score for Fake News Classification using CNN-GRU Model --> {fake_precision_cnn_gru, fake_recall_cnn_gru, fake_f1_score_cnn_gru}, respectively')"
      ],
      "metadata": {
        "colab": {
          "base_uri": "https://localhost:8080/"
        },
        "id": "l9RKmnftUEDP",
        "outputId": "eb0fc937-ebdf-42a4-99ad-7b60b7279b4c"
      },
      "execution_count": null,
      "outputs": [
        {
          "output_type": "stream",
          "name": "stdout",
          "text": [
            "Precision, Recall and F1 Score for Fake News Classification using CNN-GRU Model --> (1.0, 0.83, 0.91), respectively\n"
          ]
        }
      ]
    },
    {
      "cell_type": "code",
      "source": [
        "fake_perform={'Models Used':['LSTM', 'GRU', 'CNN-LSTM', 'CNN-GRU'],\n",
        "              'Precision_fake':[fake_precision_lstm, fake_precision_gru, fake_precision_cnn_lstm, fake_precision_cnn_gru], \n",
        "              'Recall_fake':[fake_recall_lstm, fake_recall_gru, fake_recall_cnn_lstm, fake_recall_cnn_gru], \n",
        "              'F1-Score_fake':[fake_f1_score_lstm, fake_f1_score_gru, fake_f1_score_cnn_lstm, fake_f1_score_cnn_gru], \n",
        "              'Overall_Accuracy':[lstm_accuracy, gru_accuracy, cnn_lstm_accuracy, cnn_gru_accuracy]}\n",
        "\n",
        "df_fake_perform=pd.DataFrame(fake_perform)\n",
        "df_fake_perform"
      ],
      "metadata": {
        "colab": {
          "base_uri": "https://localhost:8080/",
          "height": 175
        },
        "id": "by_Bluk_VFAV",
        "outputId": "9412006a-1826-4739-a6f1-e6c945bc60d1"
      },
      "execution_count": null,
      "outputs": [
        {
          "output_type": "execute_result",
          "data": {
            "text/plain": [
              "  Models Used  Precision_fake  Recall_fake  F1-Score_fake  Overall_Accuracy\n",
              "0        LSTM            1.00         0.80           0.89              0.97\n",
              "1         GRU            0.98         0.85           0.91              0.97\n",
              "2    CNN-LSTM            0.95         0.94           0.94              0.98\n",
              "3     CNN-GRU            1.00         0.83           0.91              0.97"
            ],
            "text/html": [
              "\n",
              "  <div id=\"df-a27f330a-ff81-481d-8bdc-8c3e89644a43\">\n",
              "    <div class=\"colab-df-container\">\n",
              "      <div>\n",
              "<style scoped>\n",
              "    .dataframe tbody tr th:only-of-type {\n",
              "        vertical-align: middle;\n",
              "    }\n",
              "\n",
              "    .dataframe tbody tr th {\n",
              "        vertical-align: top;\n",
              "    }\n",
              "\n",
              "    .dataframe thead th {\n",
              "        text-align: right;\n",
              "    }\n",
              "</style>\n",
              "<table border=\"1\" class=\"dataframe\">\n",
              "  <thead>\n",
              "    <tr style=\"text-align: right;\">\n",
              "      <th></th>\n",
              "      <th>Models Used</th>\n",
              "      <th>Precision_fake</th>\n",
              "      <th>Recall_fake</th>\n",
              "      <th>F1-Score_fake</th>\n",
              "      <th>Overall_Accuracy</th>\n",
              "    </tr>\n",
              "  </thead>\n",
              "  <tbody>\n",
              "    <tr>\n",
              "      <th>0</th>\n",
              "      <td>LSTM</td>\n",
              "      <td>1.00</td>\n",
              "      <td>0.80</td>\n",
              "      <td>0.89</td>\n",
              "      <td>0.97</td>\n",
              "    </tr>\n",
              "    <tr>\n",
              "      <th>1</th>\n",
              "      <td>GRU</td>\n",
              "      <td>0.98</td>\n",
              "      <td>0.85</td>\n",
              "      <td>0.91</td>\n",
              "      <td>0.97</td>\n",
              "    </tr>\n",
              "    <tr>\n",
              "      <th>2</th>\n",
              "      <td>CNN-LSTM</td>\n",
              "      <td>0.95</td>\n",
              "      <td>0.94</td>\n",
              "      <td>0.94</td>\n",
              "      <td>0.98</td>\n",
              "    </tr>\n",
              "    <tr>\n",
              "      <th>3</th>\n",
              "      <td>CNN-GRU</td>\n",
              "      <td>1.00</td>\n",
              "      <td>0.83</td>\n",
              "      <td>0.91</td>\n",
              "      <td>0.97</td>\n",
              "    </tr>\n",
              "  </tbody>\n",
              "</table>\n",
              "</div>\n",
              "      <button class=\"colab-df-convert\" onclick=\"convertToInteractive('df-a27f330a-ff81-481d-8bdc-8c3e89644a43')\"\n",
              "              title=\"Convert this dataframe to an interactive table.\"\n",
              "              style=\"display:none;\">\n",
              "        \n",
              "  <svg xmlns=\"http://www.w3.org/2000/svg\" height=\"24px\"viewBox=\"0 0 24 24\"\n",
              "       width=\"24px\">\n",
              "    <path d=\"M0 0h24v24H0V0z\" fill=\"none\"/>\n",
              "    <path d=\"M18.56 5.44l.94 2.06.94-2.06 2.06-.94-2.06-.94-.94-2.06-.94 2.06-2.06.94zm-11 1L8.5 8.5l.94-2.06 2.06-.94-2.06-.94L8.5 2.5l-.94 2.06-2.06.94zm10 10l.94 2.06.94-2.06 2.06-.94-2.06-.94-.94-2.06-.94 2.06-2.06.94z\"/><path d=\"M17.41 7.96l-1.37-1.37c-.4-.4-.92-.59-1.43-.59-.52 0-1.04.2-1.43.59L10.3 9.45l-7.72 7.72c-.78.78-.78 2.05 0 2.83L4 21.41c.39.39.9.59 1.41.59.51 0 1.02-.2 1.41-.59l7.78-7.78 2.81-2.81c.8-.78.8-2.07 0-2.86zM5.41 20L4 18.59l7.72-7.72 1.47 1.35L5.41 20z\"/>\n",
              "  </svg>\n",
              "      </button>\n",
              "      \n",
              "  <style>\n",
              "    .colab-df-container {\n",
              "      display:flex;\n",
              "      flex-wrap:wrap;\n",
              "      gap: 12px;\n",
              "    }\n",
              "\n",
              "    .colab-df-convert {\n",
              "      background-color: #E8F0FE;\n",
              "      border: none;\n",
              "      border-radius: 50%;\n",
              "      cursor: pointer;\n",
              "      display: none;\n",
              "      fill: #1967D2;\n",
              "      height: 32px;\n",
              "      padding: 0 0 0 0;\n",
              "      width: 32px;\n",
              "    }\n",
              "\n",
              "    .colab-df-convert:hover {\n",
              "      background-color: #E2EBFA;\n",
              "      box-shadow: 0px 1px 2px rgba(60, 64, 67, 0.3), 0px 1px 3px 1px rgba(60, 64, 67, 0.15);\n",
              "      fill: #174EA6;\n",
              "    }\n",
              "\n",
              "    [theme=dark] .colab-df-convert {\n",
              "      background-color: #3B4455;\n",
              "      fill: #D2E3FC;\n",
              "    }\n",
              "\n",
              "    [theme=dark] .colab-df-convert:hover {\n",
              "      background-color: #434B5C;\n",
              "      box-shadow: 0px 1px 3px 1px rgba(0, 0, 0, 0.15);\n",
              "      filter: drop-shadow(0px 1px 2px rgba(0, 0, 0, 0.3));\n",
              "      fill: #FFFFFF;\n",
              "    }\n",
              "  </style>\n",
              "\n",
              "      <script>\n",
              "        const buttonEl =\n",
              "          document.querySelector('#df-a27f330a-ff81-481d-8bdc-8c3e89644a43 button.colab-df-convert');\n",
              "        buttonEl.style.display =\n",
              "          google.colab.kernel.accessAllowed ? 'block' : 'none';\n",
              "\n",
              "        async function convertToInteractive(key) {\n",
              "          const element = document.querySelector('#df-a27f330a-ff81-481d-8bdc-8c3e89644a43');\n",
              "          const dataTable =\n",
              "            await google.colab.kernel.invokeFunction('convertToInteractive',\n",
              "                                                     [key], {});\n",
              "          if (!dataTable) return;\n",
              "\n",
              "          const docLinkHtml = 'Like what you see? Visit the ' +\n",
              "            '<a target=\"_blank\" href=https://colab.research.google.com/notebooks/data_table.ipynb>data table notebook</a>'\n",
              "            + ' to learn more about interactive tables.';\n",
              "          element.innerHTML = '';\n",
              "          dataTable['output_type'] = 'display_data';\n",
              "          await google.colab.output.renderOutput(dataTable, element);\n",
              "          const docLink = document.createElement('div');\n",
              "          docLink.innerHTML = docLinkHtml;\n",
              "          element.appendChild(docLink);\n",
              "        }\n",
              "      </script>\n",
              "    </div>\n",
              "  </div>\n",
              "  "
            ]
          },
          "metadata": {},
          "execution_count": 32
        }
      ]
    },
    {
      "cell_type": "code",
      "source": [
        "df_fake_perform.to_csv('/content/drive/MyDrive/CSE-400(Project Thesis)/fake_news_detection_performance_DL.csv', index=False)"
      ],
      "metadata": {
        "id": "15fIBWzeVzSc"
      },
      "execution_count": null,
      "outputs": []
    },
    {
      "cell_type": "code",
      "source": [
        "df_fake_perform.groupby('Models Used')['Precision_fake'].sum().sort_values(ascending=False)"
      ],
      "metadata": {
        "colab": {
          "base_uri": "https://localhost:8080/"
        },
        "id": "w9P2iRTIV7NN",
        "outputId": "d15d93f7-9f15-4ea3-a625-6ba959d3a14f"
      },
      "execution_count": null,
      "outputs": [
        {
          "output_type": "execute_result",
          "data": {
            "text/plain": [
              "Models Used\n",
              "CNN-GRU     1.00\n",
              "LSTM        1.00\n",
              "GRU         0.98\n",
              "CNN-LSTM    0.95\n",
              "Name: Precision_fake, dtype: float64"
            ]
          },
          "metadata": {},
          "execution_count": 34
        }
      ]
    },
    {
      "cell_type": "code",
      "source": [
        "df_fake_perform.groupby('Models Used')['Recall_fake'].sum().sort_values(ascending=False)"
      ],
      "metadata": {
        "colab": {
          "base_uri": "https://localhost:8080/"
        },
        "id": "vwqCGiidV9pM",
        "outputId": "970320da-f6fe-4192-88e7-4ecfc1524f8b"
      },
      "execution_count": null,
      "outputs": [
        {
          "output_type": "execute_result",
          "data": {
            "text/plain": [
              "Models Used\n",
              "CNN-LSTM    0.94\n",
              "GRU         0.85\n",
              "CNN-GRU     0.83\n",
              "LSTM        0.80\n",
              "Name: Recall_fake, dtype: float64"
            ]
          },
          "metadata": {},
          "execution_count": 35
        }
      ]
    },
    {
      "cell_type": "code",
      "source": [
        "df_fake_perform.groupby('Models Used')['F1-Score_fake'].sum().sort_values(ascending=False)"
      ],
      "metadata": {
        "colab": {
          "base_uri": "https://localhost:8080/"
        },
        "id": "N_YQxzTzWD5K",
        "outputId": "e28bfcf2-be9e-4f4c-9b2d-deb12982440f"
      },
      "execution_count": null,
      "outputs": [
        {
          "output_type": "execute_result",
          "data": {
            "text/plain": [
              "Models Used\n",
              "CNN-LSTM    0.94\n",
              "CNN-GRU     0.91\n",
              "GRU         0.91\n",
              "LSTM        0.89\n",
              "Name: F1-Score_fake, dtype: float64"
            ]
          },
          "metadata": {},
          "execution_count": 36
        }
      ]
    },
    {
      "cell_type": "code",
      "source": [
        "df_fake_perform.set_index('Models Used', inplace=True)\n",
        "df_fake_perform"
      ],
      "metadata": {
        "colab": {
          "base_uri": "https://localhost:8080/",
          "height": 206
        },
        "id": "mfCQhX4PWILL",
        "outputId": "cc26d31b-bd7e-478a-809f-efafd2cab0ae"
      },
      "execution_count": null,
      "outputs": [
        {
          "output_type": "execute_result",
          "data": {
            "text/plain": [
              "             Precision_fake  Recall_fake  F1-Score_fake  Overall_Accuracy\n",
              "Models Used                                                              \n",
              "LSTM                   1.00         0.80           0.89              0.97\n",
              "GRU                    0.98         0.85           0.91              0.97\n",
              "CNN-LSTM               0.95         0.94           0.94              0.98\n",
              "CNN-GRU                1.00         0.83           0.91              0.97"
            ],
            "text/html": [
              "\n",
              "  <div id=\"df-2ae97140-8100-4c97-a219-d52f52d8d9ea\">\n",
              "    <div class=\"colab-df-container\">\n",
              "      <div>\n",
              "<style scoped>\n",
              "    .dataframe tbody tr th:only-of-type {\n",
              "        vertical-align: middle;\n",
              "    }\n",
              "\n",
              "    .dataframe tbody tr th {\n",
              "        vertical-align: top;\n",
              "    }\n",
              "\n",
              "    .dataframe thead th {\n",
              "        text-align: right;\n",
              "    }\n",
              "</style>\n",
              "<table border=\"1\" class=\"dataframe\">\n",
              "  <thead>\n",
              "    <tr style=\"text-align: right;\">\n",
              "      <th></th>\n",
              "      <th>Precision_fake</th>\n",
              "      <th>Recall_fake</th>\n",
              "      <th>F1-Score_fake</th>\n",
              "      <th>Overall_Accuracy</th>\n",
              "    </tr>\n",
              "    <tr>\n",
              "      <th>Models Used</th>\n",
              "      <th></th>\n",
              "      <th></th>\n",
              "      <th></th>\n",
              "      <th></th>\n",
              "    </tr>\n",
              "  </thead>\n",
              "  <tbody>\n",
              "    <tr>\n",
              "      <th>LSTM</th>\n",
              "      <td>1.00</td>\n",
              "      <td>0.80</td>\n",
              "      <td>0.89</td>\n",
              "      <td>0.97</td>\n",
              "    </tr>\n",
              "    <tr>\n",
              "      <th>GRU</th>\n",
              "      <td>0.98</td>\n",
              "      <td>0.85</td>\n",
              "      <td>0.91</td>\n",
              "      <td>0.97</td>\n",
              "    </tr>\n",
              "    <tr>\n",
              "      <th>CNN-LSTM</th>\n",
              "      <td>0.95</td>\n",
              "      <td>0.94</td>\n",
              "      <td>0.94</td>\n",
              "      <td>0.98</td>\n",
              "    </tr>\n",
              "    <tr>\n",
              "      <th>CNN-GRU</th>\n",
              "      <td>1.00</td>\n",
              "      <td>0.83</td>\n",
              "      <td>0.91</td>\n",
              "      <td>0.97</td>\n",
              "    </tr>\n",
              "  </tbody>\n",
              "</table>\n",
              "</div>\n",
              "      <button class=\"colab-df-convert\" onclick=\"convertToInteractive('df-2ae97140-8100-4c97-a219-d52f52d8d9ea')\"\n",
              "              title=\"Convert this dataframe to an interactive table.\"\n",
              "              style=\"display:none;\">\n",
              "        \n",
              "  <svg xmlns=\"http://www.w3.org/2000/svg\" height=\"24px\"viewBox=\"0 0 24 24\"\n",
              "       width=\"24px\">\n",
              "    <path d=\"M0 0h24v24H0V0z\" fill=\"none\"/>\n",
              "    <path d=\"M18.56 5.44l.94 2.06.94-2.06 2.06-.94-2.06-.94-.94-2.06-.94 2.06-2.06.94zm-11 1L8.5 8.5l.94-2.06 2.06-.94-2.06-.94L8.5 2.5l-.94 2.06-2.06.94zm10 10l.94 2.06.94-2.06 2.06-.94-2.06-.94-.94-2.06-.94 2.06-2.06.94z\"/><path d=\"M17.41 7.96l-1.37-1.37c-.4-.4-.92-.59-1.43-.59-.52 0-1.04.2-1.43.59L10.3 9.45l-7.72 7.72c-.78.78-.78 2.05 0 2.83L4 21.41c.39.39.9.59 1.41.59.51 0 1.02-.2 1.41-.59l7.78-7.78 2.81-2.81c.8-.78.8-2.07 0-2.86zM5.41 20L4 18.59l7.72-7.72 1.47 1.35L5.41 20z\"/>\n",
              "  </svg>\n",
              "      </button>\n",
              "      \n",
              "  <style>\n",
              "    .colab-df-container {\n",
              "      display:flex;\n",
              "      flex-wrap:wrap;\n",
              "      gap: 12px;\n",
              "    }\n",
              "\n",
              "    .colab-df-convert {\n",
              "      background-color: #E8F0FE;\n",
              "      border: none;\n",
              "      border-radius: 50%;\n",
              "      cursor: pointer;\n",
              "      display: none;\n",
              "      fill: #1967D2;\n",
              "      height: 32px;\n",
              "      padding: 0 0 0 0;\n",
              "      width: 32px;\n",
              "    }\n",
              "\n",
              "    .colab-df-convert:hover {\n",
              "      background-color: #E2EBFA;\n",
              "      box-shadow: 0px 1px 2px rgba(60, 64, 67, 0.3), 0px 1px 3px 1px rgba(60, 64, 67, 0.15);\n",
              "      fill: #174EA6;\n",
              "    }\n",
              "\n",
              "    [theme=dark] .colab-df-convert {\n",
              "      background-color: #3B4455;\n",
              "      fill: #D2E3FC;\n",
              "    }\n",
              "\n",
              "    [theme=dark] .colab-df-convert:hover {\n",
              "      background-color: #434B5C;\n",
              "      box-shadow: 0px 1px 3px 1px rgba(0, 0, 0, 0.15);\n",
              "      filter: drop-shadow(0px 1px 2px rgba(0, 0, 0, 0.3));\n",
              "      fill: #FFFFFF;\n",
              "    }\n",
              "  </style>\n",
              "\n",
              "      <script>\n",
              "        const buttonEl =\n",
              "          document.querySelector('#df-2ae97140-8100-4c97-a219-d52f52d8d9ea button.colab-df-convert');\n",
              "        buttonEl.style.display =\n",
              "          google.colab.kernel.accessAllowed ? 'block' : 'none';\n",
              "\n",
              "        async function convertToInteractive(key) {\n",
              "          const element = document.querySelector('#df-2ae97140-8100-4c97-a219-d52f52d8d9ea');\n",
              "          const dataTable =\n",
              "            await google.colab.kernel.invokeFunction('convertToInteractive',\n",
              "                                                     [key], {});\n",
              "          if (!dataTable) return;\n",
              "\n",
              "          const docLinkHtml = 'Like what you see? Visit the ' +\n",
              "            '<a target=\"_blank\" href=https://colab.research.google.com/notebooks/data_table.ipynb>data table notebook</a>'\n",
              "            + ' to learn more about interactive tables.';\n",
              "          element.innerHTML = '';\n",
              "          dataTable['output_type'] = 'display_data';\n",
              "          await google.colab.output.renderOutput(dataTable, element);\n",
              "          const docLink = document.createElement('div');\n",
              "          docLink.innerHTML = docLinkHtml;\n",
              "          element.appendChild(docLink);\n",
              "        }\n",
              "      </script>\n",
              "    </div>\n",
              "  </div>\n",
              "  "
            ]
          },
          "metadata": {},
          "execution_count": 37
        }
      ]
    },
    {
      "cell_type": "code",
      "source": [
        "df_fake_perform=df_fake_perform.sort_values('F1-Score_fake', ascending=False)\n",
        "df_fake_perform"
      ],
      "metadata": {
        "colab": {
          "base_uri": "https://localhost:8080/",
          "height": 206
        },
        "id": "Gi0TR99YWhlr",
        "outputId": "f4cdd9d6-4354-4d05-a488-160306862d50"
      },
      "execution_count": null,
      "outputs": [
        {
          "output_type": "execute_result",
          "data": {
            "text/plain": [
              "             Precision_fake  Recall_fake  F1-Score_fake  Overall_Accuracy\n",
              "Models Used                                                              \n",
              "CNN-LSTM               0.95         0.94           0.94              0.98\n",
              "GRU                    0.98         0.85           0.91              0.97\n",
              "CNN-GRU                1.00         0.83           0.91              0.97\n",
              "LSTM                   1.00         0.80           0.89              0.97"
            ],
            "text/html": [
              "\n",
              "  <div id=\"df-7660fbc3-7ed5-4b3d-b743-3ecc6bd18212\">\n",
              "    <div class=\"colab-df-container\">\n",
              "      <div>\n",
              "<style scoped>\n",
              "    .dataframe tbody tr th:only-of-type {\n",
              "        vertical-align: middle;\n",
              "    }\n",
              "\n",
              "    .dataframe tbody tr th {\n",
              "        vertical-align: top;\n",
              "    }\n",
              "\n",
              "    .dataframe thead th {\n",
              "        text-align: right;\n",
              "    }\n",
              "</style>\n",
              "<table border=\"1\" class=\"dataframe\">\n",
              "  <thead>\n",
              "    <tr style=\"text-align: right;\">\n",
              "      <th></th>\n",
              "      <th>Precision_fake</th>\n",
              "      <th>Recall_fake</th>\n",
              "      <th>F1-Score_fake</th>\n",
              "      <th>Overall_Accuracy</th>\n",
              "    </tr>\n",
              "    <tr>\n",
              "      <th>Models Used</th>\n",
              "      <th></th>\n",
              "      <th></th>\n",
              "      <th></th>\n",
              "      <th></th>\n",
              "    </tr>\n",
              "  </thead>\n",
              "  <tbody>\n",
              "    <tr>\n",
              "      <th>CNN-LSTM</th>\n",
              "      <td>0.95</td>\n",
              "      <td>0.94</td>\n",
              "      <td>0.94</td>\n",
              "      <td>0.98</td>\n",
              "    </tr>\n",
              "    <tr>\n",
              "      <th>GRU</th>\n",
              "      <td>0.98</td>\n",
              "      <td>0.85</td>\n",
              "      <td>0.91</td>\n",
              "      <td>0.97</td>\n",
              "    </tr>\n",
              "    <tr>\n",
              "      <th>CNN-GRU</th>\n",
              "      <td>1.00</td>\n",
              "      <td>0.83</td>\n",
              "      <td>0.91</td>\n",
              "      <td>0.97</td>\n",
              "    </tr>\n",
              "    <tr>\n",
              "      <th>LSTM</th>\n",
              "      <td>1.00</td>\n",
              "      <td>0.80</td>\n",
              "      <td>0.89</td>\n",
              "      <td>0.97</td>\n",
              "    </tr>\n",
              "  </tbody>\n",
              "</table>\n",
              "</div>\n",
              "      <button class=\"colab-df-convert\" onclick=\"convertToInteractive('df-7660fbc3-7ed5-4b3d-b743-3ecc6bd18212')\"\n",
              "              title=\"Convert this dataframe to an interactive table.\"\n",
              "              style=\"display:none;\">\n",
              "        \n",
              "  <svg xmlns=\"http://www.w3.org/2000/svg\" height=\"24px\"viewBox=\"0 0 24 24\"\n",
              "       width=\"24px\">\n",
              "    <path d=\"M0 0h24v24H0V0z\" fill=\"none\"/>\n",
              "    <path d=\"M18.56 5.44l.94 2.06.94-2.06 2.06-.94-2.06-.94-.94-2.06-.94 2.06-2.06.94zm-11 1L8.5 8.5l.94-2.06 2.06-.94-2.06-.94L8.5 2.5l-.94 2.06-2.06.94zm10 10l.94 2.06.94-2.06 2.06-.94-2.06-.94-.94-2.06-.94 2.06-2.06.94z\"/><path d=\"M17.41 7.96l-1.37-1.37c-.4-.4-.92-.59-1.43-.59-.52 0-1.04.2-1.43.59L10.3 9.45l-7.72 7.72c-.78.78-.78 2.05 0 2.83L4 21.41c.39.39.9.59 1.41.59.51 0 1.02-.2 1.41-.59l7.78-7.78 2.81-2.81c.8-.78.8-2.07 0-2.86zM5.41 20L4 18.59l7.72-7.72 1.47 1.35L5.41 20z\"/>\n",
              "  </svg>\n",
              "      </button>\n",
              "      \n",
              "  <style>\n",
              "    .colab-df-container {\n",
              "      display:flex;\n",
              "      flex-wrap:wrap;\n",
              "      gap: 12px;\n",
              "    }\n",
              "\n",
              "    .colab-df-convert {\n",
              "      background-color: #E8F0FE;\n",
              "      border: none;\n",
              "      border-radius: 50%;\n",
              "      cursor: pointer;\n",
              "      display: none;\n",
              "      fill: #1967D2;\n",
              "      height: 32px;\n",
              "      padding: 0 0 0 0;\n",
              "      width: 32px;\n",
              "    }\n",
              "\n",
              "    .colab-df-convert:hover {\n",
              "      background-color: #E2EBFA;\n",
              "      box-shadow: 0px 1px 2px rgba(60, 64, 67, 0.3), 0px 1px 3px 1px rgba(60, 64, 67, 0.15);\n",
              "      fill: #174EA6;\n",
              "    }\n",
              "\n",
              "    [theme=dark] .colab-df-convert {\n",
              "      background-color: #3B4455;\n",
              "      fill: #D2E3FC;\n",
              "    }\n",
              "\n",
              "    [theme=dark] .colab-df-convert:hover {\n",
              "      background-color: #434B5C;\n",
              "      box-shadow: 0px 1px 3px 1px rgba(0, 0, 0, 0.15);\n",
              "      filter: drop-shadow(0px 1px 2px rgba(0, 0, 0, 0.3));\n",
              "      fill: #FFFFFF;\n",
              "    }\n",
              "  </style>\n",
              "\n",
              "      <script>\n",
              "        const buttonEl =\n",
              "          document.querySelector('#df-7660fbc3-7ed5-4b3d-b743-3ecc6bd18212 button.colab-df-convert');\n",
              "        buttonEl.style.display =\n",
              "          google.colab.kernel.accessAllowed ? 'block' : 'none';\n",
              "\n",
              "        async function convertToInteractive(key) {\n",
              "          const element = document.querySelector('#df-7660fbc3-7ed5-4b3d-b743-3ecc6bd18212');\n",
              "          const dataTable =\n",
              "            await google.colab.kernel.invokeFunction('convertToInteractive',\n",
              "                                                     [key], {});\n",
              "          if (!dataTable) return;\n",
              "\n",
              "          const docLinkHtml = 'Like what you see? Visit the ' +\n",
              "            '<a target=\"_blank\" href=https://colab.research.google.com/notebooks/data_table.ipynb>data table notebook</a>'\n",
              "            + ' to learn more about interactive tables.';\n",
              "          element.innerHTML = '';\n",
              "          dataTable['output_type'] = 'display_data';\n",
              "          await google.colab.output.renderOutput(dataTable, element);\n",
              "          const docLink = document.createElement('div');\n",
              "          docLink.innerHTML = docLinkHtml;\n",
              "          element.appendChild(docLink);\n",
              "        }\n",
              "      </script>\n",
              "    </div>\n",
              "  </div>\n",
              "  "
            ]
          },
          "metadata": {},
          "execution_count": 38
        }
      ]
    },
    {
      "cell_type": "code",
      "source": [
        "df_fake_perform.plot.bar(rot=60, figsize=(30, 20));\n",
        "plt.xlabel('')\n",
        "plt.ylabel('Performance Scores', fontsize=42)\n",
        "plt.title('Fake News Detection Performance of the DL Models (Hashing)\\n', fontsize=42, color='red')\n",
        "plt.legend(bbox_to_anchor=(1.1, 1.1), fontsize=25)\n",
        "plt.yticks([0, .1, .2, .3, .4, .5, .6, .7, .8, .9, 1.0], fontsize=42)\n",
        "plt.xticks(fontsize=42)\n",
        "plt.tight_layout()\n",
        "plt.show()"
      ],
      "metadata": {
        "colab": {
          "base_uri": "https://localhost:8080/",
          "height": 838
        },
        "id": "lXEZKNQiWOfV",
        "outputId": "b924186e-7938-4fcb-85b8-ff46c0f1555d"
      },
      "execution_count": null,
      "outputs": [
        {
          "output_type": "display_data",
          "data": {
            "text/plain": [
              "<Figure size 2160x1440 with 1 Axes>"
            ],
            "image/png": "[encoded data removed]"
          },
          "metadata": {}
        }
      ]
    },
    {
      "cell_type": "code",
      "source": [
        "fallout_lstm, sensitivity_lstm, thresholds_lstm=roc_curve(y, lstm_pred)\n",
        "fallout_gru, sensitivity_gru, thresholds_gru=roc_curve(y, gru_pred)\n",
        "fallout_cnn_lstm, sensitivity_cnn_lstm, thresholds_cnn_lstm=roc_curve(y, cnn_lstm_pred)\n",
        "fallout_cnn_gru, sensitivity_cnn_gru, thresholds_cnn_gru=roc_curve(y, cnn_gru_pred)"
      ],
      "metadata": {
        "id": "iZEabduJWVbW"
      },
      "execution_count": null,
      "outputs": []
    },
    {
      "cell_type": "code",
      "source": [
        "plt.figure(figsize=(15, 6))\n",
        "plt.plot(fallout_lstm, sensitivity_lstm, color='red', label='%s' % 'LSTM')\n",
        "plt.plot(fallout_gru, sensitivity_gru, color='green', label='%s' % 'GRU')\n",
        "plt.plot(fallout_cnn_lstm, sensitivity_cnn_lstm, color='blue', label='%s' % 'CNN-LSTM')\n",
        "plt.plot(fallout_cnn_gru, sensitivity_cnn_gru, color='black', label='%s' % 'CNN-LSTM')\n",
        "plt.plot([0,1], [0,1], linestyle='--', label='%s' % 'Random Prediction')\n",
        "plt.title(\"ROC Chart of the DL Models (Hashing)\", color='red', fontsize=20)\n",
        "plt.xlabel(\"Fall-out\", fontsize=15)\n",
        "plt.ylabel(\"Sensitivity\", fontsize=15)\n",
        "plt.xticks([0, .1, .2, .3, .4, .5, .6, .7, .8, .9, 1.0])\n",
        "plt.yticks([0, .1, .2, .3, .4, .5, .6, .7, .8, .9, 1.0])\n",
        "plt.legend(loc='best')\n",
        "plt.show()"
      ],
      "metadata": {
        "colab": {
          "base_uri": "https://localhost:8080/",
          "height": 417
        },
        "id": "wwU7hXKVXp5A",
        "outputId": "e1f98485-2021-4bd3-fe2d-cbbb1696e7d9"
      },
      "execution_count": null,
      "outputs": [
        {
          "output_type": "display_data",
          "data": {
            "text/plain": [
              "<Figure size 1080x432 with 1 Axes>"
            ],
            "image/png": "[encoded data removed]"
          },
          "metadata": {}
        }
      ]
    },
    {
      "cell_type": "code",
      "source": [
        "def model_roc_auc_score(pred):\n",
        "  return roc_auc_score(y, pred)\n",
        "\n",
        "lstm_auc=model_roc_auc_score(lstm_pred).round(2)\n",
        "gru_auc=model_roc_auc_score(gru_pred).round(2)\n",
        "cnn_lstm_auc=model_roc_auc_score(cnn_lstm_pred).round(2)\n",
        "cnn_gru_auc=model_roc_auc_score(cnn_gru_pred).round(2)"
      ],
      "metadata": {
        "id": "hdNQZQumYKBp"
      },
      "execution_count": null,
      "outputs": []
    },
    {
      "cell_type": "code",
      "source": [
        "auc_scores={'Models Used':['LSTM', 'GRU', 'CNN-LSTM', 'CNN-GRU'],\n",
        "            'AUC':[lstm_auc, gru_auc, cnn_lstm_auc, cnn_gru_auc]}\n",
        "\n",
        "df_auc=pd.DataFrame(auc_scores)\n",
        "df_auc"
      ],
      "metadata": {
        "colab": {
          "base_uri": "https://localhost:8080/",
          "height": 175
        },
        "id": "VdDmuQhjY8jj",
        "outputId": "d4c1997b-23d6-40a3-844f-9863d454996d"
      },
      "execution_count": null,
      "outputs": [
        {
          "output_type": "execute_result",
          "data": {
            "text/plain": [
              "  Models Used   AUC\n",
              "0        LSTM  0.90\n",
              "1         GRU  0.92\n",
              "2    CNN-LSTM  0.96\n",
              "3     CNN-GRU  0.91"
            ],
            "text/html": [
              "\n",
              "  <div id=\"df-e31b298b-178b-4264-a164-2025577101d3\">\n",
              "    <div class=\"colab-df-container\">\n",
              "      <div>\n",
              "<style scoped>\n",
              "    .dataframe tbody tr th:only-of-type {\n",
              "        vertical-align: middle;\n",
              "    }\n",
              "\n",
              "    .dataframe tbody tr th {\n",
              "        vertical-align: top;\n",
              "    }\n",
              "\n",
              "    .dataframe thead th {\n",
              "        text-align: right;\n",
              "    }\n",
              "</style>\n",
              "<table border=\"1\" class=\"dataframe\">\n",
              "  <thead>\n",
              "    <tr style=\"text-align: right;\">\n",
              "      <th></th>\n",
              "      <th>Models Used</th>\n",
              "      <th>AUC</th>\n",
              "    </tr>\n",
              "  </thead>\n",
              "  <tbody>\n",
              "    <tr>\n",
              "      <th>0</th>\n",
              "      <td>LSTM</td>\n",
              "      <td>0.90</td>\n",
              "    </tr>\n",
              "    <tr>\n",
              "      <th>1</th>\n",
              "      <td>GRU</td>\n",
              "      <td>0.92</td>\n",
              "    </tr>\n",
              "    <tr>\n",
              "      <th>2</th>\n",
              "      <td>CNN-LSTM</td>\n",
              "      <td>0.96</td>\n",
              "    </tr>\n",
              "    <tr>\n",
              "      <th>3</th>\n",
              "      <td>CNN-GRU</td>\n",
              "      <td>0.91</td>\n",
              "    </tr>\n",
              "  </tbody>\n",
              "</table>\n",
              "</div>\n",
              "      <button class=\"colab-df-convert\" onclick=\"convertToInteractive('df-e31b298b-178b-4264-a164-2025577101d3')\"\n",
              "              title=\"Convert this dataframe to an interactive table.\"\n",
              "              style=\"display:none;\">\n",
              "        \n",
              "  <svg xmlns=\"http://www.w3.org/2000/svg\" height=\"24px\"viewBox=\"0 0 24 24\"\n",
              "       width=\"24px\">\n",
              "    <path d=\"M0 0h24v24H0V0z\" fill=\"none\"/>\n",
              "    <path d=\"M18.56 5.44l.94 2.06.94-2.06 2.06-.94-2.06-.94-.94-2.06-.94 2.06-2.06.94zm-11 1L8.5 8.5l.94-2.06 2.06-.94-2.06-.94L8.5 2.5l-.94 2.06-2.06.94zm10 10l.94 2.06.94-2.06 2.06-.94-2.06-.94-.94-2.06-.94 2.06-2.06.94z\"/><path d=\"M17.41 7.96l-1.37-1.37c-.4-.4-.92-.59-1.43-.59-.52 0-1.04.2-1.43.59L10.3 9.45l-7.72 7.72c-.78.78-.78 2.05 0 2.83L4 21.41c.39.39.9.59 1.41.59.51 0 1.02-.2 1.41-.59l7.78-7.78 2.81-2.81c.8-.78.8-2.07 0-2.86zM5.41 20L4 18.59l7.72-7.72 1.47 1.35L5.41 20z\"/>\n",
              "  </svg>\n",
              "      </button>\n",
              "      \n",
              "  <style>\n",
              "    .colab-df-container {\n",
              "      display:flex;\n",
              "      flex-wrap:wrap;\n",
              "      gap: 12px;\n",
              "    }\n",
              "\n",
              "    .colab-df-convert {\n",
              "      background-color: #E8F0FE;\n",
              "      border: none;\n",
              "      border-radius: 50%;\n",
              "      cursor: pointer;\n",
              "      display: none;\n",
              "      fill: #1967D2;\n",
              "      height: 32px;\n",
              "      padding: 0 0 0 0;\n",
              "      width: 32px;\n",
              "    }\n",
              "\n",
              "    .colab-df-convert:hover {\n",
              "      background-color: #E2EBFA;\n",
              "      box-shadow: 0px 1px 2px rgba(60, 64, 67, 0.3), 0px 1px 3px 1px rgba(60, 64, 67, 0.15);\n",
              "      fill: #174EA6;\n",
              "    }\n",
              "\n",
              "    [theme=dark] .colab-df-convert {\n",
              "      background-color: #3B4455;\n",
              "      fill: #D2E3FC;\n",
              "    }\n",
              "\n",
              "    [theme=dark] .colab-df-convert:hover {\n",
              "      background-color: #434B5C;\n",
              "      box-shadow: 0px 1px 3px 1px rgba(0, 0, 0, 0.15);\n",
              "      filter: drop-shadow(0px 1px 2px rgba(0, 0, 0, 0.3));\n",
              "      fill: #FFFFFF;\n",
              "    }\n",
              "  </style>\n",
              "\n",
              "      <script>\n",
              "        const buttonEl =\n",
              "          document.querySelector('#df-e31b298b-178b-4264-a164-2025577101d3 button.colab-df-convert');\n",
              "        buttonEl.style.display =\n",
              "          google.colab.kernel.accessAllowed ? 'block' : 'none';\n",
              "\n",
              "        async function convertToInteractive(key) {\n",
              "          const element = document.querySelector('#df-e31b298b-178b-4264-a164-2025577101d3');\n",
              "          const dataTable =\n",
              "            await google.colab.kernel.invokeFunction('convertToInteractive',\n",
              "                                                     [key], {});\n",
              "          if (!dataTable) return;\n",
              "\n",
              "          const docLinkHtml = 'Like what you see? Visit the ' +\n",
              "            '<a target=\"_blank\" href=https://colab.research.google.com/notebooks/data_table.ipynb>data table notebook</a>'\n",
              "            + ' to learn more about interactive tables.';\n",
              "          element.innerHTML = '';\n",
              "          dataTable['output_type'] = 'display_data';\n",
              "          await google.colab.output.renderOutput(dataTable, element);\n",
              "          const docLink = document.createElement('div');\n",
              "          docLink.innerHTML = docLinkHtml;\n",
              "          element.appendChild(docLink);\n",
              "        }\n",
              "      </script>\n",
              "    </div>\n",
              "  </div>\n",
              "  "
            ]
          },
          "metadata": {},
          "execution_count": 43
        }
      ]
    },
    {
      "cell_type": "code",
      "source": [
        "df_auc=df_auc.sort_values('AUC')\n",
        "df_auc"
      ],
      "metadata": {
        "colab": {
          "base_uri": "https://localhost:8080/",
          "height": 175
        },
        "id": "Z6ltNz9BZUIo",
        "outputId": "bb347acb-23c0-4fe4-b766-5aaf0580fc2f"
      },
      "execution_count": null,
      "outputs": [
        {
          "output_type": "execute_result",
          "data": {
            "text/plain": [
              "  Models Used   AUC\n",
              "0        LSTM  0.90\n",
              "3     CNN-GRU  0.91\n",
              "1         GRU  0.92\n",
              "2    CNN-LSTM  0.96"
            ],
            "text/html": [
              "\n",
              "  <div id=\"df-77ae750d-762d-40f1-a4f8-272178aec43e\">\n",
              "    <div class=\"colab-df-container\">\n",
              "      <div>\n",
              "<style scoped>\n",
              "    .dataframe tbody tr th:only-of-type {\n",
              "        vertical-align: middle;\n",
              "    }\n",
              "\n",
              "    .dataframe tbody tr th {\n",
              "        vertical-align: top;\n",
              "    }\n",
              "\n",
              "    .dataframe thead th {\n",
              "        text-align: right;\n",
              "    }\n",
              "</style>\n",
              "<table border=\"1\" class=\"dataframe\">\n",
              "  <thead>\n",
              "    <tr style=\"text-align: right;\">\n",
              "      <th></th>\n",
              "      <th>Models Used</th>\n",
              "      <th>AUC</th>\n",
              "    </tr>\n",
              "  </thead>\n",
              "  <tbody>\n",
              "    <tr>\n",
              "      <th>0</th>\n",
              "      <td>LSTM</td>\n",
              "      <td>0.90</td>\n",
              "    </tr>\n",
              "    <tr>\n",
              "      <th>3</th>\n",
              "      <td>CNN-GRU</td>\n",
              "      <td>0.91</td>\n",
              "    </tr>\n",
              "    <tr>\n",
              "      <th>1</th>\n",
              "      <td>GRU</td>\n",
              "      <td>0.92</td>\n",
              "    </tr>\n",
              "    <tr>\n",
              "      <th>2</th>\n",
              "      <td>CNN-LSTM</td>\n",
              "      <td>0.96</td>\n",
              "    </tr>\n",
              "  </tbody>\n",
              "</table>\n",
              "</div>\n",
              "      <button class=\"colab-df-convert\" onclick=\"convertToInteractive('df-77ae750d-762d-40f1-a4f8-272178aec43e')\"\n",
              "              title=\"Convert this dataframe to an interactive table.\"\n",
              "              style=\"display:none;\">\n",
              "        \n",
              "  <svg xmlns=\"http://www.w3.org/2000/svg\" height=\"24px\"viewBox=\"0 0 24 24\"\n",
              "       width=\"24px\">\n",
              "    <path d=\"M0 0h24v24H0V0z\" fill=\"none\"/>\n",
              "    <path d=\"M18.56 5.44l.94 2.06.94-2.06 2.06-.94-2.06-.94-.94-2.06-.94 2.06-2.06.94zm-11 1L8.5 8.5l.94-2.06 2.06-.94-2.06-.94L8.5 2.5l-.94 2.06-2.06.94zm10 10l.94 2.06.94-2.06 2.06-.94-2.06-.94-.94-2.06-.94 2.06-2.06.94z\"/><path d=\"M17.41 7.96l-1.37-1.37c-.4-.4-.92-.59-1.43-.59-.52 0-1.04.2-1.43.59L10.3 9.45l-7.72 7.72c-.78.78-.78 2.05 0 2.83L4 21.41c.39.39.9.59 1.41.59.51 0 1.02-.2 1.41-.59l7.78-7.78 2.81-2.81c.8-.78.8-2.07 0-2.86zM5.41 20L4 18.59l7.72-7.72 1.47 1.35L5.41 20z\"/>\n",
              "  </svg>\n",
              "      </button>\n",
              "      \n",
              "  <style>\n",
              "    .colab-df-container {\n",
              "      display:flex;\n",
              "      flex-wrap:wrap;\n",
              "      gap: 12px;\n",
              "    }\n",
              "\n",
              "    .colab-df-convert {\n",
              "      background-color: #E8F0FE;\n",
              "      border: none;\n",
              "      border-radius: 50%;\n",
              "      cursor: pointer;\n",
              "      display: none;\n",
              "      fill: #1967D2;\n",
              "      height: 32px;\n",
              "      padding: 0 0 0 0;\n",
              "      width: 32px;\n",
              "    }\n",
              "\n",
              "    .colab-df-convert:hover {\n",
              "      background-color: #E2EBFA;\n",
              "      box-shadow: 0px 1px 2px rgba(60, 64, 67, 0.3), 0px 1px 3px 1px rgba(60, 64, 67, 0.15);\n",
              "      fill: #174EA6;\n",
              "    }\n",
              "\n",
              "    [theme=dark] .colab-df-convert {\n",
              "      background-color: #3B4455;\n",
              "      fill: #D2E3FC;\n",
              "    }\n",
              "\n",
              "    [theme=dark] .colab-df-convert:hover {\n",
              "      background-color: #434B5C;\n",
              "      box-shadow: 0px 1px 3px 1px rgba(0, 0, 0, 0.15);\n",
              "      filter: drop-shadow(0px 1px 2px rgba(0, 0, 0, 0.3));\n",
              "      fill: #FFFFFF;\n",
              "    }\n",
              "  </style>\n",
              "\n",
              "      <script>\n",
              "        const buttonEl =\n",
              "          document.querySelector('#df-77ae750d-762d-40f1-a4f8-272178aec43e button.colab-df-convert');\n",
              "        buttonEl.style.display =\n",
              "          google.colab.kernel.accessAllowed ? 'block' : 'none';\n",
              "\n",
              "        async function convertToInteractive(key) {\n",
              "          const element = document.querySelector('#df-77ae750d-762d-40f1-a4f8-272178aec43e');\n",
              "          const dataTable =\n",
              "            await google.colab.kernel.invokeFunction('convertToInteractive',\n",
              "                                                     [key], {});\n",
              "          if (!dataTable) return;\n",
              "\n",
              "          const docLinkHtml = 'Like what you see? Visit the ' +\n",
              "            '<a target=\"_blank\" href=https://colab.research.google.com/notebooks/data_table.ipynb>data table notebook</a>'\n",
              "            + ' to learn more about interactive tables.';\n",
              "          element.innerHTML = '';\n",
              "          dataTable['output_type'] = 'display_data';\n",
              "          await google.colab.output.renderOutput(dataTable, element);\n",
              "          const docLink = document.createElement('div');\n",
              "          docLink.innerHTML = docLinkHtml;\n",
              "          element.appendChild(docLink);\n",
              "        }\n",
              "      </script>\n",
              "    </div>\n",
              "  </div>\n",
              "  "
            ]
          },
          "metadata": {},
          "execution_count": 44
        }
      ]
    },
    {
      "cell_type": "code",
      "source": [
        "df_auc.to_csv('/content/drive/MyDrive/CSE-400(Project Thesis)/AUC_Scores_DL.csv', index=False)"
      ],
      "metadata": {
        "id": "Cedm14wzZYGV"
      },
      "execution_count": null,
      "outputs": []
    },
    {
      "cell_type": "code",
      "source": [
        "auc_df=df_auc.set_index('Models Used')\n",
        "auc_df"
      ],
      "metadata": {
        "colab": {
          "base_uri": "https://localhost:8080/",
          "height": 206
        },
        "id": "WPHa_lPiZc3G",
        "outputId": "adec2d57-105d-40cc-d214-4e4a868aeddf"
      },
      "execution_count": null,
      "outputs": [
        {
          "output_type": "execute_result",
          "data": {
            "text/plain": [
              "              AUC\n",
              "Models Used      \n",
              "LSTM         0.90\n",
              "CNN-GRU      0.91\n",
              "GRU          0.92\n",
              "CNN-LSTM     0.96"
            ],
            "text/html": [
              "\n",
              "  <div id=\"df-1e5133d7-ba2a-4173-b28c-cbdc435e9204\">\n",
              "    <div class=\"colab-df-container\">\n",
              "      <div>\n",
              "<style scoped>\n",
              "    .dataframe tbody tr th:only-of-type {\n",
              "        vertical-align: middle;\n",
              "    }\n",
              "\n",
              "    .dataframe tbody tr th {\n",
              "        vertical-align: top;\n",
              "    }\n",
              "\n",
              "    .dataframe thead th {\n",
              "        text-align: right;\n",
              "    }\n",
              "</style>\n",
              "<table border=\"1\" class=\"dataframe\">\n",
              "  <thead>\n",
              "    <tr style=\"text-align: right;\">\n",
              "      <th></th>\n",
              "      <th>AUC</th>\n",
              "    </tr>\n",
              "    <tr>\n",
              "      <th>Models Used</th>\n",
              "      <th></th>\n",
              "    </tr>\n",
              "  </thead>\n",
              "  <tbody>\n",
              "    <tr>\n",
              "      <th>LSTM</th>\n",
              "      <td>0.90</td>\n",
              "    </tr>\n",
              "    <tr>\n",
              "      <th>CNN-GRU</th>\n",
              "      <td>0.91</td>\n",
              "    </tr>\n",
              "    <tr>\n",
              "      <th>GRU</th>\n",
              "      <td>0.92</td>\n",
              "    </tr>\n",
              "    <tr>\n",
              "      <th>CNN-LSTM</th>\n",
              "      <td>0.96</td>\n",
              "    </tr>\n",
              "  </tbody>\n",
              "</table>\n",
              "</div>\n",
              "      <button class=\"colab-df-convert\" onclick=\"convertToInteractive('df-1e5133d7-ba2a-4173-b28c-cbdc435e9204')\"\n",
              "              title=\"Convert this dataframe to an interactive table.\"\n",
              "              style=\"display:none;\">\n",
              "        \n",
              "  <svg xmlns=\"http://www.w3.org/2000/svg\" height=\"24px\"viewBox=\"0 0 24 24\"\n",
              "       width=\"24px\">\n",
              "    <path d=\"M0 0h24v24H0V0z\" fill=\"none\"/>\n",
              "    <path d=\"M18.56 5.44l.94 2.06.94-2.06 2.06-.94-2.06-.94-.94-2.06-.94 2.06-2.06.94zm-11 1L8.5 8.5l.94-2.06 2.06-.94-2.06-.94L8.5 2.5l-.94 2.06-2.06.94zm10 10l.94 2.06.94-2.06 2.06-.94-2.06-.94-.94-2.06-.94 2.06-2.06.94z\"/><path d=\"M17.41 7.96l-1.37-1.37c-.4-.4-.92-.59-1.43-.59-.52 0-1.04.2-1.43.59L10.3 9.45l-7.72 7.72c-.78.78-.78 2.05 0 2.83L4 21.41c.39.39.9.59 1.41.59.51 0 1.02-.2 1.41-.59l7.78-7.78 2.81-2.81c.8-.78.8-2.07 0-2.86zM5.41 20L4 18.59l7.72-7.72 1.47 1.35L5.41 20z\"/>\n",
              "  </svg>\n",
              "      </button>\n",
              "      \n",
              "  <style>\n",
              "    .colab-df-container {\n",
              "      display:flex;\n",
              "      flex-wrap:wrap;\n",
              "      gap: 12px;\n",
              "    }\n",
              "\n",
              "    .colab-df-convert {\n",
              "      background-color: #E8F0FE;\n",
              "      border: none;\n",
              "      border-radius: 50%;\n",
              "      cursor: pointer;\n",
              "      display: none;\n",
              "      fill: #1967D2;\n",
              "      height: 32px;\n",
              "      padding: 0 0 0 0;\n",
              "      width: 32px;\n",
              "    }\n",
              "\n",
              "    .colab-df-convert:hover {\n",
              "      background-color: #E2EBFA;\n",
              "      box-shadow: 0px 1px 2px rgba(60, 64, 67, 0.3), 0px 1px 3px 1px rgba(60, 64, 67, 0.15);\n",
              "      fill: #174EA6;\n",
              "    }\n",
              "\n",
              "    [theme=dark] .colab-df-convert {\n",
              "      background-color: #3B4455;\n",
              "      fill: #D2E3FC;\n",
              "    }\n",
              "\n",
              "    [theme=dark] .colab-df-convert:hover {\n",
              "      background-color: #434B5C;\n",
              "      box-shadow: 0px 1px 3px 1px rgba(0, 0, 0, 0.15);\n",
              "      filter: drop-shadow(0px 1px 2px rgba(0, 0, 0, 0.3));\n",
              "      fill: #FFFFFF;\n",
              "    }\n",
              "  </style>\n",
              "\n",
              "      <script>\n",
              "        const buttonEl =\n",
              "          document.querySelector('#df-1e5133d7-ba2a-4173-b28c-cbdc435e9204 button.colab-df-convert');\n",
              "        buttonEl.style.display =\n",
              "          google.colab.kernel.accessAllowed ? 'block' : 'none';\n",
              "\n",
              "        async function convertToInteractive(key) {\n",
              "          const element = document.querySelector('#df-1e5133d7-ba2a-4173-b28c-cbdc435e9204');\n",
              "          const dataTable =\n",
              "            await google.colab.kernel.invokeFunction('convertToInteractive',\n",
              "                                                     [key], {});\n",
              "          if (!dataTable) return;\n",
              "\n",
              "          const docLinkHtml = 'Like what you see? Visit the ' +\n",
              "            '<a target=\"_blank\" href=https://colab.research.google.com/notebooks/data_table.ipynb>data table notebook</a>'\n",
              "            + ' to learn more about interactive tables.';\n",
              "          element.innerHTML = '';\n",
              "          dataTable['output_type'] = 'display_data';\n",
              "          await google.colab.output.renderOutput(dataTable, element);\n",
              "          const docLink = document.createElement('div');\n",
              "          docLink.innerHTML = docLinkHtml;\n",
              "          element.appendChild(docLink);\n",
              "        }\n",
              "      </script>\n",
              "    </div>\n",
              "  </div>\n",
              "  "
            ]
          },
          "metadata": {},
          "execution_count": 46
        }
      ]
    },
    {
      "cell_type": "code",
      "source": [
        "auc_df.plot.barh(figsize=(15, 6));\n",
        "plt.ylabel('')\n",
        "plt.xlabel('AUC', fontsize=15)\n",
        "plt.title('AUC of the DL Models (Hashing)\\n', fontsize=20, color='red')\n",
        "plt.legend(bbox_to_anchor=(1.1, 1.1), fontsize=10)\n",
        "plt.xticks([0, .1, .2, .3, .4, .5, .6, .7, .8, .9, 1.0], fontsize=10)\n",
        "plt.yticks(fontsize=10)\n",
        "plt.tight_layout()\n",
        "plt.show()"
      ],
      "metadata": {
        "colab": {
          "base_uri": "https://localhost:8080/",
          "height": 437
        },
        "id": "myNDnuRpZfsO",
        "outputId": "c9b27772-7430-4815-be5d-97f7658cc63d"
      },
      "execution_count": null,
      "outputs": [
        {
          "output_type": "display_data",
          "data": {
            "text/plain": [
              "<Figure size 1080x432 with 1 Axes>"
            ],
            "image/png": "[encoded data removed]"
          },
          "metadata": {}
        }
      ]
    }
  ]
}