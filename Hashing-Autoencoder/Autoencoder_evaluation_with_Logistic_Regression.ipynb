{
 "cells": [
  {
   "cell_type": "code",
   "execution_count": 1,
   "metadata": {
    "colab": {
     "base_uri": "https://localhost:8080/"
    },
    "id": "rUz_-3Z-wew1",
    "outputId": "8f664d5e-451e-4b54-8c4e-0446aa4f771b"
   },
   "outputs": [
    {
     "name": "stdout",
     "output_type": "stream",
     "text": [
      "Mounted at /content/drive\n"
     ]
    }
   ],
   "source": [
    "from google.colab import drive\n",
    "drive.mount('/content/drive')"
   ]
  },
  {
   "cell_type": "code",
   "execution_count": 2,
   "metadata": {
    "colab": {
     "base_uri": "https://localhost:8080/"
    },
    "id": "bsVCx2m6w2Iq",
    "outputId": "c414e6ab-6a86-422b-8f2c-390a2dd51286"
   },
   "outputs": [
    {
     "name": "stdout",
     "output_type": "stream",
     "text": [
      "Collecting bnlp-toolkit\n",
      "  Downloading bnlp_toolkit-3.1.2-py3-none-any.whl (17 kB)\n",
      "Requirement already satisfied: numpy in /usr/local/lib/python3.7/dist-packages (from bnlp-toolkit) (1.21.5)\n",
      "Collecting sentencepiece\n",
      "  Downloading sentencepiece-0.1.96-cp37-cp37m-manylinux_2_17_x86_64.manylinux2014_x86_64.whl (1.2 MB)\n",
      "\u001b[K     |████████████████████████████████| 1.2 MB 33.6 MB/s \n",
      "\u001b[?25hRequirement already satisfied: wasabi in /usr/local/lib/python3.7/dist-packages (from bnlp-toolkit) (0.9.0)\n",
      "Requirement already satisfied: nltk in /usr/local/lib/python3.7/dist-packages (from bnlp-toolkit) (3.2.5)\n",
      "Requirement already satisfied: scipy in /usr/local/lib/python3.7/dist-packages (from bnlp-toolkit) (1.4.1)\n",
      "Collecting sklearn-crfsuite\n",
      "  Downloading sklearn_crfsuite-0.3.6-py2.py3-none-any.whl (12 kB)\n",
      "Collecting gensim==4.0.1\n",
      "  Downloading gensim-4.0.1-cp37-cp37m-manylinux1_x86_64.whl (23.9 MB)\n",
      "\u001b[K     |████████████████████████████████| 23.9 MB 17.4 MB/s \n",
      "\u001b[?25hRequirement already satisfied: smart-open>=1.8.1 in /usr/local/lib/python3.7/dist-packages (from gensim==4.0.1->bnlp-toolkit) (5.2.1)\n",
      "Requirement already satisfied: six in /usr/local/lib/python3.7/dist-packages (from nltk->bnlp-toolkit) (1.15.0)\n",
      "Requirement already satisfied: tqdm>=2.0 in /usr/local/lib/python3.7/dist-packages (from sklearn-crfsuite->bnlp-toolkit) (4.63.0)\n",
      "Requirement already satisfied: tabulate in /usr/local/lib/python3.7/dist-packages (from sklearn-crfsuite->bnlp-toolkit) (0.8.9)\n",
      "Collecting python-crfsuite>=0.8.3\n",
      "  Downloading python_crfsuite-0.9.7-cp37-cp37m-manylinux1_x86_64.whl (743 kB)\n",
      "\u001b[K     |████████████████████████████████| 743 kB 40.8 MB/s \n",
      "\u001b[?25hInstalling collected packages: python-crfsuite, sklearn-crfsuite, sentencepiece, gensim, bnlp-toolkit\n",
      "  Attempting uninstall: gensim\n",
      "    Found existing installation: gensim 3.6.0\n",
      "    Uninstalling gensim-3.6.0:\n",
      "      Successfully uninstalled gensim-3.6.0\n",
      "Successfully installed bnlp-toolkit-3.1.2 gensim-4.0.1 python-crfsuite-0.9.7 sentencepiece-0.1.96 sklearn-crfsuite-0.3.6\n"
     ]
    }
   ],
   "source": [
    "!pip install bnlp-toolkit"
   ]
  },
  {
   "cell_type": "code",
   "execution_count": 3,
   "metadata": {
    "colab": {
     "base_uri": "https://localhost:8080/"
    },
    "id": "YxLx6sFmwrnt",
    "outputId": "20f00e6f-892c-4b8c-de8c-ba82b9f2ae99"
   },
   "outputs": [
    {
     "name": "stdout",
     "output_type": "stream",
     "text": [
      "punkt not found. downloading...\n",
      "[nltk_data] Downloading package punkt to /root/nltk_data...\n",
      "[nltk_data]   Unzipping tokenizers/punkt.zip.\n"
     ]
    },
    {
     "name": "stderr",
     "output_type": "stream",
     "text": [
      "/usr/local/lib/python3.7/dist-packages/gensim/similarities/__init__.py:15: UserWarning: The gensim.similarities.levenshtein submodule is disabled, because the optional Levenshtein package <https://pypi.org/project/python-Levenshtein/> is unavailable. Install Levenhstein (e.g. `pip install python-Levenshtein`) to suppress this warning.\n",
      "  warnings.warn(msg)\n"
     ]
    }
   ],
   "source": [
    "import joblib\n",
    "import pandas as pd\n",
    "import numpy as np\n",
    "import re\n",
    "from bnlp.corpus import stopwords\n",
    "from sklearn.feature_extraction.text import CountVectorizer, HashingVectorizer\n",
    "import matplotlib.pyplot as plt\n",
    "import seaborn as sns\n",
    "from sklearn.metrics import accuracy_score, confusion_matrix, classification_report\n",
    "import warnings\n",
    "warnings.filterwarnings(\"ignore\")\n",
    "\n",
    "%matplotlib inline"
   ]
  },
  {
   "cell_type": "code",
   "execution_count": 4,
   "metadata": {
    "colab": {
     "base_uri": "https://localhost:8080/"
    },
    "id": "0ZC7CkBvw9sF",
    "outputId": "c624b863-ccaa-4ba0-98df-6e10008356df"
   },
   "outputs": [
    {
     "name": "stdout",
     "output_type": "stream",
     "text": [
      "['C', '__class__', '__delattr__', '__dict__', '__dir__', '__doc__', '__eq__', '__format__', '__ge__', '__getattribute__', '__getstate__', '__gt__', '__hash__', '__init__', '__init_subclass__', '__le__', '__lt__', '__module__', '__ne__', '__new__', '__reduce__', '__reduce_ex__', '__repr__', '__setattr__', '__setstate__', '__sizeof__', '__str__', '__subclasshook__', '__weakref__', '_check_feature_names', '_check_n_features', '_estimator_type', '_get_param_names', '_get_tags', '_more_tags', '_predict_proba_lr', '_repr_html_', '_repr_html_inner', '_repr_mimebundle_', '_validate_data', 'class_weight', 'classes_', 'coef_', 'decision_function', 'densify', 'dual', 'fit', 'fit_intercept', 'get_params', 'intercept_', 'intercept_scaling', 'l1_ratio', 'max_iter', 'multi_class', 'n_features_in_', 'n_iter_', 'n_jobs', 'penalty', 'predict', 'predict_log_proba', 'predict_proba', 'random_state', 'score', 'set_params', 'solver', 'sparsify', 'tol', 'verbose', 'warm_start']\n"
     ]
    }
   ],
   "source": [
    "lr_model_encoder=joblib.load(r\"/content/drive/MyDrive/AutoEncoders/lr_file_encoder.pkl\")\n",
    "print(dir(lr_model_encoder))"
   ]
  },
  {
   "cell_type": "code",
   "execution_count": 5,
   "metadata": {
    "colab": {
     "base_uri": "https://localhost:8080/",
     "height": 224
    },
    "id": "bkx5siLMxLOJ",
    "outputId": "f611a8f1-eb01-42a4-a232-4d48afbc4c96"
   },
   "outputs": [
    {
     "name": "stdout",
     "output_type": "stream",
     "text": [
      "(4062, 7)\n"
     ]
    },
    {
     "data": {
      "text/html": [
       "\n",
       "  <div id=\"df-01c4492a-b016-4202-933a-ca37beb8aec0\">\n",
       "    <div class=\"colab-df-container\">\n",
       "      <div>\n",
       "<style scoped>\n",
       "    .dataframe tbody tr th:only-of-type {\n",
       "        vertical-align: middle;\n",
       "    }\n",
       "\n",
       "    .dataframe tbody tr th {\n",
       "        vertical-align: top;\n",
       "    }\n",
       "\n",
       "    .dataframe thead th {\n",
       "        text-align: right;\n",
       "    }\n",
       "</style>\n",
       "<table border=\"1\" class=\"dataframe\">\n",
       "  <thead>\n",
       "    <tr style=\"text-align: right;\">\n",
       "      <th></th>\n",
       "      <th>articleID</th>\n",
       "      <th>domain</th>\n",
       "      <th>date</th>\n",
       "      <th>category</th>\n",
       "      <th>headline</th>\n",
       "      <th>content</th>\n",
       "      <th>label</th>\n",
       "    </tr>\n",
       "  </thead>\n",
       "  <tbody>\n",
       "    <tr>\n",
       "      <th>0</th>\n",
       "      <td>1405</td>\n",
       "      <td>jagonews24.com</td>\n",
       "      <td>2018-09-20 18:24:28</td>\n",
       "      <td>Politics</td>\n",
       "      <td>বাম জোটের মিছিলে পুলিশের বাধা</td>\n",
       "      <td>বাম গণতান্ত্রিক জোটের নির্বাচন কমিশন (ইসি) কার...</td>\n",
       "      <td>1</td>\n",
       "    </tr>\n",
       "    <tr>\n",
       "      <th>1</th>\n",
       "      <td>453</td>\n",
       "      <td>somoynews.tv</td>\n",
       "      <td>2018-09-20 15:02:14</td>\n",
       "      <td>National</td>\n",
       "      <td>'বিচারপতি সিনহা স্বীকার করেছেন হুমকির মুখে দেশ...</td>\n",
       "      <td>বিএনপির সিনিয়র যুগ্ম মহাসচিব রুহুল কবির রিজভী ...</td>\n",
       "      <td>1</td>\n",
       "    </tr>\n",
       "    <tr>\n",
       "      <th>2</th>\n",
       "      <td>2792</td>\n",
       "      <td>ittefaq.com.bd</td>\n",
       "      <td>2018-09-19 18:20:22</td>\n",
       "      <td>Sports</td>\n",
       "      <td>হংকংয়ের ওপেনিং জুটিতেই কাঁপছে ভারত</td>\n",
       "      <td>ভারতের দেয়া ২৮৬ রানের লক্ষ্য তাঁড়া করতে নেমে দ...</td>\n",
       "      <td>1</td>\n",
       "    </tr>\n",
       "    <tr>\n",
       "      <th>3</th>\n",
       "      <td>923</td>\n",
       "      <td>banglanews24.com</td>\n",
       "      <td>2018-09-23 10:22:48</td>\n",
       "      <td>Miscellaneous</td>\n",
       "      <td>মাকড়সার দখলে গ্রিক উপকূল!</td>\n",
       "      <td>গ্রিসের দ্বীপশহর আইতোলিকোতে সম্প্রতি ঘটে গেছে ...</td>\n",
       "      <td>1</td>\n",
       "    </tr>\n",
       "    <tr>\n",
       "      <th>4</th>\n",
       "      <td>362</td>\n",
       "      <td>bengalbeats.com</td>\n",
       "      <td>2019-02-12T21:20:33+00:00</td>\n",
       "      <td>Entertainment</td>\n",
       "      <td>তাহসানের কথায় গানকে বিদায় দিয়ে অভিনয় শুরু করতে...</td>\n",
       "      <td>যুক্তরাষ্ট্রের লস অ্যাঞ্জেলেসের স্টেপলস সেন্টা...</td>\n",
       "      <td>0</td>\n",
       "    </tr>\n",
       "  </tbody>\n",
       "</table>\n",
       "</div>\n",
       "      <button class=\"colab-df-convert\" onclick=\"convertToInteractive('df-01c4492a-b016-4202-933a-ca37beb8aec0')\"\n",
       "              title=\"Convert this dataframe to an interactive table.\"\n",
       "              style=\"display:none;\">\n",
       "        \n",
       "  <svg xmlns=\"http://www.w3.org/2000/svg\" height=\"24px\"viewBox=\"0 0 24 24\"\n",
       "       width=\"24px\">\n",
       "    <path d=\"M0 0h24v24H0V0z\" fill=\"none\"/>\n",
       "    <path d=\"M18.56 5.44l.94 2.06.94-2.06 2.06-.94-2.06-.94-.94-2.06-.94 2.06-2.06.94zm-11 1L8.5 8.5l.94-2.06 2.06-.94-2.06-.94L8.5 2.5l-.94 2.06-2.06.94zm10 10l.94 2.06.94-2.06 2.06-.94-2.06-.94-.94-2.06-.94 2.06-2.06.94z\"/><path d=\"M17.41 7.96l-1.37-1.37c-.4-.4-.92-.59-1.43-.59-.52 0-1.04.2-1.43.59L10.3 9.45l-7.72 7.72c-.78.78-.78 2.05 0 2.83L4 21.41c.39.39.9.59 1.41.59.51 0 1.02-.2 1.41-.59l7.78-7.78 2.81-2.81c.8-.78.8-2.07 0-2.86zM5.41 20L4 18.59l7.72-7.72 1.47 1.35L5.41 20z\"/>\n",
       "  </svg>\n",
       "      </button>\n",
       "      \n",
       "  <style>\n",
       "    .colab-df-container {\n",
       "      display:flex;\n",
       "      flex-wrap:wrap;\n",
       "      gap: 12px;\n",
       "    }\n",
       "\n",
       "    .colab-df-convert {\n",
       "      background-color: #E8F0FE;\n",
       "      border: none;\n",
       "      border-radius: 50%;\n",
       "      cursor: pointer;\n",
       "      display: none;\n",
       "      fill: #1967D2;\n",
       "      height: 32px;\n",
       "      padding: 0 0 0 0;\n",
       "      width: 32px;\n",
       "    }\n",
       "\n",
       "    .colab-df-convert:hover {\n",
       "      background-color: #E2EBFA;\n",
       "      box-shadow: 0px 1px 2px rgba(60, 64, 67, 0.3), 0px 1px 3px 1px rgba(60, 64, 67, 0.15);\n",
       "      fill: #174EA6;\n",
       "    }\n",
       "\n",
       "    [theme=dark] .colab-df-convert {\n",
       "      background-color: #3B4455;\n",
       "      fill: #D2E3FC;\n",
       "    }\n",
       "\n",
       "    [theme=dark] .colab-df-convert:hover {\n",
       "      background-color: #434B5C;\n",
       "      box-shadow: 0px 1px 3px 1px rgba(0, 0, 0, 0.15);\n",
       "      filter: drop-shadow(0px 1px 2px rgba(0, 0, 0, 0.3));\n",
       "      fill: #FFFFFF;\n",
       "    }\n",
       "  </style>\n",
       "\n",
       "      <script>\n",
       "        const buttonEl =\n",
       "          document.querySelector('#df-01c4492a-b016-4202-933a-ca37beb8aec0 button.colab-df-convert');\n",
       "        buttonEl.style.display =\n",
       "          google.colab.kernel.accessAllowed ? 'block' : 'none';\n",
       "\n",
       "        async function convertToInteractive(key) {\n",
       "          const element = document.querySelector('#df-01c4492a-b016-4202-933a-ca37beb8aec0');\n",
       "          const dataTable =\n",
       "            await google.colab.kernel.invokeFunction('convertToInteractive',\n",
       "                                                     [key], {});\n",
       "          if (!dataTable) return;\n",
       "\n",
       "          const docLinkHtml = 'Like what you see? Visit the ' +\n",
       "            '<a target=\"_blank\" href=https://colab.research.google.com/notebooks/data_table.ipynb>data table notebook</a>'\n",
       "            + ' to learn more about interactive tables.';\n",
       "          element.innerHTML = '';\n",
       "          dataTable['output_type'] = 'display_data';\n",
       "          await google.colab.output.renderOutput(dataTable, element);\n",
       "          const docLink = document.createElement('div');\n",
       "          docLink.innerHTML = docLinkHtml;\n",
       "          element.appendChild(docLink);\n",
       "        }\n",
       "      </script>\n",
       "    </div>\n",
       "  </div>\n",
       "  "
      ],
      "text/plain": [
       "   articleID            domain                       date       category  \\\n",
       "0       1405    jagonews24.com        2018-09-20 18:24:28       Politics   \n",
       "1        453      somoynews.tv        2018-09-20 15:02:14       National   \n",
       "2       2792    ittefaq.com.bd        2018-09-19 18:20:22         Sports   \n",
       "3        923  banglanews24.com        2018-09-23 10:22:48  Miscellaneous   \n",
       "4        362   bengalbeats.com  2019-02-12T21:20:33+00:00  Entertainment   \n",
       "\n",
       "                                            headline  \\\n",
       "0                      বাম জোটের মিছিলে পুলিশের বাধা   \n",
       "1  'বিচারপতি সিনহা স্বীকার করেছেন হুমকির মুখে দেশ...   \n",
       "2                 হংকংয়ের ওপেনিং জুটিতেই কাঁপছে ভারত   \n",
       "3                          মাকড়সার দখলে গ্রিক উপকূল!   \n",
       "4  তাহসানের কথায় গানকে বিদায় দিয়ে অভিনয় শুরু করতে...   \n",
       "\n",
       "                                             content  label  \n",
       "0  বাম গণতান্ত্রিক জোটের নির্বাচন কমিশন (ইসি) কার...      1  \n",
       "1  বিএনপির সিনিয়র যুগ্ম মহাসচিব রুহুল কবির রিজভী ...      1  \n",
       "2  ভারতের দেয়া ২৮৬ রানের লক্ষ্য তাঁড়া করতে নেমে দ...      1  \n",
       "3  গ্রিসের দ্বীপশহর আইতোলিকোতে সম্প্রতি ঘটে গেছে ...      1  \n",
       "4  যুক্তরাষ্ট্রের লস অ্যাঞ্জেলেসের স্টেপলস সেন্টা...      0  "
      ]
     },
     "execution_count": 5,
     "metadata": {},
     "output_type": "execute_result"
    }
   ],
   "source": [
    "label_auth=pd.read_csv(r'/content/drive/MyDrive/AutoEncoders/LabeledAuthentic-7K.csv', nrows=3067)\n",
    "label_fake=pd.read_csv(r'/content/drive/MyDrive/AutoEncoders/LabeledFake-1K.csv', nrows=995)\n",
    "label_auth.drop(['source','relation'], axis=1, inplace=True)\n",
    "label_fake.drop(['source','relation','F-type'], axis=1, inplace=True)\n",
    "df=pd.concat([label_auth, label_fake], axis=0)\n",
    "df.reset_index(inplace=True)\n",
    "df.drop('index', axis=1, inplace=True)\n",
    "df['label']=np.where(df['label']==0.0, 0, 1)\n",
    "df.tail()\n",
    "df=df.sample(frac=1).reset_index(drop=True)\n",
    "print(df.shape)\n",
    "df.head()"
   ]
  },
  {
   "cell_type": "code",
   "execution_count": 6,
   "metadata": {
    "id": "myHRQ_Thxt-O"
   },
   "outputs": [],
   "source": [
    "def preprocess(data):\n",
    "    \"\"\"This function is for preprocessing of the news contents. It removes punctuations, English characters and both of Bangla\n",
    "    and English numerals. It tokenizes all the words and also removes stopwords.\n",
    "    \n",
    "    Args: \n",
    "        The Entire Dataframe\n",
    "    Returns:\n",
    "        Preprocessed news corpuses in a list of lists\n",
    "    \"\"\"\n",
    "    corpus=[]\n",
    "    for i in range(0, len(data)):\n",
    "        x=re.sub('[^\\u0980-\\u09FF]',' ',data['content'][i])\n",
    "        x=re.sub('[a-zA-Z0-9]+', ' ', x)\n",
    "        x=re.sub('[০১২৩৪৫৬৭৮৯]+', ' ', x)\n",
    "        x=x.split()\n",
    "        x=[w for w in x if w not in set(stopwords)]\n",
    "        x=' '.join(x)\n",
    "        corpus.append(x)\n",
    "    \n",
    "    return corpus"
   ]
  },
  {
   "cell_type": "code",
   "execution_count": 7,
   "metadata": {
    "colab": {
     "base_uri": "https://localhost:8080/"
    },
    "id": "nFkGuygBx0Eg",
    "outputId": "c5733c34-bf70-4ba0-bc65-a338ecea03a1"
   },
   "outputs": [
    {
     "data": {
      "text/plain": [
       "['লনডন মতিনিধিবাকশালী সরকারের ফেসিবাদী পরোয়ানা বৃহত্তর জামায়াতের বিএনপি শাখায় চলমান বিশৃংখলার প্রেক্ষিতে বিএনপি শাখা পরিতেগ কল্যান পার্টিতে যোগদানের কথা চিন্তা বিএনপি শাখার আওলাদে আমীর জাতীয়তাবাদী শক্তির ভবিষ্যত মালিক শহীদ প্রেসিডেন্ট জিয়াউর রহমানের যোগ্য উত্তরসুরী বড় গনতন্ত্র তারেক জিয়া লনডনে তারেক জিয়ার ঘনিষ্ঠ সুত্র মারফত তথ্য মতিকণ্ঠের হাতে এসেছে তারেক জিয়ার ঘনিষ্ঠ সুত্র নাম প্রকাশ শর্তে জানিয়েছেন বিএনপির অবস্থা বড় গনতন্ত্র অত্যন্ত হতাশ কল্যান পার্টিতে যোগদানের কথা ভাবছেন ঘনিষ্ঠ সুত্র তারেক জিয়া দেশ ছাড়ার বৃহত্তর জামায়াতের বিএনপি শাখাকে মজবুত বলীয়ান তুলেছিলেন গ্রামে গঞ্জে পানের দোকানেও হাওয়া ভবনের নাম বললে শতে দশ টেকা চান্দা আদায় স্বর্নালী বিগত বর্তমান বিএনপি শাখায় জেলায় জেলায় কোন্দল মারামারি হানাহানি অপরের পুটুতে অংগুলি চালাচালি তারেক জিয়া লনডনে বৃস্টি ছাতা খুলেন ছাতার নিচে একতা বদ্ধ বিএনপি দুর দল কনট্রল কঠিন বিভক্ত বিএনপি বড় গনতন্ত্র আশাহত আবেগঘন কণ্ঠে ঘনিষ্ঠ সুত্র সেদিন তারেক জিয়া দেশে ফুন মেরে জিজ্ঞাসা বাকশাল নামে পরোয়ানা বাইর করল দেশে প্রতিবাদে জ্বালাও পোড়াও কেমন হইতেছে ভাঁড়প্রাপ্ত নায়েবে আমীর ফখা আংকেল সার কুন দুশ্চিন্তা নিবেন দুদু হেন্ডল করতেছে তারেক জিয়া চিতকার কেদে উঠে শনির দশা আমায় কিনা দুদুর ভরসা কুন পুরুষালী নাম সম্পন্ন মর্দে মুজাহিদ বিএনপি শাখায় শেখের বেটীকে পুনরায় আর্জেস গ্রেনেড মারিয়া চৌচির আইল কলিকাল দুদু বাচায় তারেকের ছাল কথা বড় গনতন্ত্র কান্নায় ভেংগে পড়েন কল্যান পার্টিতে যোগদানের বেপারে তারেকের চিন্তা প্রসংগে ঘনিষ্ঠ সুত্র বিএনপি ভরে অনভিজাত বেক্তিবর্গ কাম নাম ফখা খোকা সাকা কোকো ফালু এনি দুদু পুটু লুংগি ইঞ্চি দি লিষ্ট গোজ অন এন্ড অন এইসব কমজাতদের দলে তারেক জিয়া কল্যান পার্টিতে চেয়ারমেন যোগ আগ্রহী কল্যান পার্টির একমাত্র নেতা কর্মী জেনারেল ইব্রাহীম বীর প্রতীক নামটি অভিজাত পদবী অভিজাত মোচ অভিজাত কল্যান পার্টিতেই তারেক জিয়া হাওয়া ভবন ভিত্তি প্রস্তর রচনা ঘনিষ্ঠ সুত্র জানান সদ্য গঠিত রাজনৈতিক দল বাবুনাগরিক শক্তির সংগেও তারেক জিয়ার আলাপন চলছে কুন ফাইনাল নহে',\n",
       " 'বিজয় হাজারে ট্রফিতে রানে উইকেট বিশ্বরেকর্ড গড়েছেন ভারতীয় তরুণ শাহবাজ নাদিম লিস্ট ক্রিকেটে আগেও কীর্তি কম রান খরচায় কীর্তি গড়তে পারেননি লিস্ট ক্রিকেটে আগের সেরা বোলিং ভারতের রাহুল সাংভির মৌসুমে রানে উইকেট নেন এদিন রাজস্থানের আট উইকেটই একাই নেন নাদিম একসময় হচ্ছিল হয়তো উইকেট নেবেন হয়নি আট উইকেটেই খুশি থাকতে দাপুটে বোলিংয়ে ওভারে রানে শেষ রাজস্থানের ইনিংস ঝাড়খণ্ড টপকে যায় ওভারে নাদিম বোলিংয়ে আসেন দশম ওভারের রাজস্থানের সংগ্রহ উইকেট হারিয়ে বৃহস্পতিবার ম্যাচ শেষে নাদিম লোকে বিশ্বরেকর্ডের কথা বলছে বল এসেছি ভাবতেই পারিনি উইকেট পাওয়ার ভেবেছিলাম হয়তো উইকেটও হয়ে',\n",
       " 'রাইজিংবিডি ডেস্ক প্রধানমন্ত্রী শেখ হাসিনা সাংবাদিকতা পেশাকে দেশের বৃহত্তর স্বার্থে ব্যবহারের আহ্বান জানিয়ে গণমাধ্যমের স্বাধীনতাকে বালকসুলভভাবে প্রধানমন্ত্রী সংবাদপত্রের পূর্ণ স্বাধীনতায় বিশ্বাসী এটাকে বালখিল্যভাবে সবারই সচেতন দেশের কল্যাণজনক ভূমিকাই গণমাধ্যমের পালন যোগ প্রধানমন্ত্রী শেখ হাসিনা বুধবার সকালে কার্যালয়ে সাংবাদিক কল্যাণ ট্রাস্ট অসুস্থ অস্বচ্ছল দুর্ঘটনাজনিত আহত নিহত সাংবাদিক পরিবারের সদস্যদের অনুকূলে আর্থিক অনুদানের চেক বিতরণ উপলক্ষে আয়োজিত অনুষ্ঠানে কথা জাতির পিতা সাংবাদিকদের পূর্ণ স্বাধীনতা দিয়েছিলেন উল্লেখ প্রধানমন্ত্রী বিশ্বাস স্বাধীনতা ভালো একটা কথা স্বাধীনতা ভাল বালকের কাজেই ধরনের বালখিল্য সেদিকেও দৃষ্টি গঠনমূলক দায়িত্বশীল ভূমিকাটা পালন যেটা দেশের কল্যাণের লাগবে বাস্তবতা আশা নিশ্চয়ই আপনারা অনুভব প্রধানমন্ত্রী নির্বাচনে বদলের অঙ্গীকার করেছিলাম নিশ্চয়ই আপনারা স্বীকার আজকে মানুষের বদল হয়েছে প্রধানমন্ত্রী বাংলাদেশকে দেখার জানার জীবনে ঝুঁকি নেওয়ার নিয়েছি সুযোগ পেলে কিভাবে করবো পরিকল্পনা এগিয়েছি বলেই আজকে বাংলাদেশ এগিয়ে আজকে মহাকাশও জয় করেছি সমুদ্র সীমানা করেছি স্থল সীমানা চুক্তির বাস্তবায়ন করেছি যাই করেছি শুরুটা দিয়ে গেছেন জাতির পিতা বঙ্গবন্ধু শেখ মুজিব সময়ে জাতির পিতার সাড়ে বছরের শাসনে যুদ্ধ বিধ্বস্ত প্রদেশকে দেশ হিসেবে গড়ে তোলার পাশাপাশি পরিমাণ সম্পাদন বিস্ময় প্রকাশ প্রধানমন্ত্রী জাতির পিতার অসমাপ্ত শেষ যাওয়াই কর্তব্য উল্লেখ প্রধানমন্ত্রী সমালোচকদের উদ্দেশ্যে বিপক্ষে মিডিয়ায় লিখল লিখল চিন্তা চিন্তা কাজটা করছি আত্মবিশ্বাসটা সঠিক করছি আত্মবিশ্বাসের ওপর নির্ভর চলি গণমাধ্যমকে সমাজের দর্পণ আখ্যায়িত প্রধানমন্ত্রী মিডিয়ার সাংবাদিকরা প্রত্যন্ত অঞ্চলের দুঃস্থ জনগণের কথা বিপন্ন জনমানুষের কথা আনেন সরকারের পাশে দাঁড়াতে সুবিধা কথা বলার মত প্রকাশের অধিকার থাকার কথা উল্লেখ শেখ হাসিনা কথা বলার স্বাধীনতা সবারই সংবাদপত্র সাংবাদিকদের স্বাধীনতার কথায় সময় বিশ্বাস পারবে কারো গলা টিপে ধরেছি কারো মুখ টিপে ধরেছি বাধা দিয়েছি দেইনি দেই সাংবাদিকদের অধিকার প্রতিষ্ঠার দরকার করেছি অন্যান্য পেশাজীবীদের মত সাংবাদিক কল্যাণকে সরকার অগ্রাধিকার দেয় উল্লেখ সরকার প্রধান সাংবাদিক কল্যাণে সরকার বাংলাদেশ সাংবাদিক কল্যাণ ট্রাস্ট স্থাপন অওতায় অসুস্থ অস্বচ্ছল আহত নিহত সাংবাদিক পরিবারের সদস্যদের অনুদান দিয়ে আসছে প্রধানমন্ত্রী সময় বাংলাদেশ সাংবাদিক কল্যাণ ট্রাস্টে আরো টাকা অনুদান প্রদানের ঘোষণা তথ্যমন্ত্রী হাসানুল হক ইনু অনুষ্ঠানে সভাপতিত্ব প্রধানমন্ত্রীর মিডিয়া উপদেষ্টা ইকবাল সোবহান চৌধুরী তথ্য প্রতিমন্ত্রী অ্যাডভোকেট তারানা হালিম তথ্য মন্ত্রণালয় সম্পর্কিত সংসদীয় স্থায়ী কমিটির সভাপতি একেএম রহমতউল্লাহ অনুষ্ঠানে অতিথি হিসেবে উপস্থিত তথ্য সচিব মো আব্দুল মালেক অনুষ্ঠানে স্বাগত বক্তৃতা বাংলাদেশ সাংবাদিক কল্যাণ ট্রাস্টের মহাপরিচালক শাহ আলমগীরও অনুষ্ঠানে বক্তৃতা এছাড়া বাংলাদেশ ফেডারেল সাংবাদিক ইউনিয়নের বিএফইউজে সভাপতি মোল্লা জালাল মহাসচিব শাবান মাহমুদ ঢাকা সাংবাদিক ইউনিয়নের সভাপতি ডিইউজে আবু জাফর সূর্য সম্পাদক সোহেল হায়দার চৌধুরীও অনুষ্ঠানে বক্তৃতা তথ্যসূত্র বাসস',\n",
       " 'সড়ক পরিবহন মহাসড়ক বিভাগে তৃতীয় চতুর্থ শ্রেণির শূন্যপদে নিয়োগের লিখিত পরীক্ষা স্থগিত হয়েছে শুক্রবার সেপ্টেম্বর পরীক্ষা হওয়ার কথা বুধবার সেপ্টেম্বর সড়ক পরিবহন সেতু মন্ত্রণালয়ের এক সংবাদ বিজ্ঞপ্তিতে তথ্য হয়েছে পরীক্ষা স্থগিতের উল্লেখ হয়নি লিখিত পরীক্ষার তারিখ পরবর্তীতে বিজ্ঞপ্তির জানিয়ে দেয়া বলেও বিজ্ঞপ্তিতে উল্লেখ হয়েছে আরএমএম এএইচ এমএস']"
      ]
     },
     "execution_count": 7,
     "metadata": {},
     "output_type": "execute_result"
    }
   ],
   "source": [
    "corpus=preprocess(df)\n",
    "corpus[16:20]"
   ]
  },
  {
   "cell_type": "code",
   "execution_count": 8,
   "metadata": {
    "colab": {
     "base_uri": "https://localhost:8080/"
    },
    "id": "bh0mRAh9x2ya",
    "outputId": "b4a81b7b-324b-4f75-ad79-c12ea7434e64"
   },
   "outputs": [
    {
     "data": {
      "text/plain": [
       "((4062, 5000), (4062,))"
      ]
     },
     "execution_count": 8,
     "metadata": {},
     "output_type": "execute_result"
    }
   ],
   "source": [
    "hashing=HashingVectorizer(n_features=5000, ngram_range=(1, 3))\n",
    "X=hashing.fit_transform(corpus).toarray()\n",
    "y=df['label'].values\n",
    "X.shape, y.shape"
   ]
  },
  {
   "cell_type": "code",
   "execution_count": 9,
   "metadata": {
    "id": "Te0j20klx6cc"
   },
   "outputs": [],
   "source": [
    "from tensorflow.keras.models import load_model\n",
    "encoder=load_model('/content/drive/MyDrive/AutoEncoders/encoder_eff.h5')"
   ]
  },
  {
   "cell_type": "code",
   "execution_count": 10,
   "metadata": {
    "id": "uk6KpkF1yGF7"
   },
   "outputs": [],
   "source": [
    "X_encode=encoder.predict(X)"
   ]
  },
  {
   "cell_type": "code",
   "execution_count": 11,
   "metadata": {
    "colab": {
     "base_uri": "https://localhost:8080/"
    },
    "id": "eeVdKEeeySkh",
    "outputId": "1bd9fdea-f82b-48eb-dd20-9c4db01ece55"
   },
   "outputs": [
    {
     "data": {
      "text/plain": [
       "array([1, 1, 1, 1, 0])"
      ]
     },
     "execution_count": 11,
     "metadata": {},
     "output_type": "execute_result"
    }
   ],
   "source": [
    "lr_pred=lr_model_encoder.predict(X_encode)\n",
    "lr_pred[0:5]"
   ]
  },
  {
   "cell_type": "code",
   "execution_count": 12,
   "metadata": {
    "colab": {
     "base_uri": "https://localhost:8080/"
    },
    "id": "V53mwwiSyfaA",
    "outputId": "75b2ea6d-fb85-442a-9370-7704aa03a751"
   },
   "outputs": [
    {
     "data": {
      "text/plain": [
       "0.9734121122599705"
      ]
     },
     "execution_count": 12,
     "metadata": {},
     "output_type": "execute_result"
    }
   ],
   "source": [
    "accuracy_score(y, lr_pred)"
   ]
  },
  {
   "cell_type": "code",
   "execution_count": 13,
   "metadata": {
    "colab": {
     "base_uri": "https://localhost:8080/"
    },
    "id": "cyrPYrWGylOi",
    "outputId": "8959a14f-f628-4f18-9439-bab4bba7111d"
   },
   "outputs": [
    {
     "name": "stdout",
     "output_type": "stream",
     "text": [
      "              precision    recall  f1-score   support\n",
      "\n",
      "           0       0.99      0.90      0.94       995\n",
      "           1       0.97      1.00      0.98      3067\n",
      "\n",
      "    accuracy                           0.97      4062\n",
      "   macro avg       0.98      0.95      0.96      4062\n",
      "weighted avg       0.97      0.97      0.97      4062\n",
      "\n"
     ]
    }
   ],
   "source": [
    "print(classification_report(y, lr_pred))"
   ]
  },
  {
   "cell_type": "code",
   "execution_count": 14,
   "metadata": {
    "colab": {
     "base_uri": "https://localhost:8080/",
     "height": 265
    },
    "id": "84RjUhNQyohz",
    "outputId": "22be8406-b009-48ed-bcb1-077caf9ada9b"
   },
   "outputs": [
    {
     "data": {
      "image/png": "[encoded data removed]",
      "text/plain": [
       "<Figure size 432x288 with 2 Axes>"
      ]
     },
     "metadata": {
      "needs_background": "light"
     },
     "output_type": "display_data"
    }
   ],
   "source": [
    "sns.heatmap(confusion_matrix(y, lr_pred), annot=True, fmt='g')\n",
    "plt.show()"
   ]
  },
  {
   "cell_type": "code",
   "execution_count": 20,
   "metadata": {
    "colab": {
     "base_uri": "https://localhost:8080/",
     "height": 265
    },
    "id": "O3_VXWiSwFSh",
    "outputId": "600077ca-a702-4e91-b30c-528d67424cfe"
   },
   "outputs": [
    {
     "data": {
      "image/png": "[encoded data removed]",
      "text/plain": [
       "<Figure size 432x288 with 1 Axes>"
      ]
     },
     "metadata": {
      "needs_background": "light"
     },
     "output_type": "display_data"
    }
   ],
   "source": [
    "from sklearn.metrics import roc_curve, roc_auc_score\n",
    "\n",
    "y_pred_proba=lr_model_encoder.predict_proba(X_encode)[::,1]\n",
    "fpr, tpr, _=roc_curve(y,  y_pred_proba)\n",
    "auc=roc_auc_score(y, y_pred_proba)\n",
    "plt.plot(fpr,tpr,label=\"data 1, auc=\"+str(auc))\n",
    "plt.legend(loc=4)\n",
    "plt.show()"
   ]
  },
  {
   "cell_type": "code",
   "execution_count": 21,
   "metadata": {
    "colab": {
     "base_uri": "https://localhost:8080/"
    },
    "id": "PJYPB-bdyCnX",
    "outputId": "e7a7118b-ef48-4020-bf67-ce4c4a710a02"
   },
   "outputs": [
    {
     "name": "stdout",
     "output_type": "stream",
     "text": [
      "Collecting plot-metric\n",
      "  Downloading plot_metric-0.0.6-py3-none-any.whl (13 kB)\n",
      "Requirement already satisfied: colorlover>=0.3.0 in /usr/local/lib/python3.7/dist-packages (from plot-metric) (0.3.0)\n",
      "Requirement already satisfied: numpy>=1.15.4 in /usr/local/lib/python3.7/dist-packages (from plot-metric) (1.21.5)\n",
      "Requirement already satisfied: scikit-learn>=0.21.2 in /usr/local/lib/python3.7/dist-packages (from plot-metric) (1.0.2)\n",
      "Requirement already satisfied: pandas>=0.23.4 in /usr/local/lib/python3.7/dist-packages (from plot-metric) (1.3.5)\n",
      "Requirement already satisfied: seaborn>=0.9.0 in /usr/local/lib/python3.7/dist-packages (from plot-metric) (0.11.2)\n",
      "Requirement already satisfied: matplotlib>=3.0.2 in /usr/local/lib/python3.7/dist-packages (from plot-metric) (3.2.2)\n",
      "Requirement already satisfied: scipy>=1.1.0 in /usr/local/lib/python3.7/dist-packages (from plot-metric) (1.4.1)\n",
      "Requirement already satisfied: python-dateutil>=2.1 in /usr/local/lib/python3.7/dist-packages (from matplotlib>=3.0.2->plot-metric) (2.8.2)\n",
      "Requirement already satisfied: kiwisolver>=1.0.1 in /usr/local/lib/python3.7/dist-packages (from matplotlib>=3.0.2->plot-metric) (1.3.2)\n",
      "Requirement already satisfied: cycler>=0.10 in /usr/local/lib/python3.7/dist-packages (from matplotlib>=3.0.2->plot-metric) (0.11.0)\n",
      "Requirement already satisfied: pyparsing!=2.0.4,!=2.1.2,!=2.1.6,>=2.0.1 in /usr/local/lib/python3.7/dist-packages (from matplotlib>=3.0.2->plot-metric) (3.0.7)\n",
      "Requirement already satisfied: pytz>=2017.3 in /usr/local/lib/python3.7/dist-packages (from pandas>=0.23.4->plot-metric) (2018.9)\n",
      "Requirement already satisfied: six>=1.5 in /usr/local/lib/python3.7/dist-packages (from python-dateutil>=2.1->matplotlib>=3.0.2->plot-metric) (1.15.0)\n",
      "Requirement already satisfied: joblib>=0.11 in /usr/local/lib/python3.7/dist-packages (from scikit-learn>=0.21.2->plot-metric) (1.1.0)\n",
      "Requirement already satisfied: threadpoolctl>=2.0.0 in /usr/local/lib/python3.7/dist-packages (from scikit-learn>=0.21.2->plot-metric) (3.1.0)\n",
      "Installing collected packages: plot-metric\n",
      "Successfully installed plot-metric-0.0.6\n"
     ]
    }
   ],
   "source": [
    "!pip install plot-metric"
   ]
  },
  {
   "cell_type": "code",
   "execution_count": 22,
   "metadata": {
    "colab": {
     "base_uri": "https://localhost:8080/",
     "height": 404
    },
    "id": "wbHCzCsQx1D2",
    "outputId": "6401bb65-81d2-4cb5-8e8c-0a59c4f3e62a"
   },
   "outputs": [
    {
     "data": {
      "image/png": "[encoded data removed]",
      "text/plain": [
       "<Figure size 720x432 with 1 Axes>"
      ]
     },
     "metadata": {},
     "output_type": "display_data"
    }
   ],
   "source": [
    "from plot_metric.functions import BinaryClassification\n",
    "bc=BinaryClassification(y, y_pred_proba, labels=[\"Fake\", \"Real\"])\n",
    "\n",
    "plt.figure(figsize=(10, 6))\n",
    "bc.plot_roc_curve()\n",
    "plt.show()"
   ]
  },
  {
   "cell_type": "code",
   "execution_count": 23,
   "metadata": {
    "colab": {
     "base_uri": "https://localhost:8080/"
    },
    "id": "qPUD1K-Py2HU",
    "outputId": "43b1d06a-18eb-4821-d99d-201c1a6bd1b5"
   },
   "outputs": [
    {
     "name": "stdout",
     "output_type": "stream",
     "text": [
      "127/127 [==============================] - 51s 396ms/step - loss: 7.3835e-05\n"
     ]
    },
    {
     "data": {
      "text/plain": [
       "7.383489719359204e-05"
      ]
     },
     "execution_count": 23,
     "metadata": {},
     "output_type": "execute_result"
    }
   ],
   "source": [
    "encoder.evaluate(X, X)"
   ]
  }
 ],
 "metadata": {
  "colab": {
   "collapsed_sections": [],
   "name": "Autoencoder_evaluation_with_Logistic_Regression.ipynb",
   "provenance": []
  },
  "kernelspec": {
   "display_name": "Python 3",
   "language": "python",
   "name": "python3"
  },
  "language_info": {
   "codemirror_mode": {
    "name": "ipython",
    "version": 3
   },
   "file_extension": ".py",
   "mimetype": "text/x-python",
   "name": "python",
   "nbconvert_exporter": "python",
   "pygments_lexer": "ipython3",
   "version": "3.8.8"
  }
 },
 "nbformat": 4,
 "nbformat_minor": 0
}
