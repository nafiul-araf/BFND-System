{
 "cells": [
  {
   "cell_type": "code",
   "execution_count": null,
   "id": "UsEaZvaMK3sL",
   "metadata": {
    "colab": {
     "base_uri": "https://localhost:8080/"
    },
    "id": "UsEaZvaMK3sL",
    "outputId": "d3ce670d-7ffd-4936-f51c-6f263e7694e8"
   },
   "outputs": [
    {
     "name": "stdout",
     "output_type": "stream",
     "text": [
      "Mounted at /content/drive\n"
     ]
    }
   ],
   "source": [
    "from google.colab import drive\n",
    "drive.mount('/content/drive')"
   ]
  },
  {
   "cell_type": "code",
   "execution_count": null,
   "id": "059f1c49",
   "metadata": {
    "id": "059f1c49"
   },
   "outputs": [],
   "source": [
    "from sklearn.datasets import make_classification\n",
    "from sklearn.preprocessing import MinMaxScaler\n",
    "from sklearn.model_selection import train_test_split\n",
    "from tensorflow.keras.models import *\n",
    "from tensorflow.keras.layers import *\n",
    "import matplotlib.pyplot as plt\n",
    "from tensorflow.keras.models import load_model\n",
    "import tensorflow.keras.backend as K"
   ]
  },
  {
   "cell_type": "code",
   "execution_count": null,
   "id": "sftu2BSTX6mD",
   "metadata": {
    "id": "sftu2BSTX6mD"
   },
   "outputs": [],
   "source": [
    "def plot_loss_accuracy(history):\n",
    "  plt.plot(history.history['loss'], label='train')\n",
    "  plt.plot(history.history['val_loss'], label='test')\n",
    "  plt.legend()\n",
    "  plt.show()"
   ]
  },
  {
   "cell_type": "code",
   "execution_count": null,
   "id": "TY5MV3IzHUsN",
   "metadata": {
    "id": "TY5MV3IzHUsN"
   },
   "outputs": [],
   "source": [
    "import numpy as np\n",
    "\n",
    "with open(r'/content/drive/MyDrive/AutoEncoders/X_train.npy', 'rb') as f:\n",
    "    X_train=np.load(f)\n",
    "\n",
    "with open(r'/content/drive/MyDrive/AutoEncoders/X_test.npy', 'rb') as f:\n",
    "    X_test=np.load(f)"
   ]
  },
  {
   "cell_type": "code",
   "execution_count": null,
   "id": "sA0KT-01HgV9",
   "metadata": {
    "colab": {
     "base_uri": "https://localhost:8080/"
    },
    "id": "sA0KT-01HgV9",
    "outputId": "6e05a211-0973-445c-81bc-b7f63af90d0c"
   },
   "outputs": [
    {
     "data": {
      "text/plain": [
       "((72250, 5000), (12750, 5000))"
      ]
     },
     "execution_count": 5,
     "metadata": {},
     "output_type": "execute_result"
    }
   ],
   "source": [
    "X_train.shape, X_test.shape"
   ]
  },
  {
   "cell_type": "code",
   "execution_count": null,
   "id": "SexbOMsKHA_5",
   "metadata": {
    "colab": {
     "base_uri": "https://localhost:8080/"
    },
    "id": "SexbOMsKHA_5",
    "outputId": "fce82e5f-cf71-40f3-9c35-b03606e54016"
   },
   "outputs": [
    {
     "name": "stdout",
     "output_type": "stream",
     "text": [
      "Model: \"model\"\n",
      "_________________________________________________________________\n",
      " Layer (type)                Output Shape              Param #   \n",
      "=================================================================\n",
      " input_1 (InputLayer)        [(None, 5000)]            0         \n",
      "                                                                 \n",
      " dense (Dense)               (None, 10000)             50010000  \n",
      "                                                                 \n",
      " batch_normalization (BatchN  (None, 10000)            40000     \n",
      " ormalization)                                                   \n",
      "                                                                 \n",
      " leaky_re_lu (LeakyReLU)     (None, 10000)             0         \n",
      "                                                                 \n",
      " dense_1 (Dense)             (None, 5000)              50005000  \n",
      "                                                                 \n",
      " batch_normalization_1 (Batc  (None, 5000)             20000     \n",
      " hNormalization)                                                 \n",
      "                                                                 \n",
      " leaky_re_lu_1 (LeakyReLU)   (None, 5000)              0         \n",
      "                                                                 \n",
      " dense_2 (Dense)             (None, 2500)              12502500  \n",
      "                                                                 \n",
      " dense_3 (Dense)             (None, 5000)              12505000  \n",
      "                                                                 \n",
      " batch_normalization_2 (Batc  (None, 5000)             20000     \n",
      " hNormalization)                                                 \n",
      "                                                                 \n",
      " leaky_re_lu_2 (LeakyReLU)   (None, 5000)              0         \n",
      "                                                                 \n",
      " dense_4 (Dense)             (None, 10000)             50010000  \n",
      "                                                                 \n",
      " batch_normalization_3 (Batc  (None, 10000)            40000     \n",
      " hNormalization)                                                 \n",
      "                                                                 \n",
      " leaky_re_lu_3 (LeakyReLU)   (None, 10000)             0         \n",
      "                                                                 \n",
      " dense_5 (Dense)             (None, 5000)              50005000  \n",
      "                                                                 \n",
      "=================================================================\n",
      "Total params: 225,157,500\n",
      "Trainable params: 225,097,500\n",
      "Non-trainable params: 60,000\n",
      "_________________________________________________________________\n"
     ]
    }
   ],
   "source": [
    "n_inputs=X_train.shape[1]\n",
    "# define encoder\n",
    "input=Input(shape=(n_inputs,))\n",
    "\n",
    "# encoder level 1\n",
    "e=Dense(n_inputs*2)(input)\n",
    "e=BatchNormalization()(e)\n",
    "e=LeakyReLU()(e)\n",
    "\n",
    "# encoder level 2\n",
    "e=Dense(n_inputs)(e)\n",
    "e=BatchNormalization()(e)\n",
    "e=LeakyReLU()(e)\n",
    "\n",
    "# bottleneck\n",
    "bottleneck=Dense(round(float(n_inputs)/2.0))(e)\n",
    "\n",
    "# define decoder, level 1\n",
    "d=Dense(n_inputs)(bottleneck)\n",
    "d=BatchNormalization()(d)\n",
    "d=LeakyReLU()(d)\n",
    "\n",
    "# decoder level 2\n",
    "d=Dense(n_inputs*2)(d)\n",
    "d=BatchNormalization()(d)\n",
    "d=LeakyReLU()(d)\n",
    "\n",
    "# output layer\n",
    "output=Dense(n_inputs, activation='linear')(d)\n",
    "\n",
    "# define autoencoder model\n",
    "model=Model(inputs=input, outputs=output)\n",
    "\n",
    "# compile autoencoder model\n",
    "model.compile(optimizer='adam', loss='mse')\n",
    "\n",
    "#summary\n",
    "model.summary()"
   ]
  },
  {
   "cell_type": "code",
   "execution_count": null,
   "id": "kf2t9H07Hn_h",
   "metadata": {
    "colab": {
     "base_uri": "https://localhost:8080/"
    },
    "id": "kf2t9H07Hn_h",
    "outputId": "731c2305-4be8-45cd-ac1d-2af57219cd8e"
   },
   "outputs": [
    {
     "name": "stdout",
     "output_type": "stream",
     "text": [
      "Epoch 1/25\n",
      "2258/2258 - 235s - loss: 0.0114 - val_loss: 0.0015 - 235s/epoch - 104ms/step\n",
      "Epoch 2/25\n",
      "2258/2258 - 231s - loss: 0.0019 - val_loss: 0.0047 - 231s/epoch - 102ms/step\n",
      "Epoch 3/25\n",
      "2258/2258 - 231s - loss: 0.0013 - val_loss: 0.0012 - 231s/epoch - 102ms/step\n",
      "Epoch 4/25\n",
      "2258/2258 - 233s - loss: 6.4906e-04 - val_loss: 7.1432e-04 - 233s/epoch - 103ms/step\n",
      "Epoch 5/25\n",
      "2258/2258 - 231s - loss: 3.4259e-04 - val_loss: 2.8909e-04 - 231s/epoch - 102ms/step\n",
      "Epoch 6/25\n",
      "2258/2258 - 231s - loss: 2.1660e-04 - val_loss: 1.8586e-04 - 231s/epoch - 102ms/step\n",
      "Epoch 7/25\n",
      "2258/2258 - 231s - loss: 1.7420e-04 - val_loss: 1.5415e-04 - 231s/epoch - 102ms/step\n",
      "Epoch 8/25\n",
      "2258/2258 - 231s - loss: 1.4516e-04 - val_loss: 1.2545e-04 - 231s/epoch - 102ms/step\n",
      "Epoch 9/25\n",
      "2258/2258 - 232s - loss: 1.2131e-04 - val_loss: 1.0452e-04 - 232s/epoch - 103ms/step\n",
      "Epoch 10/25\n",
      "2258/2258 - 231s - loss: 1.0534e-04 - val_loss: 9.1398e-05 - 231s/epoch - 102ms/step\n",
      "Epoch 11/25\n",
      "2258/2258 - 234s - loss: 9.5533e-05 - val_loss: 8.3958e-05 - 234s/epoch - 103ms/step\n",
      "Epoch 12/25\n",
      "2258/2258 - 234s - loss: 8.9149e-05 - val_loss: 7.9371e-05 - 234s/epoch - 104ms/step\n",
      "Epoch 13/25\n",
      "2258/2258 - 232s - loss: 8.4561e-05 - val_loss: 7.5825e-05 - 232s/epoch - 103ms/step\n",
      "Epoch 14/25\n",
      "2258/2258 - 232s - loss: 8.1045e-05 - val_loss: 7.2627e-05 - 232s/epoch - 103ms/step\n",
      "Epoch 15/25\n",
      "2258/2258 - 234s - loss: 7.8239e-05 - val_loss: 7.0548e-05 - 234s/epoch - 103ms/step\n",
      "Epoch 16/25\n",
      "2258/2258 - 231s - loss: 7.5965e-05 - val_loss: 6.9188e-05 - 231s/epoch - 102ms/step\n",
      "Epoch 17/25\n",
      "2258/2258 - 230s - loss: 7.3950e-05 - val_loss: 6.7128e-05 - 230s/epoch - 102ms/step\n",
      "Epoch 18/25\n",
      "2258/2258 - 231s - loss: 7.2203e-05 - val_loss: 6.6196e-05 - 231s/epoch - 103ms/step\n",
      "Epoch 19/25\n",
      "2258/2258 - 231s - loss: 7.0693e-05 - val_loss: 6.5319e-05 - 231s/epoch - 102ms/step\n",
      "Epoch 20/25\n",
      "2258/2258 - 233s - loss: 6.9307e-05 - val_loss: 6.3781e-05 - 233s/epoch - 103ms/step\n",
      "Epoch 21/25\n",
      "2258/2258 - 231s - loss: 6.8084e-05 - val_loss: 6.3363e-05 - 231s/epoch - 102ms/step\n",
      "Epoch 22/25\n",
      "2258/2258 - 232s - loss: 6.6983e-05 - val_loss: 6.2261e-05 - 232s/epoch - 103ms/step\n",
      "Epoch 23/25\n",
      "2258/2258 - 230s - loss: 6.5973e-05 - val_loss: 6.1757e-05 - 230s/epoch - 102ms/step\n",
      "Epoch 24/25\n",
      "2258/2258 - 232s - loss: 6.4963e-05 - val_loss: 6.0717e-05 - 232s/epoch - 103ms/step\n",
      "Epoch 25/25\n",
      "2258/2258 - 232s - loss: 6.4121e-05 - val_loss: 5.9990e-05 - 232s/epoch - 103ms/step\n"
     ]
    }
   ],
   "source": [
    "history=model.fit(X_train, X_train, epochs=25, verbose=2, validation_data=(X_test, X_test))"
   ]
  },
  {
   "cell_type": "code",
   "execution_count": null,
   "id": "7NVMLycxMVey",
   "metadata": {
    "colab": {
     "base_uri": "https://localhost:8080/",
     "height": 265
    },
    "id": "7NVMLycxMVey",
    "outputId": "628e34af-3842-48c8-c0c4-32b579328dd6"
   },
   "outputs": [
    {
     "data": {
      "image/png": "[encoded data removed]",
      "text/plain": [
       "<Figure size 432x288 with 1 Axes>"
      ]
     },
     "metadata": {
      "needs_background": "light"
     },
     "output_type": "display_data"
    }
   ],
   "source": [
    "plot_loss_accuracy(history)"
   ]
  },
  {
   "cell_type": "code",
   "execution_count": null,
   "id": "4ba9634f",
   "metadata": {
    "id": "4ba9634f"
   },
   "outputs": [],
   "source": [
    "model.save('/content/drive/MyDrive/AutoEncoders/encoder_eff.h5')"
   ]
  },
  {
   "cell_type": "code",
   "execution_count": null,
   "id": "YfNQDzSsRtRh",
   "metadata": {
    "id": "YfNQDzSsRtRh"
   },
   "outputs": [],
   "source": [
    "K.clear_session()"
   ]
  },
  {
   "cell_type": "code",
   "execution_count": null,
   "id": "zWWSPdBbszDZ",
   "metadata": {
    "colab": {
     "base_uri": "https://localhost:8080/"
    },
    "id": "zWWSPdBbszDZ",
    "outputId": "618c0d8b-c061-45e0-dbe8-f9e9cbca0c0e"
   },
   "outputs": [
    {
     "name": "stdout",
     "output_type": "stream",
     "text": [
      "Model: \"model\"\n",
      "_________________________________________________________________\n",
      " Layer (type)                Output Shape              Param #   \n",
      "=================================================================\n",
      " input_1 (InputLayer)        [(None, 5000)]            0         \n",
      "                                                                 \n",
      " dense (Dense)               (None, 10000)             50010000  \n",
      "                                                                 \n",
      " batch_normalization (BatchN  (None, 10000)            40000     \n",
      " ormalization)                                                   \n",
      "                                                                 \n",
      " re_lu (ReLU)                (None, 10000)             0         \n",
      "                                                                 \n",
      " dense_1 (Dense)             (None, 5000)              50005000  \n",
      "                                                                 \n",
      " batch_normalization_1 (Batc  (None, 5000)             20000     \n",
      " hNormalization)                                                 \n",
      "                                                                 \n",
      " re_lu_1 (ReLU)              (None, 5000)              0         \n",
      "                                                                 \n",
      " dense_2 (Dense)             (None, 2500)              12502500  \n",
      "                                                                 \n",
      " dense_3 (Dense)             (None, 5000)              12505000  \n",
      "                                                                 \n",
      " batch_normalization_2 (Batc  (None, 5000)             20000     \n",
      " hNormalization)                                                 \n",
      "                                                                 \n",
      " re_lu_2 (ReLU)              (None, 5000)              0         \n",
      "                                                                 \n",
      " dense_4 (Dense)             (None, 10000)             50010000  \n",
      "                                                                 \n",
      " batch_normalization_3 (Batc  (None, 10000)            40000     \n",
      " hNormalization)                                                 \n",
      "                                                                 \n",
      " re_lu_3 (ReLU)              (None, 10000)             0         \n",
      "                                                                 \n",
      " dense_5 (Dense)             (None, 5000)              50005000  \n",
      "                                                                 \n",
      "=================================================================\n",
      "Total params: 225,157,500\n",
      "Trainable params: 225,097,500\n",
      "Non-trainable params: 60,000\n",
      "_________________________________________________________________\n"
     ]
    }
   ],
   "source": [
    "#visible=Input(shape=(n_inputs,))\n",
    "# define encoder\n",
    "# encoder level 1\n",
    "#e=Dense(n_inputs*2)(visible)\n",
    "#e=BatchNormalization()(e)\n",
    "#e=ReLU()(e)\n",
    "\n",
    "# encoder level 2\n",
    "#e=Dense(n_inputs)(e)\n",
    "#e=BatchNormalization()(e)\n",
    "#e=ReLU()(e)\n",
    "\n",
    "# bottleneck\n",
    "#n_bottleneck=round(float(n_inputs)/2.0)\n",
    "#bottleneck=Dense(n_bottleneck)(e)\n",
    "\n",
    "# define decoder, level 1\n",
    "#d=Dense(n_inputs)(bottleneck)\n",
    "#d=BatchNormalization()(d)\n",
    "#d=ReLU()(d)\n",
    "\n",
    "# decoder level 2\n",
    "#d=Dense(n_inputs*2)(d)\n",
    "#d=BatchNormalization()(d)\n",
    "#d=ReLU()(d)\n",
    "\n",
    "# output layer\n",
    "#output=Dense(n_inputs, activation='linear')(d)\n",
    "\n",
    "# define autoencoder model\n",
    "#model=Model(inputs=visible, outputs=output)\n",
    "\n",
    "# compile autoencoder model\n",
    "#model.compile(optimizer='adam', loss='mse')\n",
    "\n",
    "#summary\n",
    "#model.summary()"
   ]
  },
  {
   "cell_type": "code",
   "execution_count": null,
   "id": "lDCDEcyXBruo",
   "metadata": {
    "colab": {
     "base_uri": "https://localhost:8080/"
    },
    "id": "lDCDEcyXBruo",
    "outputId": "f987c8fe-a04b-4255-f074-fe1506722f45"
   },
   "outputs": [
    {
     "name": "stdout",
     "output_type": "stream",
     "text": [
      "Epoch 1/30\n",
      "399/399 - 50s - loss: 0.1497 - val_loss: 0.0443 - 50s/epoch - 126ms/step\n",
      "Epoch 2/30\n",
      "399/399 - 41s - loss: 0.0499 - val_loss: 0.0573 - 41s/epoch - 102ms/step\n",
      "Epoch 3/30\n",
      "399/399 - 41s - loss: 0.0433 - val_loss: 0.0519 - 41s/epoch - 103ms/step\n",
      "Epoch 4/30\n",
      "399/399 - 41s - loss: 0.0406 - val_loss: 0.0357 - 41s/epoch - 102ms/step\n",
      "Epoch 5/30\n",
      "399/399 - 41s - loss: 0.0353 - val_loss: 0.0327 - 41s/epoch - 102ms/step\n",
      "Epoch 6/30\n",
      "399/399 - 40s - loss: 0.0337 - val_loss: 0.0323 - 40s/epoch - 101ms/step\n",
      "Epoch 7/30\n",
      "399/399 - 40s - loss: 0.0325 - val_loss: 0.0323 - 40s/epoch - 101ms/step\n",
      "Epoch 8/30\n",
      "399/399 - 40s - loss: 0.0327 - val_loss: 0.0323 - 40s/epoch - 101ms/step\n",
      "Epoch 9/30\n",
      "399/399 - 40s - loss: 0.0325 - val_loss: 0.0323 - 40s/epoch - 101ms/step\n",
      "Epoch 10/30\n",
      "399/399 - 40s - loss: 0.0324 - val_loss: 0.0323 - 40s/epoch - 101ms/step\n",
      "Epoch 11/30\n",
      "399/399 - 40s - loss: 0.0323 - val_loss: 0.0323 - 40s/epoch - 101ms/step\n",
      "Epoch 12/30\n",
      "399/399 - 40s - loss: 0.0327 - val_loss: 0.0323 - 40s/epoch - 101ms/step\n",
      "Epoch 13/30\n",
      "399/399 - 40s - loss: 0.0326 - val_loss: 0.0323 - 40s/epoch - 101ms/step\n",
      "Epoch 14/30\n",
      "399/399 - 40s - loss: 0.0323 - val_loss: 0.0323 - 40s/epoch - 101ms/step\n",
      "Epoch 15/30\n",
      "399/399 - 41s - loss: 0.0323 - val_loss: 0.0323 - 41s/epoch - 103ms/step\n",
      "Epoch 16/30\n",
      "399/399 - 40s - loss: 0.0323 - val_loss: 0.0323 - 40s/epoch - 101ms/step\n",
      "Epoch 17/30\n",
      "399/399 - 41s - loss: 0.0323 - val_loss: 0.0323 - 41s/epoch - 104ms/step\n",
      "Epoch 18/30\n",
      "399/399 - 40s - loss: 0.0323 - val_loss: 0.0323 - 40s/epoch - 101ms/step\n",
      "Epoch 19/30\n",
      "399/399 - 40s - loss: 0.0323 - val_loss: 0.0323 - 40s/epoch - 101ms/step\n",
      "Epoch 20/30\n",
      "399/399 - 41s - loss: 0.0323 - val_loss: 0.0323 - 41s/epoch - 104ms/step\n",
      "Epoch 21/30\n",
      "399/399 - 40s - loss: 0.0323 - val_loss: 0.0323 - 40s/epoch - 101ms/step\n",
      "Epoch 22/30\n",
      "399/399 - 40s - loss: 0.0323 - val_loss: 0.0323 - 40s/epoch - 101ms/step\n",
      "Epoch 23/30\n",
      "399/399 - 42s - loss: 0.0323 - val_loss: 0.0323 - 42s/epoch - 104ms/step\n",
      "Epoch 24/30\n",
      "399/399 - 40s - loss: 0.0323 - val_loss: 0.0323 - 40s/epoch - 101ms/step\n",
      "Epoch 25/30\n",
      "399/399 - 41s - loss: 0.0323 - val_loss: 0.0323 - 41s/epoch - 104ms/step\n",
      "Epoch 26/30\n",
      "399/399 - 40s - loss: 0.0323 - val_loss: 0.0323 - 40s/epoch - 101ms/step\n",
      "Epoch 27/30\n",
      "399/399 - 41s - loss: 0.0323 - val_loss: 0.0323 - 41s/epoch - 102ms/step\n",
      "Epoch 28/30\n",
      "399/399 - 40s - loss: 0.0323 - val_loss: 0.0323 - 40s/epoch - 101ms/step\n",
      "Epoch 29/30\n",
      "399/399 - 42s - loss: 0.0323 - val_loss: 0.0323 - 42s/epoch - 104ms/step\n",
      "Epoch 30/30\n",
      "399/399 - 40s - loss: 0.0323 - val_loss: 0.0323 - 40s/epoch - 101ms/step\n"
     ]
    }
   ],
   "source": [
    "#history=model.fit(X_train, X_train, epochs=30, verbose=2, validation_data=(X_test, X_test))"
   ]
  },
  {
   "cell_type": "code",
   "execution_count": null,
   "id": "XJ4KbhawGsgL",
   "metadata": {
    "colab": {
     "base_uri": "https://localhost:8080/",
     "height": 265
    },
    "id": "XJ4KbhawGsgL",
    "outputId": "78a20b7e-aa66-49bd-a437-6680ebd3aa97"
   },
   "outputs": [
    {
     "data": {
      "image/png": "[encoded data removed]",
      "text/plain": [
       "<Figure size 432x288 with 1 Axes>"
      ]
     },
     "metadata": {
      "needs_background": "light"
     },
     "output_type": "display_data"
    }
   ],
   "source": [
    "#plot_loss_accuracy(history)"
   ]
  },
  {
   "cell_type": "code",
   "execution_count": null,
   "id": "SWW0tIvnGtT6",
   "metadata": {
    "id": "SWW0tIvnGtT6"
   },
   "outputs": [],
   "source": [
    "#K.clear_session()"
   ]
  },
  {
   "cell_type": "code",
   "execution_count": null,
   "id": "9StrvXG0HNGk",
   "metadata": {
    "colab": {
     "base_uri": "https://localhost:8080/"
    },
    "id": "9StrvXG0HNGk",
    "outputId": "0a49c754-38cd-4d45-eea4-90262da40171"
   },
   "outputs": [
    {
     "name": "stdout",
     "output_type": "stream",
     "text": [
      "Model: \"model\"\n",
      "_________________________________________________________________\n",
      " Layer (type)                Output Shape              Param #   \n",
      "=================================================================\n",
      " input_1 (InputLayer)        [(None, 5000)]            0         \n",
      "                                                                 \n",
      " dense (Dense)               (None, 7500)              37507500  \n",
      "                                                                 \n",
      " batch_normalization (BatchN  (None, 7500)             30000     \n",
      " ormalization)                                                   \n",
      "                                                                 \n",
      " leaky_re_lu (LeakyReLU)     (None, 7500)              0         \n",
      "                                                                 \n",
      " dense_1 (Dense)             (None, 5000)              37505000  \n",
      "                                                                 \n",
      " batch_normalization_1 (Batc  (None, 5000)             20000     \n",
      " hNormalization)                                                 \n",
      "                                                                 \n",
      " leaky_re_lu_1 (LeakyReLU)   (None, 5000)              0         \n",
      "                                                                 \n",
      " dense_2 (Dense)             (None, 2500)              12502500  \n",
      "                                                                 \n",
      " dense_3 (Dense)             (None, 2500)              6252500   \n",
      "                                                                 \n",
      " dense_4 (Dense)             (None, 5000)              12505000  \n",
      "                                                                 \n",
      " batch_normalization_2 (Batc  (None, 5000)             20000     \n",
      " hNormalization)                                                 \n",
      "                                                                 \n",
      " leaky_re_lu_2 (LeakyReLU)   (None, 5000)              0         \n",
      "                                                                 \n",
      " dense_5 (Dense)             (None, 7500)              37507500  \n",
      "                                                                 \n",
      " batch_normalization_3 (Batc  (None, 7500)             30000     \n",
      " hNormalization)                                                 \n",
      "                                                                 \n",
      " leaky_re_lu_3 (LeakyReLU)   (None, 7500)              0         \n",
      "                                                                 \n",
      " dense_6 (Dense)             (None, 5000)              37505000  \n",
      "                                                                 \n",
      "=================================================================\n",
      "Total params: 181,385,000\n",
      "Trainable params: 181,335,000\n",
      "Non-trainable params: 50,000\n",
      "_________________________________________________________________\n"
     ]
    }
   ],
   "source": [
    "#inputs\n",
    "#visible=Input(shape=(n_inputs, ))\n",
    "\n",
    "\n",
    "#Encoder\n",
    "\n",
    "# -- Level:1\n",
    "#e=Dense(round(float(n_inputs*1.5)))(visible)\n",
    "#e=BatchNormalization()(e)\n",
    "#e=LeakyReLU()(e)\n",
    "# -- Level:2\n",
    "#e=Dense(n_inputs)(e)\n",
    "#e=BatchNormalization()(e)\n",
    "#e=LeakyReLU()(e)\n",
    "\n",
    "\n",
    "#Bottleneck\n",
    "\n",
    "# -- Level:1\n",
    "#b=Dense(round(float(n_inputs*0.5)))(e) ###Add Batchnorm\n",
    "# -- Level:2\n",
    "#b=Dense(round(float(n_inputs*0.5)))(b)\n",
    "\n",
    "\n",
    "#Decoder\n",
    "\n",
    "# -- Level:1\n",
    "#d=Dense(n_inputs)(b)\n",
    "#d=BatchNormalization()(d)\n",
    "#d=LeakyReLU()(d)\n",
    "# -- Level:2\n",
    "#d=Dense(round(float(n_inputs*1.5)))(d)\n",
    "#d=BatchNormalization()(d)\n",
    "#d=LeakyReLU()(d)\n",
    "\n",
    "\n",
    "#output\n",
    "#output=Dense(n_inputs, activation='linear')(d)\n",
    "\n",
    "\n",
    "# define autoencoder model\n",
    "#model=Model(inputs=visible, outputs=output)\n",
    "\n",
    "# compile autoencoder model\n",
    "#model.compile(optimizer='adam', loss='mse')\n",
    "\n",
    "#summary\n",
    "#model.summary()"
   ]
  },
  {
   "cell_type": "code",
   "execution_count": null,
   "id": "xWmoIcL8HNMj",
   "metadata": {
    "colab": {
     "base_uri": "https://localhost:8080/"
    },
    "id": "xWmoIcL8HNMj",
    "outputId": "9652cab3-d394-48e5-a843-fe1fc40895b1"
   },
   "outputs": [
    {
     "name": "stdout",
     "output_type": "stream",
     "text": [
      "Epoch 1/30\n",
      "399/399 [==============================] - 40s 92ms/step - loss: 0.0733 - val_loss: 0.0568\n",
      "Epoch 2/30\n",
      "399/399 [==============================] - 36s 90ms/step - loss: 0.0409 - val_loss: 0.0356\n",
      "Epoch 3/30\n",
      "399/399 [==============================] - 36s 91ms/step - loss: 0.0364 - val_loss: 0.0314\n",
      "Epoch 4/30\n",
      "399/399 [==============================] - 36s 90ms/step - loss: 0.0348 - val_loss: 0.0302\n",
      "Epoch 5/30\n",
      "399/399 [==============================] - 37s 93ms/step - loss: 0.0348 - val_loss: 0.0302\n",
      "Epoch 6/30\n",
      "399/399 [==============================] - 36s 90ms/step - loss: 0.0342 - val_loss: 0.0288\n",
      "Epoch 7/30\n",
      "399/399 [==============================] - 36s 90ms/step - loss: 0.0329 - val_loss: 0.0288\n",
      "Epoch 8/30\n",
      "399/399 [==============================] - 36s 90ms/step - loss: 0.0317 - val_loss: 0.0283\n",
      "Epoch 9/30\n",
      "399/399 [==============================] - 36s 90ms/step - loss: 0.0306 - val_loss: 0.0277\n",
      "Epoch 10/30\n",
      "399/399 [==============================] - 36s 90ms/step - loss: 0.0295 - val_loss: 0.0281\n",
      "Epoch 11/30\n",
      "399/399 [==============================] - 36s 90ms/step - loss: 0.0286 - val_loss: 0.0274\n",
      "Epoch 12/30\n",
      "399/399 [==============================] - 36s 90ms/step - loss: 0.0280 - val_loss: 0.0273\n",
      "Epoch 13/30\n",
      "399/399 [==============================] - 37s 93ms/step - loss: 0.0275 - val_loss: 0.0273\n",
      "Epoch 14/30\n",
      "399/399 [==============================] - 36s 90ms/step - loss: 0.0273 - val_loss: 0.0272\n",
      "Epoch 15/30\n",
      "399/399 [==============================] - 37s 93ms/step - loss: 0.0271 - val_loss: 0.0272\n",
      "Epoch 16/30\n",
      "399/399 [==============================] - 36s 90ms/step - loss: 0.0270 - val_loss: 0.0271\n",
      "Epoch 17/30\n",
      "399/399 [==============================] - 36s 90ms/step - loss: 0.0268 - val_loss: 0.0270\n",
      "Epoch 18/30\n",
      "399/399 [==============================] - 36s 90ms/step - loss: 0.0266 - val_loss: 0.0269\n",
      "Epoch 19/30\n",
      "399/399 [==============================] - 37s 93ms/step - loss: 0.0264 - val_loss: 0.0268\n",
      "Epoch 20/30\n",
      "399/399 [==============================] - 36s 90ms/step - loss: 0.0262 - val_loss: 0.0268\n",
      "Epoch 21/30\n",
      "399/399 [==============================] - 36s 90ms/step - loss: 0.0259 - val_loss: 0.0267\n",
      "Epoch 22/30\n",
      "399/399 [==============================] - 36s 90ms/step - loss: 0.0257 - val_loss: 0.0266\n",
      "Epoch 23/30\n",
      "399/399 [==============================] - 36s 90ms/step - loss: 0.0255 - val_loss: 0.0265\n",
      "Epoch 24/30\n",
      "399/399 [==============================] - 36s 90ms/step - loss: 0.0253 - val_loss: 0.0265\n",
      "Epoch 25/30\n",
      "399/399 [==============================] - 36s 90ms/step - loss: 0.0251 - val_loss: 0.0264\n",
      "Epoch 26/30\n",
      "399/399 [==============================] - 36s 90ms/step - loss: 0.0249 - val_loss: 0.0264\n",
      "Epoch 27/30\n",
      "399/399 [==============================] - 36s 90ms/step - loss: 0.0248 - val_loss: 0.0264\n",
      "Epoch 28/30\n",
      "399/399 [==============================] - 37s 93ms/step - loss: 0.0246 - val_loss: 0.0264\n",
      "Epoch 29/30\n",
      "399/399 [==============================] - 36s 89ms/step - loss: 0.0244 - val_loss: 0.0264\n",
      "Epoch 30/30\n",
      "399/399 [==============================] - 37s 93ms/step - loss: 0.0242 - val_loss: 0.0264\n"
     ]
    }
   ],
   "source": [
    "history=model.fit(X_train, X_train, epochs=30, validation_data=(X_test, X_test))"
   ]
  },
  {
   "cell_type": "code",
   "execution_count": null,
   "id": "SYTYRANYHNSD",
   "metadata": {
    "colab": {
     "base_uri": "https://localhost:8080/",
     "height": 265
    },
    "id": "SYTYRANYHNSD",
    "outputId": "b2022edf-4101-446c-bf30-deb9befd1ce0"
   },
   "outputs": [
    {
     "data": {
      "image/png": "[encoded data removed]",
      "text/plain": [
       "<Figure size 432x288 with 1 Axes>"
      ]
     },
     "metadata": {
      "needs_background": "light"
     },
     "output_type": "display_data"
    }
   ],
   "source": [
    "plot_loss_accuracy(history)"
   ]
  },
  {
   "cell_type": "code",
   "execution_count": null,
   "id": "HN0w9ZqMZlbx",
   "metadata": {
    "id": "HN0w9ZqMZlbx"
   },
   "outputs": [],
   "source": [
    "#model.save('/content/drive/MyDrive/AutoEncoders/encoder_v2.h5')"
   ]
  },
  {
   "cell_type": "code",
   "execution_count": null,
   "id": "xmRa6TOHHNXj",
   "metadata": {
    "id": "xmRa6TOHHNXj"
   },
   "outputs": [],
   "source": [
    "K.clear_session()"
   ]
  }
 ],
 "metadata": {
  "accelerator": "GPU",
  "colab": {
   "collapsed_sections": [],
   "name": "autoencoder.ipynb",
   "provenance": []
  },
  "kernelspec": {
   "display_name": "Python 3",
   "language": "python",
   "name": "python3"
  },
  "language_info": {
   "codemirror_mode": {
    "name": "ipython",
    "version": 3
   },
   "file_extension": ".py",
   "mimetype": "text/x-python",
   "name": "python",
   "nbconvert_exporter": "python",
   "pygments_lexer": "ipython3",
   "version": "3.8.8"
  }
 },
 "nbformat": 4,
 "nbformat_minor": 5
}
