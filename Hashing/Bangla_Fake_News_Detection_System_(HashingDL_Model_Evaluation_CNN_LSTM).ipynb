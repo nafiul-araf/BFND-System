{
 "cells": [
  {
   "cell_type": "code",
   "execution_count": 1,
   "id": "bwt9BEOVbi79",
   "metadata": {
    "colab": {
     "base_uri": "https://localhost:8080/"
    },
    "id": "bwt9BEOVbi79",
    "outputId": "12c791c3-ebf7-431a-e343-f4a14dbe3229"
   },
   "outputs": [
    {
     "name": "stdout",
     "output_type": "stream",
     "text": [
      "Mounted at /content/drive\n"
     ]
    }
   ],
   "source": [
    "from google.colab import drive\n",
    "drive.mount('/content/drive')"
   ]
  },
  {
   "cell_type": "code",
   "execution_count": 2,
   "id": "903ae789",
   "metadata": {
    "id": "903ae789"
   },
   "outputs": [],
   "source": [
    "import pandas as pd"
   ]
  },
  {
   "cell_type": "code",
   "execution_count": 3,
   "id": "71a7ea9e",
   "metadata": {
    "colab": {
     "base_uri": "https://localhost:8080/"
    },
    "id": "71a7ea9e",
    "outputId": "1f29eb35-749a-4461-a9d5-2b05901227c1"
   },
   "outputs": [
    {
     "data": {
      "text/plain": [
       "(3067, 9)"
      ]
     },
     "execution_count": 3,
     "metadata": {},
     "output_type": "execute_result"
    }
   ],
   "source": [
    "label_auth=pd.read_csv(r'/content/drive/MyDrive/LabeledAuthentic-7K.csv', nrows=3067)\n",
    "label_auth.shape"
   ]
  },
  {
   "cell_type": "code",
   "execution_count": 4,
   "id": "aec30f61",
   "metadata": {
    "colab": {
     "base_uri": "https://localhost:8080/"
    },
    "id": "aec30f61",
    "outputId": "12297de6-075c-46da-d698-096e6e6a9862"
   },
   "outputs": [
    {
     "data": {
      "text/plain": [
       "(995, 10)"
      ]
     },
     "execution_count": 4,
     "metadata": {},
     "output_type": "execute_result"
    }
   ],
   "source": [
    "label_fake=pd.read_csv(r'/content/drive/MyDrive/LabeledFake-1K.csv', nrows=995)\n",
    "label_fake.shape"
   ]
  },
  {
   "cell_type": "code",
   "execution_count": 5,
   "id": "5037619c",
   "metadata": {
    "colab": {
     "base_uri": "https://localhost:8080/"
    },
    "id": "5037619c",
    "outputId": "ff1345e0-e5b4-4056-a16e-8a1b9a5aff11"
   },
   "outputs": [
    {
     "data": {
      "text/plain": [
       "((3067, 7), (995, 7))"
      ]
     },
     "execution_count": 5,
     "metadata": {},
     "output_type": "execute_result"
    }
   ],
   "source": [
    "label_auth.drop(['source','relation'], axis=1, inplace=True)\n",
    "label_fake.drop(['source','relation','F-type'], axis=1, inplace=True)\n",
    "label_auth.shape, label_fake.shape"
   ]
  },
  {
   "cell_type": "code",
   "execution_count": 6,
   "id": "8f5231c3",
   "metadata": {
    "colab": {
     "base_uri": "https://localhost:8080/"
    },
    "id": "8f5231c3",
    "outputId": "5da79a2e-4239-48d0-cc03-36c7eb1fb427"
   },
   "outputs": [
    {
     "data": {
      "text/plain": [
       "(4062, 7)"
      ]
     },
     "execution_count": 6,
     "metadata": {},
     "output_type": "execute_result"
    }
   ],
   "source": [
    "df=pd.concat([label_auth, label_fake], axis=0)\n",
    "df.shape"
   ]
  },
  {
   "cell_type": "code",
   "execution_count": 7,
   "id": "902dc87e",
   "metadata": {
    "colab": {
     "base_uri": "https://localhost:8080/",
     "height": 206
    },
    "id": "902dc87e",
    "outputId": "7a3be6bb-0847-4627-8d4a-a40fbf0aba94"
   },
   "outputs": [
    {
     "data": {
      "text/html": [
       "\n",
       "  <div id=\"df-bb4129d4-9d60-4f9a-a04e-79d0d5c49ae6\">\n",
       "    <div class=\"colab-df-container\">\n",
       "      <div>\n",
       "<style scoped>\n",
       "    .dataframe tbody tr th:only-of-type {\n",
       "        vertical-align: middle;\n",
       "    }\n",
       "\n",
       "    .dataframe tbody tr th {\n",
       "        vertical-align: top;\n",
       "    }\n",
       "\n",
       "    .dataframe thead th {\n",
       "        text-align: right;\n",
       "    }\n",
       "</style>\n",
       "<table border=\"1\" class=\"dataframe\">\n",
       "  <thead>\n",
       "    <tr style=\"text-align: right;\">\n",
       "      <th></th>\n",
       "      <th>index</th>\n",
       "      <th>articleID</th>\n",
       "      <th>domain</th>\n",
       "      <th>date</th>\n",
       "      <th>category</th>\n",
       "      <th>headline</th>\n",
       "      <th>content</th>\n",
       "      <th>label</th>\n",
       "    </tr>\n",
       "  </thead>\n",
       "  <tbody>\n",
       "    <tr>\n",
       "      <th>4057</th>\n",
       "      <td>990</td>\n",
       "      <td>995</td>\n",
       "      <td>earki.com</td>\n",
       "      <td>েম্বর ২৯, ২০১৮</td>\n",
       "      <td>Miscellaneous</td>\n",
       "      <td>যাত্রা শুরু করলো ওসমান’স ব্রাইডাল মেকওভার সেলুন</td>\n",
       "      <td>এসে গেছে শীতকাল, মানে বিয়ের মৌসুম। এই সময়টিতে ...</td>\n",
       "      <td>0.0</td>\n",
       "    </tr>\n",
       "    <tr>\n",
       "      <th>4058</th>\n",
       "      <td>991</td>\n",
       "      <td>996</td>\n",
       "      <td>bengalbeats.com</td>\n",
       "      <td>2019-04-02T20:26:45+00:00</td>\n",
       "      <td>Lifestyle</td>\n",
       "      <td>Zee বাংলা বন্ধের সংবাদ শুনে সীমান্ত এলাকায় টিভ...</td>\n",
       "      <td>হঠাৎ করেই সারাদেশে জি বাংলা বন্ধ হয়ে যাওয়াতে স...</td>\n",
       "      <td>0.0</td>\n",
       "    </tr>\n",
       "    <tr>\n",
       "      <th>4059</th>\n",
       "      <td>992</td>\n",
       "      <td>997</td>\n",
       "      <td>earki.com</td>\n",
       "      <td>্টোবর ২৫, ২০১৮</td>\n",
       "      <td>Miscellaneous</td>\n",
       "      <td>যে ১০টি প্রশ্নের উত্তর সম্পর্কে দেবী সিনেমার র...</td>\n",
       "      <td>মুক্তি পেয়েছে হুমায়ূন আহমেদের ‘দেবী’ উপন্যাস অ...</td>\n",
       "      <td>0.0</td>\n",
       "    </tr>\n",
       "    <tr>\n",
       "      <th>4060</th>\n",
       "      <td>993</td>\n",
       "      <td>998</td>\n",
       "      <td>bengalbeats.com</td>\n",
       "      <td>2019-03-11T15:28:37+00:00</td>\n",
       "      <td>Lifestyle</td>\n",
       "      <td>বই পড়ার সময় আমি অন্য কিছু করি না কিন্তু... - B...</td>\n",
       "      <td>“মদ খাওয়ার সময় আমি কোন রিস্ক নেই না” গল্প অবলম...</td>\n",
       "      <td>0.0</td>\n",
       "    </tr>\n",
       "    <tr>\n",
       "      <th>4061</th>\n",
       "      <td>994</td>\n",
       "      <td>999</td>\n",
       "      <td>channeldhaka.news</td>\n",
       "      <td>2018-08-08T10:30:56+00:00</td>\n",
       "      <td>Lifestyle</td>\n",
       "      <td>প্রেম করলে বাড়বে ওজন!</td>\n",
       "      <td>ওজন বাড়ার সঙ্গে নাকি প্রেমের এক অদ্ভুত সম্পর্...</td>\n",
       "      <td>0.0</td>\n",
       "    </tr>\n",
       "  </tbody>\n",
       "</table>\n",
       "</div>\n",
       "      <button class=\"colab-df-convert\" onclick=\"convertToInteractive('df-bb4129d4-9d60-4f9a-a04e-79d0d5c49ae6')\"\n",
       "              title=\"Convert this dataframe to an interactive table.\"\n",
       "              style=\"display:none;\">\n",
       "        \n",
       "  <svg xmlns=\"http://www.w3.org/2000/svg\" height=\"24px\"viewBox=\"0 0 24 24\"\n",
       "       width=\"24px\">\n",
       "    <path d=\"M0 0h24v24H0V0z\" fill=\"none\"/>\n",
       "    <path d=\"M18.56 5.44l.94 2.06.94-2.06 2.06-.94-2.06-.94-.94-2.06-.94 2.06-2.06.94zm-11 1L8.5 8.5l.94-2.06 2.06-.94-2.06-.94L8.5 2.5l-.94 2.06-2.06.94zm10 10l.94 2.06.94-2.06 2.06-.94-2.06-.94-.94-2.06-.94 2.06-2.06.94z\"/><path d=\"M17.41 7.96l-1.37-1.37c-.4-.4-.92-.59-1.43-.59-.52 0-1.04.2-1.43.59L10.3 9.45l-7.72 7.72c-.78.78-.78 2.05 0 2.83L4 21.41c.39.39.9.59 1.41.59.51 0 1.02-.2 1.41-.59l7.78-7.78 2.81-2.81c.8-.78.8-2.07 0-2.86zM5.41 20L4 18.59l7.72-7.72 1.47 1.35L5.41 20z\"/>\n",
       "  </svg>\n",
       "      </button>\n",
       "      \n",
       "  <style>\n",
       "    .colab-df-container {\n",
       "      display:flex;\n",
       "      flex-wrap:wrap;\n",
       "      gap: 12px;\n",
       "    }\n",
       "\n",
       "    .colab-df-convert {\n",
       "      background-color: #E8F0FE;\n",
       "      border: none;\n",
       "      border-radius: 50%;\n",
       "      cursor: pointer;\n",
       "      display: none;\n",
       "      fill: #1967D2;\n",
       "      height: 32px;\n",
       "      padding: 0 0 0 0;\n",
       "      width: 32px;\n",
       "    }\n",
       "\n",
       "    .colab-df-convert:hover {\n",
       "      background-color: #E2EBFA;\n",
       "      box-shadow: 0px 1px 2px rgba(60, 64, 67, 0.3), 0px 1px 3px 1px rgba(60, 64, 67, 0.15);\n",
       "      fill: #174EA6;\n",
       "    }\n",
       "\n",
       "    [theme=dark] .colab-df-convert {\n",
       "      background-color: #3B4455;\n",
       "      fill: #D2E3FC;\n",
       "    }\n",
       "\n",
       "    [theme=dark] .colab-df-convert:hover {\n",
       "      background-color: #434B5C;\n",
       "      box-shadow: 0px 1px 3px 1px rgba(0, 0, 0, 0.15);\n",
       "      filter: drop-shadow(0px 1px 2px rgba(0, 0, 0, 0.3));\n",
       "      fill: #FFFFFF;\n",
       "    }\n",
       "  </style>\n",
       "\n",
       "      <script>\n",
       "        const buttonEl =\n",
       "          document.querySelector('#df-bb4129d4-9d60-4f9a-a04e-79d0d5c49ae6 button.colab-df-convert');\n",
       "        buttonEl.style.display =\n",
       "          google.colab.kernel.accessAllowed ? 'block' : 'none';\n",
       "\n",
       "        async function convertToInteractive(key) {\n",
       "          const element = document.querySelector('#df-bb4129d4-9d60-4f9a-a04e-79d0d5c49ae6');\n",
       "          const dataTable =\n",
       "            await google.colab.kernel.invokeFunction('convertToInteractive',\n",
       "                                                     [key], {});\n",
       "          if (!dataTable) return;\n",
       "\n",
       "          const docLinkHtml = 'Like what you see? Visit the ' +\n",
       "            '<a target=\"_blank\" href=https://colab.research.google.com/notebooks/data_table.ipynb>data table notebook</a>'\n",
       "            + ' to learn more about interactive tables.';\n",
       "          element.innerHTML = '';\n",
       "          dataTable['output_type'] = 'display_data';\n",
       "          await google.colab.output.renderOutput(dataTable, element);\n",
       "          const docLink = document.createElement('div');\n",
       "          docLink.innerHTML = docLinkHtml;\n",
       "          element.appendChild(docLink);\n",
       "        }\n",
       "      </script>\n",
       "    </div>\n",
       "  </div>\n",
       "  "
      ],
      "text/plain": [
       "      index  articleID             domain                       date  \\\n",
       "4057    990        995          earki.com            েম্বর ২৯, ২০১৮    \n",
       "4058    991        996    bengalbeats.com  2019-04-02T20:26:45+00:00   \n",
       "4059    992        997          earki.com            ্টোবর ২৫, ২০১৮    \n",
       "4060    993        998    bengalbeats.com  2019-03-11T15:28:37+00:00   \n",
       "4061    994        999  channeldhaka.news  2018-08-08T10:30:56+00:00   \n",
       "\n",
       "           category                                           headline  \\\n",
       "4057  Miscellaneous    যাত্রা শুরু করলো ওসমান’স ব্রাইডাল মেকওভার সেলুন   \n",
       "4058      Lifestyle  Zee বাংলা বন্ধের সংবাদ শুনে সীমান্ত এলাকায় টিভ...   \n",
       "4059  Miscellaneous  যে ১০টি প্রশ্নের উত্তর সম্পর্কে দেবী সিনেমার র...   \n",
       "4060      Lifestyle  বই পড়ার সময় আমি অন্য কিছু করি না কিন্তু... - B...   \n",
       "4061      Lifestyle                             প্রেম করলে বাড়বে ওজন!   \n",
       "\n",
       "                                                content  label  \n",
       "4057  এসে গেছে শীতকাল, মানে বিয়ের মৌসুম। এই সময়টিতে ...    0.0  \n",
       "4058  হঠাৎ করেই সারাদেশে জি বাংলা বন্ধ হয়ে যাওয়াতে স...    0.0  \n",
       "4059  মুক্তি পেয়েছে হুমায়ূন আহমেদের ‘দেবী’ উপন্যাস অ...    0.0  \n",
       "4060  “মদ খাওয়ার সময় আমি কোন রিস্ক নেই না” গল্প অবলম...    0.0  \n",
       "4061  ওজন বাড়ার সঙ্গে নাকি প্রেমের এক অদ্ভুত সম্পর্...    0.0  "
      ]
     },
     "execution_count": 7,
     "metadata": {},
     "output_type": "execute_result"
    }
   ],
   "source": [
    "df.reset_index(inplace=True)\n",
    "df.tail()"
   ]
  },
  {
   "cell_type": "code",
   "execution_count": 8,
   "id": "607bb276",
   "metadata": {
    "id": "607bb276"
   },
   "outputs": [],
   "source": [
    "df.drop('index', axis=1, inplace=True)"
   ]
  },
  {
   "cell_type": "code",
   "execution_count": 9,
   "id": "3d54f0b5",
   "metadata": {
    "colab": {
     "base_uri": "https://localhost:8080/",
     "height": 206
    },
    "id": "3d54f0b5",
    "outputId": "72dbd0b5-a674-486f-f567-e7460820a214"
   },
   "outputs": [
    {
     "data": {
      "text/html": [
       "\n",
       "  <div id=\"df-3bb802a4-d1d2-49d5-870a-71eb2a8cda1d\">\n",
       "    <div class=\"colab-df-container\">\n",
       "      <div>\n",
       "<style scoped>\n",
       "    .dataframe tbody tr th:only-of-type {\n",
       "        vertical-align: middle;\n",
       "    }\n",
       "\n",
       "    .dataframe tbody tr th {\n",
       "        vertical-align: top;\n",
       "    }\n",
       "\n",
       "    .dataframe thead th {\n",
       "        text-align: right;\n",
       "    }\n",
       "</style>\n",
       "<table border=\"1\" class=\"dataframe\">\n",
       "  <thead>\n",
       "    <tr style=\"text-align: right;\">\n",
       "      <th></th>\n",
       "      <th>articleID</th>\n",
       "      <th>domain</th>\n",
       "      <th>date</th>\n",
       "      <th>category</th>\n",
       "      <th>headline</th>\n",
       "      <th>content</th>\n",
       "      <th>label</th>\n",
       "    </tr>\n",
       "  </thead>\n",
       "  <tbody>\n",
       "    <tr>\n",
       "      <th>4057</th>\n",
       "      <td>995</td>\n",
       "      <td>earki.com</td>\n",
       "      <td>েম্বর ২৯, ২০১৮</td>\n",
       "      <td>Miscellaneous</td>\n",
       "      <td>যাত্রা শুরু করলো ওসমান’স ব্রাইডাল মেকওভার সেলুন</td>\n",
       "      <td>এসে গেছে শীতকাল, মানে বিয়ের মৌসুম। এই সময়টিতে ...</td>\n",
       "      <td>0</td>\n",
       "    </tr>\n",
       "    <tr>\n",
       "      <th>4058</th>\n",
       "      <td>996</td>\n",
       "      <td>bengalbeats.com</td>\n",
       "      <td>2019-04-02T20:26:45+00:00</td>\n",
       "      <td>Lifestyle</td>\n",
       "      <td>Zee বাংলা বন্ধের সংবাদ শুনে সীমান্ত এলাকায় টিভ...</td>\n",
       "      <td>হঠাৎ করেই সারাদেশে জি বাংলা বন্ধ হয়ে যাওয়াতে স...</td>\n",
       "      <td>0</td>\n",
       "    </tr>\n",
       "    <tr>\n",
       "      <th>4059</th>\n",
       "      <td>997</td>\n",
       "      <td>earki.com</td>\n",
       "      <td>্টোবর ২৫, ২০১৮</td>\n",
       "      <td>Miscellaneous</td>\n",
       "      <td>যে ১০টি প্রশ্নের উত্তর সম্পর্কে দেবী সিনেমার র...</td>\n",
       "      <td>মুক্তি পেয়েছে হুমায়ূন আহমেদের ‘দেবী’ উপন্যাস অ...</td>\n",
       "      <td>0</td>\n",
       "    </tr>\n",
       "    <tr>\n",
       "      <th>4060</th>\n",
       "      <td>998</td>\n",
       "      <td>bengalbeats.com</td>\n",
       "      <td>2019-03-11T15:28:37+00:00</td>\n",
       "      <td>Lifestyle</td>\n",
       "      <td>বই পড়ার সময় আমি অন্য কিছু করি না কিন্তু... - B...</td>\n",
       "      <td>“মদ খাওয়ার সময় আমি কোন রিস্ক নেই না” গল্প অবলম...</td>\n",
       "      <td>0</td>\n",
       "    </tr>\n",
       "    <tr>\n",
       "      <th>4061</th>\n",
       "      <td>999</td>\n",
       "      <td>channeldhaka.news</td>\n",
       "      <td>2018-08-08T10:30:56+00:00</td>\n",
       "      <td>Lifestyle</td>\n",
       "      <td>প্রেম করলে বাড়বে ওজন!</td>\n",
       "      <td>ওজন বাড়ার সঙ্গে নাকি প্রেমের এক অদ্ভুত সম্পর্...</td>\n",
       "      <td>0</td>\n",
       "    </tr>\n",
       "  </tbody>\n",
       "</table>\n",
       "</div>\n",
       "      <button class=\"colab-df-convert\" onclick=\"convertToInteractive('df-3bb802a4-d1d2-49d5-870a-71eb2a8cda1d')\"\n",
       "              title=\"Convert this dataframe to an interactive table.\"\n",
       "              style=\"display:none;\">\n",
       "        \n",
       "  <svg xmlns=\"http://www.w3.org/2000/svg\" height=\"24px\"viewBox=\"0 0 24 24\"\n",
       "       width=\"24px\">\n",
       "    <path d=\"M0 0h24v24H0V0z\" fill=\"none\"/>\n",
       "    <path d=\"M18.56 5.44l.94 2.06.94-2.06 2.06-.94-2.06-.94-.94-2.06-.94 2.06-2.06.94zm-11 1L8.5 8.5l.94-2.06 2.06-.94-2.06-.94L8.5 2.5l-.94 2.06-2.06.94zm10 10l.94 2.06.94-2.06 2.06-.94-2.06-.94-.94-2.06-.94 2.06-2.06.94z\"/><path d=\"M17.41 7.96l-1.37-1.37c-.4-.4-.92-.59-1.43-.59-.52 0-1.04.2-1.43.59L10.3 9.45l-7.72 7.72c-.78.78-.78 2.05 0 2.83L4 21.41c.39.39.9.59 1.41.59.51 0 1.02-.2 1.41-.59l7.78-7.78 2.81-2.81c.8-.78.8-2.07 0-2.86zM5.41 20L4 18.59l7.72-7.72 1.47 1.35L5.41 20z\"/>\n",
       "  </svg>\n",
       "      </button>\n",
       "      \n",
       "  <style>\n",
       "    .colab-df-container {\n",
       "      display:flex;\n",
       "      flex-wrap:wrap;\n",
       "      gap: 12px;\n",
       "    }\n",
       "\n",
       "    .colab-df-convert {\n",
       "      background-color: #E8F0FE;\n",
       "      border: none;\n",
       "      border-radius: 50%;\n",
       "      cursor: pointer;\n",
       "      display: none;\n",
       "      fill: #1967D2;\n",
       "      height: 32px;\n",
       "      padding: 0 0 0 0;\n",
       "      width: 32px;\n",
       "    }\n",
       "\n",
       "    .colab-df-convert:hover {\n",
       "      background-color: #E2EBFA;\n",
       "      box-shadow: 0px 1px 2px rgba(60, 64, 67, 0.3), 0px 1px 3px 1px rgba(60, 64, 67, 0.15);\n",
       "      fill: #174EA6;\n",
       "    }\n",
       "\n",
       "    [theme=dark] .colab-df-convert {\n",
       "      background-color: #3B4455;\n",
       "      fill: #D2E3FC;\n",
       "    }\n",
       "\n",
       "    [theme=dark] .colab-df-convert:hover {\n",
       "      background-color: #434B5C;\n",
       "      box-shadow: 0px 1px 3px 1px rgba(0, 0, 0, 0.15);\n",
       "      filter: drop-shadow(0px 1px 2px rgba(0, 0, 0, 0.3));\n",
       "      fill: #FFFFFF;\n",
       "    }\n",
       "  </style>\n",
       "\n",
       "      <script>\n",
       "        const buttonEl =\n",
       "          document.querySelector('#df-3bb802a4-d1d2-49d5-870a-71eb2a8cda1d button.colab-df-convert');\n",
       "        buttonEl.style.display =\n",
       "          google.colab.kernel.accessAllowed ? 'block' : 'none';\n",
       "\n",
       "        async function convertToInteractive(key) {\n",
       "          const element = document.querySelector('#df-3bb802a4-d1d2-49d5-870a-71eb2a8cda1d');\n",
       "          const dataTable =\n",
       "            await google.colab.kernel.invokeFunction('convertToInteractive',\n",
       "                                                     [key], {});\n",
       "          if (!dataTable) return;\n",
       "\n",
       "          const docLinkHtml = 'Like what you see? Visit the ' +\n",
       "            '<a target=\"_blank\" href=https://colab.research.google.com/notebooks/data_table.ipynb>data table notebook</a>'\n",
       "            + ' to learn more about interactive tables.';\n",
       "          element.innerHTML = '';\n",
       "          dataTable['output_type'] = 'display_data';\n",
       "          await google.colab.output.renderOutput(dataTable, element);\n",
       "          const docLink = document.createElement('div');\n",
       "          docLink.innerHTML = docLinkHtml;\n",
       "          element.appendChild(docLink);\n",
       "        }\n",
       "      </script>\n",
       "    </div>\n",
       "  </div>\n",
       "  "
      ],
      "text/plain": [
       "      articleID             domain                       date       category  \\\n",
       "4057        995          earki.com            েম্বর ২৯, ২০১৮   Miscellaneous   \n",
       "4058        996    bengalbeats.com  2019-04-02T20:26:45+00:00      Lifestyle   \n",
       "4059        997          earki.com            ্টোবর ২৫, ২০১৮   Miscellaneous   \n",
       "4060        998    bengalbeats.com  2019-03-11T15:28:37+00:00      Lifestyle   \n",
       "4061        999  channeldhaka.news  2018-08-08T10:30:56+00:00      Lifestyle   \n",
       "\n",
       "                                               headline  \\\n",
       "4057    যাত্রা শুরু করলো ওসমান’স ব্রাইডাল মেকওভার সেলুন   \n",
       "4058  Zee বাংলা বন্ধের সংবাদ শুনে সীমান্ত এলাকায় টিভ...   \n",
       "4059  যে ১০টি প্রশ্নের উত্তর সম্পর্কে দেবী সিনেমার র...   \n",
       "4060  বই পড়ার সময় আমি অন্য কিছু করি না কিন্তু... - B...   \n",
       "4061                             প্রেম করলে বাড়বে ওজন!   \n",
       "\n",
       "                                                content  label  \n",
       "4057  এসে গেছে শীতকাল, মানে বিয়ের মৌসুম। এই সময়টিতে ...      0  \n",
       "4058  হঠাৎ করেই সারাদেশে জি বাংলা বন্ধ হয়ে যাওয়াতে স...      0  \n",
       "4059  মুক্তি পেয়েছে হুমায়ূন আহমেদের ‘দেবী’ উপন্যাস অ...      0  \n",
       "4060  “মদ খাওয়ার সময় আমি কোন রিস্ক নেই না” গল্প অবলম...      0  \n",
       "4061  ওজন বাড়ার সঙ্গে নাকি প্রেমের এক অদ্ভুত সম্পর্...      0  "
      ]
     },
     "execution_count": 9,
     "metadata": {},
     "output_type": "execute_result"
    }
   ],
   "source": [
    "import numpy as np\n",
    "df['label']=np.where(df['label']==0.0, 0, 1)\n",
    "df.tail()"
   ]
  },
  {
   "cell_type": "code",
   "execution_count": 10,
   "id": "a769ac08",
   "metadata": {
    "colab": {
     "base_uri": "https://localhost:8080/"
    },
    "id": "a769ac08",
    "outputId": "1b98081d-595e-4393-a08c-6c8051f79cd1"
   },
   "outputs": [
    {
     "data": {
      "text/plain": [
       "(4062, 7)"
      ]
     },
     "execution_count": 10,
     "metadata": {},
     "output_type": "execute_result"
    }
   ],
   "source": [
    "df=df.sample(frac=1).reset_index(drop=True)\n",
    "df.shape"
   ]
  },
  {
   "cell_type": "code",
   "execution_count": 11,
   "id": "3e4c5ed0",
   "metadata": {
    "colab": {
     "base_uri": "https://localhost:8080/",
     "height": 206
    },
    "id": "3e4c5ed0",
    "outputId": "9b2204db-aacc-4caf-e8e7-d8fd7177d4b8"
   },
   "outputs": [
    {
     "data": {
      "text/html": [
       "\n",
       "  <div id=\"df-cbcd0d51-0bdb-479f-80d8-3138beb796c0\">\n",
       "    <div class=\"colab-df-container\">\n",
       "      <div>\n",
       "<style scoped>\n",
       "    .dataframe tbody tr th:only-of-type {\n",
       "        vertical-align: middle;\n",
       "    }\n",
       "\n",
       "    .dataframe tbody tr th {\n",
       "        vertical-align: top;\n",
       "    }\n",
       "\n",
       "    .dataframe thead th {\n",
       "        text-align: right;\n",
       "    }\n",
       "</style>\n",
       "<table border=\"1\" class=\"dataframe\">\n",
       "  <thead>\n",
       "    <tr style=\"text-align: right;\">\n",
       "      <th></th>\n",
       "      <th>articleID</th>\n",
       "      <th>domain</th>\n",
       "      <th>date</th>\n",
       "      <th>category</th>\n",
       "      <th>headline</th>\n",
       "      <th>content</th>\n",
       "      <th>label</th>\n",
       "    </tr>\n",
       "  </thead>\n",
       "  <tbody>\n",
       "    <tr>\n",
       "      <th>0</th>\n",
       "      <td>1208</td>\n",
       "      <td>prothomalo.com</td>\n",
       "      <td>2018-09-20 17:13:58</td>\n",
       "      <td>Sports</td>\n",
       "      <td>নেইমার-এমবাপ্পেদের ধুয়ে দিয়েছেন পাপিন</td>\n",
       "      <td>চ্যাম্পিয়নস লিগের নতুন মৌসুম শুরু হয়েছে। গ্রুপ...</td>\n",
       "      <td>1</td>\n",
       "    </tr>\n",
       "    <tr>\n",
       "      <th>1</th>\n",
       "      <td>1390</td>\n",
       "      <td>risingbd.com</td>\n",
       "      <td>2018-09-20 08:15:29</td>\n",
       "      <td>Finance</td>\n",
       "      <td>৫০৮৮ কোটি টাকা ব্যয়ে ২২ ক্রয় প্রস্তাব অনুমোদন</td>\n",
       "      <td>পদ্মার অব্যাহত ভাঙন থেকে নড়িয়া ও জাজিরা উপজেলা...</td>\n",
       "      <td>1</td>\n",
       "    </tr>\n",
       "    <tr>\n",
       "      <th>2</th>\n",
       "      <td>1252</td>\n",
       "      <td>ittefaq.com.bd</td>\n",
       "      <td>2018-09-20 10:50:43</td>\n",
       "      <td>International</td>\n",
       "      <td>কারাগার থেকে মুক্ত হলেন নওয়াজ শরিফ</td>\n",
       "      <td>পাকিস্তানে কারাগার থেকে মুক্তি পেয়েছেন ক্ষমতাচ...</td>\n",
       "      <td>1</td>\n",
       "    </tr>\n",
       "    <tr>\n",
       "      <th>3</th>\n",
       "      <td>1646</td>\n",
       "      <td>kalerkantho.com</td>\n",
       "      <td>2018-09-20 02:13:37</td>\n",
       "      <td>Education</td>\n",
       "      <td>জুনিয়র শিক্ষার্থীকে জুতা দিয়ে মারল বাকৃবি ছাত্...</td>\n",
       "      <td>জুনিয়রদের কাজকর্ম বিষয়ে সিনিয়র নেতাদের না জানা...</td>\n",
       "      <td>1</td>\n",
       "    </tr>\n",
       "    <tr>\n",
       "      <th>4</th>\n",
       "      <td>493</td>\n",
       "      <td>channeldhaka.news</td>\n",
       "      <td>2018-11-25T21:20:14+00:00</td>\n",
       "      <td>Technology</td>\n",
       "      <td>ফেসবুকে সন্তানের ছবি পোস্ট করার আগে আরেকবার ভাবুন</td>\n",
       "      <td>সোশ্যাল মিডিয়াতে বাচ্চাদের ছবি আপলোড করা এখন খ...</td>\n",
       "      <td>0</td>\n",
       "    </tr>\n",
       "  </tbody>\n",
       "</table>\n",
       "</div>\n",
       "      <button class=\"colab-df-convert\" onclick=\"convertToInteractive('df-cbcd0d51-0bdb-479f-80d8-3138beb796c0')\"\n",
       "              title=\"Convert this dataframe to an interactive table.\"\n",
       "              style=\"display:none;\">\n",
       "        \n",
       "  <svg xmlns=\"http://www.w3.org/2000/svg\" height=\"24px\"viewBox=\"0 0 24 24\"\n",
       "       width=\"24px\">\n",
       "    <path d=\"M0 0h24v24H0V0z\" fill=\"none\"/>\n",
       "    <path d=\"M18.56 5.44l.94 2.06.94-2.06 2.06-.94-2.06-.94-.94-2.06-.94 2.06-2.06.94zm-11 1L8.5 8.5l.94-2.06 2.06-.94-2.06-.94L8.5 2.5l-.94 2.06-2.06.94zm10 10l.94 2.06.94-2.06 2.06-.94-2.06-.94-.94-2.06-.94 2.06-2.06.94z\"/><path d=\"M17.41 7.96l-1.37-1.37c-.4-.4-.92-.59-1.43-.59-.52 0-1.04.2-1.43.59L10.3 9.45l-7.72 7.72c-.78.78-.78 2.05 0 2.83L4 21.41c.39.39.9.59 1.41.59.51 0 1.02-.2 1.41-.59l7.78-7.78 2.81-2.81c.8-.78.8-2.07 0-2.86zM5.41 20L4 18.59l7.72-7.72 1.47 1.35L5.41 20z\"/>\n",
       "  </svg>\n",
       "      </button>\n",
       "      \n",
       "  <style>\n",
       "    .colab-df-container {\n",
       "      display:flex;\n",
       "      flex-wrap:wrap;\n",
       "      gap: 12px;\n",
       "    }\n",
       "\n",
       "    .colab-df-convert {\n",
       "      background-color: #E8F0FE;\n",
       "      border: none;\n",
       "      border-radius: 50%;\n",
       "      cursor: pointer;\n",
       "      display: none;\n",
       "      fill: #1967D2;\n",
       "      height: 32px;\n",
       "      padding: 0 0 0 0;\n",
       "      width: 32px;\n",
       "    }\n",
       "\n",
       "    .colab-df-convert:hover {\n",
       "      background-color: #E2EBFA;\n",
       "      box-shadow: 0px 1px 2px rgba(60, 64, 67, 0.3), 0px 1px 3px 1px rgba(60, 64, 67, 0.15);\n",
       "      fill: #174EA6;\n",
       "    }\n",
       "\n",
       "    [theme=dark] .colab-df-convert {\n",
       "      background-color: #3B4455;\n",
       "      fill: #D2E3FC;\n",
       "    }\n",
       "\n",
       "    [theme=dark] .colab-df-convert:hover {\n",
       "      background-color: #434B5C;\n",
       "      box-shadow: 0px 1px 3px 1px rgba(0, 0, 0, 0.15);\n",
       "      filter: drop-shadow(0px 1px 2px rgba(0, 0, 0, 0.3));\n",
       "      fill: #FFFFFF;\n",
       "    }\n",
       "  </style>\n",
       "\n",
       "      <script>\n",
       "        const buttonEl =\n",
       "          document.querySelector('#df-cbcd0d51-0bdb-479f-80d8-3138beb796c0 button.colab-df-convert');\n",
       "        buttonEl.style.display =\n",
       "          google.colab.kernel.accessAllowed ? 'block' : 'none';\n",
       "\n",
       "        async function convertToInteractive(key) {\n",
       "          const element = document.querySelector('#df-cbcd0d51-0bdb-479f-80d8-3138beb796c0');\n",
       "          const dataTable =\n",
       "            await google.colab.kernel.invokeFunction('convertToInteractive',\n",
       "                                                     [key], {});\n",
       "          if (!dataTable) return;\n",
       "\n",
       "          const docLinkHtml = 'Like what you see? Visit the ' +\n",
       "            '<a target=\"_blank\" href=https://colab.research.google.com/notebooks/data_table.ipynb>data table notebook</a>'\n",
       "            + ' to learn more about interactive tables.';\n",
       "          element.innerHTML = '';\n",
       "          dataTable['output_type'] = 'display_data';\n",
       "          await google.colab.output.renderOutput(dataTable, element);\n",
       "          const docLink = document.createElement('div');\n",
       "          docLink.innerHTML = docLinkHtml;\n",
       "          element.appendChild(docLink);\n",
       "        }\n",
       "      </script>\n",
       "    </div>\n",
       "  </div>\n",
       "  "
      ],
      "text/plain": [
       "   articleID             domain                       date       category  \\\n",
       "0       1208     prothomalo.com        2018-09-20 17:13:58         Sports   \n",
       "1       1390       risingbd.com        2018-09-20 08:15:29        Finance   \n",
       "2       1252     ittefaq.com.bd        2018-09-20 10:50:43  International   \n",
       "3       1646    kalerkantho.com        2018-09-20 02:13:37      Education   \n",
       "4        493  channeldhaka.news  2018-11-25T21:20:14+00:00     Technology   \n",
       "\n",
       "                                            headline  \\\n",
       "0              নেইমার-এমবাপ্পেদের ধুয়ে দিয়েছেন পাপিন   \n",
       "1      ৫০৮৮ কোটি টাকা ব্যয়ে ২২ ক্রয় প্রস্তাব অনুমোদন   \n",
       "2                 কারাগার থেকে মুক্ত হলেন নওয়াজ শরিফ   \n",
       "3  জুনিয়র শিক্ষার্থীকে জুতা দিয়ে মারল বাকৃবি ছাত্...   \n",
       "4  ফেসবুকে সন্তানের ছবি পোস্ট করার আগে আরেকবার ভাবুন   \n",
       "\n",
       "                                             content  label  \n",
       "0  চ্যাম্পিয়নস লিগের নতুন মৌসুম শুরু হয়েছে। গ্রুপ...      1  \n",
       "1  পদ্মার অব্যাহত ভাঙন থেকে নড়িয়া ও জাজিরা উপজেলা...      1  \n",
       "2  পাকিস্তানে কারাগার থেকে মুক্তি পেয়েছেন ক্ষমতাচ...      1  \n",
       "3  জুনিয়রদের কাজকর্ম বিষয়ে সিনিয়র নেতাদের না জানা...      1  \n",
       "4  সোশ্যাল মিডিয়াতে বাচ্চাদের ছবি আপলোড করা এখন খ...      0  "
      ]
     },
     "execution_count": 11,
     "metadata": {},
     "output_type": "execute_result"
    }
   ],
   "source": [
    "df.head()"
   ]
  },
  {
   "cell_type": "code",
   "execution_count": 12,
   "id": "nsKkwI4wc5Ib",
   "metadata": {
    "colab": {
     "base_uri": "https://localhost:8080/"
    },
    "id": "nsKkwI4wc5Ib",
    "outputId": "688d1eba-bd41-4087-fd02-c73effb9a175"
   },
   "outputs": [
    {
     "name": "stdout",
     "output_type": "stream",
     "text": [
      "Collecting bnlp-toolkit\n",
      "  Downloading bnlp_toolkit-3.1.2-py3-none-any.whl (17 kB)\n",
      "Requirement already satisfied: nltk in /usr/local/lib/python3.7/dist-packages (from bnlp-toolkit) (3.2.5)\n",
      "Collecting sentencepiece\n",
      "  Downloading sentencepiece-0.1.96-cp37-cp37m-manylinux_2_17_x86_64.manylinux2014_x86_64.whl (1.2 MB)\n",
      "\u001b[K     |████████████████████████████████| 1.2 MB 4.2 MB/s \n",
      "\u001b[?25hCollecting sklearn-crfsuite\n",
      "  Downloading sklearn_crfsuite-0.3.6-py2.py3-none-any.whl (12 kB)\n",
      "Collecting gensim==4.0.1\n",
      "  Downloading gensim-4.0.1-cp37-cp37m-manylinux1_x86_64.whl (23.9 MB)\n",
      "\u001b[K     |████████████████████████████████| 23.9 MB 40.8 MB/s \n",
      "\u001b[?25hRequirement already satisfied: wasabi in /usr/local/lib/python3.7/dist-packages (from bnlp-toolkit) (0.9.0)\n",
      "Requirement already satisfied: numpy in /usr/local/lib/python3.7/dist-packages (from bnlp-toolkit) (1.21.5)\n",
      "Requirement already satisfied: scipy in /usr/local/lib/python3.7/dist-packages (from bnlp-toolkit) (1.4.1)\n",
      "Requirement already satisfied: smart-open>=1.8.1 in /usr/local/lib/python3.7/dist-packages (from gensim==4.0.1->bnlp-toolkit) (5.2.1)\n",
      "Requirement already satisfied: six in /usr/local/lib/python3.7/dist-packages (from nltk->bnlp-toolkit) (1.15.0)\n",
      "Collecting python-crfsuite>=0.8.3\n",
      "  Downloading python_crfsuite-0.9.7-cp37-cp37m-manylinux1_x86_64.whl (743 kB)\n",
      "\u001b[K     |████████████████████████████████| 743 kB 45.4 MB/s \n",
      "\u001b[?25hRequirement already satisfied: tqdm>=2.0 in /usr/local/lib/python3.7/dist-packages (from sklearn-crfsuite->bnlp-toolkit) (4.63.0)\n",
      "Requirement already satisfied: tabulate in /usr/local/lib/python3.7/dist-packages (from sklearn-crfsuite->bnlp-toolkit) (0.8.9)\n",
      "Installing collected packages: python-crfsuite, sklearn-crfsuite, sentencepiece, gensim, bnlp-toolkit\n",
      "  Attempting uninstall: gensim\n",
      "    Found existing installation: gensim 3.6.0\n",
      "    Uninstalling gensim-3.6.0:\n",
      "      Successfully uninstalled gensim-3.6.0\n",
      "Successfully installed bnlp-toolkit-3.1.2 gensim-4.0.1 python-crfsuite-0.9.7 sentencepiece-0.1.96 sklearn-crfsuite-0.3.6\n"
     ]
    }
   ],
   "source": [
    "!pip install bnlp-toolkit"
   ]
  },
  {
   "cell_type": "code",
   "execution_count": 13,
   "id": "34ed253f",
   "metadata": {
    "colab": {
     "base_uri": "https://localhost:8080/"
    },
    "id": "34ed253f",
    "outputId": "88e67910-7e70-4720-a206-91af368ec09e"
   },
   "outputs": [
    {
     "name": "stdout",
     "output_type": "stream",
     "text": [
      "punkt not found. downloading...\n",
      "[nltk_data] Downloading package punkt to /root/nltk_data...\n",
      "[nltk_data]   Unzipping tokenizers/punkt.zip.\n"
     ]
    },
    {
     "name": "stderr",
     "output_type": "stream",
     "text": [
      "/usr/local/lib/python3.7/dist-packages/gensim/similarities/__init__.py:15: UserWarning: The gensim.similarities.levenshtein submodule is disabled, because the optional Levenshtein package <https://pypi.org/project/python-Levenshtein/> is unavailable. Install Levenhstein (e.g. `pip install python-Levenshtein`) to suppress this warning.\n",
      "  warnings.warn(msg)\n"
     ]
    }
   ],
   "source": [
    "import nltk\n",
    "import re\n",
    "from bnlp.corpus import stopwords"
   ]
  },
  {
   "cell_type": "code",
   "execution_count": 14,
   "id": "d0b575bc",
   "metadata": {
    "id": "d0b575bc"
   },
   "outputs": [],
   "source": [
    "def preprocess(data):\n",
    "    \"\"\"This function is for preprocessing of the news contents. It removes punctuations, English characters and both of Bangla\n",
    "    and English numerals. It tokenizes all the words and also removes stopwords.\n",
    "    \n",
    "    Args: \n",
    "        The Entire Dataframe\n",
    "    Returns:\n",
    "        Preprocessed news corpuses in a list of lists\n",
    "    \"\"\"\n",
    "    corpus=[]\n",
    "    for i in range(0, len(data)):\n",
    "        x=re.sub('[^\\u0980-\\u09FF]',' ',data['content'][i])\n",
    "        x=re.sub('[a-zA-Z0-9]+', ' ', x)\n",
    "        x=re.sub('[০১২৩৪৫৬৭৮৯]+', ' ', x)\n",
    "        x=x.split()\n",
    "        x=[w for w in x if w not in set(stopwords)]\n",
    "        x=' '.join(x)\n",
    "        corpus.append(x)\n",
    "    \n",
    "    return corpus"
   ]
  },
  {
   "cell_type": "code",
   "execution_count": 15,
   "id": "f7ad1ca1",
   "metadata": {
    "id": "f7ad1ca1"
   },
   "outputs": [],
   "source": [
    "corpus_eval=preprocess(df)"
   ]
  },
  {
   "cell_type": "code",
   "execution_count": 16,
   "id": "6ca1ead6",
   "metadata": {
    "colab": {
     "base_uri": "https://localhost:8080/"
    },
    "id": "6ca1ead6",
    "outputId": "c42b7bf9-ce9d-42f0-ace7-af83b028643c"
   },
   "outputs": [
    {
     "data": {
      "text/plain": [
       "['পরিবারকে সারপ্রাইজড একা একা গরু কিনতে বোকা বনে আসলেন অভিনেত া আবুল হায়াত বুধবার দুপুরে রাজধানীর আফতাবনগর মধ্যস্থ গরুর হাটে ঘটনাটি ঘটেছে জানিয়ে কোরবানির মোটাতাজা স্বাস্থ্যবান গরু কিনে ঘরে ফেরার পরিকল্পনা ছিলো ভেবেছিলেন একা একা গরু বাসায় পরিবারের সদস্যদের তাক লাগিয়ে দিবেন হাসি ফোটাবেন গৃহিনীর মুখে আশায় গুঁড়ে বালি গরুর হাটে প্রতারকের খপ্পরে সর্বস্ব হারিয়ে প্রতারিত হয়ে ঘরে ফিরতে হয়েছে আবুল হায়াতকে যায় মেন্টু নামে এক গর ু বিক্রেতা ছলে কৌশলে কনভেন্স অন্যলোকের গরু দেখিয়ে টাকা হাতিয়ে নিয়েছে আবুল হায়াত মেন্টু খয়েরি রঙের গরু দেখালো বললো ওজন কেজি দাম পড়বে টাকা বুদ্ধি টাকা কমিয়ে বললাম সেও বোকার মত রাজি হয়ে গেলো সরলমনে টাকা দিলাম জিজ্ঞেস করলো গরুকে খাওয়াবো বললাম অত শত বুঝিনা ভাই একটা ব্যবস্থা দাও মেন্টু বললো দুইমিনিট দাঁড়ান ঘাস আসতেছি মেন্টু দুমিনিটের কথা গেলো দুইঘন্টা পেরিয়ে গেলেও আসার নামগন্ধ ভাবলাম হয়ত ভুলে ভেতরে ঢুকে দড়ি খুলে গরুটিকে সবেমাত্র বের নিলাম আচমকা কয়েকজন মিলে পথ রোধ করলো গরু হাটের ইজারাদারের গেলাম সেও বললো প্রতারিত হয়েছি ঠকে এলাম এসময় আবুল হায়াত আক্ষেপের সূরে একটা বিহিত চাই সরকারের আরজি ঘরে বলবোটা সারপ্রাইজ সারপ্রাইজড হয়ে গেছি কিসের ঈদ আরো পড়ুনঃ হেলিকপ্টার ত্রাণ বিতরণ অনন্ত জলিল',\n",
       " 'ফিলিপাইনে ভূমিধসে মাটিচাপা পড়ে এখনো পরিচিতজনদের মোবাইলে বার্তা পাঠাচ্ছেন আরো অনেককে জীবিত উদ্ধারের সম্ভাবনা দেখছেন উদ্ধারকারীরা বৃহষ্পতিবার ফিলিপাইনের মধ্যাঞ্চলের কেবু দ্বীপের নাগা শহরে ভূমিধসে মারা নিখোঁজ অর্ধশতাধিক পুলিশের প্রধান পরিদর্শক রোডারিক গঞ্জালেস জানায় পুরোদমে চলছে উদ্ধারকাজ আরো অনেককে জীবিত উদ্ধারের সম্ভাবনা রয়েছে উদ্ধারকৃত অনেকের মোবাইলে বার্তা পাঠাচ্ছেন মাটিচাপা পড়ে মানুষজন কয়েকদিনের ভারী বৃষ্টির বৃহস্পতিবার গ্রামের টিরও ঘরবাড়ি ভূমিধসে চাপা পড়ে ফিলিপাইনে শক্তিশালী টাইফুন মংখুর আঘাতে মারা এন এইচ']"
      ]
     },
     "execution_count": 16,
     "metadata": {},
     "output_type": "execute_result"
    }
   ],
   "source": [
    "corpus_eval[5:7]"
   ]
  },
  {
   "cell_type": "code",
   "execution_count": 17,
   "id": "0e7bd3c5",
   "metadata": {
    "id": "0e7bd3c5"
   },
   "outputs": [],
   "source": [
    "y=df['label']"
   ]
  },
  {
   "cell_type": "code",
   "execution_count": 18,
   "id": "8a98b25d",
   "metadata": {
    "id": "8a98b25d"
   },
   "outputs": [],
   "source": [
    "import tensorflow as tf\n",
    "import keras\n",
    "from keras.preprocessing.text import hashing_trick\n",
    "from keras.preprocessing.sequence import pad_sequences\n",
    "from keras.models import load_model"
   ]
  },
  {
   "cell_type": "code",
   "execution_count": 19,
   "id": "f5f208ca",
   "metadata": {
    "id": "f5f208ca"
   },
   "outputs": [],
   "source": [
    "voc_size=150000\n",
    "hashing_corpus=[hashing_trick(words, n=voc_size, hash_function='md5', lower=False) for words in corpus_eval]"
   ]
  },
  {
   "cell_type": "code",
   "execution_count": 20,
   "id": "4c03d816",
   "metadata": {
    "colab": {
     "base_uri": "https://localhost:8080/"
    },
    "id": "4c03d816",
    "outputId": "4f457e74-2424-4e4b-d907-17146a0c96b1"
   },
   "outputs": [
    {
     "name": "stdout",
     "output_type": "stream",
     "text": [
      "[[ 86175  89073 100346 ...   3176  94984   2685]\n",
      " [105200  61562  66030 ... 129278 110103 114037]\n",
      " [     0      0      0 ...  24933 101090  22066]\n",
      " ...\n",
      " [     0      0      0 ... 105222  56960  53842]\n",
      " [     0      0      0 ... 101229  56347  56587]\n",
      " [     0      0      0 ... 106486 105222  64035]]\n"
     ]
    }
   ],
   "source": [
    "sent_length=300\n",
    "embedded_docs=pad_sequences(hashing_corpus, maxlen=sent_length, truncating='post')\n",
    "print(embedded_docs)"
   ]
  },
  {
   "cell_type": "code",
   "execution_count": 21,
   "id": "1fb169b6",
   "metadata": {
    "colab": {
     "base_uri": "https://localhost:8080/"
    },
    "id": "1fb169b6",
    "outputId": "fbbf562d-dedd-4caf-84aa-5af13822047c"
   },
   "outputs": [
    {
     "data": {
      "text/plain": [
       "4062"
      ]
     },
     "execution_count": 21,
     "metadata": {},
     "output_type": "execute_result"
    }
   ],
   "source": [
    "len(embedded_docs)"
   ]
  },
  {
   "cell_type": "code",
   "execution_count": 22,
   "id": "2f92d753",
   "metadata": {
    "colab": {
     "base_uri": "https://localhost:8080/"
    },
    "id": "2f92d753",
    "outputId": "555ea2c1-667f-434b-d13e-6ddf2db411d2"
   },
   "outputs": [
    {
     "data": {
      "text/plain": [
       "((4062, 300), (4062,))"
      ]
     },
     "execution_count": 22,
     "metadata": {},
     "output_type": "execute_result"
    }
   ],
   "source": [
    "X_final=np.array(embedded_docs)\n",
    "y_final=np.array(y)\n",
    "X_final.shape, y_final.shape"
   ]
  },
  {
   "cell_type": "code",
   "execution_count": 23,
   "id": "39313da4",
   "metadata": {
    "id": "39313da4"
   },
   "outputs": [],
   "source": [
    "model=load_model(r'/content/drive/MyDrive/hash_cnn_lstm.h5')"
   ]
  },
  {
   "cell_type": "code",
   "execution_count": 24,
   "id": "5d772bf5",
   "metadata": {
    "colab": {
     "base_uri": "https://localhost:8080/"
    },
    "id": "5d772bf5",
    "outputId": "39eb89a7-bfb2-44eb-d494-ee086108de60"
   },
   "outputs": [
    {
     "name": "stdout",
     "output_type": "stream",
     "text": [
      "Model: \"model\"\n",
      "__________________________________________________________________________________________________\n",
      " Layer (type)                   Output Shape         Param #     Connected to                     \n",
      "==================================================================================================\n",
      " input_1 (InputLayer)           [(None, 300)]        0           []                               \n",
      "                                                                                                  \n",
      " embedding (Embedding)          (None, 300, 500)     75000000    ['input_1[0][0]',                \n",
      "                                                                  'input_1[0][0]',                \n",
      "                                                                  'input_1[0][0]',                \n",
      "                                                                  'input_1[0][0]']                \n",
      "                                                                                                  \n",
      " conv1d (Conv1D)                (None, 300, 32)      64032       ['embedding[0][0]']              \n",
      "                                                                                                  \n",
      " conv1d_1 (Conv1D)              (None, 300, 64)      192064      ['embedding[1][0]']              \n",
      "                                                                                                  \n",
      " conv1d_2 (Conv1D)              (None, 300, 128)     512128      ['embedding[2][0]']              \n",
      "                                                                                                  \n",
      " batch_normalization (BatchNorm  (None, 300, 32)     96          ['conv1d[0][0]']                 \n",
      " alization)                                                                                       \n",
      "                                                                                                  \n",
      " batch_normalization_1 (BatchNo  (None, 300, 64)     192         ['conv1d_1[0][0]']               \n",
      " rmalization)                                                                                     \n",
      "                                                                                                  \n",
      " batch_normalization_2 (BatchNo  (None, 300, 128)    384         ['conv1d_2[0][0]']               \n",
      " rmalization)                                                                                     \n",
      "                                                                                                  \n",
      " bidirectional (Bidirectional)  (None, 256)          644096      ['embedding[3][0]']              \n",
      "                                                                                                  \n",
      " bidirectional_1 (Bidirectional  (None, 128)         289280      ['embedding[3][0]']              \n",
      " )                                                                                                \n",
      "                                                                                                  \n",
      " bidirectional_2 (Bidirectional  (None, 64)          136448      ['embedding[3][0]']              \n",
      " )                                                                                                \n",
      "                                                                                                  \n",
      " max_pooling1d (MaxPooling1D)   (None, 150, 32)      0           ['batch_normalization[0][0]']    \n",
      "                                                                                                  \n",
      " max_pooling1d_1 (MaxPooling1D)  (None, 150, 64)     0           ['batch_normalization_1[0][0]']  \n",
      "                                                                                                  \n",
      " max_pooling1d_2 (MaxPooling1D)  (None, 150, 128)    0           ['batch_normalization_2[0][0]']  \n",
      "                                                                                                  \n",
      " dropout (Dropout)              (None, 256)          0           ['bidirectional[0][0]']          \n",
      "                                                                                                  \n",
      " dropout_1 (Dropout)            (None, 128)          0           ['bidirectional_1[0][0]']        \n",
      "                                                                                                  \n",
      " dropout_2 (Dropout)            (None, 64)           0           ['bidirectional_2[0][0]']        \n",
      "                                                                                                  \n",
      " flatten (Flatten)              (None, 4800)         0           ['max_pooling1d[0][0]']          \n",
      "                                                                                                  \n",
      " flatten_1 (Flatten)            (None, 9600)         0           ['max_pooling1d_1[0][0]']        \n",
      "                                                                                                  \n",
      " flatten_2 (Flatten)            (None, 19200)        0           ['max_pooling1d_2[0][0]']        \n",
      "                                                                                                  \n",
      " concatenate_1 (Concatenate)    (None, 448)          0           ['dropout[0][0]',                \n",
      "                                                                  'dropout_1[0][0]',              \n",
      "                                                                  'dropout_2[0][0]']              \n",
      "                                                                                                  \n",
      " concatenate (Concatenate)      (None, 33600)        0           ['flatten[0][0]',                \n",
      "                                                                  'flatten_1[0][0]',              \n",
      "                                                                  'flatten_2[0][0]']              \n",
      "                                                                                                  \n",
      " concatenate_2 (Concatenate)    (None, 34048)        0           ['concatenate_1[0][0]',          \n",
      "                                                                  'concatenate[0][0]']            \n",
      "                                                                                                  \n",
      " dense (Dense)                  (None, 256)          8716544     ['concatenate_2[0][0]']          \n",
      "                                                                                                  \n",
      " dense_1 (Dense)                (None, 1)            257         ['dense[0][0]']                  \n",
      "                                                                                                  \n",
      "==================================================================================================\n",
      "Total params: 85,555,521\n",
      "Trainable params: 85,555,073\n",
      "Non-trainable params: 448\n",
      "__________________________________________________________________________________________________\n"
     ]
    }
   ],
   "source": [
    "model.summary()"
   ]
  },
  {
   "cell_type": "code",
   "execution_count": 25,
   "id": "28f202f5",
   "metadata": {
    "colab": {
     "base_uri": "https://localhost:8080/"
    },
    "id": "28f202f5",
    "outputId": "bfbadd01-21d5-4b3b-b554-7d51a7704bd5"
   },
   "outputs": [
    {
     "name": "stdout",
     "output_type": "stream",
     "text": [
      "127/127 [==============================] - 41s 229ms/step - loss: 0.1423 - accuracy: 0.9776\n"
     ]
    },
    {
     "data": {
      "text/plain": [
       "[0.1422528624534607, 0.9775972366333008]"
      ]
     },
     "execution_count": 25,
     "metadata": {},
     "output_type": "execute_result"
    }
   ],
   "source": [
    "model.evaluate(X_final, y_final)"
   ]
  },
  {
   "cell_type": "code",
   "execution_count": 26,
   "id": "7f7db552",
   "metadata": {
    "id": "7f7db552"
   },
   "outputs": [],
   "source": [
    "prediction=model.predict(X_final)"
   ]
  },
  {
   "cell_type": "code",
   "execution_count": 27,
   "id": "fbea591b",
   "metadata": {
    "id": "fbea591b"
   },
   "outputs": [],
   "source": [
    "from sklearn.metrics import accuracy_score, confusion_matrix, classification_report"
   ]
  },
  {
   "cell_type": "code",
   "execution_count": 28,
   "id": "58904c02",
   "metadata": {
    "colab": {
     "base_uri": "https://localhost:8080/"
    },
    "id": "58904c02",
    "outputId": "7c307d6a-a863-422b-8571-4abdd38d8b05"
   },
   "outputs": [
    {
     "data": {
      "text/plain": [
       "0.9775972427375677"
      ]
     },
     "execution_count": 28,
     "metadata": {},
     "output_type": "execute_result"
    }
   ],
   "source": [
    "accuracy_score(y_final, prediction.round())"
   ]
  },
  {
   "cell_type": "code",
   "execution_count": 29,
   "id": "312e70e0",
   "metadata": {
    "colab": {
     "base_uri": "https://localhost:8080/",
     "height": 267
    },
    "id": "312e70e0",
    "outputId": "7263ebb3-e6f3-4a3e-aea6-3e4ef1dc5730"
   },
   "outputs": [
    {
     "data": {
      "image/png": "[encoded data removed]",
      "text/plain": [
       "<Figure size 432x288 with 2 Axes>"
      ]
     },
     "metadata": {
      "needs_background": "light"
     },
     "output_type": "display_data"
    }
   ],
   "source": [
    "import seaborn as sns\n",
    "import matplotlib.pyplot as plt\n",
    "\n",
    "sns.heatmap(confusion_matrix(y_final, prediction.round()), annot=True, fmt='g')\n",
    "plt.show()"
   ]
  },
  {
   "cell_type": "code",
   "execution_count": 30,
   "id": "00217f4f",
   "metadata": {
    "colab": {
     "base_uri": "https://localhost:8080/"
    },
    "id": "00217f4f",
    "outputId": "8c5307e7-4d90-4f83-ea1c-0f9e0350bef2"
   },
   "outputs": [
    {
     "name": "stdout",
     "output_type": "stream",
     "text": [
      "              precision    recall  f1-score   support\n",
      "\n",
      "           0       0.97      0.94      0.95       995\n",
      "           1       0.98      0.99      0.99      3067\n",
      "\n",
      "    accuracy                           0.98      4062\n",
      "   macro avg       0.97      0.96      0.97      4062\n",
      "weighted avg       0.98      0.98      0.98      4062\n",
      "\n"
     ]
    }
   ],
   "source": [
    "print(classification_report(y_final, prediction.round()))"
   ]
  }
 ],
 "metadata": {
  "accelerator": "GPU",
  "colab": {
   "name": "Bangla_Fake_News_Detection_System_(HashingDL_Model_Evaluation_CNN_LSTM).ipynb",
   "provenance": []
  },
  "kernelspec": {
   "display_name": "Python 3",
   "language": "python",
   "name": "python3"
  },
  "language_info": {
   "codemirror_mode": {
    "name": "ipython",
    "version": 3
   },
   "file_extension": ".py",
   "mimetype": "text/x-python",
   "name": "python",
   "nbconvert_exporter": "python",
   "pygments_lexer": "ipython3",
   "version": "3.8.8"
  }
 },
 "nbformat": 4,
 "nbformat_minor": 5
}
