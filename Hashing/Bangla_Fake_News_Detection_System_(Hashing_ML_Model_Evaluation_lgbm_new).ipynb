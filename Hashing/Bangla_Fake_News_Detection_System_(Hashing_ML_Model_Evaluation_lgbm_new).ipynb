{
 "cells": [
  {
   "cell_type": "code",
   "execution_count": 11,
   "id": "94090733",
   "metadata": {},
   "outputs": [],
   "source": [
    "import joblib\n",
    "import pandas as pd\n",
    "import numpy as np\n",
    "import re\n",
    "from bnlp.corpus import stopwords\n",
    "from sklearn.feature_extraction.text import CountVectorizer, HashingVectorizer\n",
    "import matplotlib.pyplot as plt\n",
    "import seaborn as sns\n",
    "from sklearn.metrics import accuracy_score, confusion_matrix, classification_report\n",
    "import warnings\n",
    "warnings.filterwarnings(\"ignore\")\n",
    "\n",
    "%matplotlib inline"
   ]
  },
  {
   "cell_type": "code",
   "execution_count": 12,
   "id": "82350452",
   "metadata": {},
   "outputs": [
    {
     "name": "stdout",
     "output_type": "stream",
     "text": [
      "['_Booster', '__class__', '__delattr__', '__dict__', '__dir__', '__doc__', '__eq__', '__format__', '__ge__', '__getattribute__', '__getstate__', '__gt__', '__hash__', '__init__', '__init_subclass__', '__le__', '__lt__', '__module__', '__ne__', '__new__', '__reduce__', '__reduce_ex__', '__repr__', '__setattr__', '__setstate__', '__sizeof__', '__str__', '__subclasshook__', '__weakref__', '_best_iteration', '_best_score', '_check_n_features', '_class_map', '_class_weight', '_classes', '_estimator_type', '_evals_result', '_fobj', '_get_param_names', '_get_tags', '_le', '_more_tags', '_n_classes', '_n_features', '_objective', '_other_params', '_repr_html_', '_repr_html_inner', '_repr_mimebundle_', '_validate_data', 'best_iteration_', 'best_score_', 'booster_', 'boosting_type', 'class_weight', 'classes_', 'colsample_bytree', 'evals_result_', 'feature_importances_', 'fit', 'get_params', 'importance_type', 'learning_rate', 'max_depth', 'min_child_samples', 'min_child_weight', 'min_split_gain', 'n_classes_', 'n_estimators', 'n_features_', 'n_jobs', 'num_leaves', 'objective', 'objective_', 'predict', 'predict_proba', 'random_state', 'reg_alpha', 'reg_lambda', 'score', 'set_params', 'silent', 'subsample', 'subsample_for_bin', 'subsample_freq']\n"
     ]
    }
   ],
   "source": [
    "lgbm_model_new=joblib.load(r\"D:\\Download\\lgbm_file_new.pkl\")\n",
    "print(dir(lgbm_model_new))"
   ]
  },
  {
   "cell_type": "code",
   "execution_count": 13,
   "id": "ddac6afb",
   "metadata": {},
   "outputs": [
    {
     "name": "stdout",
     "output_type": "stream",
     "text": [
      "(2799, 7)\n"
     ]
    },
    {
     "data": {
      "text/html": [
       "<div>\n",
       "<style scoped>\n",
       "    .dataframe tbody tr th:only-of-type {\n",
       "        vertical-align: middle;\n",
       "    }\n",
       "\n",
       "    .dataframe tbody tr th {\n",
       "        vertical-align: top;\n",
       "    }\n",
       "\n",
       "    .dataframe thead th {\n",
       "        text-align: right;\n",
       "    }\n",
       "</style>\n",
       "<table border=\"1\" class=\"dataframe\">\n",
       "  <thead>\n",
       "    <tr style=\"text-align: right;\">\n",
       "      <th></th>\n",
       "      <th>articleID</th>\n",
       "      <th>domain</th>\n",
       "      <th>date</th>\n",
       "      <th>category</th>\n",
       "      <th>headline</th>\n",
       "      <th>content</th>\n",
       "      <th>label</th>\n",
       "    </tr>\n",
       "  </thead>\n",
       "  <tbody>\n",
       "    <tr>\n",
       "      <th>0</th>\n",
       "      <td>304</td>\n",
       "      <td>bengalbeats.com</td>\n",
       "      <td>2019-03-12T13:35:22+00:00</td>\n",
       "      <td>Miscellaneous</td>\n",
       "      <td>ডাকসু নির্বাচনের ফলাফলকে অষ্টমাশ্চর্য হিসেবে ঘ...</td>\n",
       "      <td>গতকাল মধ্যরাতে ঘড়ির কাটা যখন ৩ এর একটু এদিক সে...</td>\n",
       "      <td>0</td>\n",
       "    </tr>\n",
       "    <tr>\n",
       "      <th>1</th>\n",
       "      <td>961</td>\n",
       "      <td>earki.com</td>\n",
       "      <td>সেম্বর ২৫, ২০১৮</td>\n",
       "      <td>Miscellaneous</td>\n",
       "      <td>সান্তা ক্লজ যদি বড়দিনে শিশুদের জন্য উপহার নিয়ে...</td>\n",
       "      <td>২৫ ডিসেম্বর সারা বিশ্বে পালিত হয় খ্রিস্টানদের ...</td>\n",
       "      <td>0</td>\n",
       "    </tr>\n",
       "    <tr>\n",
       "      <th>2</th>\n",
       "      <td>377</td>\n",
       "      <td>dailyjanakantha.com</td>\n",
       "      <td>2018-09-22 16:37:01</td>\n",
       "      <td>National</td>\n",
       "      <td>খালেদাকে ক্ষমতার বাইরে রাখতে হবে ॥ তথ্যমন্ত্রী...</td>\n",
       "      <td>নিজস্ব সংবাদদাতা, গাইবান্ধা ॥ তথ্যমন্ত্রী ও জা...</td>\n",
       "      <td>1</td>\n",
       "    </tr>\n",
       "    <tr>\n",
       "      <th>3</th>\n",
       "      <td>700</td>\n",
       "      <td>somoynews.tv</td>\n",
       "      <td>2018-09-19 18:37:34</td>\n",
       "      <td>Entertainment</td>\n",
       "      <td>‘শাহরুখ জাহান্নামে যেতে প্রস্তুত হও’</td>\n",
       "      <td>বলিউডের কিং খান শাহরুখ। তিনি মুসলিম ধর্মের হলে...</td>\n",
       "      <td>1</td>\n",
       "    </tr>\n",
       "    <tr>\n",
       "      <th>4</th>\n",
       "      <td>1534</td>\n",
       "      <td>banglanews24.com</td>\n",
       "      <td>2018-09-21 19:53:23</td>\n",
       "      <td>Miscellaneous</td>\n",
       "      <td>ঘোড়া মারার প্রতিশোধে কুমির হত্যা করলেন মেয়র!</td>\n",
       "      <td>তিন বছর ধরে নাকি বিশালাকৃতির একটি কুমিরকে খুঁজ...</td>\n",
       "      <td>1</td>\n",
       "    </tr>\n",
       "  </tbody>\n",
       "</table>\n",
       "</div>"
      ],
      "text/plain": [
       "   articleID               domain                       date       category  \\\n",
       "0        304      bengalbeats.com  2019-03-12T13:35:22+00:00  Miscellaneous   \n",
       "1        961            earki.com           সেম্বর ২৫, ২০১৮   Miscellaneous   \n",
       "2        377  dailyjanakantha.com        2018-09-22 16:37:01       National   \n",
       "3        700         somoynews.tv        2018-09-19 18:37:34  Entertainment   \n",
       "4       1534     banglanews24.com        2018-09-21 19:53:23  Miscellaneous   \n",
       "\n",
       "                                            headline  \\\n",
       "0  ডাকসু নির্বাচনের ফলাফলকে অষ্টমাশ্চর্য হিসেবে ঘ...   \n",
       "1  সান্তা ক্লজ যদি বড়দিনে শিশুদের জন্য উপহার নিয়ে...   \n",
       "2  খালেদাকে ক্ষমতার বাইরে রাখতে হবে ॥ তথ্যমন্ত্রী...   \n",
       "3               ‘শাহরুখ জাহান্নামে যেতে প্রস্তুত হও’   \n",
       "4       ঘোড়া মারার প্রতিশোধে কুমির হত্যা করলেন মেয়র!   \n",
       "\n",
       "                                             content  label  \n",
       "0  গতকাল মধ্যরাতে ঘড়ির কাটা যখন ৩ এর একটু এদিক সে...      0  \n",
       "1  ২৫ ডিসেম্বর সারা বিশ্বে পালিত হয় খ্রিস্টানদের ...      0  \n",
       "2  নিজস্ব সংবাদদাতা, গাইবান্ধা ॥ তথ্যমন্ত্রী ও জা...      1  \n",
       "3  বলিউডের কিং খান শাহরুখ। তিনি মুসলিম ধর্মের হলে...      1  \n",
       "4  তিন বছর ধরে নাকি বিশালাকৃতির একটি কুমিরকে খুঁজ...      1  "
      ]
     },
     "execution_count": 13,
     "metadata": {},
     "output_type": "execute_result"
    }
   ],
   "source": [
    "label_auth=pd.read_csv(r'D:\\Download\\LabeledAuthentic-7K.csv', nrows=1500)\n",
    "label_fake=pd.read_csv(r'D:\\Download\\LabeledFake-1K.csv')\n",
    "label_auth.drop(['source','relation'], axis=1, inplace=True)\n",
    "label_fake.drop(['source','relation','F-type'], axis=1, inplace=True)\n",
    "df=pd.concat([label_auth, label_fake], axis=0)\n",
    "df.reset_index(inplace=True)\n",
    "df.drop('index', axis=1, inplace=True)\n",
    "df['label']=np.where(df['label']==0.0, 0, 1)\n",
    "df.tail()\n",
    "df=df.sample(frac=1).reset_index(drop=True)\n",
    "print(df.shape)\n",
    "df.head()"
   ]
  },
  {
   "cell_type": "code",
   "execution_count": 14,
   "id": "aedd6ba8",
   "metadata": {},
   "outputs": [],
   "source": [
    "def preprocess(data):\n",
    "    \"\"\"This function is for preprocessing of the news contents. It removes punctuations, English characters and both of Bangla\n",
    "    and English numerals. It tokenizes all the words and also removes stopwords.\n",
    "    \n",
    "    Args: \n",
    "        The Entire Dataframe\n",
    "    Returns:\n",
    "        Preprocessed news corpuses in a list of lists\n",
    "    \"\"\"\n",
    "    corpus=[]\n",
    "    for i in range(0, len(data)):\n",
    "        x=re.sub('[^\\u0980-\\u09FF]',' ',data['content'][i])\n",
    "        x=re.sub('[a-zA-Z0-9]+', ' ', x)\n",
    "        x=re.sub('[০১২৩৪৫৬৭৮৯]+', ' ', x)\n",
    "        x=x.split()\n",
    "        x=[w for w in x if w not in set(stopwords)]\n",
    "        x=' '.join(x)\n",
    "        corpus.append(x)\n",
    "    \n",
    "    return corpus"
   ]
  },
  {
   "cell_type": "code",
   "execution_count": 15,
   "id": "2e251032",
   "metadata": {},
   "outputs": [
    {
     "data": {
      "text/plain": [
       "['সালের জানুয়ারি শেখ হাসিনা মাদার অব হিউম্যানিটি সমাজকল্যাণ পদক বছর জানুয়ারি জাতীয় সমাজসেবা দিবসে সমাজ উন্নয়নে অবদান রাখার স্বীকৃতি হিসেবে পাঁচটি ব্যক্তি প্রতিষ্ঠানকে পদক প্রশাসনিক উন্নয়ন সংক্রান্ত সচিব কমিটির সভায় সংক্রান্ত নীতিমালা অনুমোদন হয়েছে মন্ত্রিপরিষদ বিভাগের সমন্বয় সংস্কার সচিব এনএম জিয়াউল আলম তথ্য নিশ্চিত বাংলা ট্রিবিউনকে প্রশাসনিক উন্নয়ন সংক্রান্ত সচিব কমিটির বৈঠকে প্রস্তাবিত নীতিমালার অনুমোদন হয়েছে সমাজকল্যাণ মন্ত্রণালয়ের অতিরিক্ত সচিব বাজেট কার্যক্রম মূল্যায়ন ড মো নাসির উদ্দিন বাংলা ট্রিবিউনকে সচিব কমিটির সভায় প্রস্তাবিত নীতিমালার অনুমোদন মিলেছে যতদ্রুত সম্ভব নীতিমালাটি প্রজ্ঞাপন আকারে জারি প্রধানমন্ত্রী শেখ হাসিনাকে বিশ্ব মাদার অব হিউম্যানিটি ঘোষণা সারাবিশ্বে সম্মান পেয়েছেন আমরাও সম্মানে পদক করছি বছর জানুয়ারিতে পদক সমাজকল্যাণ মন্ত্রণালয় মন্ত্রিপরিষদ বিভাগ সূত্রে নীতিমালাটি মন্ত্রিপরিষদ বিভাগে পাঠানো গত সেপ্টেম্বর প্রশাসনিক উন্নয়ন সংক্রান্ত সচিব কমিটির সভায় উত্থাপন সভায় নীতিমালাটি অনুমোদন পায় প্রস্তাবিত নীতিমালায় হয়েছে সুবিধাবঞ্চিত অনগ্রসর জনগোষ্ঠীর সামাজিক সুরক্ষা প্রতিবন্ধী ব্যক্তিদের সমন্বিত সম উন্নয়ন সামাজিক ন্যায়বিচার পুনঃএকত্রীকরণ আর্থসামজিক উন্নয়নে সমাজিক সাম্য প্রতিষ্ঠাসহ পাঁচটি ব্যক্তি প্রতিষ্ঠানকে পদক প্রযোজ্য বছর প্রার্থী পাওয়া পদক সংখ্যা কমানো পুরস্কারের ক্ষেত্র চিহ্নিত পদক সংখ্যা বাড়ানো ব্যক্তি প্রতিষ্ঠানকে পদক তৈরি ক্যারট মানের গ্রাম সোনা দিয়ে এছাড়া পুরস্কারপ্রাপ্তদের লাখ টাকার চেক সম্মাননা সনদ প্রস্তাবিত নীতিমালায় পদক পদক অনুষ্ঠানে প্রাথমিকভাবে ব্যয় হয়েছে লাখ টাকা মরণোত্তর পুরস্কারের ব্যবস্থাও হয়েছে নীতিমালায় প্রতিবছর জুলাই পদক প্রদানের মনোনয়ন আহ্বান আগস্টের জেলা কমিটি যাচাই বাছাই শেষে মনোনীত ব্যক্তি প্রতিষ্ঠানকে পদকের সুপারিশ সংশ্লিষ্ট মন্ত্রণালয় বিভাগ সরকারি প্রতিষ্ঠান আগস্টের মনোনয়ন চূড়ান্ত অক্টোবরের জাতীয় কমিটি মনোনয়ন চূড়ান্ত অক্টোবরের সুপারিশ জাতীয় পুরস্কার সংক্রান্ত মন্ত্রিসভা কমিটির বিবেচনার মন্ত্রিপরিষদ বিভাগে পাঠাবে সর্বশেষ প্রধানমন্ত্রীর অনুমোদন পদক বছর জানুয়ারি নীতিমালা চূড়ান্ত হওয়া নির্ধারিত তারিখ পরিবর্তন প্রস্তাবিত নীতিমালায় হয়েছে পদক দেওয়ার প্রার্থী বাছাইয়ে প্রতিটি জেলায় কমিটি জেলা কমিটির সভাপতি জেলা প্রশাসক সদস্য সচিব জেলা সমাজসেবা অফিসার এছাড়া সিভিল সার্জন পুলিশ সুপার জেলা শিক্ষা অফিসার জেলা মহিলা বিষয়ক কর্মকর্তা যুব উন্নয়নের উপ পরিচালক মুক্তিযোদ্ধা সংসদের জেলা কমান্ডার কমিটির সদস্য হিসেবে',\n",
       " 'শৃঙ্খলাভঙ্গের দায়ে জরিমানার খাঁড়ায় পড়েছেন পাকিস্তানের পেস অলরাউন্ডার হাসান আলীসহ আফগানিস্তানের অধিনায়ক আসগর আফগান স্পিনার রশিদ শুক্রবার সেপ্টেম্বর এশিয়া কাপে সুপার ফোরের ম্যাচে ভিন্ন ভিন্ন কারণে ম্যাচ ফি শতাংশ জরিমানা ম্যাচ রেফারি আর্থিক জরিমানা তিন খেলোয়াড়ের প্রত্যেকের নামের পাশে আইসিসি কোড অব কন্ডাক্টের লেভেল ভঙ্গ দায়ে ডিমেরিট পয়েন্ট যোগ হয়েছে ম্যাচে আফগানিস্তান ইনিংসের তম ওভারে রান পাকিস্তানের বোলার হাসান আলীকে কাঁধ দিয়ে মৃদু ধাক্কা আফগান অধিনায়ক আসগর আফগান হাসান আলীর ঘটনাটি আফগানিস্তান ইনিংসের তম ওভারে ঘটে বল শেষে স্ট্রাইকিং প্রান্তে ব্যাটসম্যান হাশমতুল্লাহ শাহিদির বল ছুড়ে মারার ইঙ্গিত হাসান আলী পাকিস্তান ইনিংসের তম ওভারে পাকিস্তানি ব্যাটসম্যান আসিফ আলীকে প্যাভিলিয়নে ফেরার ইশারা জরিমানা শাস্তির মুখোমুখি হয়েছেন আফগান স্পিনার রশিদ খান আইসিসি কোড অব কন্ডাক্টের অনুচ্ছেদ ভঙ্গের অভিযোগ আনা হয়েছে হাসান আলী আসগারের বিরুদ্ধে অনুচ্ছেদ অনুসারে খেলার নৈতিকতা বিরোধী আচরণ দুজন রশিদ অনুচ্ছেদ ভেঙেছেন প্রমাণ পেয়েছেন ম্যাচ রেফারি অনুচ্ছেদ অনুসারে মাঠে খেলা চলাকালীন বোলিংয়ের সময় অশালীন ভাষা প্রয়োগ অসদাচরণ বাজে ইঙ্গিত অপরাধ ব্যাটসম্যানের আক্রমণাত্বক গণ্য আচরণের বিরুদ্ধে শাস্তির কথা হাসান আলী রশিদ প্রথমবারের ডিমেরিট পয়েন্ট পেলেন আসগরের মাসের দ্বিতীয়বার সালের ফেব্রুয়ারিতে জিম্বাবুয়ের বিপক্ষে ওয়ানডে ম্যাচে আম্পায়ারের সিদ্ধান্তে মাঠেই অসন্তুষ্টি জানিয়ে ডিমেরিট পয়েন্ট পেয়েছিলেন আফগান অধিনায়ক শুক্রবার ম্যাচ শেষে তিনজন খেলোয়াড়ই বিরুদ্ধে ওঠা অভিযোগ স্বীকার নেন আইসিসি ম্যাচ রেফারিদের এলিট প্যানেলের সদস্য অ্যান্ডি পাইক্রফটের ঘোষিত শাস্তিও মাথা পেতে নেন',\n",
       " 'সালামি দেওয়ার ভয়ে আকাশের পা পুরো ঈদের কাটালেন ময়মনসিংহের নাসির নামের এক ব্যক্তি অভিনব কায়দা অবলম্বন সম্পর্কে সালাম সালামি সেজন্যই এমনটা বাধ্য হয়েছেন ব্যপারে উল্টো হয়ে শুয়ে নাসির ভাইয়ের অভিনব আইডিয়া কই পেয়েছেন চাইলে ভাই আসলে একজন অ্যাডভেঞ্চার প্রিয় মানুষ ভার্সিটিতে থাকতে অ্যাডভেঞ্চার ক্লাবের প্রেসিডেন্ট ছিলাম এধরণের অভিজ্ঞতা মূলত বেয়ার গ্রিলস ভাইয়ের লম্ফ ঝম্পের শো দেখেই অনুপ্রাণিত হয়ে এক ঢিলে পাখি মারার করলাম আরকি একদিকে সালামিও লাগতেসে ধরেন ভাইরালও হয়ে গেলাম সুন্দর কইরা উল্টো হয়ে থাকার একটা ছবি তুলেন এদিকে ভাইটির উল্টো হয়ে থাকার সংবাদে এলাকার সালামি প্রত্যাশী ছোট ভাইয়েরা সালামি চাই স্লোগানে রাজপথ কাপিয়ে আন্দোলন এক ছোট ভাই টাকা সালামি দেওয়ার শর্তে প্রতিবেদককে সালামি গেরিলা বাহিনী অলরেডি প্রস্তুত ভাই সোজা খপ সালাম ফেলবো পালাবে কোথায় এদিকে ভাইয়ের বেয়ার গ্রিলস অনুপ্রেরণা উল্টো হয়ে থাকার সংবাদে বেয়ার গ্রিলস ভীষণ টাস্কি খেয়েছেন টাস্কি খেয়ে জানান খোব নাইস ক্যান ঈদের উল্টো হয়ে থাকলাম তাইলে এলাকার ছোট ভাইগুলা শখের জমানো বিশ টাকার নোটগুলা সালাম কইরা নিয়া পারতো মিরপুরের ভাইটিকে গোলাপি সালাম জানাই',\n",
       " 'তেত্রিশ দেবতার এক একজন এক এক বেশে এক এক ক্ষমতার অধিকারী তেত্রিশ দেবতার শিব ঠাকুরের পোশাক একেবারে ভিন্নরকম মাথায় জটা জটায় সাপ বাঘছালে শিব ঠাকুন একেবারে ইউনিক পুরাণ এক সাধু শিব ঠাকুরকে বাবা চাইলে প্রশ্নের উত্তরে শিব জানিয়েছিলেন ব্রহ্মাই বাবা৷ পরক্ষনে সাধুটি শিব ঠাকুরের দাদু শিব উত্তরে দাদু বিষ্ণু৷তবে থেমে নি সাধু৷ প্রশ্ন শিবের প্রপিতামহ প্রশ্নের শুনে চমকে সাধু৷ শিব জানান প্রপিতাম শেষ শিব ঠাকুরের জন্মের পিছনে মজার ঘটনা৷পুরাণ ব্রহ্মা বিষ্ণুর শক্তিশালী বাগবিতন্ডা হয়৷ সময় আচমকাই হালকা জ্বলন্ত বাতিস্তম্ভ যায়৷যে বাতিস্তম্ভের শেষ কোথায় কোনদিন নি ব্রহ্মা বিষ্ণুরও৷ হিন্দু ধর্মগ্রন্থ শিব ঠাকুরের জন্ম বাতিস্তম্ভ হয়েছিল৷ বাতিস্তম্ভের মতনই শিবঠাকুরের জন্ম মৃত্যু আজও অজানা']"
      ]
     },
     "execution_count": 15,
     "metadata": {},
     "output_type": "execute_result"
    }
   ],
   "source": [
    "corpus=preprocess(df)\n",
    "corpus[16:20]"
   ]
  },
  {
   "cell_type": "code",
   "execution_count": 16,
   "id": "180f30a9",
   "metadata": {},
   "outputs": [
    {
     "data": {
      "text/plain": [
       "((2799, 5000), (2799,))"
      ]
     },
     "execution_count": 16,
     "metadata": {},
     "output_type": "execute_result"
    }
   ],
   "source": [
    "hashing=HashingVectorizer(n_features=5000, ngram_range=(1, 3))\n",
    "X=hashing.fit_transform(corpus).toarray()\n",
    "y=df['label'].values\n",
    "X.shape, y.shape"
   ]
  },
  {
   "cell_type": "code",
   "execution_count": 17,
   "id": "64e55a66",
   "metadata": {},
   "outputs": [
    {
     "data": {
      "text/plain": [
       "array([0, 0, 1, ..., 1, 0, 0], dtype=int64)"
      ]
     },
     "execution_count": 17,
     "metadata": {},
     "output_type": "execute_result"
    }
   ],
   "source": [
    "lgbm_pred_new=lgbm_model_new.predict(X)\n",
    "lgbm_pred_new"
   ]
  },
  {
   "cell_type": "code",
   "execution_count": 18,
   "id": "f13b5fe5",
   "metadata": {},
   "outputs": [
    {
     "data": {
      "text/plain": [
       "0.9867809932118614"
      ]
     },
     "execution_count": 18,
     "metadata": {},
     "output_type": "execute_result"
    }
   ],
   "source": [
    "accuracy_score(y, lgbm_pred_new)"
   ]
  },
  {
   "cell_type": "code",
   "execution_count": 19,
   "id": "c09ba636",
   "metadata": {},
   "outputs": [
    {
     "name": "stdout",
     "output_type": "stream",
     "text": [
      "              precision    recall  f1-score   support\n",
      "\n",
      "           0       0.97      1.00      0.99      1299\n",
      "           1       1.00      0.98      0.99      1500\n",
      "\n",
      "    accuracy                           0.99      2799\n",
      "   macro avg       0.99      0.99      0.99      2799\n",
      "weighted avg       0.99      0.99      0.99      2799\n",
      "\n"
     ]
    }
   ],
   "source": [
    "print(classification_report(y, lgbm_pred_new))"
   ]
  },
  {
   "cell_type": "code",
   "execution_count": 20,
   "id": "672d0101",
   "metadata": {},
   "outputs": [
    {
     "data": {
      "image/png": "[encoded data removed]",
      "text/plain": [
       "<Figure size 432x288 with 2 Axes>"
      ]
     },
     "metadata": {
      "needs_background": "light"
     },
     "output_type": "display_data"
    }
   ],
   "source": [
    "sns.heatmap(confusion_matrix(y, lgbm_pred_new), annot=True)\n",
    "plt.show()"
   ]
  }
 ],
 "metadata": {
  "kernelspec": {
   "display_name": "Python 3",
   "language": "python",
   "name": "python3"
  },
  "language_info": {
   "codemirror_mode": {
    "name": "ipython",
    "version": 3
   },
   "file_extension": ".py",
   "mimetype": "text/x-python",
   "name": "python",
   "nbconvert_exporter": "python",
   "pygments_lexer": "ipython3",
   "version": "3.8.8"
  }
 },
 "nbformat": 4,
 "nbformat_minor": 5
}
