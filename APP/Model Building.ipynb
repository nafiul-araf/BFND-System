{
 "cells": [
  {
   "cell_type": "code",
   "execution_count": 1,
   "id": "183b32fd",
   "metadata": {},
   "outputs": [],
   "source": [
    "import numpy as np\n",
    "import pandas as pd\n",
    "import pickle\n",
    "import warnings\n",
    "warnings.filterwarnings('ignore')"
   ]
  },
  {
   "cell_type": "code",
   "execution_count": 2,
   "id": "8d5098ac",
   "metadata": {},
   "outputs": [
    {
     "data": {
      "text/plain": [
       "['চল জানুয়ারি চল ঘুরাঘুরির মৌসুম ঢাক আশেপাশ বেশকিছু বিনোদন কেন্দ্র থাকলে ঢাক একদম প্রাণকেন্দ্রে প্রতিবার উদযাপিত বাণিজ্য মেলা বছর আমেজ ঢাকা বিদা নেয়নি বাণিজ্য মেলা অভিজ্ঞতা প্রতিবার এবার ঘুর এলাম বাণিজ্য মেলা বাণিজ্য মেলা যাব মূল ব্যাপার ইচ্ছাশক্তির জোর কারো অসম্ভব মানসিক শক্তি তবে কেল্লাফ পারব বাণিজ্য মেলা ঘুর আস ঢাক যেকোনো জায়গা বাস সিএনজি রিকশা পা হেঁট মেল গাটা আস টিকেট কেনা একটু রহস্যজনক প্রথম এক নম্বর গেট গেলাম কাউন্টার দেখি টাকা নিব মান টিকেট ফ্রি দি টাকা বিকাশ পরিশোধ অগত্যা কাউন্টার যা নগদ টাকা দি টিকেট কিন আনলাম ওয়েট একটু বিরতি মান বাণিজ্য মেলা ঢু পড়া য সহজ পড় ফেল পুরো ব্যাপার অ সহজ আসল মান ভা বিশ্বাস সত্যি বাসা মোহাম্মাদপুর হেঁটে আসছিলাম বাণিজ্য মেল গাটা কিন্ত আস আস জ্যাম বসা য দুঃখ ভারাক্রান্ত মুখ দেখলাম মান ঢাক যানবাহন গড় গতি ছ কিলোমি প আওয় পেপ পড় জ্যাম আট পড় তাহলে বুঝ যা জ্যাম ধ্যান বস ধারণা নির্বাণ লাভ করব সম্ভাবনা আবিষ্ক জ্যাম তখন ছোটেনি আগে বলে ইচ্ছাশক্তির জোর থাকল বাণিজ্য মেলা যাব ঝুঁকি নি জীবন মূল্য বাণিজ্য মেল টিকেট হা গেট প পারলে অনাবিল শান্তি লাইন দাঁড়াল শুন পা মানুষ ক্যাওম্যা মাইক ঘোষণ এক অপূর্ব সংমিশ্রণ বিরক্তি কমব বোর ফিল কীস দোকান এক বাণিজ্য মেলা চা মোদি কোট খেলনা পিস্তল যে দি বাংলাদেশ পুলিশ কনভিন্স ফেলা সম্ভব সে আসল অস্ত্র ক্রোকারিজ সেট বাদাম ভাজা ক্রোকারিজ সেট ওপর এক ধরণ অদ্ভুত অফ দেখলাম এক সেট ক্রোকারিজ সেট কিনল দশ চামচ প্লেট আইটেম এক ওভ ফ্রি লোভনী অফ কিন্ত বিস্তারিত শুন চোয়াল ঝুল পড়লো এক সেট ক্রোকারিজ সেট সাথ দশ চামচ প্লেট আইটেম ওভ ফ্রি এটুকু সত্যি কিন্ত এক সেট ক্রোকারিজ সেট দাম সাড় বাইশ টাকা ওভেন অফ শুন যেসব খাব ওাো গরম যা আসি জা বাঙালী প্রতিবার মেলা খাবার দাম সত্ত্বে মেলাতে পেটপুর খা পকেট খা ফেসবু স্ট্যাটাস দি হাউকাউ বাণিজ্য মেলা খাবার দোকান মানে হাজির বিরিয়ানীর ছড়াছড়ি নিউ হাজির বিরিয়ানী অরিজিনাল হাজীর বিরিয়ানী দ্য হাজীর বিরিয়ানী মান হাজীর বিরিয়ানী শব্দযুগল য প্রকার আর্টিক অ্যাজেক্টিভ বসানো যা বসি হাজীর বিরিয়ানী লিখ দেয়া হ সেসব বিরিয়ানীর দোকান নান রু পা যা ষাট টাকা দাম শুন তুলনামূলক কম মেলা চারিদি ঘুর মোটামু পজিটিভ রিভিউ চিরকুট লিখ ফেল গেলাম মতামত অভিযোগ বাক্স দেখি এক আশ্চর্য কান্ড মতামত যায়গা দেখি পড় রকম লিফলেট সাথ ময়লা টিস্যু চামচ এমনকি কয়েকজন দানশীল ব্যক্তির খুচ টাকা বাণিজ্য মেলা মতামত থাকলে বেশিরভাগ ছিলো মনম নারীর দর্শন পা সৌন্দর্য পূজারীর হাহাক এতোসব অফ এ কুপন লোভ বিকিকিনি হঠাৎ খেয়াল সন্ধ্যা নামা এস সন্ধ্যা বাণিজ্যমেলা একদম ফেস্টিভ মুড আস ছোট পার্ক মতোন মেল ভেতরে মেরী গো রাউন্ড শান্তা মারিয়া নাইন ডি মুভির বিনোদন ব্যবস্থা বাচ্চা বড়রা হরদম চড় বস সেইসব রাইড উৎসব উৎসব ব্যাপ পুরো মেলা কেনাকা ইতিবৃত্ত ব ব্যাগ ভর্তি দোকান লিফলেট বাস অভিমুখ রওনা দিয়েছিলাম সন্ধ্যা ভালো কাগজ বানানো লিফলেট বাসা কেজি দর বাচা দেয়া বাণিজ্যমেল যাবতী দুঃখ কষ্ট খরচ কিছু লাঘব ফিরতি পথ জ্যাম ইতিহাস আরো দুঃসহ ঢুকব জ্যাম বোধহ নির্বাণ লাভ এক চিকন সুযোগ ছিলো কিন্ত ফিরব পথ জ্যাম জ্যাম বোধহ নির্বাণ লাভ পোষাব ধ্যান বসল একেবার পঞ্চত্বপ্রাপ্ত হ তবে উঠ বুঝতে পারছ আপনা সবা কীভাব বাণিজ্য মেলা যা কীভাব অবশ্য পা হেঁট',\n",
       " 'আব্দুল্লাহ আল নোমান সাফ ফুটবল চ্যাম্পিয়ানশিপ ম্যাচ জিতে সেমি উঠ পারেনি বাংলাদেশ বঙ্গবন্ধু আন্তর্জাতিক গোল্ডকাপ ফুটবল টুর্নামেন্ট হতাশা কাটি উঠ চা লাল সবুজ বাংলাদেশ লক্ষ দল স্কোয়াড কিছু পরিবর্তন এস স্বাগতিক হাসা জয় আত্মবিশ্বাসী বঙ্গবন্ধু আন্তর্জাতিক গোল্ডকাপ ফুটবল টুর্নামেন্ট পঞ্চম আসর উদ্বোধনী ম্যাচ স্বাগতিক বাংলাদেশ মুখোমুখি লাওস ম্যাচ সন্ধ্যা সাড় টা সরাসরি সম্প্রচ মাছরাঙা টেলিভিশন ম্যাচ রোবব সংবাদ সম্মেলন হাজির বাংলাদেশ দল কোচ জেমি ড অধিনায়ক জামাল ভূঁইয়া জেমি ড সাফ ছেলে ভালো খেল ভাগ্য সহা সাফ হ ভুল চা টুর্নামেন্ট আশা কর ছেলে ভালো ছ জাতির টুর্নামেন্ট স্বাগতিক বাংলাদেশ ছাড়া অংশ নি লাওস ফিলিস্তিন নেপাল ফিলিপাইন তাজিকিস্তান পাঁচ দল ্যাঙ্কিং বাংলাদেশ এগি র ্যাঙ্কিং এগি থাকলে বাংলাদেশকে ফেবারিট মানছ কোচ জেমি ড লাওস বিপক্ষ উদ্বোধনী ম্যাচ কঠিন ম্যাচ উল্লেখ টুর্নামেন্ট জিত চা লক্ষ্য সহজ অনুযায়ী প্রস্তুতি নিয়ে সতর্ক রয়ে দল স্ট্র্রাইক হাসা মতিন মিয়া সুফিল প্রশংসা মিডফিল্ড জামাল ভূঁইয়া স্বাগতিক হাসা ফেবারিট দল খেলোয়াড় যোগ হ সা দল একটু ক্ষতির বিকল্প খেলোয়াড় হাসা যোগ দিয় প্রমাণ এস আমাদের জিত আত্মবিশ্বাসী লাওস বিপক্ষ ম্যাচ চাপ থাক কথা স্বীক করলে চাপ থাকা ফুটবলের অংশ এদি টুর্নামেন্ট উদ্বোধনী ম্যাচ প্রতিপক্ষ স্বাগতিক বাংলাদেশ এগি রাখলে ভালো লাওস এমন জানিয় দল কোচ মাইক উন মুন হ দলনেতা টিনি বোমালিয়া মাইক উন মুন হ স্বাগতিক হাসা ম্যাচ বাংলাদেশ ফেবারিট দর্শক সমর্থন পাব দল প্রতিদ্বন্দ্বিতাপূর্ণ ফুটবল খেলব দারুণ লড়া জানা থাইল্যান্ড প্রিমিয় লিগ খেল কারণ লাওস জাতী দল গুরুত্বপূর্ণ তিনজন খেলোয়াড় দল সাথ আস পারেননি ছু পাওয়া টুর্নামেন্ট অংশ পার চিন্তিত ন খেল পুরো সম দল ভালো খেলব তারা ম্যাচ জিতব কোচ কথ সাথ মিল দলনেতা টিনি বোমালিয়া জানা খেলা সেরা দাবা দল সংবাদ সম্মেলনে শুরুতে আস ফিলিস্তিন দল কোচ নুরুদ্দিন দলনেতা মোহাম্মদ বাসেম বঙ্গবন্ধু গোল্ডকাপ জানুয়ারি অনুষ্ঠিতব্য এশিয়া কাপ প্রস্তুতিপর্ব হিসেবে দেখছ সাথ ফিলিস্তিন গ্রুপ তাজিকিস্তান নেপাল উভ দলকে কঠিন প্রতিদ্বন্দ্ নুরুদ্দিন টুর্নামেন্ট এশিয়া কাপ প্রস্তুতি হিসেবে দেখ প্লেয়ার মালা ধর দারুণ সুযোগ করবো চ্যাম্পিয়ন যুদ্ধ ফিলিস্তিন বিষয় দল মানসিকভাব কতো নেতিবাচক প্রভাব ফালা প্রশ্ন ফিলিস্তিন দলনেতা মোহাম্মদ বাসেম আসল মাঠে ফোকাস মাঠে যুদ্ধ ফিলিপাইন দল সংবাদ সম্মেলন দলী ম্যানেজ যোসেফ মারিনির সাথ দলনেতা মিসাক বাহাদুরান ফিলিপাইন ফুটবল উন্নতি উল্লেখ বাহাদুরান ফিলিপাইন ফুটবল উন্নতি খেলোয়াড় মালয়েশিয়া থাইল্যান্ড খেল ফিলিপাইন লিগ ভালো বঙ্গবন্ধু কাপ তরুণ ফুটবলার নাজা মালা ধর দারুণ সুযোগ বলে যোগ ছ জাতির টুর্নামেন্ট গ্রুপ অনুষ্ঠিত খেলা গ্রুপ  ফিলিস্তিন নেপাল তাজিকিস্তান গ্রুপ  স্বাগতিক বাংলাদেশ ফিলিপাইন লাওস অংশ নি গ্রুপ পর্ব সবক খেলা অক্টোবর অক্টোবর সিলেট জেলা স্টেডিয়াম অনুষ্ঠিত সূচি অনুযায়ী উদ্বোধনী দিন সন্ধ্যা সাড় টা স্বাগতিক বাংলাদেশ মুখোমুখি লাওস অক্টোবর সম নেপাল মুখোমুখি তাজিকিস্তান এছাড়া অক্টোবর লাওস বনাম ফিলিপাইন অক্টোবর তাজিকিস্তান বনাম ফিলিস্তিন অক্টোবর ফিলিপাইন বনাম বাংলাদেশ অক্টোবর ফিলিস্তিন বনাম নেপাল মধ্যাক খেলা অনুষ্ঠিত তাছাড়া অক্টোবর কক্সবাজার বীরশ্রেষ্ঠ রুহুল আমিন স্টেডিয়াম সেমিফাইনাল অক্টোবর ঢাকা বঙ্গবন্ধু জাতী স্টেডিয়াম ফাইনাল খেলা অনুষ্ঠিত রাইজিংবিডি সিলেট সেপ্টেম্বর নোমান আমিনুল',\n",
       " 'বিমান চড়া অনেক কাছে সোজা এয়ারপোর্ট গেলাম ইমিগ্রেশন প করলাম বিমান উঠ গেলাম ব্যাপার অত সোজা আদবকেতা অনুসরণ আপনা এয়ারপোর্ট আস্ আস্ বিমানযাত্র এগি এ মানা চলা কর্তব্য কথিত এসব আদব কায়দা জানল সম বিমান আকাশে ওড় বিমান বিশেষজ্ঞ এম শাহরিয় ফেসবুক অ্যালবাম চিত্রসহ জানিয় সেসব নিয়মকানুন চলুন চিত্রসহ আসি কিভাব আদব লেহাজ সাথ বিমান চলাফে ঘর ব হওয় সম প্রথমে আপনা চেক ইন এয়ারপোর্ট যাচ্ছ যাচ্ছ উল্লেখ ভাব ধর সুইজারল্যান্ড যাচ্ছ আসল হয় যাচ্ছ সৈয়দপুর ঘাট থুক্কু এয়ারপোর্ট ঠ্যাঙ ঠ্যাঙ সাথ বিমান টিকিট এক কোনা ব এক ছ পোস্ট টিকিট রাখ ইকোনমি ক্লাস চড়ছ ছবি বুঝা যা এক অপশনাল সেলফি তোল পালা এক সিট চুজ পেছন চিল কাউয়া টিকটিকি ক্যাপশন দে ফরেভ এলোন অপেক্ষা তোর ডাক শুন আস মাইলস টু গো বিফোর স্লিপ টাইপ এরপর ক্রেডিট কার্ডসহ ফাইভ স্ মান লাউঞ্জ এক পিক আপলোড বিমান ছাড় তিন ঘন্ মাগনা পা হাবাইত্ত মত খাইছ আপলোড থাক থাক পুরুষ হাত ঘড়ি উইথ ঠ্যাঙ জুতাসহ এক ছ পোস্ট নারী ট্র হা গ্লাস অপরপাশ রানও দেখছ ছ পোষ্ট এটা অপশনাল ছ বিমান ওঠ মাস্ট বিমানসহ এক পিক আপলোড দে নিচ ছ দ্রষ্টব্য বিমান সাথ সেলফি বিমান লাইন উঠছ ছবি সাথ ক্যাপশন অবশ্য লিখ কারন সবা হাত রেডি হ দোয়া ইউ বাংলা বিমান উঠ সেক্ষেত্র ক্যাপশন ডর মাত ডারো কিউ ডর জিত হ্যা কুছ তুফানি কার হ্যা নেক্সট আরেক মাস্ট ছ বিমান ডানাসহ আকাশ তোলা ল্যান্ড ছ প্রমাণিত বিমানে উঠ লঞ্চ বিমান সিট জিনিস পা বুঝ বুঝ বিমান চড় সম জিনিসগুলা নিয়া সারাক্ষণ গুতাগুতি নৈতিক দায়িত্ব পড় চাইল গুতাই গুতাই এগুলা নষ্ট ফেল আপনার অনেক ইবলিশ সারাক্ষণ লাড়েচাড় সমস্যা তাইল এমারজেন্সি এক্সিট পাশ সিট পড়ল হাত দুই যেভাবে পাো ভর রাখ নাহল চুলকানিবশত ট্রেন চেইন টান মত এইটা চলন্ত বিমান টান দিয়া খুল ফেল আরেক মাস্ট পিক রাখ একেবারে ভুল বিমান দেয়া খাবার ছ ভূমি অবতরণ ছ ফুড ব্যাংক ফুড ব্লগার পোস্ট ক্যাপশন এক প কেক এক প স্যান্ডুইচ এক বোতল পানি দাম টাকা সাথ অমুক তমুক বিমান টিকেট ফ্রি মানুষ গা খাওয় কমেন্ট সেকশন অপেক্ষা বিমান ল্যান্ড সাথ সাথে ব্যাগ বস্তা বিমান নাম নম্বর বাস মত হুড়োহুড়ি তখনো বিমান গেট খোলেনি ইঞ্জিন অফ বিমান আপনা মৌচাক নামি মালিবাগ গুলিস্তান লাস্ট আরেক মাস্ট পিক বিমান নাম পিক যে ঘাট থুক্কু যে এয়ারপোর্ট নামছ এয়ারপোর্ট চেকইন ক্যাপশন অমুক তমুক এয়ারপোর্ট জাতি অধীর অপেক্ষা আছিলো আসলে আপন মাটি ল্যান্ড পারছ কিনা জান দ্রষ্টব্য শিক্ষামূলক অ্যালবাম ফান হাসা নে শিক্ষ বয়স বয়সী শিক্ষা']"
      ]
     },
     "execution_count": 2,
     "metadata": {},
     "output_type": "execute_result"
    }
   ],
   "source": [
    "with open(r'D:\\Download\\corpus_autoencoder.txt', 'rb') as filehandle:\n",
    "    corpus=pickle.load(filehandle)\n",
    "\n",
    "corpus[18:21]"
   ]
  },
  {
   "cell_type": "code",
   "execution_count": 3,
   "id": "200dd3ea",
   "metadata": {},
   "outputs": [
    {
     "data": {
      "text/html": [
       "<div>\n",
       "<style scoped>\n",
       "    .dataframe tbody tr th:only-of-type {\n",
       "        vertical-align: middle;\n",
       "    }\n",
       "\n",
       "    .dataframe tbody tr th {\n",
       "        vertical-align: top;\n",
       "    }\n",
       "\n",
       "    .dataframe thead th {\n",
       "        text-align: right;\n",
       "    }\n",
       "</style>\n",
       "<table border=\"1\" class=\"dataframe\">\n",
       "  <thead>\n",
       "    <tr style=\"text-align: right;\">\n",
       "      <th></th>\n",
       "      <th>articleID</th>\n",
       "      <th>domain</th>\n",
       "      <th>date</th>\n",
       "      <th>category</th>\n",
       "      <th>headline</th>\n",
       "      <th>content</th>\n",
       "      <th>label</th>\n",
       "      <th>target</th>\n",
       "    </tr>\n",
       "  </thead>\n",
       "  <tbody>\n",
       "    <tr>\n",
       "      <th>0</th>\n",
       "      <td>12911</td>\n",
       "      <td>bd-pratidin.com</td>\n",
       "      <td>2018-09-24 10:42:41</td>\n",
       "      <td>International</td>\n",
       "      <td>১৭টি প্রাসাদে কিমের বিলাসী জীবন</td>\n",
       "      <td>যে লোকটা পান থেকে চুন খসলে, কামানের গোলার মুখে...</td>\n",
       "      <td>1</td>\n",
       "      <td>Real</td>\n",
       "    </tr>\n",
       "    <tr>\n",
       "      <th>1</th>\n",
       "      <td>112</td>\n",
       "      <td>dhakajournals.com</td>\n",
       "      <td>2019-10-15 19:38:28</td>\n",
       "      <td>International</td>\n",
       "      <td>গাঁজা সেবনে চাকরি দেবে নাসা, বেতন ১৪ লাখ!</td>\n",
       "      <td>মাদকের বিরুদ্ধে বিশ্ব যখন একাট্টা, তখন গাঁজা স...</td>\n",
       "      <td>0</td>\n",
       "      <td>Fake</td>\n",
       "    </tr>\n",
       "    <tr>\n",
       "      <th>2</th>\n",
       "      <td>618</td>\n",
       "      <td>channeldhaka.news</td>\n",
       "      <td>2018-08-11T13:37:16+00:00</td>\n",
       "      <td>Miscellaneous</td>\n",
       "      <td>সেফাত উল্লাহ সেফুদা এখন বাংলাদেশে !</td>\n",
       "      <td>সেফাত উল্লাহ মজুমদার চৌধুরী ওরফে সেফুদা, এক না...</td>\n",
       "      <td>0</td>\n",
       "      <td>Fake</td>\n",
       "    </tr>\n",
       "    <tr>\n",
       "      <th>3</th>\n",
       "      <td>25402</td>\n",
       "      <td>bd24live.com</td>\n",
       "      <td>2018-09-28 18:15:55</td>\n",
       "      <td>Sports</td>\n",
       "      <td>এশিয়া কাপ ২০১৮ চমক জাগানো ওপেনিংয়ে দারুন সূচনা...</td>\n",
       "      <td>চমক ছিল ওপেনিং জুটিতেই। সবাইকে অবাক করে প্রথমব...</td>\n",
       "      <td>1</td>\n",
       "      <td>Real</td>\n",
       "    </tr>\n",
       "    <tr>\n",
       "      <th>4</th>\n",
       "      <td>20741</td>\n",
       "      <td>bd24live.com</td>\n",
       "      <td>2018-09-27 12:17:46</td>\n",
       "      <td>Finance</td>\n",
       "      <td>ড্রিম স্কয়ার রিসোর্টে ‘হিকভিশন নেক্সট মিশন’ অন...</td>\n",
       "      <td>সিকিউরিটি ক্যামেরা ব্র্যান্ড হিকভিশনের পার্টনা...</td>\n",
       "      <td>1</td>\n",
       "      <td>Real</td>\n",
       "    </tr>\n",
       "  </tbody>\n",
       "</table>\n",
       "</div>"
      ],
      "text/plain": [
       "   articleID             domain                       date       category  \\\n",
       "0      12911    bd-pratidin.com        2018-09-24 10:42:41  International   \n",
       "1        112  dhakajournals.com        2019-10-15 19:38:28  International   \n",
       "2        618  channeldhaka.news  2018-08-11T13:37:16+00:00  Miscellaneous   \n",
       "3      25402       bd24live.com        2018-09-28 18:15:55         Sports   \n",
       "4      20741       bd24live.com        2018-09-27 12:17:46        Finance   \n",
       "\n",
       "                                            headline  \\\n",
       "0                    ১৭টি প্রাসাদে কিমের বিলাসী জীবন   \n",
       "1          গাঁজা সেবনে চাকরি দেবে নাসা, বেতন ১৪ লাখ!   \n",
       "2                সেফাত উল্লাহ সেফুদা এখন বাংলাদেশে !   \n",
       "3  এশিয়া কাপ ২০১৮ চমক জাগানো ওপেনিংয়ে দারুন সূচনা...   \n",
       "4  ড্রিম স্কয়ার রিসোর্টে ‘হিকভিশন নেক্সট মিশন’ অন...   \n",
       "\n",
       "                                             content  label target  \n",
       "0  যে লোকটা পান থেকে চুন খসলে, কামানের গোলার মুখে...      1   Real  \n",
       "1  মাদকের বিরুদ্ধে বিশ্ব যখন একাট্টা, তখন গাঁজা স...      0   Fake  \n",
       "2  সেফাত উল্লাহ মজুমদার চৌধুরী ওরফে সেফুদা, এক না...      0   Fake  \n",
       "3  চমক ছিল ওপেনিং জুটিতেই। সবাইকে অবাক করে প্রথমব...      1   Real  \n",
       "4  সিকিউরিটি ক্যামেরা ব্র্যান্ড হিকভিশনের পার্টনা...      1   Real  "
      ]
     },
     "execution_count": 3,
     "metadata": {},
     "output_type": "execute_result"
    }
   ],
   "source": [
    "df=pd.read_csv(r'D:\\Download\\final_data_autoencoder.csv')\n",
    "df.head()"
   ]
  },
  {
   "cell_type": "code",
   "execution_count": 4,
   "id": "86c091e4",
   "metadata": {},
   "outputs": [],
   "source": [
    "X=pd.DataFrame(corpus, columns=['clean_data'])"
   ]
  },
  {
   "cell_type": "code",
   "execution_count": 5,
   "id": "e9809b03",
   "metadata": {},
   "outputs": [
    {
     "data": {
      "text/html": [
       "<div>\n",
       "<style scoped>\n",
       "    .dataframe tbody tr th:only-of-type {\n",
       "        vertical-align: middle;\n",
       "    }\n",
       "\n",
       "    .dataframe tbody tr th {\n",
       "        vertical-align: top;\n",
       "    }\n",
       "\n",
       "    .dataframe thead th {\n",
       "        text-align: right;\n",
       "    }\n",
       "</style>\n",
       "<table border=\"1\" class=\"dataframe\">\n",
       "  <thead>\n",
       "    <tr style=\"text-align: right;\">\n",
       "      <th></th>\n",
       "      <th>clean_data</th>\n",
       "    </tr>\n",
       "  </thead>\n",
       "  <tbody>\n",
       "    <tr>\n",
       "      <th>0</th>\n",
       "      <td>লোক পান চুন খসল কামান গোল মুখ বিশ্বস্ত সৈনিক উ...</td>\n",
       "    </tr>\n",
       "    <tr>\n",
       "      <th>1</th>\n",
       "      <td>মাদক বিরুদ্ধ বিশ্ব একাট্ গাঁজা সেবনকারী চাকরির...</td>\n",
       "    </tr>\n",
       "    <tr>\n",
       "      <th>2</th>\n",
       "      <td>সেফাত উল্লাহ মজুমদ চৌধুরী ওরফ সেফুদা এক নামে প...</td>\n",
       "    </tr>\n",
       "    <tr>\n",
       "      <th>3</th>\n",
       "      <td>চমক ওপেনিং জুটিতে সবাই অবাক প্রথমবার মত ওাাা স...</td>\n",
       "    </tr>\n",
       "    <tr>\n",
       "      <th>4</th>\n",
       "      <td>সিকিউরি ক্যামে ব্র্যান্ড হিকভিশন পার্টনার প্রচ...</td>\n",
       "    </tr>\n",
       "    <tr>\n",
       "      <th>...</th>\n",
       "      <td>...</td>\n",
       "    </tr>\n",
       "    <tr>\n",
       "      <th>84995</th>\n",
       "      <td>বিমান আকাশ খেয়াল শিশু পর্নোগ্রাফির অ্যাপ ডাউন...</td>\n",
       "    </tr>\n",
       "    <tr>\n",
       "      <th>84996</th>\n",
       "      <td>রাজধানী সকাল মোবাইল ফোন শো রুম ভাংচুর খবর পা অ...</td>\n",
       "    </tr>\n",
       "    <tr>\n",
       "      <th>84997</th>\n",
       "      <td>শহরজুড় মৃদু কাঁপুনি অনুভব খানিক বাদে থামা থাম...</td>\n",
       "    </tr>\n",
       "    <tr>\n",
       "      <th>84998</th>\n",
       "      <td>নিজস্ব মতিবেদকঅজ্ঞাত পরিচ অষ্ট্রেলীয়া নিবাসী ব...</td>\n",
       "    </tr>\n",
       "    <tr>\n",
       "      <th>84999</th>\n",
       "      <td>যুক্ত জ্য বাঙালিপাড়া টাওয় হ্যাম লেটস কাউন্সিল ...</td>\n",
       "    </tr>\n",
       "  </tbody>\n",
       "</table>\n",
       "<p>85000 rows × 1 columns</p>\n",
       "</div>"
      ],
      "text/plain": [
       "                                              clean_data\n",
       "0      লোক পান চুন খসল কামান গোল মুখ বিশ্বস্ত সৈনিক উ...\n",
       "1      মাদক বিরুদ্ধ বিশ্ব একাট্ গাঁজা সেবনকারী চাকরির...\n",
       "2      সেফাত উল্লাহ মজুমদ চৌধুরী ওরফ সেফুদা এক নামে প...\n",
       "3      চমক ওপেনিং জুটিতে সবাই অবাক প্রথমবার মত ওাাা স...\n",
       "4      সিকিউরি ক্যামে ব্র্যান্ড হিকভিশন পার্টনার প্রচ...\n",
       "...                                                  ...\n",
       "84995  বিমান আকাশ খেয়াল শিশু পর্নোগ্রাফির অ্যাপ ডাউন...\n",
       "84996  রাজধানী সকাল মোবাইল ফোন শো রুম ভাংচুর খবর পা অ...\n",
       "84997  শহরজুড় মৃদু কাঁপুনি অনুভব খানিক বাদে থামা থাম...\n",
       "84998  নিজস্ব মতিবেদকঅজ্ঞাত পরিচ অষ্ট্রেলীয়া নিবাসী ব...\n",
       "84999  যুক্ত জ্য বাঙালিপাড়া টাওয় হ্যাম লেটস কাউন্সিল ...\n",
       "\n",
       "[85000 rows x 1 columns]"
      ]
     },
     "execution_count": 5,
     "metadata": {},
     "output_type": "execute_result"
    }
   ],
   "source": [
    "X"
   ]
  },
  {
   "cell_type": "code",
   "execution_count": 6,
   "id": "4f90dacd",
   "metadata": {},
   "outputs": [],
   "source": [
    "from sklearn.model_selection import train_test_split\n",
    "from sklearn.feature_extraction.text import HashingVectorizer\n",
    "from lightgbm import LGBMClassifier\n",
    "from sklearn.pipeline import Pipeline"
   ]
  },
  {
   "cell_type": "code",
   "execution_count": 7,
   "id": "b59c2cc1",
   "metadata": {},
   "outputs": [
    {
     "data": {
      "text/plain": [
       "((72250,), (72250,), (12750,), (12750,))"
      ]
     },
     "execution_count": 7,
     "metadata": {},
     "output_type": "execute_result"
    }
   ],
   "source": [
    "y=df['target']\n",
    "\n",
    "X_train, X_val, y_train, y_val=train_test_split(X['clean_data'], y, test_size=0.15, random_state=1)\n",
    "\n",
    "X_train.shape, y_train.shape, X_val.shape, y_val.shape"
   ]
  },
  {
   "cell_type": "code",
   "execution_count": 8,
   "id": "2333993b",
   "metadata": {},
   "outputs": [],
   "source": [
    "n_features=5000\n",
    "ngram_range=(1, 3)"
   ]
  },
  {
   "cell_type": "code",
   "execution_count": 9,
   "id": "3b143053",
   "metadata": {},
   "outputs": [],
   "source": [
    "pipeline=Pipeline(steps=[\n",
    "    ('hv', HashingVectorizer(n_features=n_features, ngram_range=ngram_range)),\n",
    "    ('lgbm', LGBMClassifier(learning_rate=0.1))\n",
    "])"
   ]
  },
  {
   "cell_type": "code",
   "execution_count": 10,
   "id": "b6f8428e",
   "metadata": {},
   "outputs": [
    {
     "data": {
      "text/plain": [
       "Pipeline(steps=[('hv', HashingVectorizer(n_features=5000, ngram_range=(1, 3))),\n",
       "                ('lgbm', LGBMClassifier())])"
      ]
     },
     "execution_count": 10,
     "metadata": {},
     "output_type": "execute_result"
    }
   ],
   "source": [
    "pipeline.fit(X_train, y_train)"
   ]
  },
  {
   "cell_type": "code",
   "execution_count": 11,
   "id": "a066cd13",
   "metadata": {},
   "outputs": [
    {
     "name": "stdout",
     "output_type": "stream",
     "text": [
      "Training Score : 0.9910311418685122\n",
      "\n",
      "Validation Score : 0.9862745098039216\n"
     ]
    }
   ],
   "source": [
    "print(f\"Training Score : {pipeline.score(X_train, y_train)}\\n\")\n",
    "print(f\"Validation Score : {pipeline.score(X_val, y_val)}\")"
   ]
  },
  {
   "cell_type": "code",
   "execution_count": 12,
   "id": "b4335fa4",
   "metadata": {},
   "outputs": [
    {
     "data": {
      "text/plain": [
       "['fake_news_classifier_pipeline.pkl']"
      ]
     },
     "execution_count": 12,
     "metadata": {},
     "output_type": "execute_result"
    }
   ],
   "source": [
    "import joblib\n",
    "pipeline_file=\"fake_news_classifier_pipeline.pkl\"\n",
    "joblib.dump(pipeline, pipeline_file)"
   ]
  },
  {
   "cell_type": "code",
   "execution_count": 13,
   "id": "09632598",
   "metadata": {},
   "outputs": [],
   "source": [
    "load=joblib.load(\"fake_news_classifier_pipeline.pkl\")"
   ]
  },
  {
   "cell_type": "code",
   "execution_count": 14,
   "id": "aeb3d923",
   "metadata": {},
   "outputs": [
    {
     "data": {
      "text/plain": [
       "array(['Fake', 'Fake', 'Fake', ..., 'Real', 'Real', 'Fake'], dtype=object)"
      ]
     },
     "execution_count": 14,
     "metadata": {},
     "output_type": "execute_result"
    }
   ],
   "source": [
    "load.predict(X_val)"
   ]
  },
  {
   "cell_type": "code",
   "execution_count": 15,
   "id": "e8dcc455",
   "metadata": {},
   "outputs": [],
   "source": [
    "from bnlp.corpus import stopwords\n",
    "import matplotlib.pyplot as plt\n",
    "import seaborn as sns\n",
    "from sklearn.metrics import accuracy_score, confusion_matrix, classification_report\n",
    "import warnings\n",
    "warnings.filterwarnings(\"ignore\")\n",
    "\n",
    "%matplotlib inline"
   ]
  },
  {
   "cell_type": "code",
   "execution_count": 16,
   "id": "5b9e480c",
   "metadata": {},
   "outputs": [
    {
     "name": "stdout",
     "output_type": "stream",
     "text": [
      "(8501, 7)\n"
     ]
    },
    {
     "data": {
      "text/html": [
       "<div>\n",
       "<style scoped>\n",
       "    .dataframe tbody tr th:only-of-type {\n",
       "        vertical-align: middle;\n",
       "    }\n",
       "\n",
       "    .dataframe tbody tr th {\n",
       "        vertical-align: top;\n",
       "    }\n",
       "\n",
       "    .dataframe thead th {\n",
       "        text-align: right;\n",
       "    }\n",
       "</style>\n",
       "<table border=\"1\" class=\"dataframe\">\n",
       "  <thead>\n",
       "    <tr style=\"text-align: right;\">\n",
       "      <th></th>\n",
       "      <th>articleID</th>\n",
       "      <th>domain</th>\n",
       "      <th>date</th>\n",
       "      <th>category</th>\n",
       "      <th>headline</th>\n",
       "      <th>content</th>\n",
       "      <th>label</th>\n",
       "    </tr>\n",
       "  </thead>\n",
       "  <tbody>\n",
       "    <tr>\n",
       "      <th>0</th>\n",
       "      <td>674</td>\n",
       "      <td>channeldhaka.news</td>\n",
       "      <td>2019-05-17T22:40:37+00:00</td>\n",
       "      <td>National</td>\n",
       "      <td>ঝড়ের সময় বাইতুল মোকাররমে নিহত ১</td>\n",
       "      <td>হঠাৎ দমকা বাতাস এবং ঝড়ো বৃষ্টির কবলে পড়ে জাত...</td>\n",
       "      <td>Fake</td>\n",
       "    </tr>\n",
       "    <tr>\n",
       "      <th>1</th>\n",
       "      <td>4608</td>\n",
       "      <td>ittefaq.com.bd</td>\n",
       "      <td>2018-09-22 14:27:33</td>\n",
       "      <td>International</td>\n",
       "      <td>প্রাণনাশের হুমকির মুখে কাশ্মীরে ২৪ পুলিশ সদস্য...</td>\n",
       "      <td>ভারত শাসিত কাশ্মীরে প্রাণনাশের হুমকির মুখে ২৪ ...</td>\n",
       "      <td>Real</td>\n",
       "    </tr>\n",
       "    <tr>\n",
       "      <th>2</th>\n",
       "      <td>4299</td>\n",
       "      <td>risingbd.com</td>\n",
       "      <td>2018-09-20 19:04:48</td>\n",
       "      <td>Entertainment</td>\n",
       "      <td>জোয়ারে ভাসছেন ফেরদৌস-নিঝুম</td>\n",
       "      <td>বিনোদন প্রতিবেদক : চিত্রনায়ক ফেরদৌস ‘মেঘকন্যা’...</td>\n",
       "      <td>Real</td>\n",
       "    </tr>\n",
       "    <tr>\n",
       "      <th>3</th>\n",
       "      <td>5512</td>\n",
       "      <td>mzamin.com</td>\n",
       "      <td>2018-09-21 10:39:47</td>\n",
       "      <td>Entertainment</td>\n",
       "      <td>ক্ষুব্ধ শাকিব খান</td>\n",
       "      <td>তিনি ঢালিউডের কিং খান। এ পারের পাশাপাশি ওপার ব...</td>\n",
       "      <td>Real</td>\n",
       "    </tr>\n",
       "    <tr>\n",
       "      <th>4</th>\n",
       "      <td>5355</td>\n",
       "      <td>somoynews.tv</td>\n",
       "      <td>2018-09-19 21:38:58</td>\n",
       "      <td>National</td>\n",
       "      <td>নরসিংদীতে জয়বাংলা ইয়ুথ অ্যাওয়ার্ড'র উপজেলা এ্য...</td>\n",
       "      <td>নরসিংদীতে জয়বাংলা ইয়ুথ অ্যাওয়ার্ড'র উপজেলা এ্য...</td>\n",
       "      <td>Real</td>\n",
       "    </tr>\n",
       "  </tbody>\n",
       "</table>\n",
       "</div>"
      ],
      "text/plain": [
       "   articleID             domain                       date       category  \\\n",
       "0        674  channeldhaka.news  2019-05-17T22:40:37+00:00       National   \n",
       "1       4608     ittefaq.com.bd        2018-09-22 14:27:33  International   \n",
       "2       4299       risingbd.com        2018-09-20 19:04:48  Entertainment   \n",
       "3       5512         mzamin.com        2018-09-21 10:39:47  Entertainment   \n",
       "4       5355       somoynews.tv        2018-09-19 21:38:58       National   \n",
       "\n",
       "                                            headline  \\\n",
       "0                  ঝড়ের সময় বাইতুল মোকাররমে নিহত ১   \n",
       "1  প্রাণনাশের হুমকির মুখে কাশ্মীরে ২৪ পুলিশ সদস্য...   \n",
       "2                         জোয়ারে ভাসছেন ফেরদৌস-নিঝুম   \n",
       "3                                  ক্ষুব্ধ শাকিব খান   \n",
       "4  নরসিংদীতে জয়বাংলা ইয়ুথ অ্যাওয়ার্ড'র উপজেলা এ্য...   \n",
       "\n",
       "                                             content label  \n",
       "0  হঠাৎ দমকা বাতাস এবং ঝড়ো বৃষ্টির কবলে পড়ে জাত...  Fake  \n",
       "1  ভারত শাসিত কাশ্মীরে প্রাণনাশের হুমকির মুখে ২৪ ...  Real  \n",
       "2  বিনোদন প্রতিবেদক : চিত্রনায়ক ফেরদৌস ‘মেঘকন্যা’...  Real  \n",
       "3  তিনি ঢালিউডের কিং খান। এ পারের পাশাপাশি ওপার ব...  Real  \n",
       "4  নরসিংদীতে জয়বাংলা ইয়ুথ অ্যাওয়ার্ড'র উপজেলা এ্য...  Real  "
      ]
     },
     "execution_count": 16,
     "metadata": {},
     "output_type": "execute_result"
    }
   ],
   "source": [
    "label_auth=pd.read_csv(r'D:\\Download\\LabeledAuthentic-7K.csv')\n",
    "label_fake=pd.read_csv(r'D:\\Download\\LabeledFake-1K.csv')\n",
    "label_auth.drop(['source','relation'], axis=1, inplace=True)\n",
    "label_fake.drop(['source','relation','F-type'], axis=1, inplace=True)\n",
    "df=pd.concat([label_auth, label_fake], axis=0)\n",
    "df.reset_index(inplace=True)\n",
    "df.drop('index', axis=1, inplace=True)\n",
    "df['label']=np.where(df['label']==0.0, 'Fake', 'Real')\n",
    "df.tail()\n",
    "df=df.sample(frac=1).reset_index(drop=True)\n",
    "print(df.shape)\n",
    "df.head()"
   ]
  },
  {
   "cell_type": "code",
   "execution_count": 17,
   "id": "0349a1a0",
   "metadata": {},
   "outputs": [],
   "source": [
    "import re\n",
    "def preprocess(data):\n",
    "    \"\"\"This function is for preprocessing of the news contents. It removes punctuations, English characters and both of Bangla\n",
    "    and English numerals. It tokenizes all the words and also removes stopwords.\n",
    "    \n",
    "    Args: \n",
    "        The Entire Dataframe\n",
    "    Returns:\n",
    "        Preprocessed news corpuses in a list of lists\n",
    "    \"\"\"\n",
    "    corpus=[]\n",
    "    for i in range(0, len(data)):\n",
    "        x=re.sub('[^\\u0980-\\u09FF]',' ',data['content'][i])\n",
    "        x=re.sub('[a-zA-Z0-9]+', ' ', x)\n",
    "        x=re.sub('[০১২৩৪৫৬৭৮৯]+', ' ', x)\n",
    "        x=x.split()\n",
    "        x=[w for w in x if w not in set(stopwords)]\n",
    "        x=' '.join(x)\n",
    "        corpus.append(x)\n",
    "    \n",
    "    return corpus"
   ]
  },
  {
   "cell_type": "code",
   "execution_count": 18,
   "id": "7c32f747",
   "metadata": {},
   "outputs": [
    {
     "data": {
      "text/plain": [
       "['জাসপ্রিত বুমরাহ ইনিংসের তম ওভারের দ্বিতীয় মারতে ডিপ মিড উইকেটে শেখর ধাওয়ানের হাতে ক্যাচ বিদায় নেন বাংলাদেশের ইনিংস মেরামত মেহদি হাসান মিরাজ আউট হওয়ার বল খেলে বাউন্ডারি ছক্কায় রানের ইনিংস খেলেন মিরাজ এদিকে রানেই সপ্তম উইকেটের পতনের মেহেদি হাসান মিরাজের রানের গুরুত্বপূর্ণ জুটি গড়ে ভারতীয় পেসার ভুবনেশ্বর কুমারের তৃতীয় শিকারে পরিণত হয়ে ফেরেন মাশরাফি ভুবনেশ্বরের নবম ইনিংসের তম ওভারে ফাইন লেগে ক্যাচ দিয়ে বিদায় নেন রান টাইগার অধিনায়ক ওভারে আউট হওয়ার দারুণ ছক্কাও হাঁকিয়েছেন রানে উইকেট পড়ে যাওয়ার হাল ধরেছিলেন মাহমুদউল্লাহ রিয়াদ দলীয় রানে ষষ্ঠ উইকেট হিসেবে বিদায় নেন বাংলাদেশের ব্যাটিং লাইনআপের শেষ ভরসা রানেই মোসাদ্দেকের উইকেটও হারিয়েছে বাংলাদেশ ইনিংসের তম ওভারের শেষ ভারতীয় পেসার ভুবনেশ্বর কুমারের বল মাহমুদউল্লাহ পায়ে লাগে আম্পায়ার ভারতের আবেদনে সাড়া দিয়ে আউট দিয়ে মাহমুদউল্লাহ ব্যাটে লেগেছে ইশারা করলেও রিভিও বাকি থাকায় দুর্ভাগ্যজনকভাবে বিদায় পরের ওভারেই রবীন্দ্র জাদেজার চতুর্থ শিকারে পরিণত হয়ে ফেরেন মোসাদ্দেক হোসেন বাজে এক সুইপ শট খেলতে ভারতের উইকেটরক্ষক ধোনির হাতে ক্যাচ দিলে সমাপ্তি ঘটে মোসাদ্দেকের উইকেটের মোহাম্মদ মিঠুনের বিদায়ের স্কোর বোর্ডে রান যোগ আবারও উইকেট হারায় বাংলাদেশ ভারতীয় স্পিনার রবীন্দ্র জাদেজার তৃতীয় শিকার হয়ে ফেরেন বাংলাদেশের সবচেয়ে বড় ব্যাটিং ভরসা মুশফিকুর রহিম জাদেজার দ্রুতগতির স্পিনে আন অর্থোডক্স শট খেলতে চাহালের হাতে ক্যাচ মুশফিক স্কোর বোর্ডে রান তুলতেই চতুর্থ উইকেট হারায় বাংলাদেশ তম ওভারে ভারতীয় স্পিনার রবীন্দ্র জাদেজার দ্বিতীয় শিকার পরিণত মোহাম্মদ মিঠুন নিচু হয়ে আসা বল ঠেকাতে ব্যাটে ডিফেন্স বল মিঠুনের পায়ে লাগে জাদেজার আবেদনে সাড়া নি আম্পায়ার রিভিওতে যায় বল ব্যাটে লেগেছে ভারতীয় স্পিনার রবীন্দ্র জাদেজার ইনিংসের দশম ওভারের শেষ বাজে শট খেলে স্কয়ার লেগে শেখর ধাওয়ানের হাতে ক্যাচ দিয়ে ফেরেন সাকিব আল হাসান ইনিংসের শুরতেই ব্যাটিং নেমে রানেই উকেট হারিয়ে বিপাকে পড়ে যায় টাইগাররা লিটন দাসের বিদায়ের বল ষষ্ঠ ওভারের বলেই বুমরাহ স্লিপে শিখর ধাওয়ানের হাতে ক্যাচ দিয়ে বিদায় নেন বাংলাদেশের আরেক ওপেনার নাজমুল হাসান শান্ত এদিকে ভারতীয় পেসার ভুবনেশ্বর কুমারের বাউন্সারে মারতে ক্যাচ দিয়ে বিদায় নেন বাংলাদেশের ওপেনিং ব্যাটসম্যান লিটন দাস মারার বলই দিয়েছিলেন ভুবনেশ্বর কুমার ফাঁদে পা দিয়ে হাঁকাতে গিয়েই ক্যাচ তুলেছিলেন লিটন ডিপ ব্যাকওয়ার্ডে ফিল্ডার কেদার যাদব দৌড়ে দারুণ এক ক্যাচ নিলে উইকেট হারায় বাংলাদেশ দুবাই আন্তর্জাতিক ক্রিকেট স্টেডিয়ামের সুপার ফোরের ম্যাচটি বাংলাদেশ সময় বিকাল সাড়ে টায় মাঠে গড়িয়েছে একাধিক পরিবর্তন মাঠে নেমেছে বাংলাদেশ শ্রীলঙ্কার বিপক্ষে ম্যাচে পাজরের ব্যথা খেললেও আফগানিস্তানের বিপক্ষে বিশ্রামে মুশফিকুর রহিম এছাড়া মোস্তাফিজুর রহমানকেও বিশ্রামে দুজনই ফিরছেন ভারতের বিপক্ষে ম্যাচে',\n",
       " 'নিজস্ব প্রতিবেদক ঢাকা বিশ্ববিদ্যালয়ের উপাচার্য অধ্যাপক ড মো আখতারুজ্জামান জাতির জনক বঙ্গবন্ধু শেখ মুজিবুর রহমান বছরের শ্রেষ্ঠ বাঙালি ঈশ্বরচন্দ্র বিদ্যাসাগর ঊনবিংশ শতকের শ্রেষ্ঠ বাঙালি বৃহস্পতিবার ঢাকা বিশ্ববিদ্যালয় আরসি মজুমদার আর্টস মিলনায়তনে ঈশ্বরচন্দ্র বিদ্যাসাগরের দ্বিশত জন্মবার্ষিকী উপলক্ষে আয়োজিত এক আন্তর্জাতিক সেমিনারে মন্তব্য ঢাকা বিশ্ববিদ্যালয় সংস্কৃত বিভাগ বিদ্যাসাগর সোসাইটি যৌথভাবে সেমিনারের আয়োজন সংস্কৃত বিভাগের চেয়ারম্যান ড চন্দনা রাণী বিশ্বাসের সভাপতিত্বে সেমিনার উদ্বোধন জাতীয় অধ্যাপক ড আনিসুজ্জামান ঢাকাস্থ ভারতীয় হাইকমিশনের ফার্স্ট সেক্রেটারি জিষ্ণু প্রসন্ন মুখার্জী অনুষ্ঠানে অতিথি হিসেবে রাখেন সংস্কৃত বিভাগের অধ্যাপক ড নারায়ণ চন্দ্র বিশ্বাস স্বাগত ভাষণ উপাচার্য অধ্যাপক ড মো আখতারুজ্জামান ঈশ্বরচন্দ্র বিদ্যাসাগর বিধবা বিবাহ প্রচলন বহুবিবাহ রোধসহ সমাজ সংস্কারে অসামান্য অবদান গেছেন বাংলা ভাষার সংস্কার উৎকর্ষ সাধনেও অনন্য ভূমিকা রেখেছেন আন্তর্জাতিক সেমিনারে বাংলাদেশ ভারতের খ্যাতিমান শিক্ষাবিদ গবেষকরা অংশ নেন',\n",
       " 'শেরপুরের ঝিনাইগাতিতে পঞ্চম শ্রেণীর ছাত্রী বীণা আক্তার ধর্ষণ হত্যা মামলায় ফাঁসির আদেশ দিয়েছে আদালত দুপুরে নারী শিশু নির্যাতন দমন ট্রাইব্যুনালের বিচারক আক্তারুজ্জামান রায় ঘোষণা মৃত্যুদণ্ডপ্রাপ্তরা ঝিনাইগাতি উপজেলার বাকাকুড়া গ্রামের কালু আমানউল্লাহ নুরে আলম মামলার অপর আসামি হারুনুর রশীদ সুন্দরী বেগমকে খালাস দেয়া হয়েছে এছাড়া শিশু বীণার গায়ে অ্যাসিড ছোঁড়ার অভিযোগে বাবুল নামে বছরের এক কিশোরের রায় স্থগিত হয়েছে রায় শিশু আদালতে সালের জুলাই আসামি কালু শিশু বীণাকে বাড়ি ডেকে আমানউল্লাহ নুরে আলমের হাতে দেয় দুজন শিশুটির ওপর নির্যাতন চালিয়ে শ্বাসরোধে হত্যা বছরের জুলাই ঘটনাস্থলের পাশের শিলজোড়া খাল বীণার মরদেহ উদ্ধার পুলিশ ঘটনায় দিনই নারী শিশু নির্যাতন দমন আইনে মামলা নিহত বীণার পরিবার',\n",
       " 'চরম বিস্ময়ে মাঠের কেঁদে ফেললেন রোনালদো অতিমাত্রায় প্রতিক্রিয়া দেখানোর ভ্যালেন্সিয়ার ফুটবলার জেসন মুরিলোর লালকার্ড পাওয়া ছিলো উল্টো লালকার্ড রেফারির হাতে কার্ড আবেগ রাখতে পারেননি মৌসুমেই রিয়াল ছেড়ে জুভেন্টাসে সাময়িক বাজে সময় কাটানো পাঁচবারের ব্যালনডিঅর জয়ী রোনালদো কাঁদতে কাঁদতে মাঠ ছেড়ে যাওয়ার সময়ও বিস্ময়ের শেষ চোখেমুখে চ্যাম্পিয়নস লিগে এইচ গ্রুপে জুভেন্টাস ভ্যালেন্সিয়া ম্যাচের মিনিটে ভ্যালেন্সিয়ার জেসন মুরিলো রোনালদোর ধাক্কা লেগে ডিবক্সের পড়ে সময় রোনালদো মাথায় আলতো ছুঁয়ে এতেই চরম প্রতিক্রিয়া দেখান মুরিলো সাংঘাতিকভাবে আঘাত হয়েছে রেফারিও সঙ্গেই লাইনম্যানের কথা বলেই রোনালদোকে লালকার্ড দেখান ভিডিওতে যায় রোনালদো কিছুটা ক্ষিপ্রতার এলেও মাথায় হাত রেখেছেন আলতোভাবে অবশ্যই অন্যায় সিদ্ধান্তের প্রতিশোধটা ভালোই নিয়েছেন সতীর্থরা জুভেন্টাস গোলের ব্যবধানে জয়ী হয়েই মাঠ ছেড়েছেন চ্যাম্পিয়নস লিগের আশায় মিলিয়ন ইউরো খরচ রোনালদোকে কিনেছেন ইতালিয়ান ক্লাবটি চ্যাম্পিয়ন লিগের শুরুতে ধাক্কায় বড় ক্ষতিই দলটির ম্যাচে খেলা বাজির ঘোড়া রোনালদোর ইত্তেফাক এএম']"
      ]
     },
     "execution_count": 18,
     "metadata": {},
     "output_type": "execute_result"
    }
   ],
   "source": [
    "corpus=preprocess(df)\n",
    "corpus[16:20]"
   ]
  },
  {
   "cell_type": "code",
   "execution_count": 19,
   "id": "df27067e",
   "metadata": {},
   "outputs": [],
   "source": [
    "y=df['label']"
   ]
  },
  {
   "cell_type": "code",
   "execution_count": 20,
   "id": "58d60e90",
   "metadata": {},
   "outputs": [],
   "source": [
    "X=pd.DataFrame(corpus, columns=['clean_data'])"
   ]
  },
  {
   "cell_type": "code",
   "execution_count": 21,
   "id": "ed52792b",
   "metadata": {},
   "outputs": [],
   "source": [
    "pred=load.predict(X['clean_data'])"
   ]
  },
  {
   "cell_type": "code",
   "execution_count": 22,
   "id": "781e0598",
   "metadata": {},
   "outputs": [
    {
     "data": {
      "image/png": "[encoded data removed]",
      "text/plain": [
       "<Figure size 432x288 with 2 Axes>"
      ]
     },
     "metadata": {
      "needs_background": "light"
     },
     "output_type": "display_data"
    }
   ],
   "source": [
    "cm=confusion_matrix(y, pred)\n",
    "df_cm=pd.DataFrame(cm, index=['Fake', 'Real'], columns=['Fake', 'Real'])\n",
    "sns.heatmap(df_cm, annot=True, fmt='g')\n",
    "plt.xticks(fontsize=10)\n",
    "plt.yticks(rotation=0, fontsize=10)\n",
    "plt.show()"
   ]
  },
  {
   "cell_type": "code",
   "execution_count": 23,
   "id": "67793089",
   "metadata": {},
   "outputs": [
    {
     "name": "stdout",
     "output_type": "stream",
     "text": [
      "              precision    recall  f1-score   support\n",
      "\n",
      "        Fake       0.89      0.93      0.91      1299\n",
      "        Real       0.99      0.98      0.98      7202\n",
      "\n",
      "    accuracy                           0.97      8501\n",
      "   macro avg       0.94      0.96      0.95      8501\n",
      "weighted avg       0.97      0.97      0.97      8501\n",
      "\n"
     ]
    }
   ],
   "source": [
    "print(classification_report(y, pred))"
   ]
  }
 ],
 "metadata": {
  "kernelspec": {
   "display_name": "Python 3",
   "language": "python",
   "name": "python3"
  },
  "language_info": {
   "codemirror_mode": {
    "name": "ipython",
    "version": 3
   },
   "file_extension": ".py",
   "mimetype": "text/x-python",
   "name": "python",
   "nbconvert_exporter": "python",
   "pygments_lexer": "ipython3",
   "version": "3.8.8"
  }
 },
 "nbformat": 4,
 "nbformat_minor": 5
}
